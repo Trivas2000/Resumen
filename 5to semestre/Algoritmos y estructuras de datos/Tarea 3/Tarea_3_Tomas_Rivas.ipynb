{
  "nbformat": 4,
  "nbformat_minor": 0,
  "metadata": {
    "colab": {
      "provenance": [],
      "toc_visible": true
    },
    "kernelspec": {
      "name": "python3",
      "display_name": "Python 3"
    },
    "language_info": {
      "name": "python"
    }
  },
  "cells": [
    {
      "cell_type": "markdown",
      "metadata": {
        "id": "TuBrFz2U_Hth"
      },
      "source": [
        "# CC3001 Otoño 2021 Tarea 3 Alumno Tomas Rivas\n",
        "Rut 20.592.350-0\n",
        "### Profesores\n",
        "Sección 1 Iván Sipirán •\n",
        "Sección 2 Patricio Poblete •\n",
        "Sección 3 Nelson Baloian\n"
      ]
    },
    {
      "cell_type": "markdown",
      "metadata": {
        "id": "vJsSzP2uyk39"
      },
      "source": [
        "# El Problema de la Mochila (*Knapsack*)\n",
        "\n",
        "El problema consiste en lo siguiente. Se tiene una mochila con capacidad para cargar un peso $T$ y un conjunto de $n$ objetos, tal que cada objeto tiene un peso y un valor: $M = \\{(p_1,v_1),(p_2,v_2),\\ldots, (p_n,v_n)\\}$. El problema es encontrar el máximo valor que se puede cargar en la mochila usando objetos de $M$, sin sobrepasar el peso permitido $T$.\n",
        "\n",
        "Este problema se resuelve con programación dinámica teniendo en cuenta lo siguiente:\n",
        "\n",
        "*   Representamos con $C(i,j)$ el valor óptimo que se puede obtener con $i$ objetos y una mochila de capacidad $j$.\n",
        "*   El análisis para encontrar el valor óptimo $C(i,j)$ incluye dos posibles opciones:\n",
        "  *   Que el $i-$ésimo objeto sea parte del óptimo. En ese caso se esperaría que $C(i,j)$ incluya el valor $v_i$ y que la mochila sin el $i-$ésimo objeto también tenga un valor óptimo. O sea  $C(i,j) = v_i + C(i-1, j - p_i)$. Tener en cuenta que este razonamiento sólo funciona si la capacidad $j$ sobrepasa el peso $p_i$.\n",
        "  *   Que el $i$-ésimo objeto no sea parte del óptimo. En este caso el óptimo $C(i,j)$ es simplemente lo mismo que el óptimo de no considerar al objeto $i$. O sea $C(i,j) = C(i-1,j)$\n",
        "  \n",
        "  El máximo de estas dos opciones nos dará el óptimo para $C(i,j)$.\n",
        "\n",
        "Las condiciones básicas para resolver este problema son:\n",
        "\n",
        "\n",
        "*   $C(i,0) = 0, \\forall i$ (el óptimo con una mochila de capacidad 0, siempre es 0)\n",
        "*   $C(0,j) = 0, \\forall j$ (el óptimo de no tener ningún objeto es 0)\n",
        "\n",
        "Como puede observarse, este problema puede resolverse con el método de tabulación. Los pasos serían los siguientes:\n",
        "\n",
        "1.   Crear una tabla de tamaño $(n+1) \\times (T+1)$.\n",
        "2.   Llenar toda la primera fila y columna con ceros, para cumplir con las condiciones iniciales del problema.\n",
        "3.   Recorrer la matriz llenando sus valores con la regla:\n",
        "\n",
        "$$\n",
        "C(i,j) =\n",
        "\\begin{cases}\n",
        "max\\{C(i-1,j), v_i + C(i-1,j-p_i)\\} & \\text{ si } j - p_i \\geq 0 \\\\\n",
        "C(i-1,j) & \\text{ si } j - p_i < 0 \n",
        "\\end{cases}\n",
        "$$\n",
        "\n",
        "4.   Retornar la solución del problema $C(n,T)$: el elemento almacenado en la posición de más a la derecha y abajo de la tabla."
      ]
    },
    {
      "cell_type": "markdown",
      "metadata": {
        "id": "8kY2A2e9yt7V"
      },
      "source": [
        "# Enunciado de la Tarea\n",
        "A John le gusta bucear y cazar tesoros. Para su buena suerte, él acaba de encontrar la ubicación de\n",
        "un barco pirata lleno de tesoros. El sofisticado sistema sonar a bordo de su barco le permite identificar\n",
        "la ubicación, profundidad y cantidad de oro en cada tesoro hundido. Desafortunadamente, John olvidó\n",
        "traer un dispositivo GPS y las posibilidades de encontrar esta ubicación de nuevo son muy escasas, por\n",
        "lo que tiene que apropiarse del oro ahora. Para empeorar la situación, John solo tiene un tanque de aire\n",
        "comprimido.\n",
        "\n",
        "John quiere bucear con el tanque de aire comprimido para recuperar tanto oro como sea posible del\n",
        "naufragio. Escriba un programa que John pueda usar para seleccionar cuáles tesoros debe recoger para\n",
        "maximizar la cantidad de oro recuperado. El problema tiene las siguientes restricciones:\n",
        "\n",
        "*   Existen $n$ tesoros $\\{(d_1, v_1), (d_2,v_2), \\ldots, (d_n, v_n)\\}$ representados por el par (profundidad, cantidad de oro). Existen como máximo 30 tesoros.\n",
        "*   El tanque de aire solo permite estar $T$ segundos bajo el agua. $T$ es como máximo 1000 segundos.\n",
        "*   En cada inmersión, John puede traer como máximo un tesoro a la vez.\n",
        "*   El tiempo para descender es $t_{di} = w*d_i$, donde $w$ es un número entero constante.\n",
        "*   El tiempo para ascender es $t_{ai} = 2w*d_i$, donde $w$ es el mismo número entero constante.\n",
        "*   Debido a limitaciones de los instrumentos, todos los parámetros son números enteros.\n",
        "\n",
        "### Ejemplos. \n",
        "1. Si $T=210$, $w=4$ y los tesoros tienen profundidades y valores $\\{(10,5),(10,1),(7,2)\\}$, la cantidad óptima de oro es 7 escogiendo los tesoros $\\{(10,5),(7,2)\\}$\n",
        "\n",
        "2. Si T=210, $w=4$ y los tesoros tienen profundidades y valores $\\{(4,2),(1, 2),(1,3),(5,7),(4,4),(12,100)\\}$, la cantidad óptima de oro es 107 escogiendo los tesoros $\\{(5,7),(12,100)\\}$"
      ]
    },
    {
      "cell_type": "markdown",
      "metadata": {
        "id": "-_xXYgvs_Htw"
      },
      "source": [
        "---\n",
        "# Lo que usted tiene que hacer:\n",
        "\n",
        "Implementar la función *tesoro_maximo* que recibe la lista de tesoros, la constante $w$ y la capacidad del tanque $T$, y devuelve el valor total del tesoro recuperado.\n",
        "\n",
        "La función *tesoro_maximo*, que se define a continuación puede ser usada como base para desarrollar el problema. Esta función hace algo no óptimo: simplemente escoge el primer objeto que puede ser rescatado (aquel cuyo tiempo de rescate es menor a $T$), y devuelve su valor.\n",
        "\n",
        "Modifique la función *tesoro_maximo* para solucionar el problema de John con programación dinámica. Use el problema de la mochila como referencia."
      ]
    },
    {
      "cell_type": "markdown",
      "metadata": {
        "id": "z8wWV04rylK3"
      },
      "source": [
        "# **Resolución de la Tarea**"
      ]
    },
    {
      "cell_type": "markdown",
      "metadata": {
        "id": "mYGB8koay5g9"
      },
      "source": [
        "Para resolver la tarea, hice un procedimiento de 2 partes donde realice en orden:\n",
        "\n",
        "**A)**\tDesarrolle un algoritmo que resolviera el problema de la mochila(Knapsack) usando como guía y referencia los pasos que se entregan en la tarea (1,2,3 y 4).\n",
        "\n",
        "**B)**\n",
        "Adapte este algoritmo para que se ajuste al problema del tesoro cambiando ciertas partes del código."
      ]
    },
    {
      "cell_type": "markdown",
      "metadata": {
        "id": "5Dc-jhP721l0"
      },
      "source": [
        "# A)"
      ]
    },
    {
      "cell_type": "markdown",
      "metadata": {
        "id": "3XzRCkif40wy"
      },
      "source": [
        "Inicie realizando una función auxiliar que me ayude a resolver el punto 4)\" Retornar la solución del problema C(n,T): el elemento almacenado en la posición de más a la derecha y abajo de la tabla\", creando una función que me retorna el elemento mas a la derecha y debajo de una matriz.\n",
        "\n",
        "Para esto simplemente busque el elemento que se encontrara en el largo-1 y luego a este elemento nuevamente le busque el elemento que se encuentra en 1 menos el largo y retornando esto tenemos la función como esta codificada a continuación:"
      ]
    },
    {
      "cell_type": "code",
      "metadata": {
        "id": "kNjQvEGC5g0u"
      },
      "source": [
        "def sacador(n):\n",
        "  a=len(n)-1\n",
        "  b=len(n[a])-1\n",
        "  c=n[a][b]\n",
        "  return(c)"
      ],
      "execution_count": null,
      "outputs": []
    },
    {
      "cell_type": "markdown",
      "metadata": {
        "id": "KPbfgrYJ7dpa"
      },
      "source": [
        "\n",
        "Luego desarrolle la función “mochila” usando las indicaciones 1,2 y 3.\n",
        "\n",
        "1) y 2) Primero cree una lista vacía llamada “Tabla” a la cual le agregue con un for listas vacías y luego con otro for dentro del for, genere una lista más larga en el primer índice y  le agregue los 0 en todos los espacios con un índice 0 . Esto se vería así para T=7 y largo de lista=3:\n",
        "\n"
      ]
    },
    {
      "cell_type": "code",
      "metadata": {
        "colab": {
          "base_uri": "https://localhost:8080/"
        },
        "id": "OdiHUOCr8Nxt",
        "outputId": "3ef567b5-15eb-4485-8596-6d84b8cfbf04"
      },
      "source": [
        "T=7\n",
        "Tabla=[]\n",
        "m=len(n)\n",
        "for a in range (m+1):\n",
        "  Tabla.append([])\n",
        "  for b in range (T+1):\n",
        "    if a==0 or b==0:\n",
        "      Tabla[a].append(0)\n",
        "for i in range(len(Tabla)):\n",
        "      print(Tabla[i])"
      ],
      "execution_count": null,
      "outputs": [
        {
          "output_type": "stream",
          "text": [
            "[0, 0, 0, 0, 0, 0, 0, 0]\n",
            "[0]\n",
            "[0]\n",
            "[0]\n"
          ],
          "name": "stdout"
        }
      ]
    },
    {
      "cell_type": "markdown",
      "metadata": {
        "id": "nNpI-q1_8ebP"
      },
      "source": [
        "Luego para la parte 3) que fue sin duda la mas compleja,  hice un código que recorriera la matriz y que como caso base si alguno de los índices era 0  pusiera el valor 0 (Aunque no creo que fuera tan necesario ya que ya estaban los 0, así nos aseguramos que no existan errores en esta fila y columna).Luego si es que el peso del objeto excedía el peso que podemos almacenar simplemente que el punto [x][y] tome el valor de [x-1][y] y si el peso aun no sobrepasaba, usamos la función max() para determinar si nos conviene efectivamente tomar este elemento o no, y en caso de que no simplemente tomamos el valor de [x-1][y]. Ahora si nos sirve, tomara el valor del objeto + el valor de la Tabla en [x-1][y-n[x-1][0]]. Juntando estas 4 partes armamos el código:"
      ]
    },
    {
      "cell_type": "code",
      "metadata": {
        "id": "eHAoagle-7DK"
      },
      "source": [
        "def mochila(n,T):\n",
        "    Tabla=[]\n",
        "    m=len(n)\n",
        "    for a in range (m+1):\n",
        "      Tabla.append([])\n",
        "      for b in range (T+1):\n",
        "        if a==0 or b==0:\n",
        "          Tabla[a].append(0)\n",
        "    for x in range (1,m+1):\n",
        "      for y in range (1,T+1):    \n",
        "        if x==0 or y ==0:\n",
        "          Tabla[x][y]=0\n",
        "        if y-n[x-1][0]<0:\n",
        "          Tabla[x].append(Tabla[x-1][y])\n",
        "        else:\n",
        "          Tabla[x].append(max(Tabla[x-1][y],n[x-1][1]+Tabla[x-1][y-n[x-1][0]]))\n",
        "    return (sacador(Tabla))"
      ],
      "execution_count": null,
      "outputs": []
    },
    {
      "cell_type": "code",
      "metadata": {
        "id": "vBhnxNWB_AsZ"
      },
      "source": [
        "Y realizamos unas pruebas para ver que funciona correctamente"
      ],
      "execution_count": null,
      "outputs": []
    },
    {
      "cell_type": "markdown",
      "metadata": {
        "id": "gkKfziEJ_EJD"
      },
      "source": [
        "## Pruebas codigo A)"
      ]
    },
    {
      "cell_type": "code",
      "metadata": {
        "colab": {
          "base_uri": "https://localhost:8080/"
        },
        "id": "RjJWAaql_l2L",
        "outputId": "83202325-2a55-4491-95d0-29629e7a29b6"
      },
      "source": [
        "n=[(3,5),(3,9),(3,10)]\n",
        "print(mochila(n,9))"
      ],
      "execution_count": null,
      "outputs": [
        {
          "output_type": "stream",
          "text": [
            "24\n"
          ],
          "name": "stdout"
        }
      ]
    },
    {
      "cell_type": "code",
      "metadata": {
        "colab": {
          "base_uri": "https://localhost:8080/"
        },
        "id": "3F1ZonKn_l5d",
        "outputId": "05be03c9-0b5e-4a83-cbe8-cd50a0692b50"
      },
      "source": [
        "n=[(1,10),(1,2),(1,5)]\n",
        "print(mochila(n,9))"
      ],
      "execution_count": null,
      "outputs": [
        {
          "output_type": "stream",
          "text": [
            "17\n"
          ],
          "name": "stdout"
        }
      ]
    },
    {
      "cell_type": "code",
      "metadata": {
        "colab": {
          "base_uri": "https://localhost:8080/"
        },
        "id": "MyAZwfXa_l9G",
        "outputId": "d7c4a53e-0553-4100-e384-f0bb010918d1"
      },
      "source": [
        "n=[(8,5),(9,9),(3,10)]\n",
        "print(mochila(n,15))"
      ],
      "execution_count": null,
      "outputs": [
        {
          "output_type": "stream",
          "text": [
            "19\n"
          ],
          "name": "stdout"
        }
      ]
    },
    {
      "cell_type": "code",
      "metadata": {
        "colab": {
          "base_uri": "https://localhost:8080/"
        },
        "id": "OG-qlWlvAEgM",
        "outputId": "b2b8152d-fea1-4b50-e1ec-bf3d20f81889"
      },
      "source": [
        "n=[(20,100),(1,1),(5,10)]\n",
        "print(mochila(n,20))"
      ],
      "execution_count": null,
      "outputs": [
        {
          "output_type": "stream",
          "text": [
            "100\n"
          ],
          "name": "stdout"
        }
      ]
    },
    {
      "cell_type": "code",
      "metadata": {
        "colab": {
          "base_uri": "https://localhost:8080/"
        },
        "id": "YioBztTEAEm4",
        "outputId": "096d885e-eab4-4c98-ad16-a8887a97632e"
      },
      "source": [
        "n=[(3,5),(3,9),(3,10),(1,6),(4,10)]\n",
        "print(mochila(n,20))"
      ],
      "execution_count": null,
      "outputs": [
        {
          "output_type": "stream",
          "text": [
            "40\n"
          ],
          "name": "stdout"
        }
      ]
    },
    {
      "cell_type": "markdown",
      "metadata": {
        "id": "wEnyYFEWAlDB"
      },
      "source": [
        "Observamos que la función corre correctamente los ejemplos por lo que pasamos a la parte B)."
      ]
    },
    {
      "cell_type": "markdown",
      "metadata": {
        "id": "T1BYZbiM29rf"
      },
      "source": [
        "# B)"
      ]
    },
    {
      "cell_type": "markdown",
      "metadata": {
        "id": "adPOmXhDE2Mq"
      },
      "source": [
        "Ahora la diferencia es que recibimos w y T como parámetros distintos pero podemos observar que dado que para rescatar cada objeto se requiere un tiempo  t=w∗di +2w∗di y podemos simplificar esto como t=3∗w∗di. Luego remplazamos nuestra condición del peso de la parte A) y modificando unos parámetros llegamos a la función:"
      ]
    },
    {
      "cell_type": "code",
      "metadata": {
        "id": "RxD0E8UB36S0"
      },
      "source": [
        "def tesoro_maximo(L, w, T):\n",
        "    Tabla=[]\n",
        "    m=len(L)\n",
        "    for a in range (m+1):\n",
        "      Tabla.append([])\n",
        "      for b in range (T+1):\n",
        "        if a==0 or b==0:\n",
        "          Tabla[a].append(0)\n",
        "    for x in range (1,m+1):\n",
        "      for y in range (1,T+1):    \n",
        "        if x==0 or y ==0:\n",
        "          Tabla[x][y]=0\n",
        "        if y-L[x-1][0]*3*w<0:\n",
        "          Tabla[x].append(Tabla[x-1][y])\n",
        "        else:\n",
        "          Tabla[x].append(max(Tabla[x-1][y],L[x-1][1]+Tabla[x-1][y-3*w*L[x-1][0]]))\n",
        "    return (sacador(Tabla))"
      ],
      "execution_count": null,
      "outputs": []
    },
    {
      "cell_type": "markdown",
      "metadata": {
        "id": "EYiCnGQMFG9u"
      },
      "source": [
        "Y ahora probamos esta función para ver que funcione correctamente."
      ]
    },
    {
      "cell_type": "markdown",
      "metadata": {
        "id": "juD3D5YsFNss"
      },
      "source": [
        "## Pruebas codigo B)"
      ]
    },
    {
      "cell_type": "markdown",
      "metadata": {
        "id": "fdB-QRjR7by3"
      },
      "source": [
        "Si ejecutamos la función con los datos del primer caso de ejemplo, el resultado es:"
      ]
    },
    {
      "cell_type": "code",
      "metadata": {
        "colab": {
          "base_uri": "https://localhost:8080/"
        },
        "id": "V93NdO2Q5Jhb",
        "outputId": "0564ca1f-79f0-4c7a-e1f6-78c2a8b2ad00"
      },
      "source": [
        "tesoros = [(10,5),(10,1),(7,2)]\n",
        "maximo = tesoro_maximo(tesoros, 4,210)\n",
        "\n",
        "print('El máximo valor es:', maximo)\n"
      ],
      "execution_count": null,
      "outputs": [
        {
          "output_type": "stream",
          "text": [
            "El máximo valor es: 7\n"
          ],
          "name": "stdout"
        }
      ]
    },
    {
      "cell_type": "code",
      "metadata": {
        "colab": {
          "base_uri": "https://localhost:8080/"
        },
        "id": "urkduBE0xDIV",
        "outputId": "05569c82-206f-4836-8c37-81e7c7fd66ba"
      },
      "source": [
        "tesoros = [(2,23),(33,28),(23,1),(28,83),(1,39),(7,2),(10,64),(92,12),(53,8),(61,17),(323,100)]\n",
        "maximo = tesoro_maximo(tesoros, 4,1000 )\n",
        "\n",
        "print('El máximo valor es:', maximo)\n"
      ],
      "execution_count": null,
      "outputs": [
        {
          "output_type": "stream",
          "text": [
            "El máximo valor es: 239\n"
          ],
          "name": "stdout"
        }
      ]
    },
    {
      "cell_type": "code",
      "metadata": {
        "colab": {
          "base_uri": "https://localhost:8080/"
        },
        "id": "eusvgW8jG_1v",
        "outputId": "370350a6-ec96-4085-b783-d336518cd8c5"
      },
      "source": [
        "tesoros = [(10,100)]\n",
        "maximo = tesoro_maximo(tesoros, 1,100 )\n",
        "\n",
        "print('El máximo valor es:', maximo)\n"
      ],
      "execution_count": null,
      "outputs": [
        {
          "output_type": "stream",
          "text": [
            "El máximo valor es: 100\n"
          ],
          "name": "stdout"
        }
      ]
    },
    {
      "cell_type": "code",
      "metadata": {
        "colab": {
          "base_uri": "https://localhost:8080/"
        },
        "id": "CYkulG0nG_8v",
        "outputId": "379df881-b602-413f-fe58-42db369e0450"
      },
      "source": [
        "tesoros = [(100,100)]\n",
        "maximo = tesoro_maximo(tesoros, 1,100 )\n",
        "\n",
        "print('El máximo valor es:', maximo)"
      ],
      "execution_count": null,
      "outputs": [
        {
          "output_type": "stream",
          "text": [
            "El máximo valor es: 0\n"
          ],
          "name": "stdout"
        }
      ]
    },
    {
      "cell_type": "markdown",
      "metadata": {
        "id": "MeSzoV-iHLue"
      },
      "source": [
        "Y vemos que las pruebas de la función funcionan correctamente."
      ]
    },
    {
      "cell_type": "markdown",
      "metadata": {
        "id": "5ICHUWtlHUK4"
      },
      "source": [
        "# Conclusión "
      ]
    },
    {
      "cell_type": "markdown",
      "metadata": {
        "id": "OCHoyH4iHZL2"
      },
      "source": [
        "Para lograr armar la función tesoro_maximo fue muy útil armar primero la de mochila que resolvía el problema planteado ya que después resulta muy sencillo cambiar un par de parámetros, y por lo tanto a veces es mejor plantearse un problema de base un poco más fácil para después poder resolver el problema deseado."
      ]
    },
    {
      "cell_type": "markdown",
      "metadata": {
        "id": "v_UwExwo_HuW"
      },
      "source": [
        "# ¿Qué hay que entregar?\n",
        "\n",
        "Usted debe entregar este mismo archivo, modificado de acuerdo a lo que se pide. Documentar adecuadamente su código. Cite todas las fuentes de información utilizadas. **No olvide poner su nombre en el encabezamiento**."
      ]
    }
  ]
}