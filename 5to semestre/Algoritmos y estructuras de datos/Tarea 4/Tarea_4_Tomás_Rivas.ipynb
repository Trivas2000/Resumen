{
  "nbformat": 4,
  "nbformat_minor": 0,
  "metadata": {
    "kernelspec": {
      "display_name": "Python 3",
      "language": "python",
      "name": "python3"
    },
    "language_info": {
      "codemirror_mode": {
        "name": "ipython",
        "version": 3
      },
      "file_extension": ".py",
      "mimetype": "text/x-python",
      "name": "python",
      "nbconvert_exporter": "python",
      "pygments_lexer": "ipython3",
      "version": "3.7.1"
    },
    "colab": {
      "provenance": []
    }
  },
  "cells": [
    {
      "cell_type": "markdown",
      "metadata": {
        "id": "vqpyykLhbGmC"
      },
      "source": [
        "# CC3001 Otoño 2021 Tarea 4 Alumno Tomás Rivas\n",
        "# Cálculo de derivadas de fórmulas representadas mediante árboles\n",
        "## Profesores\n",
        "Sección 1 Iván Sipirán • Sección 2 Patricio Poblete • Sección 3 Nelson Baloian"
      ]
    },
    {
      "cell_type": "markdown",
      "metadata": {
        "id": "0m-PHqkybGmD"
      },
      "source": [
        "El objetivo de esta tarea es aprender a procesar la información de árboles que representan fórmulas. Hay muchas cosas que uno puede hacer con estos árboles, y en esta tarea nos enfocaremos en particular en calcular la derivada de una fórmula respecto de una variable dada.\n",
        "\n",
        "Específicamente, el problema es: dado un árbol que representa una fórmula, construir y retornar otro árbol que representa la derivada de la primera fórmula respecto de una variable dada.\n",
        "\n",
        "La fórmula se entrega en notación de infijo (normal). En esta fórmula,\n",
        "los operadores de menor prioridad son la suma (``+``) y la resta (``-``), de igual prioridad entre sí, luego vienen la multiplicación (``*``) y la división (``/``), también de igual prioridad entre sí, y finalmente el operador de mayor prioridad es la elevación a potencia (``^``). También se puede usar paréntesis. Para simplificar no usaremos el operador \"menos unario\". **Nota importante**: Para no complicar excesivamente las cosas, supondremos que en la elevación a potencia el exponente no contiene la variable respecto de la cual se está derivando.\n",
        "\n",
        "A continuación usted encontrará las clases ``Nodoi``, ``Nodoe`` y ``Arbol`` que implementan árboles que representan fórmulas. La clase ``Arbol`` viene con un constructor que recibe un string como parámetro, el cual contiene una fórmula, y este constructor se encarga de transformar la fórmula de string a árbol, de modo que usted no necesita preocuparse de eso. Para simplificar, la fórmula solo podrá contener variables de una sola letra, números de un solo dígito, y sin espacios.\n",
        "\n",
        "Usted tiene que implementar para la clase ``Arbol`` y para los nodos una función ``derivada`` que al ser invocada indicando el nombre de una variable, retorne un árbol que represente la derivada de la fórmula respectiva.\n",
        "\n",
        "En este enunciado vienen funciones ``derivada`` triviales, que simplemente retornan la misma fórmula, sin derivarla. Usted debe reemplazarlas por la implementación correcta\n"
      ]
    },
    {
      "cell_type": "code",
      "metadata": {
        "id": "0K4vThBPl86B",
        "colab": {
          "base_uri": "https://localhost:8080/"
        },
        "outputId": "af4004c9-bf59-442a-bd64-c012816a1a89"
      },
      "source": [
        "!pip install aed-utilities"
      ],
      "execution_count": null,
      "outputs": [
        {
          "output_type": "stream",
          "text": [
            "Collecting aed-utilities\n",
            "  Downloading https://files.pythonhosted.org/packages/d9/53/1fb6dd5ad276ed9857cc448e7df0efc7f0f68c1818e8732bd5941ef99a7e/aed_utilities-0.5.2.tar.gz\n",
            "Collecting validators\n",
            "  Downloading https://files.pythonhosted.org/packages/db/2f/7fed3ee94ad665ad2c1de87f858f10a7785251ff75b4fd47987888d07ef1/validators-0.18.2-py3-none-any.whl\n",
            "Requirement already satisfied: beautifulsoup4 in /usr/local/lib/python3.7/dist-packages (from aed-utilities) (4.6.3)\n",
            "Requirement already satisfied: six>=1.4.0 in /usr/local/lib/python3.7/dist-packages (from validators->aed-utilities) (1.15.0)\n",
            "Requirement already satisfied: decorator>=3.4.0 in /usr/local/lib/python3.7/dist-packages (from validators->aed-utilities) (4.4.2)\n",
            "Building wheels for collected packages: aed-utilities\n",
            "  Building wheel for aed-utilities (setup.py) ... \u001b[?25l\u001b[?25hdone\n",
            "  Created wheel for aed-utilities: filename=aed_utilities-0.5.2-cp37-none-any.whl size=4467 sha256=713ddd9f2ca535852025d96ece0714756d7253821d692162d161e64ef21303c7\n",
            "  Stored in directory: /root/.cache/pip/wheels/68/e6/33/33cadc26cc3b96e6f5830bb498d2c521b2e0fca7069fd52473\n",
            "Successfully built aed-utilities\n",
            "Installing collected packages: validators, aed-utilities\n",
            "Successfully installed aed-utilities-0.5.2 validators-0.18.2\n"
          ],
          "name": "stdout"
        }
      ]
    },
    {
      "cell_type": "markdown",
      "metadata": {
        "id": "ONVrhZ_BR9HM"
      },
      "source": [
        "#Desarrollo del problema"
      ]
    },
    {
      "cell_type": "markdown",
      "metadata": {
        "id": "8xcRPyoQSD9S"
      },
      "source": [
        "Para lograr el problema fui resolviendo por partes las derivadas partiendo con la derivada de la suma, luego la resta, la multiplicación, la división y finalmente la potencia. Esto es  siguiendo el orden de +, -, *, /, ^. "
      ]
    },
    {
      "cell_type": "markdown",
      "metadata": {
        "id": "lDJiQQ-SSt2Y"
      },
      "source": [
        "##Derivada de la suma (+)"
      ]
    },
    {
      "cell_type": "markdown",
      "metadata": {
        "id": "9nemEDuXS3ae"
      },
      "source": [
        "La derivada de la suma fue relativamente sencilla ya que es simplemente la derivada del lado izquierdo sumada a la derivada del lado derecho. En concepto es :\n",
        "\n",
        "derivada(izq) + derivada(der)\n",
        "\n",
        "Y traduciéndolo a código tenemos:\n",
        "\n",
        "\n",
        "\n",
        "```\n",
        "self.izq.derivada(x)+\"+\"+self.der.derivada(x)\n",
        "```\n",
        "\n",
        "Esto ya que queremos llegar a la derivada de la forma que si por ejemplo si tenemos la función “x+5+x+1”, la derivada sea un string “1+0+1+0”(Ya que así después poniendo el string dentro de Árbol() tenemos el árbol de la derivada). Y por lo tanto necesitamos poner el símbolo “+” entre comillas como la operación que realizamos y usamos los + para unir los string. Este será el método usual de escribir las derivadas para todas las operaciones.\n",
        "\n",
        "Sin embargo, esto no está listo ya que este código es para los nodos con hijos (Nodoi) y hay que realizar la sección para los nodos externos (Nodoe). Esto es bien sencillo ya que tenemos solo 2 casos, si el nodo externo es la variable respecto a la cual estamos derivando retornamos “1” (En forma de string para poder sumarlo a los otros string) y si no es la variable simplemente retornamos “0” ya que la derivada de una constante es 0. Estos casos base nos servirán para todas las operaciones. Esto en código se ve así:\n",
        "\n",
        "\n",
        "\n",
        "```\n",
        "def derivada(self,x):\n",
        "        if self.info==x:\n",
        "          return \"1\"\n",
        "        else:\n",
        "          return \"0\"\n",
        "```\n",
        "\n",
        "Y finalmente solo nos falta comprobar si la operación es actual es una suma (En un Nodoi) y esto lo hacemos con:\n",
        "\n",
        "\n",
        "\n",
        "```\n",
        "if self.info==\"+\"\n",
        "```\n",
        "\n",
        "Sumando todas las partes tenemos:\n",
        "\n",
        "\n",
        "\n",
        "```\n",
        "Nodoi:\n",
        "\n",
        "def derivada(self,x):\n",
        "        if self.info==\"+\":\n",
        "          return self.izq.derivada(x)+\"+\"+self.der.derivada(x)\n",
        "\n",
        "Nodoe:\n",
        "\n",
        "def derivada(self,x):\n",
        "        if self.info==x:\n",
        "          return \"1\"\n",
        "        else:\n",
        "          return \"0\"\n",
        "```\n",
        "\n",
        "Y finalmente realice unas pruebas solo con sumas para ver que funcionara correctamente.\n",
        "\n"
      ]
    },
    {
      "cell_type": "markdown",
      "metadata": {
        "id": "Ua8r6lCnZWkb"
      },
      "source": [
        "##Derivada de la resta (-)\n"
      ]
    },
    {
      "cell_type": "markdown",
      "metadata": {
        "id": "ZyuArxzuZrWx"
      },
      "source": [
        "Diría que esta fue la mas sencilla ya que solo tuve que a la de la suma remplazar los + por –  y quedo listo. En código nos quedaría así:\n",
        "\n",
        "```\n",
        "Nodoi:\n",
        "\n",
        "def derivada(self,x):\n",
        "        if self.info==\"+\":\n",
        "          return self.izq.derivada(x)+\"+\"+self.der.derivada(x)\n",
        "        if self.info==\"-\":\n",
        "          return self.izq.derivada(x)+\"-\"+self.der.derivada(x)\n",
        "Nodoe:\n",
        "\n",
        "def derivada(self,x):\n",
        "        if self.info==x:\n",
        "          return \"1\"\n",
        "        else:\n",
        "          return \"0\"\n",
        "```\n",
        "\n",
        "Y nuevamente realice unas pruebas solo con sumas para ver que funcionara correctamente.\n",
        "\n",
        "\n"
      ]
    },
    {
      "cell_type": "markdown",
      "metadata": {
        "id": "YBhm5QimaDVU"
      },
      "source": [
        "##Derivada de la multiplicación(*)"
      ]
    },
    {
      "cell_type": "markdown",
      "metadata": {
        "id": "Qh6MO3DhauVx"
      },
      "source": [
        "Esta es yo diría la que presento la mayor cantidad de complicaciones ya que si bien uno podría pensar que basta con replicar la metodología de la suma y la resta es un poco mas complejo que eso. Conceptualmente sabemos que tenemos que lograr que sea:\n",
        "\n",
        "derivada(izq)*der + derivada(der) * izq\n",
        "\n",
        "Pero aquí surge el primer problema que es retornar la parte derecha e izquierda como strings en vez de Nodoi. Para esto modificaremos las clases talque sean capaces de hacer esta transición."
      ]
    },
    {
      "cell_type": "markdown",
      "metadata": {
        "id": "F8gG13Fkbb6v"
      },
      "source": [
        "Esta transición la llamaremos inorden ya que es muy similar a la manera en que funciona la devolución por inorden, vamos poniendo izquierda;operación(o centro);derecha y por lo tanto tendrá una estructura similar. En el árbol tenemos:\n",
        "\n",
        "\n",
        "\n",
        "```\n",
        "def inorden(self): \n",
        "      return self.raiz.inorden()\n",
        "```\n",
        "Luego en los Nodoi tenemos que tener el inorden del hijo izquierdo más la info del nodo actual más el inorden del hijo derecho por lo que queda:\n",
        "\n",
        "\n",
        "\n",
        "```\n",
        "def inorden(self):\n",
        "        return self.izq.inorden()+self.info+self.der.inorden()  \n",
        "```\n",
        "Y finalmente para los Nodoe necesitamos que devuelvan su info por lo que tenemos:\n",
        "\n",
        "\n",
        "\n",
        "```\n",
        "def inorden(self):\n",
        "        return (self.info)\n",
        "```\n",
        "\n",
        "\n",
        "\n"
      ]
    },
    {
      "cell_type": "markdown",
      "metadata": {
        "id": "FmV92raXbSKB"
      },
      "source": [
        "Con este problema resuelto nos ponemos a escribir la multiplicación, pero hay que poner paréntesis adecuados ya que cuando lo probamos sin estos, se desordenan las derivadas debido a que no multiplica correctamente. Considerando esto y poniendo el inorden cuando tengamos que retornar el nodo izquierdo o derecho en forma de string tenemos:\n",
        "\n",
        "\n",
        "\n",
        "```\n",
        "if self.info==\"*\":\n",
        "          return \"(\" + self.izq.derivada(x) + \")\" + \"*\" + self.der.inorden() + \"+\" + \"(\" + self.der.derivada(x) + \")\"   + \"*\" + self.izq.inorden()\n",
        "```\n",
        "\n",
        "Y ahora continuamos con la división"
      ]
    },
    {
      "cell_type": "markdown",
      "metadata": {
        "id": "jWaiZmNcfKxX"
      },
      "source": [
        "##Derivada de la división(/)"
      ]
    },
    {
      "cell_type": "markdown",
      "metadata": {
        "id": "kegAqlkffl8O"
      },
      "source": [
        "Aquí es sencillo ya que tenemos definido inorden de la parte anterior por lo que simplemente escribimos la formula de la derivada de la división correctamente y cuidando los paréntesis para que siga el orden correcto. El código total nos quedaría:\n",
        "\n",
        "\n",
        "\n",
        "```\n",
        "Arbol:\n",
        "\n",
        "def inorden(self): \n",
        "      return self.raiz.inorden()\n",
        "\n",
        "Nodoi:\n",
        "\n",
        "def inorden(self):\n",
        "        return self.izq.inorden()+self.info+self.der.inorden()\n",
        "\n",
        "def derivada(self,x):\n",
        "        if self.info==\"+\":\n",
        "          return self.izq.derivada(x)+\"+\"+self.der.derivada(x)\n",
        "        if self.info==\"-\":\n",
        "          return self.izq.derivada(x)+\"-\"+self.der.derivada(x)\n",
        "        if self.info==\"*\":\n",
        "          return \"(\" + self.izq.derivada(x) + \")\" + \"*\" + self.der.inorden() + \"+\" + \"(\" + self.der.derivada(x) + \")\"   + \"*\" + self.izq.inorden()\n",
        "        if self.info==\"/\":\n",
        "          return \"(\" + \"(\" + self.izq.derivada(x) + \")\" + \"*\" + self.der.inorden() + \"-\" + \"(\" + self.der.derivada(x) + \")\"   + \"*\" + self.izq.inorden() + \")\" + \"/\" + \"(\"+ self.der.inorden()+ \")\" + \"^\" + \"2\"\n",
        "Nodoe:\n",
        "\n",
        "def inorden(self):\n",
        "        return (self.info)\n",
        "\n",
        "def derivada(self,x):\n",
        "        if self.info==x:\n",
        "          return \"1\"\n",
        "        else:\n",
        "          return \"0\"\n",
        "```\n",
        "\n"
      ]
    },
    {
      "cell_type": "markdown",
      "metadata": {
        "id": "fpVV0rxwgdWr"
      },
      "source": [
        "##Derivada de la potencia(^)"
      ]
    },
    {
      "cell_type": "markdown",
      "metadata": {
        "id": "NX89GMtbhIoR"
      },
      "source": [
        "Finalmente, para esta derivada usamos su fórmula, y como concepto se ve así:\n",
        "\n",
        "der*(izq)^(der-1)*derivada(izq)\n",
        "\n",
        "Traducido a código y con los paréntesis correspondientes nos queda:\n",
        "\n",
        "\n",
        "\n",
        "```\n",
        "if self.info==\"^\":\n",
        "          return \"(\" + self.der.inorden() + \")\" + \"*\" + \"(\" + self.izq.inorden() + \")\" + \"^\" \"(\"+self.der.inorden() + \"-\" + \"1\" + \")\" + \"*\" + \"(\" + self.izq.derivada(x) + \")\"    \n",
        "\n",
        "```\n",
        "\n"
      ]
    },
    {
      "cell_type": "markdown",
      "metadata": {
        "id": "MbXHFlkEiLch"
      },
      "source": [
        "Y ahora solo nos queda juntar todo esto en el código final."
      ]
    },
    {
      "cell_type": "markdown",
      "metadata": {
        "id": "HQgA1nARiMpd"
      },
      "source": [
        "##Código final"
      ]
    },
    {
      "cell_type": "code",
      "metadata": {
        "id": "wxdoFaDHbGmE"
      },
      "source": [
        "\n",
        "\n",
        "import aed_utilities as aed\n",
        "\n",
        "class Nodoi:\n",
        "    def __init__(self, izq, info, der):\n",
        "        self.izq=izq\n",
        "        self.info=info\n",
        "        self.der=der\n",
        "    def postorden(self):\n",
        "        self.izq.postorden()   \n",
        "        self.der.postorden()\n",
        "        print(self.info, end=\" \")\n",
        "    def inorden(self):#El inorden como lo vimos en la descripción, sumando todas las partes\n",
        "        return self.izq.inorden()+self.info+self.der.inorden()        \n",
        "    def derivada(self,x):\n",
        "        if self.info==\"+\":#Condiciones y formula derivada de la suma\n",
        "          return self.izq.derivada(x)+\"+\"+self.der.derivada(x)\n",
        "        if self.info==\"-\":#Condiciones y formula derivada de la resta\n",
        "          return self.izq.derivada(x)+\"-\"+self.der.derivada(x)\n",
        "        if self.info==\"*\":#Condiciones y formula derivada de la multiplicación\n",
        "          return \"(\" + self.izq.derivada(x) + \")\" + \"*\" + self.der.inorden() + \"+\" + \"(\" + self.der.derivada(x) + \")\"   + \"*\" + self.izq.inorden()\n",
        "        if self.info==\"/\":#Condiciones y formula derivada de la división\n",
        "          return \"(\" + \"(\" + self.izq.derivada(x) + \")\" + \"*\" + self.der.inorden() + \"-\" + \"(\" + self.der.derivada(x) + \")\"   + \"*\" + self.izq.inorden() + \")\" + \"/\" + \"(\"+ self.der.inorden()+ \")\" + \"^\" + \"2\"\n",
        "        if self.info==\"^\":#Condiciones y formula derivada de la potencia\n",
        "          return \"(\" + self.der.inorden() + \")\" + \"*\" + \"(\" + self.izq.inorden() + \")\" + \"^\" \"(\"+self.der.inorden() + \"-\" + \"1\" + \")\" + \"*\" + \"(\" + self.izq.derivada(x) + \")\"    \n",
        "\n",
        "class Nodoe:\n",
        "    def __init__(self, info):\n",
        "        self.info=info\n",
        "    def postorden(self):\n",
        "        print(self.info, end=\" \")\n",
        "    def inorden(self): \n",
        "        return (self.info) #Que el inorden nos retorne la info del Nodoe\n",
        "    def derivada(self,x): #La definición de los casos base\n",
        "        if self.info==x:#Si es igual a la variable a la que derivamos retornamos “1”\n",
        "          return \"1\"\n",
        "        else:#En caso contrario retornamos “0”\n",
        "          return \"0\"\n",
        "\n",
        "class Arbol:\n",
        "    def __init__(self,formula):\n",
        "        if type(formula)!=str: # se supone que viene el árbol ya construído\n",
        "          self.raiz=formula\n",
        "          return\n",
        "\n",
        "        # la fórmula viene en forma de string\n",
        "        global k\n",
        "        global s\n",
        "        s=formula+\";\" # agregamos una marca de fin de la entrada\n",
        "        k=0 # indica próximo caracter por procesar\n",
        "        # definimos funciones para analizar la fórmula\n",
        "        def expresion(): # retorna puntero a la raíz de un árbol que representa a la fórmula s\n",
        "            global k\n",
        "            global s\n",
        "            a=factor()\n",
        "            while s[k]==\"+\" or s[k]==\"-\":\n",
        "                op=s[k]\n",
        "                k+=1\n",
        "                b=factor()\n",
        "                a=Nodoi(a,op,b)\n",
        "            return a\n",
        "        def factor():\n",
        "            global k\n",
        "            global s\n",
        "            a=termino()\n",
        "            while s[k]==\"*\" or s[k]==\"/\":\n",
        "                op=s[k]\n",
        "                k+=1\n",
        "                b=termino()\n",
        "                a=Nodoi(a,op,b)\n",
        "            return a\n",
        "        def termino():\n",
        "            global k\n",
        "            global s\n",
        "            a=primario()\n",
        "            if s[k]==\"^\":\n",
        "                op=s[k]\n",
        "                k+=1\n",
        "                b=termino()\n",
        "                a=Nodoi(a,op,b)\n",
        "            return a\n",
        "        def primario(): # posible constante, variable o formula parentizada\n",
        "            global k\n",
        "            global s\n",
        "            if s[k].isalpha() or s[k].isdigit():\n",
        "                a=Nodoe(s[k])\n",
        "                k+=1\n",
        "                return a\n",
        "            if s[k]==\"(\": # fórmula parentizada\n",
        "                k+=1\n",
        "                a=expresion()\n",
        "                if s[k]!=\")\":\n",
        "                    print(\"Error: Falta cierra paréntesis: \"+formula[k:])\n",
        "                    assert False\n",
        "                k+=1\n",
        "                return a\n",
        "            print(\"Error: Falta variable, número o abre paréntesis: \"+formula[k:])\n",
        "            assert False\n",
        "              \n",
        "        a=expresion()\n",
        "        if s[k]!=\";\":\n",
        "            print(\"Error: Basura al final de la fórmula: \"+formula[k:])\n",
        "            assert False                \n",
        "        self.raiz=a\n",
        "    \n",
        "    def derivada(self,x):\n",
        "        return Arbol(self.raiz.derivada(x))\n",
        "\n",
        "    def inorden(self): #El inorden para devolver el string\n",
        "        return self.raiz.inorden()\n",
        "\n",
        "    def dibujar(self):\n",
        "      btd = aed.BinaryTreeDrawer(fieldData=\"info\", fieldLeft=\"izq\", fieldRight=\"der\",classNone=Nodoe )\n",
        "      btd.draw_tree(self, \"raiz\")\n"
      ],
      "execution_count": null,
      "outputs": []
    },
    {
      "cell_type": "markdown",
      "metadata": {
        "id": "_OJos4TDbGmI"
      },
      "source": [
        "A continuación probamos esta funcionalidad con varias fórmulas de ejemplo. Para ver si el árbol fue construido correctamente, lo dibujaremos, y también dibujaremos el árbol resultante después del cálculo de la derivada."
      ]
    },
    {
      "cell_type": "markdown",
      "metadata": {
        "id": "mYGpoNJzjwrq"
      },
      "source": [
        "###Pruebas"
      ]
    },
    {
      "cell_type": "code",
      "metadata": {
        "id": "L_Dsr_FpbGmJ"
      },
      "source": [
        "def probar_derivada(formula,x):\n",
        "    f=Arbol(formula)\n",
        "    print(\"Fórmula original:\")\n",
        "    f.dibujar()\n",
        "    g=f.derivada(x)\n",
        "    print(\"Derivada respecto de \"+x+\":\")\n",
        "    g.dibujar()"
      ],
      "execution_count": null,
      "outputs": []
    },
    {
      "cell_type": "code",
      "metadata": {
        "id": "RMZZmLMng-C4",
        "colab": {
          "base_uri": "https://localhost:8080/",
          "height": 293
        },
        "outputId": "45c20d44-539c-415d-eddf-5fee2e501772"
      },
      "source": [
        "probar_derivada(\"x+1\",\"x\")"
      ],
      "execution_count": null,
      "outputs": [
        {
          "output_type": "stream",
          "text": [
            "Fórmula original:\n"
          ],
          "name": "stdout"
        },
        {
          "output_type": "display_data",
          "data": {
            "text/plain": [
              "<IPython.core.display.SVG object>"
            ],
            "image/svg+xml": "<svg height=\"87pt\" viewBox=\"0.00 0.00 111.20 87.20\" width=\"111pt\" xmlns=\"http://www.w3.org/2000/svg\" xmlns:xlink=\"http://www.w3.org/1999/xlink\">\n<g class=\"graph\" id=\"graph0\" transform=\"scale(1 1) rotate(0) translate(4 83.2)\">\n<title>Arbol</title>\n<polygon fill=\"#ffffff\" points=\"-4,4 -4,-83.2 107.2,-83.2 107.2,4 -4,4\" stroke=\"transparent\"/>\n<!-- node0 -->\n<g class=\"node\" id=\"node1\">\n<title>node0</title>\n<polygon fill=\"none\" points=\"36,-36 0,-36 0,0 36,0 36,-36\" stroke=\"#000000\"/>\n<text fill=\"#000000\" font-family=\"Times,serif\" font-size=\"14.00\" text-anchor=\"middle\" x=\"18\" y=\"-14.3\">x</text>\n</g>\n<!-- node2 -->\n<g class=\"node\" id=\"node2\">\n<title>node2</title>\n<ellipse cx=\"51.6\" cy=\"-61.2\" fill=\"none\" rx=\"18\" ry=\"18\" stroke=\"#000000\"/>\n<text fill=\"#000000\" font-family=\"Times,serif\" font-size=\"14.00\" text-anchor=\"middle\" x=\"51.6\" y=\"-57.5\">+</text>\n</g>\n<!-- node2&#45;&#45;node0 -->\n<g class=\"edge\" id=\"edge1\">\n<title>node2--node0</title>\n<path d=\"M40.2246,-46.5745C37.6354,-43.2455 34.8536,-39.6689 32.1642,-36.2111\" fill=\"none\" stroke=\"#000000\"/>\n</g>\n<!-- node1 -->\n<g class=\"node\" id=\"node3\">\n<title>node1</title>\n<polygon fill=\"none\" points=\"103.2,-36 67.2,-36 67.2,0 103.2,0 103.2,-36\" stroke=\"#000000\"/>\n<text fill=\"#000000\" font-family=\"Times,serif\" font-size=\"14.00\" text-anchor=\"middle\" x=\"85.2\" y=\"-14.3\">1</text>\n</g>\n<!-- node2&#45;&#45;node1 -->\n<g class=\"edge\" id=\"edge2\">\n<title>node2--node1</title>\n<path d=\"M62.9754,-46.5745C65.5646,-43.2455 68.3464,-39.6689 71.0358,-36.2111\" fill=\"none\" stroke=\"#000000\"/>\n</g>\n</g>\n</svg>"
          },
          "metadata": {
            "tags": []
          }
        },
        {
          "output_type": "stream",
          "text": [
            "Derivada respecto de x:\n"
          ],
          "name": "stdout"
        },
        {
          "output_type": "display_data",
          "data": {
            "text/plain": [
              "<IPython.core.display.SVG object>"
            ],
            "image/svg+xml": "<svg height=\"87pt\" viewBox=\"0.00 0.00 111.20 87.20\" width=\"111pt\" xmlns=\"http://www.w3.org/2000/svg\" xmlns:xlink=\"http://www.w3.org/1999/xlink\">\n<g class=\"graph\" id=\"graph0\" transform=\"scale(1 1) rotate(0) translate(4 83.2)\">\n<title>Arbol</title>\n<polygon fill=\"#ffffff\" points=\"-4,4 -4,-83.2 107.2,-83.2 107.2,4 -4,4\" stroke=\"transparent\"/>\n<!-- node0 -->\n<g class=\"node\" id=\"node1\">\n<title>node0</title>\n<polygon fill=\"none\" points=\"36,-36 0,-36 0,0 36,0 36,-36\" stroke=\"#000000\"/>\n<text fill=\"#000000\" font-family=\"Times,serif\" font-size=\"14.00\" text-anchor=\"middle\" x=\"18\" y=\"-14.3\">1</text>\n</g>\n<!-- node2 -->\n<g class=\"node\" id=\"node2\">\n<title>node2</title>\n<ellipse cx=\"51.6\" cy=\"-61.2\" fill=\"none\" rx=\"18\" ry=\"18\" stroke=\"#000000\"/>\n<text fill=\"#000000\" font-family=\"Times,serif\" font-size=\"14.00\" text-anchor=\"middle\" x=\"51.6\" y=\"-57.5\">+</text>\n</g>\n<!-- node2&#45;&#45;node0 -->\n<g class=\"edge\" id=\"edge1\">\n<title>node2--node0</title>\n<path d=\"M40.2246,-46.5745C37.6354,-43.2455 34.8536,-39.6689 32.1642,-36.2111\" fill=\"none\" stroke=\"#000000\"/>\n</g>\n<!-- node1 -->\n<g class=\"node\" id=\"node3\">\n<title>node1</title>\n<polygon fill=\"none\" points=\"103.2,-36 67.2,-36 67.2,0 103.2,0 103.2,-36\" stroke=\"#000000\"/>\n<text fill=\"#000000\" font-family=\"Times,serif\" font-size=\"14.00\" text-anchor=\"middle\" x=\"85.2\" y=\"-14.3\">0</text>\n</g>\n<!-- node2&#45;&#45;node1 -->\n<g class=\"edge\" id=\"edge2\">\n<title>node2--node1</title>\n<path d=\"M62.9754,-46.5745C65.5646,-43.2455 68.3464,-39.6689 71.0358,-36.2111\" fill=\"none\" stroke=\"#000000\"/>\n</g>\n</g>\n</svg>"
          },
          "metadata": {
            "tags": []
          }
        }
      ]
    },
    {
      "cell_type": "code",
      "metadata": {
        "scrolled": true,
        "id": "vVHvFUc3bGmQ",
        "colab": {
          "base_uri": "https://localhost:8080/",
          "height": 639
        },
        "outputId": "3b018c56-2914-476a-b697-4dfdf053d107"
      },
      "source": [
        "probar_derivada(\"(2*x)^2+a\",\"x\")"
      ],
      "execution_count": null,
      "outputs": [
        {
          "output_type": "stream",
          "text": [
            "Fórmula original:\n"
          ],
          "name": "stdout"
        },
        {
          "output_type": "display_data",
          "data": {
            "text/plain": [
              "<IPython.core.display.SVG object>"
            ],
            "image/svg+xml": "<svg height=\"174pt\" viewBox=\"0.00 0.00 245.60 173.60\" width=\"246pt\" xmlns=\"http://www.w3.org/2000/svg\" xmlns:xlink=\"http://www.w3.org/1999/xlink\">\n<g class=\"graph\" id=\"graph0\" transform=\"scale(1 1) rotate(0) translate(4 169.6)\">\n<title>Arbol</title>\n<polygon fill=\"#ffffff\" points=\"-4,4 -4,-169.6 241.6,-169.6 241.6,4 -4,4\" stroke=\"transparent\"/>\n<!-- node0 -->\n<g class=\"node\" id=\"node1\">\n<title>node0</title>\n<polygon fill=\"none\" points=\"36,-36 0,-36 0,0 36,0 36,-36\" stroke=\"#000000\"/>\n<text fill=\"#000000\" font-family=\"Times,serif\" font-size=\"14.00\" text-anchor=\"middle\" x=\"18\" y=\"-14.3\">2</text>\n</g>\n<!-- node2 -->\n<g class=\"node\" id=\"node2\">\n<title>node2</title>\n<ellipse cx=\"51.6\" cy=\"-61.2\" fill=\"none\" rx=\"18\" ry=\"18\" stroke=\"#000000\"/>\n<text fill=\"#000000\" font-family=\"Times,serif\" font-size=\"14.00\" text-anchor=\"middle\" x=\"51.6\" y=\"-57.5\">*</text>\n</g>\n<!-- node2&#45;&#45;node0 -->\n<g class=\"edge\" id=\"edge3\">\n<title>node2--node0</title>\n<path d=\"M40.2246,-46.5745C37.6354,-43.2455 34.8536,-39.6689 32.1642,-36.2111\" fill=\"none\" stroke=\"#000000\"/>\n</g>\n<!-- node1 -->\n<g class=\"node\" id=\"node3\">\n<title>node1</title>\n<polygon fill=\"none\" points=\"103.2,-36 67.2,-36 67.2,0 103.2,0 103.2,-36\" stroke=\"#000000\"/>\n<text fill=\"#000000\" font-family=\"Times,serif\" font-size=\"14.00\" text-anchor=\"middle\" x=\"85.2\" y=\"-14.3\">x</text>\n</g>\n<!-- node2&#45;&#45;node1 -->\n<g class=\"edge\" id=\"edge4\">\n<title>node2--node1</title>\n<path d=\"M62.9754,-46.5745C65.5646,-43.2455 68.3464,-39.6689 71.0358,-36.2111\" fill=\"none\" stroke=\"#000000\"/>\n</g>\n<!-- node4 -->\n<g class=\"node\" id=\"node4\">\n<title>node4</title>\n<ellipse cx=\"118.8\" cy=\"-104.4\" fill=\"none\" rx=\"18\" ry=\"18\" stroke=\"#000000\"/>\n<text fill=\"#000000\" font-family=\"Times,serif\" font-size=\"14.00\" text-anchor=\"middle\" x=\"118.8\" y=\"-100.7\">^</text>\n</g>\n<!-- node4&#45;&#45;node2 -->\n<g class=\"edge\" id=\"edge2\">\n<title>node4--node2</title>\n<path d=\"M103.5513,-94.5973C92.5536,-87.5273 77.7722,-78.025 66.7884,-70.964\" fill=\"none\" stroke=\"#000000\"/>\n</g>\n<!-- node3 -->\n<g class=\"node\" id=\"node5\">\n<title>node3</title>\n<polygon fill=\"none\" points=\"170.4,-79.2 134.4,-79.2 134.4,-43.2 170.4,-43.2 170.4,-79.2\" stroke=\"#000000\"/>\n<text fill=\"#000000\" font-family=\"Times,serif\" font-size=\"14.00\" text-anchor=\"middle\" x=\"152.4\" y=\"-57.5\">2</text>\n</g>\n<!-- node4&#45;&#45;node3 -->\n<g class=\"edge\" id=\"edge5\">\n<title>node4--node3</title>\n<path d=\"M130.1754,-89.7745C132.7646,-86.4455 135.5464,-82.8689 138.2358,-79.4111\" fill=\"none\" stroke=\"#000000\"/>\n</g>\n<!-- node6 -->\n<g class=\"node\" id=\"node6\">\n<title>node6</title>\n<ellipse cx=\"186\" cy=\"-147.6\" fill=\"none\" rx=\"18\" ry=\"18\" stroke=\"#000000\"/>\n<text fill=\"#000000\" font-family=\"Times,serif\" font-size=\"14.00\" text-anchor=\"middle\" x=\"186\" y=\"-143.9\">+</text>\n</g>\n<!-- node6&#45;&#45;node4 -->\n<g class=\"edge\" id=\"edge1\">\n<title>node6--node4</title>\n<path d=\"M170.7513,-137.7973C159.7536,-130.7273 144.9722,-121.225 133.9884,-114.164\" fill=\"none\" stroke=\"#000000\"/>\n</g>\n<!-- node5 -->\n<g class=\"node\" id=\"node7\">\n<title>node5</title>\n<polygon fill=\"none\" points=\"237.6,-122.4 201.6,-122.4 201.6,-86.4 237.6,-86.4 237.6,-122.4\" stroke=\"#000000\"/>\n<text fill=\"#000000\" font-family=\"Times,serif\" font-size=\"14.00\" text-anchor=\"middle\" x=\"219.6\" y=\"-100.7\">a</text>\n</g>\n<!-- node6&#45;&#45;node5 -->\n<g class=\"edge\" id=\"edge6\">\n<title>node6--node5</title>\n<path d=\"M197.3754,-132.9745C199.9646,-129.6455 202.7464,-126.0689 205.4358,-122.6111\" fill=\"none\" stroke=\"#000000\"/>\n</g>\n</g>\n</svg>"
          },
          "metadata": {
            "tags": []
          }
        },
        {
          "output_type": "stream",
          "text": [
            "Derivada respecto de x:\n"
          ],
          "name": "stdout"
        },
        {
          "output_type": "display_data",
          "data": {
            "text/plain": [
              "<IPython.core.display.SVG object>"
            ],
            "image/svg+xml": "<svg height=\"260pt\" viewBox=\"0.00 0.00 648.80 260.00\" width=\"649pt\" xmlns=\"http://www.w3.org/2000/svg\" xmlns:xlink=\"http://www.w3.org/1999/xlink\">\n<g class=\"graph\" id=\"graph0\" transform=\"scale(1 1) rotate(0) translate(4 256)\">\n<title>Arbol</title>\n<polygon fill=\"#ffffff\" points=\"-4,4 -4,-256 644.8,-256 644.8,4 -4,4\" stroke=\"transparent\"/>\n<!-- node0 -->\n<g class=\"node\" id=\"node1\">\n<title>node0</title>\n<polygon fill=\"none\" points=\"36,-122.4 0,-122.4 0,-86.4 36,-86.4 36,-122.4\" stroke=\"#000000\"/>\n<text fill=\"#000000\" font-family=\"Times,serif\" font-size=\"14.00\" text-anchor=\"middle\" x=\"18\" y=\"-100.7\">2</text>\n</g>\n<!-- node8 -->\n<g class=\"node\" id=\"node2\">\n<title>node8</title>\n<ellipse cx=\"51.6\" cy=\"-147.6\" fill=\"none\" rx=\"18\" ry=\"18\" stroke=\"#000000\"/>\n<text fill=\"#000000\" font-family=\"Times,serif\" font-size=\"14.00\" text-anchor=\"middle\" x=\"51.6\" y=\"-143.9\">*</text>\n</g>\n<!-- node8&#45;&#45;node0 -->\n<g class=\"edge\" id=\"edge3\">\n<title>node8--node0</title>\n<path d=\"M40.2246,-132.9745C37.6354,-129.6455 34.8536,-126.0689 32.1642,-122.6111\" fill=\"none\" stroke=\"#000000\"/>\n</g>\n<!-- node7 -->\n<g class=\"node\" id=\"node6\">\n<title>node7</title>\n<ellipse cx=\"186\" cy=\"-104.4\" fill=\"none\" rx=\"18\" ry=\"18\" stroke=\"#000000\"/>\n<text fill=\"#000000\" font-family=\"Times,serif\" font-size=\"14.00\" text-anchor=\"middle\" x=\"186\" y=\"-100.7\">^</text>\n</g>\n<!-- node8&#45;&#45;node7 -->\n<g class=\"edge\" id=\"edge4\">\n<title>node8--node7</title>\n<path d=\"M68.8953,-142.0408C94.7018,-133.7458 143.0032,-118.2204 168.7711,-109.9379\" fill=\"none\" stroke=\"#000000\"/>\n</g>\n<!-- node1 -->\n<g class=\"node\" id=\"node3\">\n<title>node1</title>\n<polygon fill=\"none\" points=\"103.2,-36 67.2,-36 67.2,0 103.2,0 103.2,-36\" stroke=\"#000000\"/>\n<text fill=\"#000000\" font-family=\"Times,serif\" font-size=\"14.00\" text-anchor=\"middle\" x=\"85.2\" y=\"-14.3\">2</text>\n</g>\n<!-- node3 -->\n<g class=\"node\" id=\"node4\">\n<title>node3</title>\n<ellipse cx=\"118.8\" cy=\"-61.2\" fill=\"none\" rx=\"18\" ry=\"18\" stroke=\"#000000\"/>\n<text fill=\"#000000\" font-family=\"Times,serif\" font-size=\"14.00\" text-anchor=\"middle\" x=\"118.8\" y=\"-57.5\">*</text>\n</g>\n<!-- node3&#45;&#45;node1 -->\n<g class=\"edge\" id=\"edge6\">\n<title>node3--node1</title>\n<path d=\"M107.4246,-46.5745C104.8354,-43.2455 102.0536,-39.6689 99.3642,-36.2111\" fill=\"none\" stroke=\"#000000\"/>\n</g>\n<!-- node2 -->\n<g class=\"node\" id=\"node5\">\n<title>node2</title>\n<polygon fill=\"none\" points=\"170.4,-36 134.4,-36 134.4,0 170.4,0 170.4,-36\" stroke=\"#000000\"/>\n<text fill=\"#000000\" font-family=\"Times,serif\" font-size=\"14.00\" text-anchor=\"middle\" x=\"152.4\" y=\"-14.3\">x</text>\n</g>\n<!-- node3&#45;&#45;node2 -->\n<g class=\"edge\" id=\"edge7\">\n<title>node3--node2</title>\n<path d=\"M130.1754,-46.5745C132.7646,-43.2455 135.5464,-39.6689 138.2358,-36.2111\" fill=\"none\" stroke=\"#000000\"/>\n</g>\n<!-- node7&#45;&#45;node3 -->\n<g class=\"edge\" id=\"edge5\">\n<title>node7--node3</title>\n<path d=\"M170.7513,-94.5973C159.7536,-87.5273 144.9722,-78.025 133.9884,-70.964\" fill=\"none\" stroke=\"#000000\"/>\n</g>\n<!-- node6 -->\n<g class=\"node\" id=\"node8\">\n<title>node6</title>\n<ellipse cx=\"253.2\" cy=\"-61.2\" fill=\"none\" rx=\"18\" ry=\"18\" stroke=\"#000000\"/>\n<text fill=\"#000000\" font-family=\"Times,serif\" font-size=\"14.00\" text-anchor=\"middle\" x=\"253.2\" y=\"-57.5\">-</text>\n</g>\n<!-- node7&#45;&#45;node6 -->\n<g class=\"edge\" id=\"edge8\">\n<title>node7--node6</title>\n<path d=\"M201.2487,-94.5973C212.2464,-87.5273 227.0278,-78.025 238.0116,-70.964\" fill=\"none\" stroke=\"#000000\"/>\n</g>\n<!-- node4 -->\n<g class=\"node\" id=\"node7\">\n<title>node4</title>\n<polygon fill=\"none\" points=\"237.6,-36 201.6,-36 201.6,0 237.6,0 237.6,-36\" stroke=\"#000000\"/>\n<text fill=\"#000000\" font-family=\"Times,serif\" font-size=\"14.00\" text-anchor=\"middle\" x=\"219.6\" y=\"-14.3\">2</text>\n</g>\n<!-- node6&#45;&#45;node4 -->\n<g class=\"edge\" id=\"edge9\">\n<title>node6--node4</title>\n<path d=\"M241.8246,-46.5745C239.2353,-43.2455 236.4536,-39.6689 233.7642,-36.2111\" fill=\"none\" stroke=\"#000000\"/>\n</g>\n<!-- node5 -->\n<g class=\"node\" id=\"node9\">\n<title>node5</title>\n<polygon fill=\"none\" points=\"304.8,-36 268.8,-36 268.8,0 304.8,0 304.8,-36\" stroke=\"#000000\"/>\n<text fill=\"#000000\" font-family=\"Times,serif\" font-size=\"14.00\" text-anchor=\"middle\" x=\"286.8\" y=\"-14.3\">1</text>\n</g>\n<!-- node6&#45;&#45;node5 -->\n<g class=\"edge\" id=\"edge10\">\n<title>node6--node5</title>\n<path d=\"M264.5754,-46.5745C267.1646,-43.2455 269.9464,-39.6689 272.6358,-36.2111\" fill=\"none\" stroke=\"#000000\"/>\n</g>\n<!-- node16 -->\n<g class=\"node\" id=\"node10\">\n<title>node16</title>\n<ellipse cx=\"320.4\" cy=\"-190.8\" fill=\"none\" rx=\"18\" ry=\"18\" stroke=\"#000000\"/>\n<text fill=\"#000000\" font-family=\"Times,serif\" font-size=\"14.00\" text-anchor=\"middle\" x=\"320.4\" y=\"-187.1\">*</text>\n</g>\n<!-- node16&#45;&#45;node8 -->\n<g class=\"edge\" id=\"edge2\">\n<title>node16--node8</title>\n<path d=\"M302.3459,-187.8985C253.3779,-180.0286 118.4514,-158.344 69.5755,-150.4889\" fill=\"none\" stroke=\"#000000\"/>\n</g>\n<!-- node15 -->\n<g class=\"node\" id=\"node14\">\n<title>node15</title>\n<ellipse cx=\"454.8\" cy=\"-147.6\" fill=\"none\" rx=\"18\" ry=\"18\" stroke=\"#000000\"/>\n<text fill=\"#000000\" font-family=\"Times,serif\" font-size=\"14.00\" text-anchor=\"middle\" x=\"454.8\" y=\"-143.9\">+</text>\n</g>\n<!-- node16&#45;&#45;node15 -->\n<g class=\"edge\" id=\"edge11\">\n<title>node16--node15</title>\n<path d=\"M337.6953,-185.2408C363.5018,-176.9458 411.8032,-161.4204 437.5711,-153.1379\" fill=\"none\" stroke=\"#000000\"/>\n</g>\n<!-- node9 -->\n<g class=\"node\" id=\"node11\">\n<title>node9</title>\n<polygon fill=\"none\" points=\"372,-79.2 336,-79.2 336,-43.2 372,-43.2 372,-79.2\" stroke=\"#000000\"/>\n<text fill=\"#000000\" font-family=\"Times,serif\" font-size=\"14.00\" text-anchor=\"middle\" x=\"354\" y=\"-57.5\">0</text>\n</g>\n<!-- node11 -->\n<g class=\"node\" id=\"node12\">\n<title>node11</title>\n<ellipse cx=\"387.6\" cy=\"-104.4\" fill=\"none\" rx=\"18\" ry=\"18\" stroke=\"#000000\"/>\n<text fill=\"#000000\" font-family=\"Times,serif\" font-size=\"14.00\" text-anchor=\"middle\" x=\"387.6\" y=\"-100.7\">*</text>\n</g>\n<!-- node11&#45;&#45;node9 -->\n<g class=\"edge\" id=\"edge13\">\n<title>node11--node9</title>\n<path d=\"M376.2246,-89.7745C373.6353,-86.4455 370.8536,-82.8689 368.1642,-79.4111\" fill=\"none\" stroke=\"#000000\"/>\n</g>\n<!-- node10 -->\n<g class=\"node\" id=\"node13\">\n<title>node10</title>\n<polygon fill=\"none\" points=\"439.2,-79.2 403.2,-79.2 403.2,-43.2 439.2,-43.2 439.2,-79.2\" stroke=\"#000000\"/>\n<text fill=\"#000000\" font-family=\"Times,serif\" font-size=\"14.00\" text-anchor=\"middle\" x=\"421.2\" y=\"-57.5\">x</text>\n</g>\n<!-- node11&#45;&#45;node10 -->\n<g class=\"edge\" id=\"edge14\">\n<title>node11--node10</title>\n<path d=\"M398.9754,-89.7745C401.5646,-86.4455 404.3464,-82.8689 407.0358,-79.4111\" fill=\"none\" stroke=\"#000000\"/>\n</g>\n<!-- node15&#45;&#45;node11 -->\n<g class=\"edge\" id=\"edge12\">\n<title>node15--node11</title>\n<path d=\"M439.5513,-137.7973C428.5536,-130.7273 413.7722,-121.225 402.7884,-114.164\" fill=\"none\" stroke=\"#000000\"/>\n</g>\n<!-- node14 -->\n<g class=\"node\" id=\"node16\">\n<title>node14</title>\n<ellipse cx=\"522\" cy=\"-104.4\" fill=\"none\" rx=\"18\" ry=\"18\" stroke=\"#000000\"/>\n<text fill=\"#000000\" font-family=\"Times,serif\" font-size=\"14.00\" text-anchor=\"middle\" x=\"522\" y=\"-100.7\">*</text>\n</g>\n<!-- node15&#45;&#45;node14 -->\n<g class=\"edge\" id=\"edge15\">\n<title>node15--node14</title>\n<path d=\"M470.0487,-137.7973C481.0464,-130.7273 495.8278,-121.225 506.8116,-114.164\" fill=\"none\" stroke=\"#000000\"/>\n</g>\n<!-- node12 -->\n<g class=\"node\" id=\"node15\">\n<title>node12</title>\n<polygon fill=\"none\" points=\"506.4,-79.2 470.4,-79.2 470.4,-43.2 506.4,-43.2 506.4,-79.2\" stroke=\"#000000\"/>\n<text fill=\"#000000\" font-family=\"Times,serif\" font-size=\"14.00\" text-anchor=\"middle\" x=\"488.4\" y=\"-57.5\">1</text>\n</g>\n<!-- node14&#45;&#45;node12 -->\n<g class=\"edge\" id=\"edge16\">\n<title>node14--node12</title>\n<path d=\"M510.6246,-89.7745C508.0353,-86.4455 505.2536,-82.8689 502.5642,-79.4111\" fill=\"none\" stroke=\"#000000\"/>\n</g>\n<!-- node13 -->\n<g class=\"node\" id=\"node17\">\n<title>node13</title>\n<polygon fill=\"none\" points=\"573.6,-79.2 537.6,-79.2 537.6,-43.2 573.6,-43.2 573.6,-79.2\" stroke=\"#000000\"/>\n<text fill=\"#000000\" font-family=\"Times,serif\" font-size=\"14.00\" text-anchor=\"middle\" x=\"555.6\" y=\"-57.5\">2</text>\n</g>\n<!-- node14&#45;&#45;node13 -->\n<g class=\"edge\" id=\"edge17\">\n<title>node14--node13</title>\n<path d=\"M533.3754,-89.7745C535.9646,-86.4455 538.7464,-82.8689 541.4358,-79.4111\" fill=\"none\" stroke=\"#000000\"/>\n</g>\n<!-- node18 -->\n<g class=\"node\" id=\"node18\">\n<title>node18</title>\n<ellipse cx=\"589.2\" cy=\"-234\" fill=\"none\" rx=\"18\" ry=\"18\" stroke=\"#000000\"/>\n<text fill=\"#000000\" font-family=\"Times,serif\" font-size=\"14.00\" text-anchor=\"middle\" x=\"589.2\" y=\"-230.3\">+</text>\n</g>\n<!-- node18&#45;&#45;node16 -->\n<g class=\"edge\" id=\"edge1\">\n<title>node18--node16</title>\n<path d=\"M571.1459,-231.0984C522.1779,-223.2286 387.2514,-201.544 338.3755,-193.6889\" fill=\"none\" stroke=\"#000000\"/>\n</g>\n<!-- node17 -->\n<g class=\"node\" id=\"node19\">\n<title>node17</title>\n<polygon fill=\"none\" points=\"640.8,-208.8 604.8,-208.8 604.8,-172.8 640.8,-172.8 640.8,-208.8\" stroke=\"#000000\"/>\n<text fill=\"#000000\" font-family=\"Times,serif\" font-size=\"14.00\" text-anchor=\"middle\" x=\"622.8\" y=\"-187.1\">0</text>\n</g>\n<!-- node18&#45;&#45;node17 -->\n<g class=\"edge\" id=\"edge18\">\n<title>node18--node17</title>\n<path d=\"M600.5754,-219.3745C603.1646,-216.0455 605.9464,-212.4689 608.6358,-209.0111\" fill=\"none\" stroke=\"#000000\"/>\n</g>\n</g>\n</svg>"
          },
          "metadata": {
            "tags": []
          }
        }
      ]
    },
    {
      "cell_type": "code",
      "metadata": {
        "id": "KxcOPLWxbGmX",
        "colab": {
          "base_uri": "https://localhost:8080/",
          "height": 638
        },
        "outputId": "86c1838e-7eb6-4ecb-ff49-1adf1e9e48c3"
      },
      "source": [
        "probar_derivada(\"(1+y)/(1-y)\",\"y\")"
      ],
      "execution_count": null,
      "outputs": [
        {
          "output_type": "stream",
          "text": [
            "Fórmula original:\n"
          ],
          "name": "stdout"
        },
        {
          "output_type": "display_data",
          "data": {
            "text/plain": [
              "<IPython.core.display.SVG object>"
            ],
            "image/svg+xml": "<svg height=\"130pt\" viewBox=\"0.00 0.00 245.60 130.40\" width=\"246pt\" xmlns=\"http://www.w3.org/2000/svg\" xmlns:xlink=\"http://www.w3.org/1999/xlink\">\n<g class=\"graph\" id=\"graph0\" transform=\"scale(1 1) rotate(0) translate(4 126.4)\">\n<title>Arbol</title>\n<polygon fill=\"#ffffff\" points=\"-4,4 -4,-126.4 241.6,-126.4 241.6,4 -4,4\" stroke=\"transparent\"/>\n<!-- node0 -->\n<g class=\"node\" id=\"node1\">\n<title>node0</title>\n<polygon fill=\"none\" points=\"36,-36 0,-36 0,0 36,0 36,-36\" stroke=\"#000000\"/>\n<text fill=\"#000000\" font-family=\"Times,serif\" font-size=\"14.00\" text-anchor=\"middle\" x=\"18\" y=\"-14.3\">1</text>\n</g>\n<!-- node2 -->\n<g class=\"node\" id=\"node2\">\n<title>node2</title>\n<ellipse cx=\"51.6\" cy=\"-61.2\" fill=\"none\" rx=\"18\" ry=\"18\" stroke=\"#000000\"/>\n<text fill=\"#000000\" font-family=\"Times,serif\" font-size=\"14.00\" text-anchor=\"middle\" x=\"51.6\" y=\"-57.5\">+</text>\n</g>\n<!-- node2&#45;&#45;node0 -->\n<g class=\"edge\" id=\"edge2\">\n<title>node2--node0</title>\n<path d=\"M40.2246,-46.5745C37.6354,-43.2455 34.8536,-39.6689 32.1642,-36.2111\" fill=\"none\" stroke=\"#000000\"/>\n</g>\n<!-- node1 -->\n<g class=\"node\" id=\"node3\">\n<title>node1</title>\n<polygon fill=\"none\" points=\"103.2,-36 67.2,-36 67.2,0 103.2,0 103.2,-36\" stroke=\"#000000\"/>\n<text fill=\"#000000\" font-family=\"Times,serif\" font-size=\"14.00\" text-anchor=\"middle\" x=\"85.2\" y=\"-14.3\">y</text>\n</g>\n<!-- node2&#45;&#45;node1 -->\n<g class=\"edge\" id=\"edge3\">\n<title>node2--node1</title>\n<path d=\"M62.9754,-46.5745C65.5646,-43.2455 68.3464,-39.6689 71.0358,-36.2111\" fill=\"none\" stroke=\"#000000\"/>\n</g>\n<!-- node6 -->\n<g class=\"node\" id=\"node4\">\n<title>node6</title>\n<ellipse cx=\"118.8\" cy=\"-104.4\" fill=\"none\" rx=\"18\" ry=\"18\" stroke=\"#000000\"/>\n<text fill=\"#000000\" font-family=\"Times,serif\" font-size=\"14.00\" text-anchor=\"middle\" x=\"118.8\" y=\"-100.7\">/</text>\n</g>\n<!-- node6&#45;&#45;node2 -->\n<g class=\"edge\" id=\"edge1\">\n<title>node6--node2</title>\n<path d=\"M103.5513,-94.5973C92.5536,-87.5273 77.7722,-78.025 66.7884,-70.964\" fill=\"none\" stroke=\"#000000\"/>\n</g>\n<!-- node5 -->\n<g class=\"node\" id=\"node6\">\n<title>node5</title>\n<ellipse cx=\"186\" cy=\"-61.2\" fill=\"none\" rx=\"18\" ry=\"18\" stroke=\"#000000\"/>\n<text fill=\"#000000\" font-family=\"Times,serif\" font-size=\"14.00\" text-anchor=\"middle\" x=\"186\" y=\"-57.5\">-</text>\n</g>\n<!-- node6&#45;&#45;node5 -->\n<g class=\"edge\" id=\"edge4\">\n<title>node6--node5</title>\n<path d=\"M134.0487,-94.5973C145.0464,-87.5273 159.8278,-78.025 170.8116,-70.964\" fill=\"none\" stroke=\"#000000\"/>\n</g>\n<!-- node3 -->\n<g class=\"node\" id=\"node5\">\n<title>node3</title>\n<polygon fill=\"none\" points=\"170.4,-36 134.4,-36 134.4,0 170.4,0 170.4,-36\" stroke=\"#000000\"/>\n<text fill=\"#000000\" font-family=\"Times,serif\" font-size=\"14.00\" text-anchor=\"middle\" x=\"152.4\" y=\"-14.3\">1</text>\n</g>\n<!-- node5&#45;&#45;node3 -->\n<g class=\"edge\" id=\"edge5\">\n<title>node5--node3</title>\n<path d=\"M174.6246,-46.5745C172.0354,-43.2455 169.2536,-39.6689 166.5642,-36.2111\" fill=\"none\" stroke=\"#000000\"/>\n</g>\n<!-- node4 -->\n<g class=\"node\" id=\"node7\">\n<title>node4</title>\n<polygon fill=\"none\" points=\"237.6,-36 201.6,-36 201.6,0 237.6,0 237.6,-36\" stroke=\"#000000\"/>\n<text fill=\"#000000\" font-family=\"Times,serif\" font-size=\"14.00\" text-anchor=\"middle\" x=\"219.6\" y=\"-14.3\">y</text>\n</g>\n<!-- node5&#45;&#45;node4 -->\n<g class=\"edge\" id=\"edge6\">\n<title>node5--node4</title>\n<path d=\"M197.3754,-46.5745C199.9646,-43.2455 202.7464,-39.6689 205.4358,-36.2111\" fill=\"none\" stroke=\"#000000\"/>\n</g>\n</g>\n</svg>"
          },
          "metadata": {
            "tags": []
          }
        },
        {
          "output_type": "stream",
          "text": [
            "Derivada respecto de y:\n"
          ],
          "name": "stdout"
        },
        {
          "output_type": "display_data",
          "data": {
            "text/plain": [
              "<IPython.core.display.SVG object>"
            ],
            "image/svg+xml": "<svg height=\"303pt\" viewBox=\"0.00 0.00 716.00 303.20\" width=\"716pt\" xmlns=\"http://www.w3.org/2000/svg\" xmlns:xlink=\"http://www.w3.org/1999/xlink\">\n<g class=\"graph\" id=\"graph0\" transform=\"scale(1 1) rotate(0) translate(4 299.2)\">\n<title>Arbol</title>\n<polygon fill=\"#ffffff\" points=\"-4,4 -4,-299.2 712,-299.2 712,4 -4,4\" stroke=\"transparent\"/>\n<!-- node0 -->\n<g class=\"node\" id=\"node1\">\n<title>node0</title>\n<polygon fill=\"none\" points=\"36,-36 0,-36 0,0 36,0 36,-36\" stroke=\"#000000\"/>\n<text fill=\"#000000\" font-family=\"Times,serif\" font-size=\"14.00\" text-anchor=\"middle\" x=\"18\" y=\"-14.3\">0</text>\n</g>\n<!-- node2 -->\n<g class=\"node\" id=\"node2\">\n<title>node2</title>\n<ellipse cx=\"51.6\" cy=\"-61.2\" fill=\"none\" rx=\"18\" ry=\"18\" stroke=\"#000000\"/>\n<text fill=\"#000000\" font-family=\"Times,serif\" font-size=\"14.00\" text-anchor=\"middle\" x=\"51.6\" y=\"-57.5\">+</text>\n</g>\n<!-- node2&#45;&#45;node0 -->\n<g class=\"edge\" id=\"edge6\">\n<title>node2--node0</title>\n<path d=\"M40.2246,-46.5745C37.6354,-43.2455 34.8536,-39.6689 32.1642,-36.2111\" fill=\"none\" stroke=\"#000000\"/>\n</g>\n<!-- node1 -->\n<g class=\"node\" id=\"node3\">\n<title>node1</title>\n<polygon fill=\"none\" points=\"103.2,-36 67.2,-36 67.2,0 103.2,0 103.2,-36\" stroke=\"#000000\"/>\n<text fill=\"#000000\" font-family=\"Times,serif\" font-size=\"14.00\" text-anchor=\"middle\" x=\"85.2\" y=\"-14.3\">1</text>\n</g>\n<!-- node2&#45;&#45;node1 -->\n<g class=\"edge\" id=\"edge7\">\n<title>node2--node1</title>\n<path d=\"M62.9754,-46.5745C65.5646,-43.2455 68.3464,-39.6689 71.0358,-36.2111\" fill=\"none\" stroke=\"#000000\"/>\n</g>\n<!-- node4 -->\n<g class=\"node\" id=\"node4\">\n<title>node4</title>\n<ellipse cx=\"118.8\" cy=\"-104.4\" fill=\"none\" rx=\"18\" ry=\"18\" stroke=\"#000000\"/>\n<text fill=\"#000000\" font-family=\"Times,serif\" font-size=\"14.00\" text-anchor=\"middle\" x=\"118.8\" y=\"-100.7\">*</text>\n</g>\n<!-- node4&#45;&#45;node2 -->\n<g class=\"edge\" id=\"edge5\">\n<title>node4--node2</title>\n<path d=\"M103.5513,-94.5973C92.5536,-87.5273 77.7722,-78.025 66.7884,-70.964\" fill=\"none\" stroke=\"#000000\"/>\n</g>\n<!-- node3 -->\n<g class=\"node\" id=\"node5\">\n<title>node3</title>\n<polygon fill=\"none\" points=\"170.4,-79.2 134.4,-79.2 134.4,-43.2 170.4,-43.2 170.4,-79.2\" stroke=\"#000000\"/>\n<text fill=\"#000000\" font-family=\"Times,serif\" font-size=\"14.00\" text-anchor=\"middle\" x=\"152.4\" y=\"-57.5\">1</text>\n</g>\n<!-- node4&#45;&#45;node3 -->\n<g class=\"edge\" id=\"edge8\">\n<title>node4--node3</title>\n<path d=\"M130.1754,-89.7745C132.7646,-86.4455 135.5464,-82.8689 138.2358,-79.4111\" fill=\"none\" stroke=\"#000000\"/>\n</g>\n<!-- node6 -->\n<g class=\"node\" id=\"node6\">\n<title>node6</title>\n<ellipse cx=\"186\" cy=\"-147.6\" fill=\"none\" rx=\"18\" ry=\"18\" stroke=\"#000000\"/>\n<text fill=\"#000000\" font-family=\"Times,serif\" font-size=\"14.00\" text-anchor=\"middle\" x=\"186\" y=\"-143.9\">-</text>\n</g>\n<!-- node6&#45;&#45;node4 -->\n<g class=\"edge\" id=\"edge4\">\n<title>node6--node4</title>\n<path d=\"M170.7513,-137.7973C159.7536,-130.7273 144.9722,-121.225 133.9884,-114.164\" fill=\"none\" stroke=\"#000000\"/>\n</g>\n<!-- node5 -->\n<g class=\"node\" id=\"node7\">\n<title>node5</title>\n<polygon fill=\"none\" points=\"237.6,-122.4 201.6,-122.4 201.6,-86.4 237.6,-86.4 237.6,-122.4\" stroke=\"#000000\"/>\n<text fill=\"#000000\" font-family=\"Times,serif\" font-size=\"14.00\" text-anchor=\"middle\" x=\"219.6\" y=\"-100.7\">y</text>\n</g>\n<!-- node6&#45;&#45;node5 -->\n<g class=\"edge\" id=\"edge9\">\n<title>node6--node5</title>\n<path d=\"M197.3754,-132.9745C199.9646,-129.6455 202.7464,-126.0689 205.4358,-122.6111\" fill=\"none\" stroke=\"#000000\"/>\n</g>\n<!-- node12 -->\n<g class=\"node\" id=\"node8\">\n<title>node12</title>\n<ellipse cx=\"253.2\" cy=\"-190.8\" fill=\"none\" rx=\"18\" ry=\"18\" stroke=\"#000000\"/>\n<text fill=\"#000000\" font-family=\"Times,serif\" font-size=\"14.00\" text-anchor=\"middle\" x=\"253.2\" y=\"-187.1\">-</text>\n</g>\n<!-- node12&#45;&#45;node6 -->\n<g class=\"edge\" id=\"edge3\">\n<title>node12--node6</title>\n<path d=\"M237.9513,-180.9973C226.9536,-173.9273 212.1722,-164.425 201.1884,-157.364\" fill=\"none\" stroke=\"#000000\"/>\n</g>\n<!-- node11 -->\n<g class=\"node\" id=\"node12\">\n<title>node11</title>\n<ellipse cx=\"387.6\" cy=\"-147.6\" fill=\"none\" rx=\"18\" ry=\"18\" stroke=\"#000000\"/>\n<text fill=\"#000000\" font-family=\"Times,serif\" font-size=\"14.00\" text-anchor=\"middle\" x=\"387.6\" y=\"-143.9\">*</text>\n</g>\n<!-- node12&#45;&#45;node11 -->\n<g class=\"edge\" id=\"edge10\">\n<title>node12--node11</title>\n<path d=\"M270.4953,-185.2408C296.3018,-176.9458 344.6032,-161.4204 370.3711,-153.1379\" fill=\"none\" stroke=\"#000000\"/>\n</g>\n<!-- node7 -->\n<g class=\"node\" id=\"node9\">\n<title>node7</title>\n<polygon fill=\"none\" points=\"304.8,-79.2 268.8,-79.2 268.8,-43.2 304.8,-43.2 304.8,-79.2\" stroke=\"#000000\"/>\n<text fill=\"#000000\" font-family=\"Times,serif\" font-size=\"14.00\" text-anchor=\"middle\" x=\"286.8\" y=\"-57.5\">0</text>\n</g>\n<!-- node9 -->\n<g class=\"node\" id=\"node10\">\n<title>node9</title>\n<ellipse cx=\"320.4\" cy=\"-104.4\" fill=\"none\" rx=\"18\" ry=\"18\" stroke=\"#000000\"/>\n<text fill=\"#000000\" font-family=\"Times,serif\" font-size=\"14.00\" text-anchor=\"middle\" x=\"320.4\" y=\"-100.7\">-</text>\n</g>\n<!-- node9&#45;&#45;node7 -->\n<g class=\"edge\" id=\"edge12\">\n<title>node9--node7</title>\n<path d=\"M309.0246,-89.7745C306.4353,-86.4455 303.6536,-82.8689 300.9642,-79.4111\" fill=\"none\" stroke=\"#000000\"/>\n</g>\n<!-- node8 -->\n<g class=\"node\" id=\"node11\">\n<title>node8</title>\n<polygon fill=\"none\" points=\"372,-79.2 336,-79.2 336,-43.2 372,-43.2 372,-79.2\" stroke=\"#000000\"/>\n<text fill=\"#000000\" font-family=\"Times,serif\" font-size=\"14.00\" text-anchor=\"middle\" x=\"354\" y=\"-57.5\">1</text>\n</g>\n<!-- node9&#45;&#45;node8 -->\n<g class=\"edge\" id=\"edge13\">\n<title>node9--node8</title>\n<path d=\"M331.7754,-89.7745C334.3646,-86.4455 337.1464,-82.8689 339.8358,-79.4111\" fill=\"none\" stroke=\"#000000\"/>\n</g>\n<!-- node11&#45;&#45;node9 -->\n<g class=\"edge\" id=\"edge11\">\n<title>node11--node9</title>\n<path d=\"M372.3513,-137.7973C361.3536,-130.7273 346.5722,-121.225 335.5884,-114.164\" fill=\"none\" stroke=\"#000000\"/>\n</g>\n<!-- node10 -->\n<g class=\"node\" id=\"node13\">\n<title>node10</title>\n<polygon fill=\"none\" points=\"439.2,-122.4 403.2,-122.4 403.2,-86.4 439.2,-86.4 439.2,-122.4\" stroke=\"#000000\"/>\n<text fill=\"#000000\" font-family=\"Times,serif\" font-size=\"14.00\" text-anchor=\"middle\" x=\"421.2\" y=\"-100.7\">1</text>\n</g>\n<!-- node11&#45;&#45;node10 -->\n<g class=\"edge\" id=\"edge14\">\n<title>node11--node10</title>\n<path d=\"M398.9754,-132.9745C401.5646,-129.6455 404.3464,-126.0689 407.0358,-122.6111\" fill=\"none\" stroke=\"#000000\"/>\n</g>\n<!-- node14 -->\n<g class=\"node\" id=\"node14\">\n<title>node14</title>\n<ellipse cx=\"454.8\" cy=\"-234\" fill=\"none\" rx=\"18\" ry=\"18\" stroke=\"#000000\"/>\n<text fill=\"#000000\" font-family=\"Times,serif\" font-size=\"14.00\" text-anchor=\"middle\" x=\"454.8\" y=\"-230.3\">+</text>\n</g>\n<!-- node14&#45;&#45;node12 -->\n<g class=\"edge\" id=\"edge2\">\n<title>node14--node12</title>\n<path d=\"M436.9093,-230.1663C398.6523,-221.9683 309.2719,-202.8154 271.0506,-194.6251\" fill=\"none\" stroke=\"#000000\"/>\n</g>\n<!-- node13 -->\n<g class=\"node\" id=\"node15\">\n<title>node13</title>\n<polygon fill=\"none\" points=\"506.4,-208.8 470.4,-208.8 470.4,-172.8 506.4,-172.8 506.4,-208.8\" stroke=\"#000000\"/>\n<text fill=\"#000000\" font-family=\"Times,serif\" font-size=\"14.00\" text-anchor=\"middle\" x=\"488.4\" y=\"-187.1\">y</text>\n</g>\n<!-- node14&#45;&#45;node13 -->\n<g class=\"edge\" id=\"edge15\">\n<title>node14--node13</title>\n<path d=\"M466.1754,-219.3745C468.7646,-216.0455 471.5464,-212.4689 474.2358,-209.0111\" fill=\"none\" stroke=\"#000000\"/>\n</g>\n<!-- node20 -->\n<g class=\"node\" id=\"node16\">\n<title>node20</title>\n<ellipse cx=\"522\" cy=\"-277.2\" fill=\"none\" rx=\"18\" ry=\"18\" stroke=\"#000000\"/>\n<text fill=\"#000000\" font-family=\"Times,serif\" font-size=\"14.00\" text-anchor=\"middle\" x=\"522\" y=\"-273.5\">/</text>\n</g>\n<!-- node20&#45;&#45;node14 -->\n<g class=\"edge\" id=\"edge1\">\n<title>node20--node14</title>\n<path d=\"M506.7513,-267.3973C495.7536,-260.3273 480.9722,-250.825 469.9884,-243.764\" fill=\"none\" stroke=\"#000000\"/>\n</g>\n<!-- node19 -->\n<g class=\"node\" id=\"node20\">\n<title>node19</title>\n<ellipse cx=\"656.4\" cy=\"-234\" fill=\"none\" rx=\"18\" ry=\"18\" stroke=\"#000000\"/>\n<text fill=\"#000000\" font-family=\"Times,serif\" font-size=\"14.00\" text-anchor=\"middle\" x=\"656.4\" y=\"-230.3\">^</text>\n</g>\n<!-- node20&#45;&#45;node19 -->\n<g class=\"edge\" id=\"edge16\">\n<title>node20--node19</title>\n<path d=\"M539.2953,-271.6408C565.1018,-263.3458 613.4032,-247.8204 639.1711,-239.5379\" fill=\"none\" stroke=\"#000000\"/>\n</g>\n<!-- node15 -->\n<g class=\"node\" id=\"node17\">\n<title>node15</title>\n<polygon fill=\"none\" points=\"573.6,-165.6 537.6,-165.6 537.6,-129.6 573.6,-129.6 573.6,-165.6\" stroke=\"#000000\"/>\n<text fill=\"#000000\" font-family=\"Times,serif\" font-size=\"14.00\" text-anchor=\"middle\" x=\"555.6\" y=\"-143.9\">1</text>\n</g>\n<!-- node17 -->\n<g class=\"node\" id=\"node18\">\n<title>node17</title>\n<ellipse cx=\"589.2\" cy=\"-190.8\" fill=\"none\" rx=\"18\" ry=\"18\" stroke=\"#000000\"/>\n<text fill=\"#000000\" font-family=\"Times,serif\" font-size=\"14.00\" text-anchor=\"middle\" x=\"589.2\" y=\"-187.1\">-</text>\n</g>\n<!-- node17&#45;&#45;node15 -->\n<g class=\"edge\" id=\"edge18\">\n<title>node17--node15</title>\n<path d=\"M577.8246,-176.1745C575.2353,-172.8455 572.4536,-169.2689 569.7642,-165.8111\" fill=\"none\" stroke=\"#000000\"/>\n</g>\n<!-- node16 -->\n<g class=\"node\" id=\"node19\">\n<title>node16</title>\n<polygon fill=\"none\" points=\"640.8,-165.6 604.8,-165.6 604.8,-129.6 640.8,-129.6 640.8,-165.6\" stroke=\"#000000\"/>\n<text fill=\"#000000\" font-family=\"Times,serif\" font-size=\"14.00\" text-anchor=\"middle\" x=\"622.8\" y=\"-143.9\">y</text>\n</g>\n<!-- node17&#45;&#45;node16 -->\n<g class=\"edge\" id=\"edge19\">\n<title>node17--node16</title>\n<path d=\"M600.5754,-176.1745C603.1646,-172.8455 605.9464,-169.2689 608.6358,-165.8111\" fill=\"none\" stroke=\"#000000\"/>\n</g>\n<!-- node19&#45;&#45;node17 -->\n<g class=\"edge\" id=\"edge17\">\n<title>node19--node17</title>\n<path d=\"M641.1513,-224.1973C630.1536,-217.1273 615.3722,-207.625 604.3884,-200.564\" fill=\"none\" stroke=\"#000000\"/>\n</g>\n<!-- node18 -->\n<g class=\"node\" id=\"node21\">\n<title>node18</title>\n<polygon fill=\"none\" points=\"708,-208.8 672,-208.8 672,-172.8 708,-172.8 708,-208.8\" stroke=\"#000000\"/>\n<text fill=\"#000000\" font-family=\"Times,serif\" font-size=\"14.00\" text-anchor=\"middle\" x=\"690\" y=\"-187.1\">2</text>\n</g>\n<!-- node19&#45;&#45;node18 -->\n<g class=\"edge\" id=\"edge20\">\n<title>node19--node18</title>\n<path d=\"M667.7754,-219.3745C670.3646,-216.0455 673.1464,-212.4689 675.8358,-209.0111\" fill=\"none\" stroke=\"#000000\"/>\n</g>\n</g>\n</svg>"
          },
          "metadata": {
            "tags": []
          }
        }
      ]
    },
    {
      "cell_type": "code",
      "metadata": {
        "colab": {
          "base_uri": "https://localhost:8080/",
          "height": 696
        },
        "id": "uPOGVfO9lmtW",
        "outputId": "2a72ba42-2ef9-4827-a4da-2ced14287aef"
      },
      "source": [
        "probar_derivada(\"x+y^(2+1)\",\"x\")"
      ],
      "execution_count": null,
      "outputs": [
        {
          "output_type": "stream",
          "text": [
            "Fórmula original:\n"
          ],
          "name": "stdout"
        },
        {
          "output_type": "display_data",
          "data": {
            "text/plain": [
              "<IPython.core.display.SVG object>"
            ],
            "image/svg+xml": "<svg height=\"174pt\" viewBox=\"0.00 0.00 245.60 173.60\" width=\"246pt\" xmlns=\"http://www.w3.org/2000/svg\" xmlns:xlink=\"http://www.w3.org/1999/xlink\">\n<g class=\"graph\" id=\"graph0\" transform=\"scale(1 1) rotate(0) translate(4 169.6)\">\n<title>Arbol</title>\n<polygon fill=\"#ffffff\" points=\"-4,4 -4,-169.6 241.6,-169.6 241.6,4 -4,4\" stroke=\"transparent\"/>\n<!-- node0 -->\n<g class=\"node\" id=\"node1\">\n<title>node0</title>\n<polygon fill=\"none\" points=\"36,-122.4 0,-122.4 0,-86.4 36,-86.4 36,-122.4\" stroke=\"#000000\"/>\n<text fill=\"#000000\" font-family=\"Times,serif\" font-size=\"14.00\" text-anchor=\"middle\" x=\"18\" y=\"-100.7\">x</text>\n</g>\n<!-- node6 -->\n<g class=\"node\" id=\"node2\">\n<title>node6</title>\n<ellipse cx=\"51.6\" cy=\"-147.6\" fill=\"none\" rx=\"18\" ry=\"18\" stroke=\"#000000\"/>\n<text fill=\"#000000\" font-family=\"Times,serif\" font-size=\"14.00\" text-anchor=\"middle\" x=\"51.6\" y=\"-143.9\">+</text>\n</g>\n<!-- node6&#45;&#45;node0 -->\n<g class=\"edge\" id=\"edge1\">\n<title>node6--node0</title>\n<path d=\"M40.2246,-132.9745C37.6354,-129.6455 34.8536,-126.0689 32.1642,-122.6111\" fill=\"none\" stroke=\"#000000\"/>\n</g>\n<!-- node5 -->\n<g class=\"node\" id=\"node4\">\n<title>node5</title>\n<ellipse cx=\"118.8\" cy=\"-104.4\" fill=\"none\" rx=\"18\" ry=\"18\" stroke=\"#000000\"/>\n<text fill=\"#000000\" font-family=\"Times,serif\" font-size=\"14.00\" text-anchor=\"middle\" x=\"118.8\" y=\"-100.7\">^</text>\n</g>\n<!-- node6&#45;&#45;node5 -->\n<g class=\"edge\" id=\"edge2\">\n<title>node6--node5</title>\n<path d=\"M66.8487,-137.7973C77.8464,-130.7273 92.6278,-121.225 103.6116,-114.164\" fill=\"none\" stroke=\"#000000\"/>\n</g>\n<!-- node1 -->\n<g class=\"node\" id=\"node3\">\n<title>node1</title>\n<polygon fill=\"none\" points=\"103.2,-79.2 67.2,-79.2 67.2,-43.2 103.2,-43.2 103.2,-79.2\" stroke=\"#000000\"/>\n<text fill=\"#000000\" font-family=\"Times,serif\" font-size=\"14.00\" text-anchor=\"middle\" x=\"85.2\" y=\"-57.5\">y</text>\n</g>\n<!-- node5&#45;&#45;node1 -->\n<g class=\"edge\" id=\"edge3\">\n<title>node5--node1</title>\n<path d=\"M107.4246,-89.7745C104.8354,-86.4455 102.0536,-82.8689 99.3642,-79.4111\" fill=\"none\" stroke=\"#000000\"/>\n</g>\n<!-- node4 -->\n<g class=\"node\" id=\"node6\">\n<title>node4</title>\n<ellipse cx=\"186\" cy=\"-61.2\" fill=\"none\" rx=\"18\" ry=\"18\" stroke=\"#000000\"/>\n<text fill=\"#000000\" font-family=\"Times,serif\" font-size=\"14.00\" text-anchor=\"middle\" x=\"186\" y=\"-57.5\">+</text>\n</g>\n<!-- node5&#45;&#45;node4 -->\n<g class=\"edge\" id=\"edge4\">\n<title>node5--node4</title>\n<path d=\"M134.0487,-94.5973C145.0464,-87.5273 159.8278,-78.025 170.8116,-70.964\" fill=\"none\" stroke=\"#000000\"/>\n</g>\n<!-- node2 -->\n<g class=\"node\" id=\"node5\">\n<title>node2</title>\n<polygon fill=\"none\" points=\"170.4,-36 134.4,-36 134.4,0 170.4,0 170.4,-36\" stroke=\"#000000\"/>\n<text fill=\"#000000\" font-family=\"Times,serif\" font-size=\"14.00\" text-anchor=\"middle\" x=\"152.4\" y=\"-14.3\">2</text>\n</g>\n<!-- node4&#45;&#45;node2 -->\n<g class=\"edge\" id=\"edge5\">\n<title>node4--node2</title>\n<path d=\"M174.6246,-46.5745C172.0354,-43.2455 169.2536,-39.6689 166.5642,-36.2111\" fill=\"none\" stroke=\"#000000\"/>\n</g>\n<!-- node3 -->\n<g class=\"node\" id=\"node7\">\n<title>node3</title>\n<polygon fill=\"none\" points=\"237.6,-36 201.6,-36 201.6,0 237.6,0 237.6,-36\" stroke=\"#000000\"/>\n<text fill=\"#000000\" font-family=\"Times,serif\" font-size=\"14.00\" text-anchor=\"middle\" x=\"219.6\" y=\"-14.3\">1</text>\n</g>\n<!-- node4&#45;&#45;node3 -->\n<g class=\"edge\" id=\"edge6\">\n<title>node4--node3</title>\n<path d=\"M197.3754,-46.5745C199.9646,-43.2455 202.7464,-39.6689 205.4358,-36.2111\" fill=\"none\" stroke=\"#000000\"/>\n</g>\n</g>\n</svg>"
          },
          "metadata": {
            "tags": []
          }
        },
        {
          "output_type": "stream",
          "text": [
            "Derivada respecto de x:\n"
          ],
          "name": "stdout"
        },
        {
          "output_type": "display_data",
          "data": {
            "text/plain": [
              "<IPython.core.display.SVG object>"
            ],
            "image/svg+xml": "<svg height=\"303pt\" viewBox=\"0.00 0.00 514.40 303.20\" width=\"514pt\" xmlns=\"http://www.w3.org/2000/svg\" xmlns:xlink=\"http://www.w3.org/1999/xlink\">\n<g class=\"graph\" id=\"graph0\" transform=\"scale(1 1) rotate(0) translate(4 299.2)\">\n<title>Arbol</title>\n<polygon fill=\"#ffffff\" points=\"-4,4 -4,-299.2 510.4,-299.2 510.4,4 -4,4\" stroke=\"transparent\"/>\n<!-- node0 -->\n<g class=\"node\" id=\"node1\">\n<title>node0</title>\n<polygon fill=\"none\" points=\"36,-252 0,-252 0,-216 36,-216 36,-252\" stroke=\"#000000\"/>\n<text fill=\"#000000\" font-family=\"Times,serif\" font-size=\"14.00\" text-anchor=\"middle\" x=\"18\" y=\"-230.3\">1</text>\n</g>\n<!-- node14 -->\n<g class=\"node\" id=\"node2\">\n<title>node14</title>\n<ellipse cx=\"51.6\" cy=\"-277.2\" fill=\"none\" rx=\"18\" ry=\"18\" stroke=\"#000000\"/>\n<text fill=\"#000000\" font-family=\"Times,serif\" font-size=\"14.00\" text-anchor=\"middle\" x=\"51.6\" y=\"-273.5\">+</text>\n</g>\n<!-- node14&#45;&#45;node0 -->\n<g class=\"edge\" id=\"edge1\">\n<title>node14--node0</title>\n<path d=\"M40.2246,-262.5745C37.6354,-259.2455 34.8536,-255.6689 32.1642,-252.2111\" fill=\"none\" stroke=\"#000000\"/>\n</g>\n<!-- node13 -->\n<g class=\"node\" id=\"node14\">\n<title>node13</title>\n<ellipse cx=\"454.8\" cy=\"-234\" fill=\"none\" rx=\"18\" ry=\"18\" stroke=\"#000000\"/>\n<text fill=\"#000000\" font-family=\"Times,serif\" font-size=\"14.00\" text-anchor=\"middle\" x=\"454.8\" y=\"-230.3\">*</text>\n</g>\n<!-- node14&#45;&#45;node13 -->\n<g class=\"edge\" id=\"edge2\">\n<title>node14--node13</title>\n<path d=\"M69.708,-275.2599C136.6712,-268.0852 369.8614,-243.1006 436.7419,-235.9348\" fill=\"none\" stroke=\"#000000\"/>\n</g>\n<!-- node1 -->\n<g class=\"node\" id=\"node3\">\n<title>node1</title>\n<polygon fill=\"none\" points=\"103.2,-122.4 67.2,-122.4 67.2,-86.4 103.2,-86.4 103.2,-122.4\" stroke=\"#000000\"/>\n<text fill=\"#000000\" font-family=\"Times,serif\" font-size=\"14.00\" text-anchor=\"middle\" x=\"85.2\" y=\"-100.7\">2</text>\n</g>\n<!-- node3 -->\n<g class=\"node\" id=\"node4\">\n<title>node3</title>\n<ellipse cx=\"118.8\" cy=\"-147.6\" fill=\"none\" rx=\"18\" ry=\"18\" stroke=\"#000000\"/>\n<text fill=\"#000000\" font-family=\"Times,serif\" font-size=\"14.00\" text-anchor=\"middle\" x=\"118.8\" y=\"-143.9\">+</text>\n</g>\n<!-- node3&#45;&#45;node1 -->\n<g class=\"edge\" id=\"edge5\">\n<title>node3--node1</title>\n<path d=\"M107.4246,-132.9745C104.8354,-129.6455 102.0536,-126.0689 99.3642,-122.6111\" fill=\"none\" stroke=\"#000000\"/>\n</g>\n<!-- node2 -->\n<g class=\"node\" id=\"node5\">\n<title>node2</title>\n<polygon fill=\"none\" points=\"170.4,-122.4 134.4,-122.4 134.4,-86.4 170.4,-86.4 170.4,-122.4\" stroke=\"#000000\"/>\n<text fill=\"#000000\" font-family=\"Times,serif\" font-size=\"14.00\" text-anchor=\"middle\" x=\"152.4\" y=\"-100.7\">1</text>\n</g>\n<!-- node3&#45;&#45;node2 -->\n<g class=\"edge\" id=\"edge6\">\n<title>node3--node2</title>\n<path d=\"M130.1754,-132.9745C132.7646,-129.6455 135.5464,-126.0689 138.2358,-122.6111\" fill=\"none\" stroke=\"#000000\"/>\n</g>\n<!-- node11 -->\n<g class=\"node\" id=\"node6\">\n<title>node11</title>\n<ellipse cx=\"186\" cy=\"-190.8\" fill=\"none\" rx=\"18\" ry=\"18\" stroke=\"#000000\"/>\n<text fill=\"#000000\" font-family=\"Times,serif\" font-size=\"14.00\" text-anchor=\"middle\" x=\"186\" y=\"-187.1\">*</text>\n</g>\n<!-- node11&#45;&#45;node3 -->\n<g class=\"edge\" id=\"edge4\">\n<title>node11--node3</title>\n<path d=\"M170.7513,-180.9973C159.7536,-173.9273 144.9722,-164.425 133.9884,-157.364\" fill=\"none\" stroke=\"#000000\"/>\n</g>\n<!-- node10 -->\n<g class=\"node\" id=\"node8\">\n<title>node10</title>\n<ellipse cx=\"253.2\" cy=\"-147.6\" fill=\"none\" rx=\"18\" ry=\"18\" stroke=\"#000000\"/>\n<text fill=\"#000000\" font-family=\"Times,serif\" font-size=\"14.00\" text-anchor=\"middle\" x=\"253.2\" y=\"-143.9\">^</text>\n</g>\n<!-- node11&#45;&#45;node10 -->\n<g class=\"edge\" id=\"edge7\">\n<title>node11--node10</title>\n<path d=\"M201.2487,-180.9973C212.2464,-173.9273 227.0278,-164.425 238.0116,-157.364\" fill=\"none\" stroke=\"#000000\"/>\n</g>\n<!-- node4 -->\n<g class=\"node\" id=\"node7\">\n<title>node4</title>\n<polygon fill=\"none\" points=\"237.6,-122.4 201.6,-122.4 201.6,-86.4 237.6,-86.4 237.6,-122.4\" stroke=\"#000000\"/>\n<text fill=\"#000000\" font-family=\"Times,serif\" font-size=\"14.00\" text-anchor=\"middle\" x=\"219.6\" y=\"-100.7\">y</text>\n</g>\n<!-- node10&#45;&#45;node4 -->\n<g class=\"edge\" id=\"edge8\">\n<title>node10--node4</title>\n<path d=\"M241.8246,-132.9745C239.2354,-129.6455 236.4536,-126.0689 233.7642,-122.6111\" fill=\"none\" stroke=\"#000000\"/>\n</g>\n<!-- node9 -->\n<g class=\"node\" id=\"node12\">\n<title>node9</title>\n<ellipse cx=\"387.6\" cy=\"-104.4\" fill=\"none\" rx=\"18\" ry=\"18\" stroke=\"#000000\"/>\n<text fill=\"#000000\" font-family=\"Times,serif\" font-size=\"14.00\" text-anchor=\"middle\" x=\"387.6\" y=\"-100.7\">-</text>\n</g>\n<!-- node10&#45;&#45;node9 -->\n<g class=\"edge\" id=\"edge9\">\n<title>node10--node9</title>\n<path d=\"M270.4953,-142.0408C296.3018,-133.7458 344.6032,-118.2204 370.3711,-109.9379\" fill=\"none\" stroke=\"#000000\"/>\n</g>\n<!-- node5 -->\n<g class=\"node\" id=\"node9\">\n<title>node5</title>\n<polygon fill=\"none\" points=\"304.8,-36 268.8,-36 268.8,0 304.8,0 304.8,-36\" stroke=\"#000000\"/>\n<text fill=\"#000000\" font-family=\"Times,serif\" font-size=\"14.00\" text-anchor=\"middle\" x=\"286.8\" y=\"-14.3\">2</text>\n</g>\n<!-- node7 -->\n<g class=\"node\" id=\"node10\">\n<title>node7</title>\n<ellipse cx=\"320.4\" cy=\"-61.2\" fill=\"none\" rx=\"18\" ry=\"18\" stroke=\"#000000\"/>\n<text fill=\"#000000\" font-family=\"Times,serif\" font-size=\"14.00\" text-anchor=\"middle\" x=\"320.4\" y=\"-57.5\">+</text>\n</g>\n<!-- node7&#45;&#45;node5 -->\n<g class=\"edge\" id=\"edge11\">\n<title>node7--node5</title>\n<path d=\"M309.0246,-46.5745C306.4354,-43.2455 303.6536,-39.6689 300.9642,-36.2111\" fill=\"none\" stroke=\"#000000\"/>\n</g>\n<!-- node6 -->\n<g class=\"node\" id=\"node11\">\n<title>node6</title>\n<polygon fill=\"none\" points=\"372,-36 336,-36 336,0 372,0 372,-36\" stroke=\"#000000\"/>\n<text fill=\"#000000\" font-family=\"Times,serif\" font-size=\"14.00\" text-anchor=\"middle\" x=\"354\" y=\"-14.3\">1</text>\n</g>\n<!-- node7&#45;&#45;node6 -->\n<g class=\"edge\" id=\"edge12\">\n<title>node7--node6</title>\n<path d=\"M331.7754,-46.5745C334.3646,-43.2455 337.1464,-39.6689 339.8358,-36.2111\" fill=\"none\" stroke=\"#000000\"/>\n</g>\n<!-- node9&#45;&#45;node7 -->\n<g class=\"edge\" id=\"edge10\">\n<title>node9--node7</title>\n<path d=\"M372.3513,-94.5973C361.3536,-87.5273 346.5722,-78.025 335.5884,-70.964\" fill=\"none\" stroke=\"#000000\"/>\n</g>\n<!-- node8 -->\n<g class=\"node\" id=\"node13\">\n<title>node8</title>\n<polygon fill=\"none\" points=\"439.2,-79.2 403.2,-79.2 403.2,-43.2 439.2,-43.2 439.2,-79.2\" stroke=\"#000000\"/>\n<text fill=\"#000000\" font-family=\"Times,serif\" font-size=\"14.00\" text-anchor=\"middle\" x=\"421.2\" y=\"-57.5\">1</text>\n</g>\n<!-- node9&#45;&#45;node8 -->\n<g class=\"edge\" id=\"edge13\">\n<title>node9--node8</title>\n<path d=\"M398.9754,-89.7745C401.5646,-86.4455 404.3464,-82.8689 407.0358,-79.4111\" fill=\"none\" stroke=\"#000000\"/>\n</g>\n<!-- node13&#45;&#45;node11 -->\n<g class=\"edge\" id=\"edge3\">\n<title>node13--node11</title>\n<path d=\"M436.7459,-231.0984C387.7779,-223.2286 252.8514,-201.544 203.9755,-193.6889\" fill=\"none\" stroke=\"#000000\"/>\n</g>\n<!-- node12 -->\n<g class=\"node\" id=\"node15\">\n<title>node12</title>\n<polygon fill=\"none\" points=\"506.4,-208.8 470.4,-208.8 470.4,-172.8 506.4,-172.8 506.4,-208.8\" stroke=\"#000000\"/>\n<text fill=\"#000000\" font-family=\"Times,serif\" font-size=\"14.00\" text-anchor=\"middle\" x=\"488.4\" y=\"-187.1\">0</text>\n</g>\n<!-- node13&#45;&#45;node12 -->\n<g class=\"edge\" id=\"edge14\">\n<title>node13--node12</title>\n<path d=\"M466.1754,-219.3745C468.7646,-216.0455 471.5464,-212.4689 474.2358,-209.0111\" fill=\"none\" stroke=\"#000000\"/>\n</g>\n</g>\n</svg>"
          },
          "metadata": {
            "tags": []
          }
        }
      ]
    },
    {
      "cell_type": "code",
      "metadata": {
        "colab": {
          "base_uri": "https://localhost:8080/",
          "height": 638
        },
        "id": "YNhlb6_tOmg6",
        "outputId": "415af8f1-637c-4756-a41a-39e99ca75705"
      },
      "source": [
        "probar_derivada(\"5*x^5\",\"x\")"
      ],
      "execution_count": null,
      "outputs": [
        {
          "output_type": "stream",
          "text": [
            "Fórmula original:\n"
          ],
          "name": "stdout"
        },
        {
          "output_type": "display_data",
          "data": {
            "text/plain": [
              "<IPython.core.display.SVG object>"
            ],
            "image/svg+xml": "<svg height=\"130pt\" viewBox=\"0.00 0.00 178.40 130.40\" width=\"178pt\" xmlns=\"http://www.w3.org/2000/svg\" xmlns:xlink=\"http://www.w3.org/1999/xlink\">\n<g class=\"graph\" id=\"graph0\" transform=\"scale(1 1) rotate(0) translate(4 126.4)\">\n<title>Arbol</title>\n<polygon fill=\"#ffffff\" points=\"-4,4 -4,-126.4 174.4,-126.4 174.4,4 -4,4\" stroke=\"transparent\"/>\n<!-- node0 -->\n<g class=\"node\" id=\"node1\">\n<title>node0</title>\n<polygon fill=\"none\" points=\"36,-79.2 0,-79.2 0,-43.2 36,-43.2 36,-79.2\" stroke=\"#000000\"/>\n<text fill=\"#000000\" font-family=\"Times,serif\" font-size=\"14.00\" text-anchor=\"middle\" x=\"18\" y=\"-57.5\">5</text>\n</g>\n<!-- node4 -->\n<g class=\"node\" id=\"node2\">\n<title>node4</title>\n<ellipse cx=\"51.6\" cy=\"-104.4\" fill=\"none\" rx=\"18\" ry=\"18\" stroke=\"#000000\"/>\n<text fill=\"#000000\" font-family=\"Times,serif\" font-size=\"14.00\" text-anchor=\"middle\" x=\"51.6\" y=\"-100.7\">*</text>\n</g>\n<!-- node4&#45;&#45;node0 -->\n<g class=\"edge\" id=\"edge1\">\n<title>node4--node0</title>\n<path d=\"M40.2246,-89.7745C37.6354,-86.4455 34.8536,-82.8689 32.1642,-79.4111\" fill=\"none\" stroke=\"#000000\"/>\n</g>\n<!-- node3 -->\n<g class=\"node\" id=\"node4\">\n<title>node3</title>\n<ellipse cx=\"118.8\" cy=\"-61.2\" fill=\"none\" rx=\"18\" ry=\"18\" stroke=\"#000000\"/>\n<text fill=\"#000000\" font-family=\"Times,serif\" font-size=\"14.00\" text-anchor=\"middle\" x=\"118.8\" y=\"-57.5\">^</text>\n</g>\n<!-- node4&#45;&#45;node3 -->\n<g class=\"edge\" id=\"edge2\">\n<title>node4--node3</title>\n<path d=\"M66.8487,-94.5973C77.8464,-87.5273 92.6278,-78.025 103.6116,-70.964\" fill=\"none\" stroke=\"#000000\"/>\n</g>\n<!-- node1 -->\n<g class=\"node\" id=\"node3\">\n<title>node1</title>\n<polygon fill=\"none\" points=\"103.2,-36 67.2,-36 67.2,0 103.2,0 103.2,-36\" stroke=\"#000000\"/>\n<text fill=\"#000000\" font-family=\"Times,serif\" font-size=\"14.00\" text-anchor=\"middle\" x=\"85.2\" y=\"-14.3\">x</text>\n</g>\n<!-- node3&#45;&#45;node1 -->\n<g class=\"edge\" id=\"edge3\">\n<title>node3--node1</title>\n<path d=\"M107.4246,-46.5745C104.8354,-43.2455 102.0536,-39.6689 99.3642,-36.2111\" fill=\"none\" stroke=\"#000000\"/>\n</g>\n<!-- node2 -->\n<g class=\"node\" id=\"node5\">\n<title>node2</title>\n<polygon fill=\"none\" points=\"170.4,-36 134.4,-36 134.4,0 170.4,0 170.4,-36\" stroke=\"#000000\"/>\n<text fill=\"#000000\" font-family=\"Times,serif\" font-size=\"14.00\" text-anchor=\"middle\" x=\"152.4\" y=\"-14.3\">5</text>\n</g>\n<!-- node3&#45;&#45;node2 -->\n<g class=\"edge\" id=\"edge4\">\n<title>node3--node2</title>\n<path d=\"M130.1754,-46.5745C132.7646,-43.2455 135.5464,-39.6689 138.2358,-36.2111\" fill=\"none\" stroke=\"#000000\"/>\n</g>\n</g>\n</svg>"
          },
          "metadata": {
            "tags": []
          }
        },
        {
          "output_type": "stream",
          "text": [
            "Derivada respecto de x:\n"
          ],
          "name": "stdout"
        },
        {
          "output_type": "display_data",
          "data": {
            "text/plain": [
              "<IPython.core.display.SVG object>"
            ],
            "image/svg+xml": "<svg height=\"303pt\" viewBox=\"0.00 0.00 581.60 303.20\" width=\"582pt\" xmlns=\"http://www.w3.org/2000/svg\" xmlns:xlink=\"http://www.w3.org/1999/xlink\">\n<g class=\"graph\" id=\"graph0\" transform=\"scale(1 1) rotate(0) translate(4 299.2)\">\n<title>Arbol</title>\n<polygon fill=\"#ffffff\" points=\"-4,4 -4,-299.2 577.6,-299.2 577.6,4 -4,4\" stroke=\"transparent\"/>\n<!-- node0 -->\n<g class=\"node\" id=\"node1\">\n<title>node0</title>\n<polygon fill=\"none\" points=\"36,-208.8 0,-208.8 0,-172.8 36,-172.8 36,-208.8\" stroke=\"#000000\"/>\n<text fill=\"#000000\" font-family=\"Times,serif\" font-size=\"14.00\" text-anchor=\"middle\" x=\"18\" y=\"-187.1\">0</text>\n</g>\n<!-- node4 -->\n<g class=\"node\" id=\"node2\">\n<title>node4</title>\n<ellipse cx=\"51.6\" cy=\"-234\" fill=\"none\" rx=\"18\" ry=\"18\" stroke=\"#000000\"/>\n<text fill=\"#000000\" font-family=\"Times,serif\" font-size=\"14.00\" text-anchor=\"middle\" x=\"51.6\" y=\"-230.3\">*</text>\n</g>\n<!-- node4&#45;&#45;node0 -->\n<g class=\"edge\" id=\"edge2\">\n<title>node4--node0</title>\n<path d=\"M40.2246,-219.3745C37.6354,-216.0455 34.8536,-212.4689 32.1642,-209.0111\" fill=\"none\" stroke=\"#000000\"/>\n</g>\n<!-- node3 -->\n<g class=\"node\" id=\"node4\">\n<title>node3</title>\n<ellipse cx=\"118.8\" cy=\"-190.8\" fill=\"none\" rx=\"18\" ry=\"18\" stroke=\"#000000\"/>\n<text fill=\"#000000\" font-family=\"Times,serif\" font-size=\"14.00\" text-anchor=\"middle\" x=\"118.8\" y=\"-187.1\">^</text>\n</g>\n<!-- node4&#45;&#45;node3 -->\n<g class=\"edge\" id=\"edge3\">\n<title>node4--node3</title>\n<path d=\"M66.8487,-224.1973C77.8464,-217.1273 92.6278,-207.625 103.6116,-200.564\" fill=\"none\" stroke=\"#000000\"/>\n</g>\n<!-- node1 -->\n<g class=\"node\" id=\"node3\">\n<title>node1</title>\n<polygon fill=\"none\" points=\"103.2,-165.6 67.2,-165.6 67.2,-129.6 103.2,-129.6 103.2,-165.6\" stroke=\"#000000\"/>\n<text fill=\"#000000\" font-family=\"Times,serif\" font-size=\"14.00\" text-anchor=\"middle\" x=\"85.2\" y=\"-143.9\">x</text>\n</g>\n<!-- node3&#45;&#45;node1 -->\n<g class=\"edge\" id=\"edge4\">\n<title>node3--node1</title>\n<path d=\"M107.4246,-176.1745C104.8354,-172.8455 102.0536,-169.2689 99.3642,-165.8111\" fill=\"none\" stroke=\"#000000\"/>\n</g>\n<!-- node2 -->\n<g class=\"node\" id=\"node5\">\n<title>node2</title>\n<polygon fill=\"none\" points=\"170.4,-165.6 134.4,-165.6 134.4,-129.6 170.4,-129.6 170.4,-165.6\" stroke=\"#000000\"/>\n<text fill=\"#000000\" font-family=\"Times,serif\" font-size=\"14.00\" text-anchor=\"middle\" x=\"152.4\" y=\"-143.9\">5</text>\n</g>\n<!-- node3&#45;&#45;node2 -->\n<g class=\"edge\" id=\"edge5\">\n<title>node3--node2</title>\n<path d=\"M130.1754,-176.1745C132.7646,-172.8455 135.5464,-169.2689 138.2358,-165.8111\" fill=\"none\" stroke=\"#000000\"/>\n</g>\n<!-- node16 -->\n<g class=\"node\" id=\"node6\">\n<title>node16</title>\n<ellipse cx=\"186\" cy=\"-277.2\" fill=\"none\" rx=\"18\" ry=\"18\" stroke=\"#000000\"/>\n<text fill=\"#000000\" font-family=\"Times,serif\" font-size=\"14.00\" text-anchor=\"middle\" x=\"186\" y=\"-273.5\">+</text>\n</g>\n<!-- node16&#45;&#45;node4 -->\n<g class=\"edge\" id=\"edge1\">\n<title>node16--node4</title>\n<path d=\"M168.7047,-271.6408C142.8982,-263.3458 94.5968,-247.8204 68.8289,-239.5379\" fill=\"none\" stroke=\"#000000\"/>\n</g>\n<!-- node15 -->\n<g class=\"node\" id=\"node16\">\n<title>node15</title>\n<ellipse cx=\"522\" cy=\"-234\" fill=\"none\" rx=\"18\" ry=\"18\" stroke=\"#000000\"/>\n<text fill=\"#000000\" font-family=\"Times,serif\" font-size=\"14.00\" text-anchor=\"middle\" x=\"522\" y=\"-230.3\">*</text>\n</g>\n<!-- node16&#45;&#45;node15 -->\n<g class=\"edge\" id=\"edge6\">\n<title>node16--node15</title>\n<path d=\"M204.0648,-274.8774C262.4054,-267.3764 445.3782,-243.8514 503.8459,-236.3341\" fill=\"none\" stroke=\"#000000\"/>\n</g>\n<!-- node5 -->\n<g class=\"node\" id=\"node7\">\n<title>node5</title>\n<polygon fill=\"none\" points=\"237.6,-122.4 201.6,-122.4 201.6,-86.4 237.6,-86.4 237.6,-122.4\" stroke=\"#000000\"/>\n<text fill=\"#000000\" font-family=\"Times,serif\" font-size=\"14.00\" text-anchor=\"middle\" x=\"219.6\" y=\"-100.7\">5</text>\n</g>\n<!-- node11 -->\n<g class=\"node\" id=\"node8\">\n<title>node11</title>\n<ellipse cx=\"253.2\" cy=\"-147.6\" fill=\"none\" rx=\"18\" ry=\"18\" stroke=\"#000000\"/>\n<text fill=\"#000000\" font-family=\"Times,serif\" font-size=\"14.00\" text-anchor=\"middle\" x=\"253.2\" y=\"-143.9\">*</text>\n</g>\n<!-- node11&#45;&#45;node5 -->\n<g class=\"edge\" id=\"edge9\">\n<title>node11--node5</title>\n<path d=\"M241.8246,-132.9745C239.2354,-129.6455 236.4536,-126.0689 233.7642,-122.6111\" fill=\"none\" stroke=\"#000000\"/>\n</g>\n<!-- node10 -->\n<g class=\"node\" id=\"node10\">\n<title>node10</title>\n<ellipse cx=\"320.4\" cy=\"-104.4\" fill=\"none\" rx=\"18\" ry=\"18\" stroke=\"#000000\"/>\n<text fill=\"#000000\" font-family=\"Times,serif\" font-size=\"14.00\" text-anchor=\"middle\" x=\"320.4\" y=\"-100.7\">^</text>\n</g>\n<!-- node11&#45;&#45;node10 -->\n<g class=\"edge\" id=\"edge10\">\n<title>node11--node10</title>\n<path d=\"M268.4487,-137.7973C279.4464,-130.7273 294.2278,-121.225 305.2116,-114.164\" fill=\"none\" stroke=\"#000000\"/>\n</g>\n<!-- node6 -->\n<g class=\"node\" id=\"node9\">\n<title>node6</title>\n<polygon fill=\"none\" points=\"304.8,-79.2 268.8,-79.2 268.8,-43.2 304.8,-43.2 304.8,-79.2\" stroke=\"#000000\"/>\n<text fill=\"#000000\" font-family=\"Times,serif\" font-size=\"14.00\" text-anchor=\"middle\" x=\"286.8\" y=\"-57.5\">x</text>\n</g>\n<!-- node10&#45;&#45;node6 -->\n<g class=\"edge\" id=\"edge11\">\n<title>node10--node6</title>\n<path d=\"M309.0246,-89.7745C306.4354,-86.4455 303.6536,-82.8689 300.9642,-79.4111\" fill=\"none\" stroke=\"#000000\"/>\n</g>\n<!-- node9 -->\n<g class=\"node\" id=\"node12\">\n<title>node9</title>\n<ellipse cx=\"387.6\" cy=\"-61.2\" fill=\"none\" rx=\"18\" ry=\"18\" stroke=\"#000000\"/>\n<text fill=\"#000000\" font-family=\"Times,serif\" font-size=\"14.00\" text-anchor=\"middle\" x=\"387.6\" y=\"-57.5\">-</text>\n</g>\n<!-- node10&#45;&#45;node9 -->\n<g class=\"edge\" id=\"edge12\">\n<title>node10--node9</title>\n<path d=\"M335.6487,-94.5973C346.6464,-87.5273 361.4278,-78.025 372.4116,-70.964\" fill=\"none\" stroke=\"#000000\"/>\n</g>\n<!-- node7 -->\n<g class=\"node\" id=\"node11\">\n<title>node7</title>\n<polygon fill=\"none\" points=\"372,-36 336,-36 336,0 372,0 372,-36\" stroke=\"#000000\"/>\n<text fill=\"#000000\" font-family=\"Times,serif\" font-size=\"14.00\" text-anchor=\"middle\" x=\"354\" y=\"-14.3\">5</text>\n</g>\n<!-- node9&#45;&#45;node7 -->\n<g class=\"edge\" id=\"edge13\">\n<title>node9--node7</title>\n<path d=\"M376.2246,-46.5745C373.6354,-43.2455 370.8536,-39.6689 368.1642,-36.2111\" fill=\"none\" stroke=\"#000000\"/>\n</g>\n<!-- node8 -->\n<g class=\"node\" id=\"node13\">\n<title>node8</title>\n<polygon fill=\"none\" points=\"439.2,-36 403.2,-36 403.2,0 439.2,0 439.2,-36\" stroke=\"#000000\"/>\n<text fill=\"#000000\" font-family=\"Times,serif\" font-size=\"14.00\" text-anchor=\"middle\" x=\"421.2\" y=\"-14.3\">1</text>\n</g>\n<!-- node9&#45;&#45;node8 -->\n<g class=\"edge\" id=\"edge14\">\n<title>node9--node8</title>\n<path d=\"M398.9754,-46.5745C401.5646,-43.2455 404.3464,-39.6689 407.0358,-36.2111\" fill=\"none\" stroke=\"#000000\"/>\n</g>\n<!-- node13 -->\n<g class=\"node\" id=\"node14\">\n<title>node13</title>\n<ellipse cx=\"454.8\" cy=\"-190.8\" fill=\"none\" rx=\"18\" ry=\"18\" stroke=\"#000000\"/>\n<text fill=\"#000000\" font-family=\"Times,serif\" font-size=\"14.00\" text-anchor=\"middle\" x=\"454.8\" y=\"-187.1\">*</text>\n</g>\n<!-- node13&#45;&#45;node11 -->\n<g class=\"edge\" id=\"edge8\">\n<title>node13--node11</title>\n<path d=\"M436.9093,-186.9663C398.6523,-178.7683 309.2719,-159.6154 271.0506,-151.4251\" fill=\"none\" stroke=\"#000000\"/>\n</g>\n<!-- node12 -->\n<g class=\"node\" id=\"node15\">\n<title>node12</title>\n<polygon fill=\"none\" points=\"506.4,-165.6 470.4,-165.6 470.4,-129.6 506.4,-129.6 506.4,-165.6\" stroke=\"#000000\"/>\n<text fill=\"#000000\" font-family=\"Times,serif\" font-size=\"14.00\" text-anchor=\"middle\" x=\"488.4\" y=\"-143.9\">1</text>\n</g>\n<!-- node13&#45;&#45;node12 -->\n<g class=\"edge\" id=\"edge15\">\n<title>node13--node12</title>\n<path d=\"M466.1754,-176.1745C468.7646,-172.8455 471.5464,-169.2689 474.2358,-165.8111\" fill=\"none\" stroke=\"#000000\"/>\n</g>\n<!-- node15&#45;&#45;node13 -->\n<g class=\"edge\" id=\"edge7\">\n<title>node15--node13</title>\n<path d=\"M506.7513,-224.1973C495.7536,-217.1273 480.9722,-207.625 469.9884,-200.564\" fill=\"none\" stroke=\"#000000\"/>\n</g>\n<!-- node14 -->\n<g class=\"node\" id=\"node17\">\n<title>node14</title>\n<polygon fill=\"none\" points=\"573.6,-208.8 537.6,-208.8 537.6,-172.8 573.6,-172.8 573.6,-208.8\" stroke=\"#000000\"/>\n<text fill=\"#000000\" font-family=\"Times,serif\" font-size=\"14.00\" text-anchor=\"middle\" x=\"555.6\" y=\"-187.1\">5</text>\n</g>\n<!-- node15&#45;&#45;node14 -->\n<g class=\"edge\" id=\"edge16\">\n<title>node15--node14</title>\n<path d=\"M533.3754,-219.3745C535.9646,-216.0455 538.7464,-212.4689 541.4358,-209.0111\" fill=\"none\" stroke=\"#000000\"/>\n</g>\n</g>\n</svg>"
          },
          "metadata": {
            "tags": []
          }
        }
      ]
    },
    {
      "cell_type": "code",
      "metadata": {
        "colab": {
          "base_uri": "https://localhost:8080/",
          "height": 178
        },
        "id": "4K31r3cqj6DP",
        "outputId": "c3ef235d-8c30-4a0c-b20e-f35aee7901b6"
      },
      "source": [
        "probar_derivada(\"y\",\"y\")"
      ],
      "execution_count": null,
      "outputs": [
        {
          "output_type": "stream",
          "text": [
            "Fórmula original:\n"
          ],
          "name": "stdout"
        },
        {
          "output_type": "display_data",
          "data": {
            "text/plain": [
              "<IPython.core.display.SVG object>"
            ],
            "image/svg+xml": "<svg height=\"44pt\" viewBox=\"0.00 0.00 44.00 44.00\" width=\"44pt\" xmlns=\"http://www.w3.org/2000/svg\" xmlns:xlink=\"http://www.w3.org/1999/xlink\">\n<g class=\"graph\" id=\"graph0\" transform=\"scale(1 1) rotate(0) translate(4 40)\">\n<title>Arbol</title>\n<polygon fill=\"#ffffff\" points=\"-4,4 -4,-40 40,-40 40,4 -4,4\" stroke=\"transparent\"/>\n<!-- node0 -->\n<g class=\"node\" id=\"node1\">\n<title>node0</title>\n<polygon fill=\"none\" points=\"36,-36 0,-36 0,0 36,0 36,-36\" stroke=\"#000000\"/>\n<text fill=\"#000000\" font-family=\"Times,serif\" font-size=\"14.00\" text-anchor=\"middle\" x=\"18\" y=\"-14.3\">y</text>\n</g>\n</g>\n</svg>"
          },
          "metadata": {
            "tags": []
          }
        },
        {
          "output_type": "stream",
          "text": [
            "Derivada respecto de y:\n"
          ],
          "name": "stdout"
        },
        {
          "output_type": "display_data",
          "data": {
            "text/plain": [
              "<IPython.core.display.SVG object>"
            ],
            "image/svg+xml": "<svg height=\"44pt\" viewBox=\"0.00 0.00 44.00 44.00\" width=\"44pt\" xmlns=\"http://www.w3.org/2000/svg\" xmlns:xlink=\"http://www.w3.org/1999/xlink\">\n<g class=\"graph\" id=\"graph0\" transform=\"scale(1 1) rotate(0) translate(4 40)\">\n<title>Arbol</title>\n<polygon fill=\"#ffffff\" points=\"-4,4 -4,-40 40,-40 40,4 -4,4\" stroke=\"transparent\"/>\n<!-- node0 -->\n<g class=\"node\" id=\"node1\">\n<title>node0</title>\n<polygon fill=\"none\" points=\"36,-36 0,-36 0,0 36,0 36,-36\" stroke=\"#000000\"/>\n<text fill=\"#000000\" font-family=\"Times,serif\" font-size=\"14.00\" text-anchor=\"middle\" x=\"18\" y=\"-14.3\">1</text>\n</g>\n</g>\n</svg>"
          },
          "metadata": {
            "tags": []
          }
        }
      ]
    },
    {
      "cell_type": "code",
      "metadata": {
        "colab": {
          "base_uri": "https://localhost:8080/",
          "height": 466
        },
        "id": "jIPreyGOj9gX",
        "outputId": "af0071bd-a740-4809-fa6f-d579a9f44d8c"
      },
      "source": [
        "probar_derivada(\"3*y+x\",\"y\")"
      ],
      "execution_count": null,
      "outputs": [
        {
          "output_type": "stream",
          "text": [
            "Fórmula original:\n"
          ],
          "name": "stdout"
        },
        {
          "output_type": "display_data",
          "data": {
            "text/plain": [
              "<IPython.core.display.SVG object>"
            ],
            "image/svg+xml": "<svg height=\"130pt\" viewBox=\"0.00 0.00 178.40 130.40\" width=\"178pt\" xmlns=\"http://www.w3.org/2000/svg\" xmlns:xlink=\"http://www.w3.org/1999/xlink\">\n<g class=\"graph\" id=\"graph0\" transform=\"scale(1 1) rotate(0) translate(4 126.4)\">\n<title>Arbol</title>\n<polygon fill=\"#ffffff\" points=\"-4,4 -4,-126.4 174.4,-126.4 174.4,4 -4,4\" stroke=\"transparent\"/>\n<!-- node0 -->\n<g class=\"node\" id=\"node1\">\n<title>node0</title>\n<polygon fill=\"none\" points=\"36,-36 0,-36 0,0 36,0 36,-36\" stroke=\"#000000\"/>\n<text fill=\"#000000\" font-family=\"Times,serif\" font-size=\"14.00\" text-anchor=\"middle\" x=\"18\" y=\"-14.3\">3</text>\n</g>\n<!-- node2 -->\n<g class=\"node\" id=\"node2\">\n<title>node2</title>\n<ellipse cx=\"51.6\" cy=\"-61.2\" fill=\"none\" rx=\"18\" ry=\"18\" stroke=\"#000000\"/>\n<text fill=\"#000000\" font-family=\"Times,serif\" font-size=\"14.00\" text-anchor=\"middle\" x=\"51.6\" y=\"-57.5\">*</text>\n</g>\n<!-- node2&#45;&#45;node0 -->\n<g class=\"edge\" id=\"edge2\">\n<title>node2--node0</title>\n<path d=\"M40.2246,-46.5745C37.6354,-43.2455 34.8536,-39.6689 32.1642,-36.2111\" fill=\"none\" stroke=\"#000000\"/>\n</g>\n<!-- node1 -->\n<g class=\"node\" id=\"node3\">\n<title>node1</title>\n<polygon fill=\"none\" points=\"103.2,-36 67.2,-36 67.2,0 103.2,0 103.2,-36\" stroke=\"#000000\"/>\n<text fill=\"#000000\" font-family=\"Times,serif\" font-size=\"14.00\" text-anchor=\"middle\" x=\"85.2\" y=\"-14.3\">y</text>\n</g>\n<!-- node2&#45;&#45;node1 -->\n<g class=\"edge\" id=\"edge3\">\n<title>node2--node1</title>\n<path d=\"M62.9754,-46.5745C65.5646,-43.2455 68.3464,-39.6689 71.0358,-36.2111\" fill=\"none\" stroke=\"#000000\"/>\n</g>\n<!-- node4 -->\n<g class=\"node\" id=\"node4\">\n<title>node4</title>\n<ellipse cx=\"118.8\" cy=\"-104.4\" fill=\"none\" rx=\"18\" ry=\"18\" stroke=\"#000000\"/>\n<text fill=\"#000000\" font-family=\"Times,serif\" font-size=\"14.00\" text-anchor=\"middle\" x=\"118.8\" y=\"-100.7\">+</text>\n</g>\n<!-- node4&#45;&#45;node2 -->\n<g class=\"edge\" id=\"edge1\">\n<title>node4--node2</title>\n<path d=\"M103.5513,-94.5973C92.5536,-87.5273 77.7722,-78.025 66.7884,-70.964\" fill=\"none\" stroke=\"#000000\"/>\n</g>\n<!-- node3 -->\n<g class=\"node\" id=\"node5\">\n<title>node3</title>\n<polygon fill=\"none\" points=\"170.4,-79.2 134.4,-79.2 134.4,-43.2 170.4,-43.2 170.4,-79.2\" stroke=\"#000000\"/>\n<text fill=\"#000000\" font-family=\"Times,serif\" font-size=\"14.00\" text-anchor=\"middle\" x=\"152.4\" y=\"-57.5\">x</text>\n</g>\n<!-- node4&#45;&#45;node3 -->\n<g class=\"edge\" id=\"edge4\">\n<title>node4--node3</title>\n<path d=\"M130.1754,-89.7745C132.7646,-86.4455 135.5464,-82.8689 138.2358,-79.4111\" fill=\"none\" stroke=\"#000000\"/>\n</g>\n</g>\n</svg>"
          },
          "metadata": {
            "tags": []
          }
        },
        {
          "output_type": "stream",
          "text": [
            "Derivada respecto de y:\n"
          ],
          "name": "stdout"
        },
        {
          "output_type": "display_data",
          "data": {
            "text/plain": [
              "<IPython.core.display.SVG object>"
            ],
            "image/svg+xml": "<svg height=\"174pt\" viewBox=\"0.00 0.00 312.80 173.60\" width=\"313pt\" xmlns=\"http://www.w3.org/2000/svg\" xmlns:xlink=\"http://www.w3.org/1999/xlink\">\n<g class=\"graph\" id=\"graph0\" transform=\"scale(1 1) rotate(0) translate(4 169.6)\">\n<title>Arbol</title>\n<polygon fill=\"#ffffff\" points=\"-4,4 -4,-169.6 308.8,-169.6 308.8,4 -4,4\" stroke=\"transparent\"/>\n<!-- node0 -->\n<g class=\"node\" id=\"node1\">\n<title>node0</title>\n<polygon fill=\"none\" points=\"36,-36 0,-36 0,0 36,0 36,-36\" stroke=\"#000000\"/>\n<text fill=\"#000000\" font-family=\"Times,serif\" font-size=\"14.00\" text-anchor=\"middle\" x=\"18\" y=\"-14.3\">0</text>\n</g>\n<!-- node2 -->\n<g class=\"node\" id=\"node2\">\n<title>node2</title>\n<ellipse cx=\"51.6\" cy=\"-61.2\" fill=\"none\" rx=\"18\" ry=\"18\" stroke=\"#000000\"/>\n<text fill=\"#000000\" font-family=\"Times,serif\" font-size=\"14.00\" text-anchor=\"middle\" x=\"51.6\" y=\"-57.5\">*</text>\n</g>\n<!-- node2&#45;&#45;node0 -->\n<g class=\"edge\" id=\"edge3\">\n<title>node2--node0</title>\n<path d=\"M40.2246,-46.5745C37.6354,-43.2455 34.8536,-39.6689 32.1642,-36.2111\" fill=\"none\" stroke=\"#000000\"/>\n</g>\n<!-- node1 -->\n<g class=\"node\" id=\"node3\">\n<title>node1</title>\n<polygon fill=\"none\" points=\"103.2,-36 67.2,-36 67.2,0 103.2,0 103.2,-36\" stroke=\"#000000\"/>\n<text fill=\"#000000\" font-family=\"Times,serif\" font-size=\"14.00\" text-anchor=\"middle\" x=\"85.2\" y=\"-14.3\">y</text>\n</g>\n<!-- node2&#45;&#45;node1 -->\n<g class=\"edge\" id=\"edge4\">\n<title>node2--node1</title>\n<path d=\"M62.9754,-46.5745C65.5646,-43.2455 68.3464,-39.6689 71.0358,-36.2111\" fill=\"none\" stroke=\"#000000\"/>\n</g>\n<!-- node6 -->\n<g class=\"node\" id=\"node4\">\n<title>node6</title>\n<ellipse cx=\"118.8\" cy=\"-104.4\" fill=\"none\" rx=\"18\" ry=\"18\" stroke=\"#000000\"/>\n<text fill=\"#000000\" font-family=\"Times,serif\" font-size=\"14.00\" text-anchor=\"middle\" x=\"118.8\" y=\"-100.7\">+</text>\n</g>\n<!-- node6&#45;&#45;node2 -->\n<g class=\"edge\" id=\"edge2\">\n<title>node6--node2</title>\n<path d=\"M103.5513,-94.5973C92.5536,-87.5273 77.7722,-78.025 66.7884,-70.964\" fill=\"none\" stroke=\"#000000\"/>\n</g>\n<!-- node5 -->\n<g class=\"node\" id=\"node6\">\n<title>node5</title>\n<ellipse cx=\"186\" cy=\"-61.2\" fill=\"none\" rx=\"18\" ry=\"18\" stroke=\"#000000\"/>\n<text fill=\"#000000\" font-family=\"Times,serif\" font-size=\"14.00\" text-anchor=\"middle\" x=\"186\" y=\"-57.5\">*</text>\n</g>\n<!-- node6&#45;&#45;node5 -->\n<g class=\"edge\" id=\"edge5\">\n<title>node6--node5</title>\n<path d=\"M134.0487,-94.5973C145.0464,-87.5273 159.8278,-78.025 170.8116,-70.964\" fill=\"none\" stroke=\"#000000\"/>\n</g>\n<!-- node3 -->\n<g class=\"node\" id=\"node5\">\n<title>node3</title>\n<polygon fill=\"none\" points=\"170.4,-36 134.4,-36 134.4,0 170.4,0 170.4,-36\" stroke=\"#000000\"/>\n<text fill=\"#000000\" font-family=\"Times,serif\" font-size=\"14.00\" text-anchor=\"middle\" x=\"152.4\" y=\"-14.3\">1</text>\n</g>\n<!-- node5&#45;&#45;node3 -->\n<g class=\"edge\" id=\"edge6\">\n<title>node5--node3</title>\n<path d=\"M174.6246,-46.5745C172.0354,-43.2455 169.2536,-39.6689 166.5642,-36.2111\" fill=\"none\" stroke=\"#000000\"/>\n</g>\n<!-- node4 -->\n<g class=\"node\" id=\"node7\">\n<title>node4</title>\n<polygon fill=\"none\" points=\"237.6,-36 201.6,-36 201.6,0 237.6,0 237.6,-36\" stroke=\"#000000\"/>\n<text fill=\"#000000\" font-family=\"Times,serif\" font-size=\"14.00\" text-anchor=\"middle\" x=\"219.6\" y=\"-14.3\">3</text>\n</g>\n<!-- node5&#45;&#45;node4 -->\n<g class=\"edge\" id=\"edge7\">\n<title>node5--node4</title>\n<path d=\"M197.3754,-46.5745C199.9646,-43.2455 202.7464,-39.6689 205.4358,-36.2111\" fill=\"none\" stroke=\"#000000\"/>\n</g>\n<!-- node8 -->\n<g class=\"node\" id=\"node8\">\n<title>node8</title>\n<ellipse cx=\"253.2\" cy=\"-147.6\" fill=\"none\" rx=\"18\" ry=\"18\" stroke=\"#000000\"/>\n<text fill=\"#000000\" font-family=\"Times,serif\" font-size=\"14.00\" text-anchor=\"middle\" x=\"253.2\" y=\"-143.9\">+</text>\n</g>\n<!-- node8&#45;&#45;node6 -->\n<g class=\"edge\" id=\"edge1\">\n<title>node8--node6</title>\n<path d=\"M235.9047,-142.0408C210.0982,-133.7458 161.7968,-118.2204 136.0289,-109.9379\" fill=\"none\" stroke=\"#000000\"/>\n</g>\n<!-- node7 -->\n<g class=\"node\" id=\"node9\">\n<title>node7</title>\n<polygon fill=\"none\" points=\"304.8,-122.4 268.8,-122.4 268.8,-86.4 304.8,-86.4 304.8,-122.4\" stroke=\"#000000\"/>\n<text fill=\"#000000\" font-family=\"Times,serif\" font-size=\"14.00\" text-anchor=\"middle\" x=\"286.8\" y=\"-100.7\">0</text>\n</g>\n<!-- node8&#45;&#45;node7 -->\n<g class=\"edge\" id=\"edge8\">\n<title>node8--node7</title>\n<path d=\"M264.5754,-132.9745C267.1646,-129.6455 269.9464,-126.0689 272.6358,-122.6111\" fill=\"none\" stroke=\"#000000\"/>\n</g>\n</g>\n</svg>"
          },
          "metadata": {
            "tags": []
          }
        }
      ]
    },
    {
      "cell_type": "code",
      "metadata": {
        "colab": {
          "base_uri": "https://localhost:8080/",
          "height": 754
        },
        "id": "KqExkkjmkD6X",
        "outputId": "cfb03dde-49e2-42b9-cd33-80e7a5c286b9"
      },
      "source": [
        "probar_derivada(\"y^2/(9+y)\",\"y\")"
      ],
      "execution_count": null,
      "outputs": [
        {
          "output_type": "stream",
          "text": [
            "Fórmula original:\n"
          ],
          "name": "stdout"
        },
        {
          "output_type": "display_data",
          "data": {
            "text/plain": [
              "<IPython.core.display.SVG object>"
            ],
            "image/svg+xml": "<svg height=\"130pt\" viewBox=\"0.00 0.00 245.60 130.40\" width=\"246pt\" xmlns=\"http://www.w3.org/2000/svg\" xmlns:xlink=\"http://www.w3.org/1999/xlink\">\n<g class=\"graph\" id=\"graph0\" transform=\"scale(1 1) rotate(0) translate(4 126.4)\">\n<title>Arbol</title>\n<polygon fill=\"#ffffff\" points=\"-4,4 -4,-126.4 241.6,-126.4 241.6,4 -4,4\" stroke=\"transparent\"/>\n<!-- node0 -->\n<g class=\"node\" id=\"node1\">\n<title>node0</title>\n<polygon fill=\"none\" points=\"36,-36 0,-36 0,0 36,0 36,-36\" stroke=\"#000000\"/>\n<text fill=\"#000000\" font-family=\"Times,serif\" font-size=\"14.00\" text-anchor=\"middle\" x=\"18\" y=\"-14.3\">y</text>\n</g>\n<!-- node2 -->\n<g class=\"node\" id=\"node2\">\n<title>node2</title>\n<ellipse cx=\"51.6\" cy=\"-61.2\" fill=\"none\" rx=\"18\" ry=\"18\" stroke=\"#000000\"/>\n<text fill=\"#000000\" font-family=\"Times,serif\" font-size=\"14.00\" text-anchor=\"middle\" x=\"51.6\" y=\"-57.5\">^</text>\n</g>\n<!-- node2&#45;&#45;node0 -->\n<g class=\"edge\" id=\"edge2\">\n<title>node2--node0</title>\n<path d=\"M40.2246,-46.5745C37.6354,-43.2455 34.8536,-39.6689 32.1642,-36.2111\" fill=\"none\" stroke=\"#000000\"/>\n</g>\n<!-- node1 -->\n<g class=\"node\" id=\"node3\">\n<title>node1</title>\n<polygon fill=\"none\" points=\"103.2,-36 67.2,-36 67.2,0 103.2,0 103.2,-36\" stroke=\"#000000\"/>\n<text fill=\"#000000\" font-family=\"Times,serif\" font-size=\"14.00\" text-anchor=\"middle\" x=\"85.2\" y=\"-14.3\">2</text>\n</g>\n<!-- node2&#45;&#45;node1 -->\n<g class=\"edge\" id=\"edge3\">\n<title>node2--node1</title>\n<path d=\"M62.9754,-46.5745C65.5646,-43.2455 68.3464,-39.6689 71.0358,-36.2111\" fill=\"none\" stroke=\"#000000\"/>\n</g>\n<!-- node6 -->\n<g class=\"node\" id=\"node4\">\n<title>node6</title>\n<ellipse cx=\"118.8\" cy=\"-104.4\" fill=\"none\" rx=\"18\" ry=\"18\" stroke=\"#000000\"/>\n<text fill=\"#000000\" font-family=\"Times,serif\" font-size=\"14.00\" text-anchor=\"middle\" x=\"118.8\" y=\"-100.7\">/</text>\n</g>\n<!-- node6&#45;&#45;node2 -->\n<g class=\"edge\" id=\"edge1\">\n<title>node6--node2</title>\n<path d=\"M103.5513,-94.5973C92.5536,-87.5273 77.7722,-78.025 66.7884,-70.964\" fill=\"none\" stroke=\"#000000\"/>\n</g>\n<!-- node5 -->\n<g class=\"node\" id=\"node6\">\n<title>node5</title>\n<ellipse cx=\"186\" cy=\"-61.2\" fill=\"none\" rx=\"18\" ry=\"18\" stroke=\"#000000\"/>\n<text fill=\"#000000\" font-family=\"Times,serif\" font-size=\"14.00\" text-anchor=\"middle\" x=\"186\" y=\"-57.5\">+</text>\n</g>\n<!-- node6&#45;&#45;node5 -->\n<g class=\"edge\" id=\"edge4\">\n<title>node6--node5</title>\n<path d=\"M134.0487,-94.5973C145.0464,-87.5273 159.8278,-78.025 170.8116,-70.964\" fill=\"none\" stroke=\"#000000\"/>\n</g>\n<!-- node3 -->\n<g class=\"node\" id=\"node5\">\n<title>node3</title>\n<polygon fill=\"none\" points=\"170.4,-36 134.4,-36 134.4,0 170.4,0 170.4,-36\" stroke=\"#000000\"/>\n<text fill=\"#000000\" font-family=\"Times,serif\" font-size=\"14.00\" text-anchor=\"middle\" x=\"152.4\" y=\"-14.3\">9</text>\n</g>\n<!-- node5&#45;&#45;node3 -->\n<g class=\"edge\" id=\"edge5\">\n<title>node5--node3</title>\n<path d=\"M174.6246,-46.5745C172.0354,-43.2455 169.2536,-39.6689 166.5642,-36.2111\" fill=\"none\" stroke=\"#000000\"/>\n</g>\n<!-- node4 -->\n<g class=\"node\" id=\"node7\">\n<title>node4</title>\n<polygon fill=\"none\" points=\"237.6,-36 201.6,-36 201.6,0 237.6,0 237.6,-36\" stroke=\"#000000\"/>\n<text fill=\"#000000\" font-family=\"Times,serif\" font-size=\"14.00\" text-anchor=\"middle\" x=\"219.6\" y=\"-14.3\">y</text>\n</g>\n<!-- node5&#45;&#45;node4 -->\n<g class=\"edge\" id=\"edge6\">\n<title>node5--node4</title>\n<path d=\"M197.3754,-46.5745C199.9646,-43.2455 202.7464,-39.6689 205.4358,-36.2111\" fill=\"none\" stroke=\"#000000\"/>\n</g>\n</g>\n</svg>"
          },
          "metadata": {
            "tags": []
          }
        },
        {
          "output_type": "stream",
          "text": [
            "Derivada respecto de y:\n"
          ],
          "name": "stdout"
        },
        {
          "output_type": "display_data",
          "data": {
            "text/plain": [
              "<IPython.core.display.SVG object>"
            ],
            "image/svg+xml": "<svg height=\"390pt\" viewBox=\"0.00 0.00 917.60 389.60\" width=\"918pt\" xmlns=\"http://www.w3.org/2000/svg\" xmlns:xlink=\"http://www.w3.org/1999/xlink\">\n<g class=\"graph\" id=\"graph0\" transform=\"scale(1 1) rotate(0) translate(4 385.6)\">\n<title>Arbol</title>\n<polygon fill=\"#ffffff\" points=\"-4,4 -4,-385.6 913.6,-385.6 913.6,4 -4,4\" stroke=\"transparent\"/>\n<!-- node0 -->\n<g class=\"node\" id=\"node1\">\n<title>node0</title>\n<polygon fill=\"none\" points=\"36,-122.4 0,-122.4 0,-86.4 36,-86.4 36,-122.4\" stroke=\"#000000\"/>\n<text fill=\"#000000\" font-family=\"Times,serif\" font-size=\"14.00\" text-anchor=\"middle\" x=\"18\" y=\"-100.7\">2</text>\n</g>\n<!-- node6 -->\n<g class=\"node\" id=\"node2\">\n<title>node6</title>\n<ellipse cx=\"51.6\" cy=\"-147.6\" fill=\"none\" rx=\"18\" ry=\"18\" stroke=\"#000000\"/>\n<text fill=\"#000000\" font-family=\"Times,serif\" font-size=\"14.00\" text-anchor=\"middle\" x=\"51.6\" y=\"-143.9\">*</text>\n</g>\n<!-- node6&#45;&#45;node0 -->\n<g class=\"edge\" id=\"edge6\">\n<title>node6--node0</title>\n<path d=\"M40.2246,-132.9745C37.6354,-129.6455 34.8536,-126.0689 32.1642,-122.6111\" fill=\"none\" stroke=\"#000000\"/>\n</g>\n<!-- node5 -->\n<g class=\"node\" id=\"node4\">\n<title>node5</title>\n<ellipse cx=\"118.8\" cy=\"-104.4\" fill=\"none\" rx=\"18\" ry=\"18\" stroke=\"#000000\"/>\n<text fill=\"#000000\" font-family=\"Times,serif\" font-size=\"14.00\" text-anchor=\"middle\" x=\"118.8\" y=\"-100.7\">^</text>\n</g>\n<!-- node6&#45;&#45;node5 -->\n<g class=\"edge\" id=\"edge7\">\n<title>node6--node5</title>\n<path d=\"M66.8487,-137.7973C77.8464,-130.7273 92.6278,-121.225 103.6116,-114.164\" fill=\"none\" stroke=\"#000000\"/>\n</g>\n<!-- node1 -->\n<g class=\"node\" id=\"node3\">\n<title>node1</title>\n<polygon fill=\"none\" points=\"103.2,-79.2 67.2,-79.2 67.2,-43.2 103.2,-43.2 103.2,-79.2\" stroke=\"#000000\"/>\n<text fill=\"#000000\" font-family=\"Times,serif\" font-size=\"14.00\" text-anchor=\"middle\" x=\"85.2\" y=\"-57.5\">y</text>\n</g>\n<!-- node5&#45;&#45;node1 -->\n<g class=\"edge\" id=\"edge8\">\n<title>node5--node1</title>\n<path d=\"M107.4246,-89.7745C104.8354,-86.4455 102.0536,-82.8689 99.3642,-79.4111\" fill=\"none\" stroke=\"#000000\"/>\n</g>\n<!-- node4 -->\n<g class=\"node\" id=\"node6\">\n<title>node4</title>\n<ellipse cx=\"186\" cy=\"-61.2\" fill=\"none\" rx=\"18\" ry=\"18\" stroke=\"#000000\"/>\n<text fill=\"#000000\" font-family=\"Times,serif\" font-size=\"14.00\" text-anchor=\"middle\" x=\"186\" y=\"-57.5\">-</text>\n</g>\n<!-- node5&#45;&#45;node4 -->\n<g class=\"edge\" id=\"edge9\">\n<title>node5--node4</title>\n<path d=\"M134.0487,-94.5973C145.0464,-87.5273 159.8278,-78.025 170.8116,-70.964\" fill=\"none\" stroke=\"#000000\"/>\n</g>\n<!-- node2 -->\n<g class=\"node\" id=\"node5\">\n<title>node2</title>\n<polygon fill=\"none\" points=\"170.4,-36 134.4,-36 134.4,0 170.4,0 170.4,-36\" stroke=\"#000000\"/>\n<text fill=\"#000000\" font-family=\"Times,serif\" font-size=\"14.00\" text-anchor=\"middle\" x=\"152.4\" y=\"-14.3\">2</text>\n</g>\n<!-- node4&#45;&#45;node2 -->\n<g class=\"edge\" id=\"edge10\">\n<title>node4--node2</title>\n<path d=\"M174.6246,-46.5745C172.0354,-43.2455 169.2536,-39.6689 166.5642,-36.2111\" fill=\"none\" stroke=\"#000000\"/>\n</g>\n<!-- node3 -->\n<g class=\"node\" id=\"node7\">\n<title>node3</title>\n<polygon fill=\"none\" points=\"237.6,-36 201.6,-36 201.6,0 237.6,0 237.6,-36\" stroke=\"#000000\"/>\n<text fill=\"#000000\" font-family=\"Times,serif\" font-size=\"14.00\" text-anchor=\"middle\" x=\"219.6\" y=\"-14.3\">1</text>\n</g>\n<!-- node4&#45;&#45;node3 -->\n<g class=\"edge\" id=\"edge11\">\n<title>node4--node3</title>\n<path d=\"M197.3754,-46.5745C199.9646,-43.2455 202.7464,-39.6689 205.4358,-36.2111\" fill=\"none\" stroke=\"#000000\"/>\n</g>\n<!-- node8 -->\n<g class=\"node\" id=\"node8\">\n<title>node8</title>\n<ellipse cx=\"253.2\" cy=\"-190.8\" fill=\"none\" rx=\"18\" ry=\"18\" stroke=\"#000000\"/>\n<text fill=\"#000000\" font-family=\"Times,serif\" font-size=\"14.00\" text-anchor=\"middle\" x=\"253.2\" y=\"-187.1\">*</text>\n</g>\n<!-- node8&#45;&#45;node6 -->\n<g class=\"edge\" id=\"edge5\">\n<title>node8--node6</title>\n<path d=\"M235.3093,-186.9663C197.0523,-178.7684 107.6719,-159.6154 69.4506,-151.4251\" fill=\"none\" stroke=\"#000000\"/>\n</g>\n<!-- node7 -->\n<g class=\"node\" id=\"node9\">\n<title>node7</title>\n<polygon fill=\"none\" points=\"304.8,-165.6 268.8,-165.6 268.8,-129.6 304.8,-129.6 304.8,-165.6\" stroke=\"#000000\"/>\n<text fill=\"#000000\" font-family=\"Times,serif\" font-size=\"14.00\" text-anchor=\"middle\" x=\"286.8\" y=\"-143.9\">1</text>\n</g>\n<!-- node8&#45;&#45;node7 -->\n<g class=\"edge\" id=\"edge12\">\n<title>node8--node7</title>\n<path d=\"M264.5754,-176.1745C267.1646,-172.8455 269.9464,-169.2689 272.6358,-165.8111\" fill=\"none\" stroke=\"#000000\"/>\n</g>\n<!-- node10 -->\n<g class=\"node\" id=\"node10\">\n<title>node10</title>\n<ellipse cx=\"320.4\" cy=\"-234\" fill=\"none\" rx=\"18\" ry=\"18\" stroke=\"#000000\"/>\n<text fill=\"#000000\" font-family=\"Times,serif\" font-size=\"14.00\" text-anchor=\"middle\" x=\"320.4\" y=\"-230.3\">*</text>\n</g>\n<!-- node10&#45;&#45;node8 -->\n<g class=\"edge\" id=\"edge4\">\n<title>node10--node8</title>\n<path d=\"M305.1513,-224.1973C294.1536,-217.1273 279.3722,-207.625 268.3884,-200.564\" fill=\"none\" stroke=\"#000000\"/>\n</g>\n<!-- node9 -->\n<g class=\"node\" id=\"node11\">\n<title>node9</title>\n<polygon fill=\"none\" points=\"372,-208.8 336,-208.8 336,-172.8 372,-172.8 372,-208.8\" stroke=\"#000000\"/>\n<text fill=\"#000000\" font-family=\"Times,serif\" font-size=\"14.00\" text-anchor=\"middle\" x=\"354\" y=\"-187.1\">9</text>\n</g>\n<!-- node10&#45;&#45;node9 -->\n<g class=\"edge\" id=\"edge13\">\n<title>node10--node9</title>\n<path d=\"M331.7754,-219.3745C334.3646,-216.0455 337.1464,-212.4689 339.8358,-209.0111\" fill=\"none\" stroke=\"#000000\"/>\n</g>\n<!-- node12 -->\n<g class=\"node\" id=\"node12\">\n<title>node12</title>\n<ellipse cx=\"387.6\" cy=\"-277.2\" fill=\"none\" rx=\"18\" ry=\"18\" stroke=\"#000000\"/>\n<text fill=\"#000000\" font-family=\"Times,serif\" font-size=\"14.00\" text-anchor=\"middle\" x=\"387.6\" y=\"-273.5\">+</text>\n</g>\n<!-- node12&#45;&#45;node10 -->\n<g class=\"edge\" id=\"edge3\">\n<title>node12--node10</title>\n<path d=\"M372.3513,-267.3973C361.3536,-260.3273 346.5722,-250.825 335.5884,-243.764\" fill=\"none\" stroke=\"#000000\"/>\n</g>\n<!-- node11 -->\n<g class=\"node\" id=\"node13\">\n<title>node11</title>\n<polygon fill=\"none\" points=\"439.2,-252 403.2,-252 403.2,-216 439.2,-216 439.2,-252\" stroke=\"#000000\"/>\n<text fill=\"#000000\" font-family=\"Times,serif\" font-size=\"14.00\" text-anchor=\"middle\" x=\"421.2\" y=\"-230.3\">y</text>\n</g>\n<!-- node12&#45;&#45;node11 -->\n<g class=\"edge\" id=\"edge14\">\n<title>node12--node11</title>\n<path d=\"M398.9754,-262.5745C401.5646,-259.2455 404.3464,-255.6689 407.0358,-252.2111\" fill=\"none\" stroke=\"#000000\"/>\n</g>\n<!-- node20 -->\n<g class=\"node\" id=\"node14\">\n<title>node20</title>\n<ellipse cx=\"454.8\" cy=\"-320.4\" fill=\"none\" rx=\"18\" ry=\"18\" stroke=\"#000000\"/>\n<text fill=\"#000000\" font-family=\"Times,serif\" font-size=\"14.00\" text-anchor=\"middle\" x=\"454.8\" y=\"-316.7\">-</text>\n</g>\n<!-- node20&#45;&#45;node12 -->\n<g class=\"edge\" id=\"edge2\">\n<title>node20--node12</title>\n<path d=\"M439.5513,-310.5973C428.5536,-303.5273 413.7722,-294.025 402.7884,-286.964\" fill=\"none\" stroke=\"#000000\"/>\n</g>\n<!-- node19 -->\n<g class=\"node\" id=\"node18\">\n<title>node19</title>\n<ellipse cx=\"589.2\" cy=\"-277.2\" fill=\"none\" rx=\"18\" ry=\"18\" stroke=\"#000000\"/>\n<text fill=\"#000000\" font-family=\"Times,serif\" font-size=\"14.00\" text-anchor=\"middle\" x=\"589.2\" y=\"-273.5\">*</text>\n</g>\n<!-- node20&#45;&#45;node19 -->\n<g class=\"edge\" id=\"edge15\">\n<title>node20--node19</title>\n<path d=\"M472.0953,-314.8408C497.9018,-306.5458 546.2032,-291.0204 571.9711,-282.7379\" fill=\"none\" stroke=\"#000000\"/>\n</g>\n<!-- node13 -->\n<g class=\"node\" id=\"node15\">\n<title>node13</title>\n<polygon fill=\"none\" points=\"506.4,-208.8 470.4,-208.8 470.4,-172.8 506.4,-172.8 506.4,-208.8\" stroke=\"#000000\"/>\n<text fill=\"#000000\" font-family=\"Times,serif\" font-size=\"14.00\" text-anchor=\"middle\" x=\"488.4\" y=\"-187.1\">0</text>\n</g>\n<!-- node15 -->\n<g class=\"node\" id=\"node16\">\n<title>node15</title>\n<ellipse cx=\"522\" cy=\"-234\" fill=\"none\" rx=\"18\" ry=\"18\" stroke=\"#000000\"/>\n<text fill=\"#000000\" font-family=\"Times,serif\" font-size=\"14.00\" text-anchor=\"middle\" x=\"522\" y=\"-230.3\">+</text>\n</g>\n<!-- node15&#45;&#45;node13 -->\n<g class=\"edge\" id=\"edge17\">\n<title>node15--node13</title>\n<path d=\"M510.6246,-219.3745C508.0354,-216.0455 505.2536,-212.4689 502.5642,-209.0111\" fill=\"none\" stroke=\"#000000\"/>\n</g>\n<!-- node14 -->\n<g class=\"node\" id=\"node17\">\n<title>node14</title>\n<polygon fill=\"none\" points=\"573.6,-208.8 537.6,-208.8 537.6,-172.8 573.6,-172.8 573.6,-208.8\" stroke=\"#000000\"/>\n<text fill=\"#000000\" font-family=\"Times,serif\" font-size=\"14.00\" text-anchor=\"middle\" x=\"555.6\" y=\"-187.1\">1</text>\n</g>\n<!-- node15&#45;&#45;node14 -->\n<g class=\"edge\" id=\"edge18\">\n<title>node15--node14</title>\n<path d=\"M533.3754,-219.3745C535.9646,-216.0455 538.7464,-212.4689 541.4358,-209.0111\" fill=\"none\" stroke=\"#000000\"/>\n</g>\n<!-- node19&#45;&#45;node15 -->\n<g class=\"edge\" id=\"edge16\">\n<title>node19--node15</title>\n<path d=\"M573.9513,-267.3973C562.9536,-260.3273 548.1722,-250.825 537.1884,-243.764\" fill=\"none\" stroke=\"#000000\"/>\n</g>\n<!-- node18 -->\n<g class=\"node\" id=\"node20\">\n<title>node18</title>\n<ellipse cx=\"656.4\" cy=\"-234\" fill=\"none\" rx=\"18\" ry=\"18\" stroke=\"#000000\"/>\n<text fill=\"#000000\" font-family=\"Times,serif\" font-size=\"14.00\" text-anchor=\"middle\" x=\"656.4\" y=\"-230.3\">^</text>\n</g>\n<!-- node19&#45;&#45;node18 -->\n<g class=\"edge\" id=\"edge19\">\n<title>node19--node18</title>\n<path d=\"M604.4487,-267.3973C615.4464,-260.3273 630.2278,-250.825 641.2116,-243.764\" fill=\"none\" stroke=\"#000000\"/>\n</g>\n<!-- node16 -->\n<g class=\"node\" id=\"node19\">\n<title>node16</title>\n<polygon fill=\"none\" points=\"640.8,-208.8 604.8,-208.8 604.8,-172.8 640.8,-172.8 640.8,-208.8\" stroke=\"#000000\"/>\n<text fill=\"#000000\" font-family=\"Times,serif\" font-size=\"14.00\" text-anchor=\"middle\" x=\"622.8\" y=\"-187.1\">y</text>\n</g>\n<!-- node18&#45;&#45;node16 -->\n<g class=\"edge\" id=\"edge20\">\n<title>node18--node16</title>\n<path d=\"M645.0246,-219.3745C642.4354,-216.0455 639.6536,-212.4689 636.9642,-209.0111\" fill=\"none\" stroke=\"#000000\"/>\n</g>\n<!-- node17 -->\n<g class=\"node\" id=\"node21\">\n<title>node17</title>\n<polygon fill=\"none\" points=\"708,-208.8 672,-208.8 672,-172.8 708,-172.8 708,-208.8\" stroke=\"#000000\"/>\n<text fill=\"#000000\" font-family=\"Times,serif\" font-size=\"14.00\" text-anchor=\"middle\" x=\"690\" y=\"-187.1\">2</text>\n</g>\n<!-- node18&#45;&#45;node17 -->\n<g class=\"edge\" id=\"edge21\">\n<title>node18--node17</title>\n<path d=\"M667.7754,-219.3745C670.3646,-216.0455 673.1464,-212.4689 675.8358,-209.0111\" fill=\"none\" stroke=\"#000000\"/>\n</g>\n<!-- node26 -->\n<g class=\"node\" id=\"node22\">\n<title>node26</title>\n<ellipse cx=\"723.6\" cy=\"-363.6\" fill=\"none\" rx=\"18\" ry=\"18\" stroke=\"#000000\"/>\n<text fill=\"#000000\" font-family=\"Times,serif\" font-size=\"14.00\" text-anchor=\"middle\" x=\"723.6\" y=\"-359.9\">/</text>\n</g>\n<!-- node26&#45;&#45;node20 -->\n<g class=\"edge\" id=\"edge1\">\n<title>node26--node20</title>\n<path d=\"M705.5459,-360.6985C656.5779,-352.8286 521.6514,-331.144 472.7755,-323.2889\" fill=\"none\" stroke=\"#000000\"/>\n</g>\n<!-- node25 -->\n<g class=\"node\" id=\"node26\">\n<title>node25</title>\n<ellipse cx=\"858\" cy=\"-320.4\" fill=\"none\" rx=\"18\" ry=\"18\" stroke=\"#000000\"/>\n<text fill=\"#000000\" font-family=\"Times,serif\" font-size=\"14.00\" text-anchor=\"middle\" x=\"858\" y=\"-316.7\">^</text>\n</g>\n<!-- node26&#45;&#45;node25 -->\n<g class=\"edge\" id=\"edge22\">\n<title>node26--node25</title>\n<path d=\"M740.8953,-358.0408C766.7018,-349.7458 815.0032,-334.2204 840.7711,-325.9379\" fill=\"none\" stroke=\"#000000\"/>\n</g>\n<!-- node21 -->\n<g class=\"node\" id=\"node23\">\n<title>node21</title>\n<polygon fill=\"none\" points=\"775.2,-252 739.2,-252 739.2,-216 775.2,-216 775.2,-252\" stroke=\"#000000\"/>\n<text fill=\"#000000\" font-family=\"Times,serif\" font-size=\"14.00\" text-anchor=\"middle\" x=\"757.2\" y=\"-230.3\">9</text>\n</g>\n<!-- node23 -->\n<g class=\"node\" id=\"node24\">\n<title>node23</title>\n<ellipse cx=\"790.8\" cy=\"-277.2\" fill=\"none\" rx=\"18\" ry=\"18\" stroke=\"#000000\"/>\n<text fill=\"#000000\" font-family=\"Times,serif\" font-size=\"14.00\" text-anchor=\"middle\" x=\"790.8\" y=\"-273.5\">+</text>\n</g>\n<!-- node23&#45;&#45;node21 -->\n<g class=\"edge\" id=\"edge24\">\n<title>node23--node21</title>\n<path d=\"M779.4246,-262.5745C776.8353,-259.2455 774.0536,-255.6689 771.3642,-252.2111\" fill=\"none\" stroke=\"#000000\"/>\n</g>\n<!-- node22 -->\n<g class=\"node\" id=\"node25\">\n<title>node22</title>\n<polygon fill=\"none\" points=\"842.4,-252 806.4,-252 806.4,-216 842.4,-216 842.4,-252\" stroke=\"#000000\"/>\n<text fill=\"#000000\" font-family=\"Times,serif\" font-size=\"14.00\" text-anchor=\"middle\" x=\"824.4\" y=\"-230.3\">y</text>\n</g>\n<!-- node23&#45;&#45;node22 -->\n<g class=\"edge\" id=\"edge25\">\n<title>node23--node22</title>\n<path d=\"M802.1754,-262.5745C804.7646,-259.2455 807.5464,-255.6689 810.2358,-252.2111\" fill=\"none\" stroke=\"#000000\"/>\n</g>\n<!-- node25&#45;&#45;node23 -->\n<g class=\"edge\" id=\"edge23\">\n<title>node25--node23</title>\n<path d=\"M842.7513,-310.5973C831.7536,-303.5273 816.9722,-294.025 805.9884,-286.964\" fill=\"none\" stroke=\"#000000\"/>\n</g>\n<!-- node24 -->\n<g class=\"node\" id=\"node27\">\n<title>node24</title>\n<polygon fill=\"none\" points=\"909.6,-295.2 873.6,-295.2 873.6,-259.2 909.6,-259.2 909.6,-295.2\" stroke=\"#000000\"/>\n<text fill=\"#000000\" font-family=\"Times,serif\" font-size=\"14.00\" text-anchor=\"middle\" x=\"891.6\" y=\"-273.5\">2</text>\n</g>\n<!-- node25&#45;&#45;node24 -->\n<g class=\"edge\" id=\"edge26\">\n<title>node25--node24</title>\n<path d=\"M869.3754,-305.7745C871.9646,-302.4455 874.7464,-298.8689 877.4358,-295.4111\" fill=\"none\" stroke=\"#000000\"/>\n</g>\n</g>\n</svg>"
          },
          "metadata": {
            "tags": []
          }
        }
      ]
    },
    {
      "cell_type": "markdown",
      "metadata": {
        "id": "_ZWCB4QtbGmg"
      },
      "source": [
        "## Simplificaciones\n",
        "\n",
        "Como habrá visto, las fórmulas resultantes no son muy sencillas, pero también es obvio que se se podrían simplificar para que quedaran mucho más presentables. A continuación, proponga y describa cómo podrían implementarse algunas simplificaciones. Piense recursivamente. No es necesario que las implemente, pero si se atreve, agregue un método ``simplificar`` y pruébelo dibujando el árbol resultante."
      ]
    },
    {
      "cell_type": "markdown",
      "metadata": {
        "id": "Qx0OCRtUkUQT"
      },
      "source": [
        "\n",
        "Para simplificar yo me pondría a buscar aquellos casos cuyos resultados son triviales y generan operaciones innecesarias como sumar o restar 0. Casos de ejemplo:\n",
        "\n",
        "\n",
        "\n",
        "1.   Sumar y restar 0:\n",
        "\n",
        "\n",
        "\n",
        "> Simplemente podemos omitir la operación y cortar la parte de la suma/resta y unir la rama que queda con el elemento que no es 0 de la operación.\n",
        "\n",
        "\n",
        "2.  Multiplicar por 1:\n",
        "\n",
        "\n",
        "\n",
        "> Igual que en el caso anterior cortamos esta operación y unimos el hijo que no era 1.\n",
        "\n",
        "3. Multiplicar por 0\n",
        "\n",
        "\n",
        "\n",
        ">En este caso podríamos sacar la operación completa y dejar simplemente un 0 ya que cualquier cosa por 0 es 0.\n",
        "\n",
        "\n",
        "Si bien existen mas maneras de simplificar, si recorremos el árbol buscando estos casos y arreglándolos muchos de los árboles de derivadas disminuirían significantemente en tamaño.\n",
        "\n",
        "\n",
        "\n",
        "\n",
        "\n",
        "\n",
        "\n",
        "\n"
      ]
    },
    {
      "cell_type": "markdown",
      "metadata": {
        "id": "teA6YWX8bGnA"
      },
      "source": [
        "## ¿Qué hay que entregar?\n",
        "\n",
        "Usted debe entregar este mismo archivo, modificado de acuerdo a lo que se pide. Haga todos los cambios necesarios para explicar y documentar adecuadamente su código. No olvide poner su nombre."
      ]
    }
  ]
}