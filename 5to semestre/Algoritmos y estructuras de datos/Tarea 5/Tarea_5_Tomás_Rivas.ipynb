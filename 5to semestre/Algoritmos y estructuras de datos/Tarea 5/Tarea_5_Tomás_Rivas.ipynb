{
  "nbformat": 4,
  "nbformat_minor": 0,
  "metadata": {
    "kernelspec": {
      "display_name": "Python 3",
      "language": "python",
      "name": "python3"
    },
    "language_info": {
      "codemirror_mode": {
        "name": "ipython",
        "version": 3
      },
      "file_extension": ".py",
      "mimetype": "text/x-python",
      "name": "python",
      "nbconvert_exporter": "python",
      "pygments_lexer": "ipython3",
      "version": "3.7.1"
    },
    "colab": {
      "provenance": [],
      "collapsed_sections": [
        "m8Rb6XLFewyT",
        "Oe01FDHAewy3",
        "1xv7fhlb6Uq8",
        "q9XF84Yz6pl7",
        "d9nwK3Ld60U-",
        "2YPnD2MSewy5"
      ]
    }
  },
  "cells": [
    {
      "cell_type": "markdown",
      "metadata": {
        "id": "W264sNBjewyS"
      },
      "source": [
        "# CC3001 Otoño 2021 Tarea 5 Tomás Rivas\n",
        "# Inserción en la raíz en un ABB\n",
        "## Profesores\n",
        "Patricio Poblete, Nelson Baloian, Ivan Sipiran"
      ]
    },
    {
      "cell_type": "markdown",
      "metadata": {
        "id": "m8Rb6XLFewyT"
      },
      "source": [
        "---\n",
        "\n",
        "# CONTEXTO"
      ]
    },
    {
      "cell_type": "markdown",
      "metadata": {
        "id": "qO1wwYo7ewyW"
      },
      "source": [
        "El algoritmo usual de inserción en un ABB realiza una búsqueda infructuosa para la nueva llave, y la coloca en el lugar de la hoja en donde termina la búsqueda. Se dice que es una *inserción en las hojas*.\n",
        "\n",
        "Por contraposición, un algoritmo de *inserción en la raíz* deja la nueva llave como raíz del árbol resultante. En el apunte aparece un algoritmo de este tipo basado en *rotaciones*.\n",
        "\n",
        "El objetivo de esta tarea es implementar inserción en la raíz de un ABB usando un algoritmo alternativo, basado en la operación ``cut``(corte).\n",
        "\n",
        "Para comenzar, recordemos esta implementación del algoritmo de inserción usual (inserción en las hojas) adaptada del apunte:"
      ]
    },
    {
      "cell_type": "code",
      "metadata": {
        "id": "U6eWVvuTou4B",
        "colab": {
          "base_uri": "https://localhost:8080/"
        },
        "outputId": "6ee20ce9-56dd-4561-a37c-be5b0258b51c"
      },
      "source": [
        "!pip install aed-utilities\n",
        "import aed_utilities as aed"
      ],
      "execution_count": null,
      "outputs": [
        {
          "output_type": "stream",
          "text": [
            "Collecting aed-utilities\n",
            "  Downloading https://files.pythonhosted.org/packages/d9/53/1fb6dd5ad276ed9857cc448e7df0efc7f0f68c1818e8732bd5941ef99a7e/aed_utilities-0.5.2.tar.gz\n",
            "Collecting validators\n",
            "  Downloading https://files.pythonhosted.org/packages/db/2f/7fed3ee94ad665ad2c1de87f858f10a7785251ff75b4fd47987888d07ef1/validators-0.18.2-py3-none-any.whl\n",
            "Requirement already satisfied: beautifulsoup4 in /usr/local/lib/python3.7/dist-packages (from aed-utilities) (4.6.3)\n",
            "Requirement already satisfied: six>=1.4.0 in /usr/local/lib/python3.7/dist-packages (from validators->aed-utilities) (1.15.0)\n",
            "Requirement already satisfied: decorator>=3.4.0 in /usr/local/lib/python3.7/dist-packages (from validators->aed-utilities) (4.4.2)\n",
            "Building wheels for collected packages: aed-utilities\n",
            "  Building wheel for aed-utilities (setup.py) ... \u001b[?25l\u001b[?25hdone\n",
            "  Created wheel for aed-utilities: filename=aed_utilities-0.5.2-cp37-none-any.whl size=4467 sha256=597a66d5ec982becd7f38999f1676c9a3fcb0781ec3c0c2a1b97cdd16b85151d\n",
            "  Stored in directory: /root/.cache/pip/wheels/68/e6/33/33cadc26cc3b96e6f5830bb498d2c521b2e0fca7069fd52473\n",
            "Successfully built aed-utilities\n",
            "Installing collected packages: validators, aed-utilities\n",
            "Successfully installed aed-utilities-0.5.2 validators-0.18.2\n"
          ],
          "name": "stdout"
        }
      ]
    },
    {
      "cell_type": "code",
      "metadata": {
        "id": "JLwRwHBdewyX"
      },
      "source": [
        "class Nodoi:\n",
        "    def __init__(self, izq, info, der):\n",
        "        self.izq=izq\n",
        "        self.info=info\n",
        "        self.der=der\n",
        "        \n",
        "    def insert(self,x):\n",
        "        assert x!=self.info\n",
        "        if x<self.info:\n",
        "            return Nodoi(self.izq.insert(x),self.info,self.der)\n",
        "        else:\n",
        "            return Nodoi(self.izq,self.info,self.der.insert(x))\n",
        "\n",
        "class Nodoe:\n",
        "    def __init__(self):\n",
        "        pass\n",
        "    \n",
        "    def insert(self,x):\n",
        "        return Nodoi(Nodoe(),x,Nodoe())\n",
        "\n",
        "class Arbol:\n",
        "    def __init__(self,raiz=Nodoe()):\n",
        "        self.raiz=raiz     \n",
        "        \n",
        "    def insert(self,x):\n",
        "        self.raiz=self.raiz.insert(x)\n",
        "    \n",
        "    def dibujar(self):\n",
        "      btd = aed.BinaryTreeDrawer(fieldData=\"info\", fieldLeft=\"izq\", fieldRight=\"der\", classNone=Nodoe, drawNull=True)\n",
        "      btd.draw_tree(self, \"raiz\")"
      ],
      "execution_count": null,
      "outputs": []
    },
    {
      "cell_type": "markdown",
      "metadata": {
        "id": "fDxlhHBPewyd"
      },
      "source": [
        "Probemos este algoritmo con una secuencia de inserciones:"
      ]
    },
    {
      "cell_type": "code",
      "metadata": {
        "id": "0MwfhoUwewye",
        "colab": {
          "base_uri": "https://localhost:8080/",
          "height": 1000
        },
        "outputId": "607f8f5a-c9aa-48ea-ed79-d5126cd99732"
      },
      "source": [
        "lista=[4,9,6,2,7,1,8,3,5]\n",
        "a=Arbol()\n",
        "for x in lista:\n",
        "    a.insert(x)\n",
        "    a.dibujar()"
      ],
      "execution_count": null,
      "outputs": [
        {
          "output_type": "display_data",
          "data": {
            "text/plain": [
              "<IPython.core.display.SVG object>"
            ],
            "image/svg+xml": "<svg height=\"76pt\" viewBox=\"0.00 0.00 89.20 76.20\" width=\"89pt\" xmlns=\"http://www.w3.org/2000/svg\" xmlns:xlink=\"http://www.w3.org/1999/xlink\">\n<g class=\"graph\" id=\"graph0\" transform=\"scale(1 1) rotate(0) translate(4 72.2)\">\n<title>Arbol</title>\n<polygon fill=\"#ffffff\" points=\"-4,4 -4,-72.2 85.2,-72.2 85.2,4 -4,4\" stroke=\"transparent\"/>\n<!-- null0 -->\n<g class=\"node\" id=\"node1\">\n<title>null0</title>\n<polygon fill=\"none\" points=\"14,-14 0,-14 0,0 14,0 14,-14\" stroke=\"#000000\"/>\n</g>\n<!-- node0 -->\n<g class=\"node\" id=\"node2\">\n<title>node0</title>\n<ellipse cx=\"40.6\" cy=\"-50.2\" fill=\"none\" rx=\"18\" ry=\"18\" stroke=\"#000000\"/>\n<text fill=\"#000000\" font-family=\"Times,serif\" font-size=\"14.00\" text-anchor=\"middle\" x=\"40.6\" y=\"-46.5\">4</text>\n</g>\n<!-- node0&#45;&#45;null0 -->\n<g class=\"edge\" id=\"edge1\">\n<title>node0--null0</title>\n<path d=\"M29.2246,-35.5745C23.5892,-28.329 17.0417,-19.9107 12.5201,-14.0973\" fill=\"none\" stroke=\"#000000\"/>\n</g>\n<!-- null1 -->\n<g class=\"node\" id=\"node3\">\n<title>null1</title>\n<polygon fill=\"none\" points=\"81.2,-14 67.2,-14 67.2,0 81.2,0 81.2,-14\" stroke=\"#000000\"/>\n</g>\n<!-- node0&#45;&#45;null1 -->\n<g class=\"edge\" id=\"edge2\">\n<title>node0--null1</title>\n<path d=\"M51.9754,-35.5745C57.6108,-28.329 64.1583,-19.9107 68.6799,-14.0973\" fill=\"none\" stroke=\"#000000\"/>\n</g>\n</g>\n</svg>"
          },
          "metadata": {
            "tags": []
          }
        },
        {
          "output_type": "display_data",
          "data": {
            "text/plain": [
              "<IPython.core.display.SVG object>"
            ],
            "image/svg+xml": "<svg height=\"119pt\" viewBox=\"0.00 0.00 156.40 119.40\" width=\"156pt\" xmlns=\"http://www.w3.org/2000/svg\" xmlns:xlink=\"http://www.w3.org/1999/xlink\">\n<g class=\"graph\" id=\"graph0\" transform=\"scale(1 1) rotate(0) translate(4 115.4)\">\n<title>Arbol</title>\n<polygon fill=\"#ffffff\" points=\"-4,4 -4,-115.4 152.4,-115.4 152.4,4 -4,4\" stroke=\"transparent\"/>\n<!-- null0 -->\n<g class=\"node\" id=\"node1\">\n<title>null0</title>\n<polygon fill=\"none\" points=\"14,-57.2 0,-57.2 0,-43.2 14,-43.2 14,-57.2\" stroke=\"#000000\"/>\n</g>\n<!-- node1 -->\n<g class=\"node\" id=\"node2\">\n<title>node1</title>\n<ellipse cx=\"40.6\" cy=\"-93.4\" fill=\"none\" rx=\"18\" ry=\"18\" stroke=\"#000000\"/>\n<text fill=\"#000000\" font-family=\"Times,serif\" font-size=\"14.00\" text-anchor=\"middle\" x=\"40.6\" y=\"-89.7\">4</text>\n</g>\n<!-- node1&#45;&#45;null0 -->\n<g class=\"edge\" id=\"edge1\">\n<title>node1--null0</title>\n<path d=\"M29.2246,-78.7745C23.5892,-71.529 17.0417,-63.1107 12.5201,-57.2973\" fill=\"none\" stroke=\"#000000\"/>\n</g>\n<!-- node0 -->\n<g class=\"node\" id=\"node4\">\n<title>node0</title>\n<ellipse cx=\"107.8\" cy=\"-50.2\" fill=\"none\" rx=\"18\" ry=\"18\" stroke=\"#000000\"/>\n<text fill=\"#000000\" font-family=\"Times,serif\" font-size=\"14.00\" text-anchor=\"middle\" x=\"107.8\" y=\"-46.5\">9</text>\n</g>\n<!-- node1&#45;&#45;node0 -->\n<g class=\"edge\" id=\"edge2\">\n<title>node1--node0</title>\n<path d=\"M55.8487,-83.5973C66.8464,-76.5273 81.6278,-67.025 92.6116,-59.964\" fill=\"none\" stroke=\"#000000\"/>\n</g>\n<!-- null1 -->\n<g class=\"node\" id=\"node3\">\n<title>null1</title>\n<polygon fill=\"none\" points=\"81.2,-14 67.2,-14 67.2,0 81.2,0 81.2,-14\" stroke=\"#000000\"/>\n</g>\n<!-- node0&#45;&#45;null1 -->\n<g class=\"edge\" id=\"edge3\">\n<title>node0--null1</title>\n<path d=\"M96.4246,-35.5745C90.7892,-28.329 84.2417,-19.9107 79.7201,-14.0973\" fill=\"none\" stroke=\"#000000\"/>\n</g>\n<!-- null2 -->\n<g class=\"node\" id=\"node5\">\n<title>null2</title>\n<polygon fill=\"none\" points=\"148.4,-14 134.4,-14 134.4,0 148.4,0 148.4,-14\" stroke=\"#000000\"/>\n</g>\n<!-- node0&#45;&#45;null2 -->\n<g class=\"edge\" id=\"edge4\">\n<title>node0--null2</title>\n<path d=\"M119.1754,-35.5745C124.8108,-28.329 131.3583,-19.9107 135.8799,-14.0973\" fill=\"none\" stroke=\"#000000\"/>\n</g>\n</g>\n</svg>"
          },
          "metadata": {
            "tags": []
          }
        },
        {
          "output_type": "display_data",
          "data": {
            "text/plain": [
              "<IPython.core.display.SVG object>"
            ],
            "image/svg+xml": "<svg height=\"163pt\" viewBox=\"0.00 0.00 223.60 162.60\" width=\"224pt\" xmlns=\"http://www.w3.org/2000/svg\" xmlns:xlink=\"http://www.w3.org/1999/xlink\">\n<g class=\"graph\" id=\"graph0\" transform=\"scale(1 1) rotate(0) translate(4 158.6)\">\n<title>Arbol</title>\n<polygon fill=\"#ffffff\" points=\"-4,4 -4,-158.6 219.6,-158.6 219.6,4 -4,4\" stroke=\"transparent\"/>\n<!-- null0 -->\n<g class=\"node\" id=\"node1\">\n<title>null0</title>\n<polygon fill=\"none\" points=\"14,-100.4 0,-100.4 0,-86.4 14,-86.4 14,-100.4\" stroke=\"#000000\"/>\n</g>\n<!-- node2 -->\n<g class=\"node\" id=\"node2\">\n<title>node2</title>\n<ellipse cx=\"40.6\" cy=\"-136.6\" fill=\"none\" rx=\"18\" ry=\"18\" stroke=\"#000000\"/>\n<text fill=\"#000000\" font-family=\"Times,serif\" font-size=\"14.00\" text-anchor=\"middle\" x=\"40.6\" y=\"-132.9\">4</text>\n</g>\n<!-- node2&#45;&#45;null0 -->\n<g class=\"edge\" id=\"edge1\">\n<title>node2--null0</title>\n<path d=\"M29.2246,-121.9745C23.5892,-114.729 17.0417,-106.3107 12.5201,-100.4973\" fill=\"none\" stroke=\"#000000\"/>\n</g>\n<!-- node1 -->\n<g class=\"node\" id=\"node6\">\n<title>node1</title>\n<ellipse cx=\"175\" cy=\"-93.4\" fill=\"none\" rx=\"18\" ry=\"18\" stroke=\"#000000\"/>\n<text fill=\"#000000\" font-family=\"Times,serif\" font-size=\"14.00\" text-anchor=\"middle\" x=\"175\" y=\"-89.7\">9</text>\n</g>\n<!-- node2&#45;&#45;node1 -->\n<g class=\"edge\" id=\"edge2\">\n<title>node2--node1</title>\n<path d=\"M57.8953,-131.0408C83.7018,-122.7458 132.0032,-107.2204 157.7711,-98.9379\" fill=\"none\" stroke=\"#000000\"/>\n</g>\n<!-- null1 -->\n<g class=\"node\" id=\"node3\">\n<title>null1</title>\n<polygon fill=\"none\" points=\"81.2,-14 67.2,-14 67.2,0 81.2,0 81.2,-14\" stroke=\"#000000\"/>\n</g>\n<!-- node0 -->\n<g class=\"node\" id=\"node4\">\n<title>node0</title>\n<ellipse cx=\"107.8\" cy=\"-50.2\" fill=\"none\" rx=\"18\" ry=\"18\" stroke=\"#000000\"/>\n<text fill=\"#000000\" font-family=\"Times,serif\" font-size=\"14.00\" text-anchor=\"middle\" x=\"107.8\" y=\"-46.5\">6</text>\n</g>\n<!-- node0&#45;&#45;null1 -->\n<g class=\"edge\" id=\"edge4\">\n<title>node0--null1</title>\n<path d=\"M96.4246,-35.5745C90.7892,-28.329 84.2417,-19.9107 79.7201,-14.0973\" fill=\"none\" stroke=\"#000000\"/>\n</g>\n<!-- null2 -->\n<g class=\"node\" id=\"node5\">\n<title>null2</title>\n<polygon fill=\"none\" points=\"148.4,-14 134.4,-14 134.4,0 148.4,0 148.4,-14\" stroke=\"#000000\"/>\n</g>\n<!-- node0&#45;&#45;null2 -->\n<g class=\"edge\" id=\"edge5\">\n<title>node0--null2</title>\n<path d=\"M119.1754,-35.5745C124.8108,-28.329 131.3583,-19.9107 135.8799,-14.0973\" fill=\"none\" stroke=\"#000000\"/>\n</g>\n<!-- node1&#45;&#45;node0 -->\n<g class=\"edge\" id=\"edge3\">\n<title>node1--node0</title>\n<path d=\"M159.7513,-83.5973C148.7536,-76.5273 133.9722,-67.025 122.9884,-59.964\" fill=\"none\" stroke=\"#000000\"/>\n</g>\n<!-- null3 -->\n<g class=\"node\" id=\"node7\">\n<title>null3</title>\n<polygon fill=\"none\" points=\"215.6,-57.2 201.6,-57.2 201.6,-43.2 215.6,-43.2 215.6,-57.2\" stroke=\"#000000\"/>\n</g>\n<!-- node1&#45;&#45;null3 -->\n<g class=\"edge\" id=\"edge6\">\n<title>node1--null3</title>\n<path d=\"M186.3754,-78.7745C192.0108,-71.529 198.5583,-63.1107 203.0799,-57.2973\" fill=\"none\" stroke=\"#000000\"/>\n</g>\n</g>\n</svg>"
          },
          "metadata": {
            "tags": []
          }
        },
        {
          "output_type": "display_data",
          "data": {
            "text/plain": [
              "<IPython.core.display.SVG object>"
            ],
            "image/svg+xml": "<svg height=\"163pt\" viewBox=\"0.00 0.00 290.80 162.60\" width=\"291pt\" xmlns=\"http://www.w3.org/2000/svg\" xmlns:xlink=\"http://www.w3.org/1999/xlink\">\n<g class=\"graph\" id=\"graph0\" transform=\"scale(1 1) rotate(0) translate(4 158.6)\">\n<title>Arbol</title>\n<polygon fill=\"#ffffff\" points=\"-4,4 -4,-158.6 286.8,-158.6 286.8,4 -4,4\" stroke=\"transparent\"/>\n<!-- null0 -->\n<g class=\"node\" id=\"node1\">\n<title>null0</title>\n<polygon fill=\"none\" points=\"14,-57.2 0,-57.2 0,-43.2 14,-43.2 14,-57.2\" stroke=\"#000000\"/>\n</g>\n<!-- node0 -->\n<g class=\"node\" id=\"node2\">\n<title>node0</title>\n<ellipse cx=\"40.6\" cy=\"-93.4\" fill=\"none\" rx=\"18\" ry=\"18\" stroke=\"#000000\"/>\n<text fill=\"#000000\" font-family=\"Times,serif\" font-size=\"14.00\" text-anchor=\"middle\" x=\"40.6\" y=\"-89.7\">2</text>\n</g>\n<!-- node0&#45;&#45;null0 -->\n<g class=\"edge\" id=\"edge2\">\n<title>node0--null0</title>\n<path d=\"M29.2246,-78.7745C23.5892,-71.529 17.0417,-63.1107 12.5201,-57.2973\" fill=\"none\" stroke=\"#000000\"/>\n</g>\n<!-- null1 -->\n<g class=\"node\" id=\"node3\">\n<title>null1</title>\n<polygon fill=\"none\" points=\"81.2,-57.2 67.2,-57.2 67.2,-43.2 81.2,-43.2 81.2,-57.2\" stroke=\"#000000\"/>\n</g>\n<!-- node0&#45;&#45;null1 -->\n<g class=\"edge\" id=\"edge3\">\n<title>node0--null1</title>\n<path d=\"M51.9754,-78.7745C57.6108,-71.529 64.1583,-63.1107 68.6799,-57.2973\" fill=\"none\" stroke=\"#000000\"/>\n</g>\n<!-- node3 -->\n<g class=\"node\" id=\"node4\">\n<title>node3</title>\n<ellipse cx=\"107.8\" cy=\"-136.6\" fill=\"none\" rx=\"18\" ry=\"18\" stroke=\"#000000\"/>\n<text fill=\"#000000\" font-family=\"Times,serif\" font-size=\"14.00\" text-anchor=\"middle\" x=\"107.8\" y=\"-132.9\">4</text>\n</g>\n<!-- node3&#45;&#45;node0 -->\n<g class=\"edge\" id=\"edge1\">\n<title>node3--node0</title>\n<path d=\"M92.5513,-126.7973C81.5536,-119.7273 66.7722,-110.225 55.7884,-103.164\" fill=\"none\" stroke=\"#000000\"/>\n</g>\n<!-- node2 -->\n<g class=\"node\" id=\"node8\">\n<title>node2</title>\n<ellipse cx=\"242.2\" cy=\"-93.4\" fill=\"none\" rx=\"18\" ry=\"18\" stroke=\"#000000\"/>\n<text fill=\"#000000\" font-family=\"Times,serif\" font-size=\"14.00\" text-anchor=\"middle\" x=\"242.2\" y=\"-89.7\">9</text>\n</g>\n<!-- node3&#45;&#45;node2 -->\n<g class=\"edge\" id=\"edge4\">\n<title>node3--node2</title>\n<path d=\"M125.0953,-131.0408C150.9018,-122.7458 199.2032,-107.2204 224.9711,-98.9379\" fill=\"none\" stroke=\"#000000\"/>\n</g>\n<!-- null2 -->\n<g class=\"node\" id=\"node5\">\n<title>null2</title>\n<polygon fill=\"none\" points=\"148.4,-14 134.4,-14 134.4,0 148.4,0 148.4,-14\" stroke=\"#000000\"/>\n</g>\n<!-- node1 -->\n<g class=\"node\" id=\"node6\">\n<title>node1</title>\n<ellipse cx=\"175\" cy=\"-50.2\" fill=\"none\" rx=\"18\" ry=\"18\" stroke=\"#000000\"/>\n<text fill=\"#000000\" font-family=\"Times,serif\" font-size=\"14.00\" text-anchor=\"middle\" x=\"175\" y=\"-46.5\">6</text>\n</g>\n<!-- node1&#45;&#45;null2 -->\n<g class=\"edge\" id=\"edge6\">\n<title>node1--null2</title>\n<path d=\"M163.6246,-35.5745C157.9892,-28.329 151.4417,-19.9107 146.9201,-14.0973\" fill=\"none\" stroke=\"#000000\"/>\n</g>\n<!-- null3 -->\n<g class=\"node\" id=\"node7\">\n<title>null3</title>\n<polygon fill=\"none\" points=\"215.6,-14 201.6,-14 201.6,0 215.6,0 215.6,-14\" stroke=\"#000000\"/>\n</g>\n<!-- node1&#45;&#45;null3 -->\n<g class=\"edge\" id=\"edge7\">\n<title>node1--null3</title>\n<path d=\"M186.3754,-35.5745C192.0108,-28.329 198.5583,-19.9107 203.0799,-14.0973\" fill=\"none\" stroke=\"#000000\"/>\n</g>\n<!-- node2&#45;&#45;node1 -->\n<g class=\"edge\" id=\"edge5\">\n<title>node2--node1</title>\n<path d=\"M226.9513,-83.5973C215.9536,-76.5273 201.1722,-67.025 190.1884,-59.964\" fill=\"none\" stroke=\"#000000\"/>\n</g>\n<!-- null4 -->\n<g class=\"node\" id=\"node9\">\n<title>null4</title>\n<polygon fill=\"none\" points=\"282.8,-57.2 268.8,-57.2 268.8,-43.2 282.8,-43.2 282.8,-57.2\" stroke=\"#000000\"/>\n</g>\n<!-- node2&#45;&#45;null4 -->\n<g class=\"edge\" id=\"edge8\">\n<title>node2--null4</title>\n<path d=\"M253.5754,-78.7745C259.2108,-71.529 265.7583,-63.1107 270.2799,-57.2973\" fill=\"none\" stroke=\"#000000\"/>\n</g>\n</g>\n</svg>"
          },
          "metadata": {
            "tags": []
          }
        },
        {
          "output_type": "display_data",
          "data": {
            "text/plain": [
              "<IPython.core.display.SVG object>"
            ],
            "image/svg+xml": "<svg height=\"206pt\" viewBox=\"0.00 0.00 358.00 205.80\" width=\"358pt\" xmlns=\"http://www.w3.org/2000/svg\" xmlns:xlink=\"http://www.w3.org/1999/xlink\">\n<g class=\"graph\" id=\"graph0\" transform=\"scale(1 1) rotate(0) translate(4 201.8)\">\n<title>Arbol</title>\n<polygon fill=\"#ffffff\" points=\"-4,4 -4,-201.8 354,-201.8 354,4 -4,4\" stroke=\"transparent\"/>\n<!-- null0 -->\n<g class=\"node\" id=\"node1\">\n<title>null0</title>\n<polygon fill=\"none\" points=\"14,-100.4 0,-100.4 0,-86.4 14,-86.4 14,-100.4\" stroke=\"#000000\"/>\n</g>\n<!-- node0 -->\n<g class=\"node\" id=\"node2\">\n<title>node0</title>\n<ellipse cx=\"40.6\" cy=\"-136.6\" fill=\"none\" rx=\"18\" ry=\"18\" stroke=\"#000000\"/>\n<text fill=\"#000000\" font-family=\"Times,serif\" font-size=\"14.00\" text-anchor=\"middle\" x=\"40.6\" y=\"-132.9\">2</text>\n</g>\n<!-- node0&#45;&#45;null0 -->\n<g class=\"edge\" id=\"edge2\">\n<title>node0--null0</title>\n<path d=\"M29.2246,-121.9745C23.5892,-114.729 17.0417,-106.3107 12.5201,-100.4973\" fill=\"none\" stroke=\"#000000\"/>\n</g>\n<!-- null1 -->\n<g class=\"node\" id=\"node3\">\n<title>null1</title>\n<polygon fill=\"none\" points=\"81.2,-100.4 67.2,-100.4 67.2,-86.4 81.2,-86.4 81.2,-100.4\" stroke=\"#000000\"/>\n</g>\n<!-- node0&#45;&#45;null1 -->\n<g class=\"edge\" id=\"edge3\">\n<title>node0--null1</title>\n<path d=\"M51.9754,-121.9745C57.6108,-114.729 64.1583,-106.3107 68.6799,-100.4973\" fill=\"none\" stroke=\"#000000\"/>\n</g>\n<!-- node4 -->\n<g class=\"node\" id=\"node4\">\n<title>node4</title>\n<ellipse cx=\"107.8\" cy=\"-179.8\" fill=\"none\" rx=\"18\" ry=\"18\" stroke=\"#000000\"/>\n<text fill=\"#000000\" font-family=\"Times,serif\" font-size=\"14.00\" text-anchor=\"middle\" x=\"107.8\" y=\"-176.1\">4</text>\n</g>\n<!-- node4&#45;&#45;node0 -->\n<g class=\"edge\" id=\"edge1\">\n<title>node4--node0</title>\n<path d=\"M92.5513,-169.9973C81.5536,-162.9273 66.7722,-153.425 55.7884,-146.364\" fill=\"none\" stroke=\"#000000\"/>\n</g>\n<!-- node3 -->\n<g class=\"node\" id=\"node10\">\n<title>node3</title>\n<ellipse cx=\"309.4\" cy=\"-136.6\" fill=\"none\" rx=\"18\" ry=\"18\" stroke=\"#000000\"/>\n<text fill=\"#000000\" font-family=\"Times,serif\" font-size=\"14.00\" text-anchor=\"middle\" x=\"309.4\" y=\"-132.9\">9</text>\n</g>\n<!-- node4&#45;&#45;node3 -->\n<g class=\"edge\" id=\"edge4\">\n<title>node4--node3</title>\n<path d=\"M125.6906,-175.9663C163.9477,-167.7683 253.3281,-148.6154 291.5494,-140.4251\" fill=\"none\" stroke=\"#000000\"/>\n</g>\n<!-- null2 -->\n<g class=\"node\" id=\"node5\">\n<title>null2</title>\n<polygon fill=\"none\" points=\"148.4,-57.2 134.4,-57.2 134.4,-43.2 148.4,-43.2 148.4,-57.2\" stroke=\"#000000\"/>\n</g>\n<!-- node2 -->\n<g class=\"node\" id=\"node6\">\n<title>node2</title>\n<ellipse cx=\"175\" cy=\"-93.4\" fill=\"none\" rx=\"18\" ry=\"18\" stroke=\"#000000\"/>\n<text fill=\"#000000\" font-family=\"Times,serif\" font-size=\"14.00\" text-anchor=\"middle\" x=\"175\" y=\"-89.7\">6</text>\n</g>\n<!-- node2&#45;&#45;null2 -->\n<g class=\"edge\" id=\"edge6\">\n<title>node2--null2</title>\n<path d=\"M163.6246,-78.7745C157.9892,-71.529 151.4417,-63.1107 146.9201,-57.2973\" fill=\"none\" stroke=\"#000000\"/>\n</g>\n<!-- node1 -->\n<g class=\"node\" id=\"node8\">\n<title>node1</title>\n<ellipse cx=\"242.2\" cy=\"-50.2\" fill=\"none\" rx=\"18\" ry=\"18\" stroke=\"#000000\"/>\n<text fill=\"#000000\" font-family=\"Times,serif\" font-size=\"14.00\" text-anchor=\"middle\" x=\"242.2\" y=\"-46.5\">7</text>\n</g>\n<!-- node2&#45;&#45;node1 -->\n<g class=\"edge\" id=\"edge7\">\n<title>node2--node1</title>\n<path d=\"M190.2487,-83.5973C201.2464,-76.5273 216.0278,-67.025 227.0116,-59.964\" fill=\"none\" stroke=\"#000000\"/>\n</g>\n<!-- null3 -->\n<g class=\"node\" id=\"node7\">\n<title>null3</title>\n<polygon fill=\"none\" points=\"215.6,-14 201.6,-14 201.6,0 215.6,0 215.6,-14\" stroke=\"#000000\"/>\n</g>\n<!-- node1&#45;&#45;null3 -->\n<g class=\"edge\" id=\"edge8\">\n<title>node1--null3</title>\n<path d=\"M230.8246,-35.5745C225.1892,-28.329 218.6417,-19.9107 214.1201,-14.0973\" fill=\"none\" stroke=\"#000000\"/>\n</g>\n<!-- null4 -->\n<g class=\"node\" id=\"node9\">\n<title>null4</title>\n<polygon fill=\"none\" points=\"282.8,-14 268.8,-14 268.8,0 282.8,0 282.8,-14\" stroke=\"#000000\"/>\n</g>\n<!-- node1&#45;&#45;null4 -->\n<g class=\"edge\" id=\"edge9\">\n<title>node1--null4</title>\n<path d=\"M253.5754,-35.5745C259.2108,-28.329 265.7583,-19.9107 270.2799,-14.0973\" fill=\"none\" stroke=\"#000000\"/>\n</g>\n<!-- node3&#45;&#45;node2 -->\n<g class=\"edge\" id=\"edge5\">\n<title>node3--node2</title>\n<path d=\"M292.1047,-131.0408C266.2982,-122.7458 217.9968,-107.2204 192.2289,-98.9379\" fill=\"none\" stroke=\"#000000\"/>\n</g>\n<!-- null5 -->\n<g class=\"node\" id=\"node11\">\n<title>null5</title>\n<polygon fill=\"none\" points=\"350,-100.4 336,-100.4 336,-86.4 350,-86.4 350,-100.4\" stroke=\"#000000\"/>\n</g>\n<!-- node3&#45;&#45;null5 -->\n<g class=\"edge\" id=\"edge10\">\n<title>node3--null5</title>\n<path d=\"M320.7754,-121.9745C326.4108,-114.729 332.9583,-106.3107 337.4799,-100.4973\" fill=\"none\" stroke=\"#000000\"/>\n</g>\n</g>\n</svg>"
          },
          "metadata": {
            "tags": []
          }
        },
        {
          "output_type": "display_data",
          "data": {
            "text/plain": [
              "<IPython.core.display.SVG object>"
            ],
            "image/svg+xml": "<svg height=\"206pt\" viewBox=\"0.00 0.00 425.20 205.80\" width=\"425pt\" xmlns=\"http://www.w3.org/2000/svg\" xmlns:xlink=\"http://www.w3.org/1999/xlink\">\n<g class=\"graph\" id=\"graph0\" transform=\"scale(1 1) rotate(0) translate(4 201.8)\">\n<title>Arbol</title>\n<polygon fill=\"#ffffff\" points=\"-4,4 -4,-201.8 421.2,-201.8 421.2,4 -4,4\" stroke=\"transparent\"/>\n<!-- null0 -->\n<g class=\"node\" id=\"node1\">\n<title>null0</title>\n<polygon fill=\"none\" points=\"14,-57.2 0,-57.2 0,-43.2 14,-43.2 14,-57.2\" stroke=\"#000000\"/>\n</g>\n<!-- node0 -->\n<g class=\"node\" id=\"node2\">\n<title>node0</title>\n<ellipse cx=\"40.6\" cy=\"-93.4\" fill=\"none\" rx=\"18\" ry=\"18\" stroke=\"#000000\"/>\n<text fill=\"#000000\" font-family=\"Times,serif\" font-size=\"14.00\" text-anchor=\"middle\" x=\"40.6\" y=\"-89.7\">1</text>\n</g>\n<!-- node0&#45;&#45;null0 -->\n<g class=\"edge\" id=\"edge3\">\n<title>node0--null0</title>\n<path d=\"M29.2246,-78.7745C23.5892,-71.529 17.0417,-63.1107 12.5201,-57.2973\" fill=\"none\" stroke=\"#000000\"/>\n</g>\n<!-- null1 -->\n<g class=\"node\" id=\"node3\">\n<title>null1</title>\n<polygon fill=\"none\" points=\"81.2,-57.2 67.2,-57.2 67.2,-43.2 81.2,-43.2 81.2,-57.2\" stroke=\"#000000\"/>\n</g>\n<!-- node0&#45;&#45;null1 -->\n<g class=\"edge\" id=\"edge4\">\n<title>node0--null1</title>\n<path d=\"M51.9754,-78.7745C57.6108,-71.529 64.1583,-63.1107 68.6799,-57.2973\" fill=\"none\" stroke=\"#000000\"/>\n</g>\n<!-- node1 -->\n<g class=\"node\" id=\"node4\">\n<title>node1</title>\n<ellipse cx=\"107.8\" cy=\"-136.6\" fill=\"none\" rx=\"18\" ry=\"18\" stroke=\"#000000\"/>\n<text fill=\"#000000\" font-family=\"Times,serif\" font-size=\"14.00\" text-anchor=\"middle\" x=\"107.8\" y=\"-132.9\">2</text>\n</g>\n<!-- node1&#45;&#45;node0 -->\n<g class=\"edge\" id=\"edge2\">\n<title>node1--node0</title>\n<path d=\"M92.5513,-126.7973C81.5536,-119.7273 66.7722,-110.225 55.7884,-103.164\" fill=\"none\" stroke=\"#000000\"/>\n</g>\n<!-- null2 -->\n<g class=\"node\" id=\"node5\">\n<title>null2</title>\n<polygon fill=\"none\" points=\"148.4,-100.4 134.4,-100.4 134.4,-86.4 148.4,-86.4 148.4,-100.4\" stroke=\"#000000\"/>\n</g>\n<!-- node1&#45;&#45;null2 -->\n<g class=\"edge\" id=\"edge5\">\n<title>node1--null2</title>\n<path d=\"M119.1754,-121.9745C124.8108,-114.729 131.3583,-106.3107 135.8799,-100.4973\" fill=\"none\" stroke=\"#000000\"/>\n</g>\n<!-- node5 -->\n<g class=\"node\" id=\"node6\">\n<title>node5</title>\n<ellipse cx=\"175\" cy=\"-179.8\" fill=\"none\" rx=\"18\" ry=\"18\" stroke=\"#000000\"/>\n<text fill=\"#000000\" font-family=\"Times,serif\" font-size=\"14.00\" text-anchor=\"middle\" x=\"175\" y=\"-176.1\">4</text>\n</g>\n<!-- node5&#45;&#45;node1 -->\n<g class=\"edge\" id=\"edge1\">\n<title>node5--node1</title>\n<path d=\"M159.7513,-169.9973C148.7536,-162.9273 133.9722,-153.425 122.9884,-146.364\" fill=\"none\" stroke=\"#000000\"/>\n</g>\n<!-- node4 -->\n<g class=\"node\" id=\"node12\">\n<title>node4</title>\n<ellipse cx=\"376.6\" cy=\"-136.6\" fill=\"none\" rx=\"18\" ry=\"18\" stroke=\"#000000\"/>\n<text fill=\"#000000\" font-family=\"Times,serif\" font-size=\"14.00\" text-anchor=\"middle\" x=\"376.6\" y=\"-132.9\">9</text>\n</g>\n<!-- node5&#45;&#45;node4 -->\n<g class=\"edge\" id=\"edge6\">\n<title>node5--node4</title>\n<path d=\"M192.8907,-175.9663C231.1477,-167.7684 320.5281,-148.6154 358.7494,-140.4251\" fill=\"none\" stroke=\"#000000\"/>\n</g>\n<!-- null3 -->\n<g class=\"node\" id=\"node7\">\n<title>null3</title>\n<polygon fill=\"none\" points=\"215.6,-57.2 201.6,-57.2 201.6,-43.2 215.6,-43.2 215.6,-57.2\" stroke=\"#000000\"/>\n</g>\n<!-- node3 -->\n<g class=\"node\" id=\"node8\">\n<title>node3</title>\n<ellipse cx=\"242.2\" cy=\"-93.4\" fill=\"none\" rx=\"18\" ry=\"18\" stroke=\"#000000\"/>\n<text fill=\"#000000\" font-family=\"Times,serif\" font-size=\"14.00\" text-anchor=\"middle\" x=\"242.2\" y=\"-89.7\">6</text>\n</g>\n<!-- node3&#45;&#45;null3 -->\n<g class=\"edge\" id=\"edge8\">\n<title>node3--null3</title>\n<path d=\"M230.8246,-78.7745C225.1892,-71.529 218.6417,-63.1107 214.1201,-57.2973\" fill=\"none\" stroke=\"#000000\"/>\n</g>\n<!-- node2 -->\n<g class=\"node\" id=\"node10\">\n<title>node2</title>\n<ellipse cx=\"309.4\" cy=\"-50.2\" fill=\"none\" rx=\"18\" ry=\"18\" stroke=\"#000000\"/>\n<text fill=\"#000000\" font-family=\"Times,serif\" font-size=\"14.00\" text-anchor=\"middle\" x=\"309.4\" y=\"-46.5\">7</text>\n</g>\n<!-- node3&#45;&#45;node2 -->\n<g class=\"edge\" id=\"edge9\">\n<title>node3--node2</title>\n<path d=\"M257.4487,-83.5973C268.4464,-76.5273 283.2278,-67.025 294.2116,-59.964\" fill=\"none\" stroke=\"#000000\"/>\n</g>\n<!-- null4 -->\n<g class=\"node\" id=\"node9\">\n<title>null4</title>\n<polygon fill=\"none\" points=\"282.8,-14 268.8,-14 268.8,0 282.8,0 282.8,-14\" stroke=\"#000000\"/>\n</g>\n<!-- node2&#45;&#45;null4 -->\n<g class=\"edge\" id=\"edge10\">\n<title>node2--null4</title>\n<path d=\"M298.0246,-35.5745C292.3892,-28.329 285.8417,-19.9107 281.3201,-14.0973\" fill=\"none\" stroke=\"#000000\"/>\n</g>\n<!-- null5 -->\n<g class=\"node\" id=\"node11\">\n<title>null5</title>\n<polygon fill=\"none\" points=\"350,-14 336,-14 336,0 350,0 350,-14\" stroke=\"#000000\"/>\n</g>\n<!-- node2&#45;&#45;null5 -->\n<g class=\"edge\" id=\"edge11\">\n<title>node2--null5</title>\n<path d=\"M320.7754,-35.5745C326.4108,-28.329 332.9583,-19.9107 337.4799,-14.0973\" fill=\"none\" stroke=\"#000000\"/>\n</g>\n<!-- node4&#45;&#45;node3 -->\n<g class=\"edge\" id=\"edge7\">\n<title>node4--node3</title>\n<path d=\"M359.3047,-131.0408C333.4982,-122.7458 285.1968,-107.2204 259.4289,-98.9379\" fill=\"none\" stroke=\"#000000\"/>\n</g>\n<!-- null6 -->\n<g class=\"node\" id=\"node13\">\n<title>null6</title>\n<polygon fill=\"none\" points=\"417.2,-100.4 403.2,-100.4 403.2,-86.4 417.2,-86.4 417.2,-100.4\" stroke=\"#000000\"/>\n</g>\n<!-- node4&#45;&#45;null6 -->\n<g class=\"edge\" id=\"edge12\">\n<title>node4--null6</title>\n<path d=\"M387.9754,-121.9745C393.6108,-114.729 400.1583,-106.3107 404.6799,-100.4973\" fill=\"none\" stroke=\"#000000\"/>\n</g>\n</g>\n</svg>"
          },
          "metadata": {
            "tags": []
          }
        },
        {
          "output_type": "display_data",
          "data": {
            "text/plain": [
              "<IPython.core.display.SVG object>"
            ],
            "image/svg+xml": "<svg height=\"249pt\" viewBox=\"0.00 0.00 492.40 249.00\" width=\"492pt\" xmlns=\"http://www.w3.org/2000/svg\" xmlns:xlink=\"http://www.w3.org/1999/xlink\">\n<g class=\"graph\" id=\"graph0\" transform=\"scale(1 1) rotate(0) translate(4 245)\">\n<title>Arbol</title>\n<polygon fill=\"#ffffff\" points=\"-4,4 -4,-245 488.4,-245 488.4,4 -4,4\" stroke=\"transparent\"/>\n<!-- null0 -->\n<g class=\"node\" id=\"node1\">\n<title>null0</title>\n<polygon fill=\"none\" points=\"14,-100.4 0,-100.4 0,-86.4 14,-86.4 14,-100.4\" stroke=\"#000000\"/>\n</g>\n<!-- node0 -->\n<g class=\"node\" id=\"node2\">\n<title>node0</title>\n<ellipse cx=\"40.6\" cy=\"-136.6\" fill=\"none\" rx=\"18\" ry=\"18\" stroke=\"#000000\"/>\n<text fill=\"#000000\" font-family=\"Times,serif\" font-size=\"14.00\" text-anchor=\"middle\" x=\"40.6\" y=\"-132.9\">1</text>\n</g>\n<!-- node0&#45;&#45;null0 -->\n<g class=\"edge\" id=\"edge3\">\n<title>node0--null0</title>\n<path d=\"M29.2246,-121.9744C23.5892,-114.729 17.0417,-106.3107 12.5201,-100.4973\" fill=\"none\" stroke=\"#000000\"/>\n</g>\n<!-- null1 -->\n<g class=\"node\" id=\"node3\">\n<title>null1</title>\n<polygon fill=\"none\" points=\"81.2,-100.4 67.2,-100.4 67.2,-86.4 81.2,-86.4 81.2,-100.4\" stroke=\"#000000\"/>\n</g>\n<!-- node0&#45;&#45;null1 -->\n<g class=\"edge\" id=\"edge4\">\n<title>node0--null1</title>\n<path d=\"M51.9754,-121.9744C57.6108,-114.729 64.1583,-106.3107 68.6799,-100.4973\" fill=\"none\" stroke=\"#000000\"/>\n</g>\n<!-- node1 -->\n<g class=\"node\" id=\"node4\">\n<title>node1</title>\n<ellipse cx=\"107.8\" cy=\"-179.8\" fill=\"none\" rx=\"18\" ry=\"18\" stroke=\"#000000\"/>\n<text fill=\"#000000\" font-family=\"Times,serif\" font-size=\"14.00\" text-anchor=\"middle\" x=\"107.8\" y=\"-176.1\">2</text>\n</g>\n<!-- node1&#45;&#45;node0 -->\n<g class=\"edge\" id=\"edge2\">\n<title>node1--node0</title>\n<path d=\"M92.5513,-169.9972C81.5536,-162.9273 66.7722,-153.425 55.7884,-146.364\" fill=\"none\" stroke=\"#000000\"/>\n</g>\n<!-- null2 -->\n<g class=\"node\" id=\"node5\">\n<title>null2</title>\n<polygon fill=\"none\" points=\"148.4,-143.6 134.4,-143.6 134.4,-129.6 148.4,-129.6 148.4,-143.6\" stroke=\"#000000\"/>\n</g>\n<!-- node1&#45;&#45;null2 -->\n<g class=\"edge\" id=\"edge5\">\n<title>node1--null2</title>\n<path d=\"M119.1754,-165.1744C124.8108,-157.929 131.3583,-149.5107 135.8799,-143.6973\" fill=\"none\" stroke=\"#000000\"/>\n</g>\n<!-- node6 -->\n<g class=\"node\" id=\"node6\">\n<title>node6</title>\n<ellipse cx=\"175\" cy=\"-223\" fill=\"none\" rx=\"18\" ry=\"18\" stroke=\"#000000\"/>\n<text fill=\"#000000\" font-family=\"Times,serif\" font-size=\"14.00\" text-anchor=\"middle\" x=\"175\" y=\"-219.3\">4</text>\n</g>\n<!-- node6&#45;&#45;node1 -->\n<g class=\"edge\" id=\"edge1\">\n<title>node6--node1</title>\n<path d=\"M159.7513,-213.1973C148.7536,-206.1273 133.9722,-196.625 122.9884,-189.564\" fill=\"none\" stroke=\"#000000\"/>\n</g>\n<!-- node5 -->\n<g class=\"node\" id=\"node14\">\n<title>node5</title>\n<ellipse cx=\"443.8\" cy=\"-179.8\" fill=\"none\" rx=\"18\" ry=\"18\" stroke=\"#000000\"/>\n<text fill=\"#000000\" font-family=\"Times,serif\" font-size=\"14.00\" text-anchor=\"middle\" x=\"443.8\" y=\"-176.1\">9</text>\n</g>\n<!-- node6&#45;&#45;node5 -->\n<g class=\"edge\" id=\"edge6\">\n<title>node6--node5</title>\n<path d=\"M193.0541,-220.0984C242.0221,-212.2286 376.9486,-190.544 425.8245,-182.6889\" fill=\"none\" stroke=\"#000000\"/>\n</g>\n<!-- null3 -->\n<g class=\"node\" id=\"node7\">\n<title>null3</title>\n<polygon fill=\"none\" points=\"215.6,-100.4 201.6,-100.4 201.6,-86.4 215.6,-86.4 215.6,-100.4\" stroke=\"#000000\"/>\n</g>\n<!-- node4 -->\n<g class=\"node\" id=\"node8\">\n<title>node4</title>\n<ellipse cx=\"242.2\" cy=\"-136.6\" fill=\"none\" rx=\"18\" ry=\"18\" stroke=\"#000000\"/>\n<text fill=\"#000000\" font-family=\"Times,serif\" font-size=\"14.00\" text-anchor=\"middle\" x=\"242.2\" y=\"-132.9\">6</text>\n</g>\n<!-- node4&#45;&#45;null3 -->\n<g class=\"edge\" id=\"edge8\">\n<title>node4--null3</title>\n<path d=\"M230.8246,-121.9744C225.1892,-114.729 218.6417,-106.3107 214.1201,-100.4973\" fill=\"none\" stroke=\"#000000\"/>\n</g>\n<!-- node3 -->\n<g class=\"node\" id=\"node10\">\n<title>node3</title>\n<ellipse cx=\"309.4\" cy=\"-93.4\" fill=\"none\" rx=\"18\" ry=\"18\" stroke=\"#000000\"/>\n<text fill=\"#000000\" font-family=\"Times,serif\" font-size=\"14.00\" text-anchor=\"middle\" x=\"309.4\" y=\"-89.7\">7</text>\n</g>\n<!-- node4&#45;&#45;node3 -->\n<g class=\"edge\" id=\"edge9\">\n<title>node4--node3</title>\n<path d=\"M257.4487,-126.7972C268.4464,-119.7273 283.2278,-110.225 294.2116,-103.164\" fill=\"none\" stroke=\"#000000\"/>\n</g>\n<!-- null4 -->\n<g class=\"node\" id=\"node9\">\n<title>null4</title>\n<polygon fill=\"none\" points=\"282.8,-57.2 268.8,-57.2 268.8,-43.2 282.8,-43.2 282.8,-57.2\" stroke=\"#000000\"/>\n</g>\n<!-- node3&#45;&#45;null4 -->\n<g class=\"edge\" id=\"edge10\">\n<title>node3--null4</title>\n<path d=\"M298.0246,-78.7744C292.3892,-71.529 285.8417,-63.1107 281.3201,-57.2973\" fill=\"none\" stroke=\"#000000\"/>\n</g>\n<!-- node2 -->\n<g class=\"node\" id=\"node12\">\n<title>node2</title>\n<ellipse cx=\"376.6\" cy=\"-50.2\" fill=\"none\" rx=\"18\" ry=\"18\" stroke=\"#000000\"/>\n<text fill=\"#000000\" font-family=\"Times,serif\" font-size=\"14.00\" text-anchor=\"middle\" x=\"376.6\" y=\"-46.5\">8</text>\n</g>\n<!-- node3&#45;&#45;node2 -->\n<g class=\"edge\" id=\"edge11\">\n<title>node3--node2</title>\n<path d=\"M324.6487,-83.5972C335.6464,-76.5273 350.4278,-67.025 361.4116,-59.964\" fill=\"none\" stroke=\"#000000\"/>\n</g>\n<!-- null5 -->\n<g class=\"node\" id=\"node11\">\n<title>null5</title>\n<polygon fill=\"none\" points=\"350,-14 336,-14 336,0 350,0 350,-14\" stroke=\"#000000\"/>\n</g>\n<!-- node2&#45;&#45;null5 -->\n<g class=\"edge\" id=\"edge12\">\n<title>node2--null5</title>\n<path d=\"M365.2246,-35.5744C359.5892,-28.329 353.0417,-19.9107 348.5201,-14.0973\" fill=\"none\" stroke=\"#000000\"/>\n</g>\n<!-- null6 -->\n<g class=\"node\" id=\"node13\">\n<title>null6</title>\n<polygon fill=\"none\" points=\"417.2,-14 403.2,-14 403.2,0 417.2,0 417.2,-14\" stroke=\"#000000\"/>\n</g>\n<!-- node2&#45;&#45;null6 -->\n<g class=\"edge\" id=\"edge13\">\n<title>node2--null6</title>\n<path d=\"M387.9754,-35.5744C393.6108,-28.329 400.1583,-19.9107 404.6799,-14.0973\" fill=\"none\" stroke=\"#000000\"/>\n</g>\n<!-- node5&#45;&#45;node4 -->\n<g class=\"edge\" id=\"edge7\">\n<title>node5--node4</title>\n<path d=\"M425.9093,-175.9663C387.6523,-167.7683 298.2719,-148.6154 260.0506,-140.4251\" fill=\"none\" stroke=\"#000000\"/>\n</g>\n<!-- null7 -->\n<g class=\"node\" id=\"node15\">\n<title>null7</title>\n<polygon fill=\"none\" points=\"484.4,-143.6 470.4,-143.6 470.4,-129.6 484.4,-129.6 484.4,-143.6\" stroke=\"#000000\"/>\n</g>\n<!-- node5&#45;&#45;null7 -->\n<g class=\"edge\" id=\"edge14\">\n<title>node5--null7</title>\n<path d=\"M455.1754,-165.1744C460.8108,-157.929 467.3583,-149.5107 471.8799,-143.6973\" fill=\"none\" stroke=\"#000000\"/>\n</g>\n</g>\n</svg>"
          },
          "metadata": {
            "tags": []
          }
        },
        {
          "output_type": "display_data",
          "data": {
            "text/plain": [
              "<IPython.core.display.SVG object>"
            ],
            "image/svg+xml": "<svg height=\"249pt\" viewBox=\"0.00 0.00 559.60 249.00\" width=\"560pt\" xmlns=\"http://www.w3.org/2000/svg\" xmlns:xlink=\"http://www.w3.org/1999/xlink\">\n<g class=\"graph\" id=\"graph0\" transform=\"scale(1 1) rotate(0) translate(4 245)\">\n<title>Arbol</title>\n<polygon fill=\"#ffffff\" points=\"-4,4 -4,-245 555.6,-245 555.6,4 -4,4\" stroke=\"transparent\"/>\n<!-- null0 -->\n<g class=\"node\" id=\"node1\">\n<title>null0</title>\n<polygon fill=\"none\" points=\"14,-100.4 0,-100.4 0,-86.4 14,-86.4 14,-100.4\" stroke=\"#000000\"/>\n</g>\n<!-- node0 -->\n<g class=\"node\" id=\"node2\">\n<title>node0</title>\n<ellipse cx=\"40.6\" cy=\"-136.6\" fill=\"none\" rx=\"18\" ry=\"18\" stroke=\"#000000\"/>\n<text fill=\"#000000\" font-family=\"Times,serif\" font-size=\"14.00\" text-anchor=\"middle\" x=\"40.6\" y=\"-132.9\">1</text>\n</g>\n<!-- node0&#45;&#45;null0 -->\n<g class=\"edge\" id=\"edge3\">\n<title>node0--null0</title>\n<path d=\"M29.2246,-121.9744C23.5892,-114.729 17.0417,-106.3107 12.5201,-100.4973\" fill=\"none\" stroke=\"#000000\"/>\n</g>\n<!-- null1 -->\n<g class=\"node\" id=\"node3\">\n<title>null1</title>\n<polygon fill=\"none\" points=\"81.2,-100.4 67.2,-100.4 67.2,-86.4 81.2,-86.4 81.2,-100.4\" stroke=\"#000000\"/>\n</g>\n<!-- node0&#45;&#45;null1 -->\n<g class=\"edge\" id=\"edge4\">\n<title>node0--null1</title>\n<path d=\"M51.9754,-121.9744C57.6108,-114.729 64.1583,-106.3107 68.6799,-100.4973\" fill=\"none\" stroke=\"#000000\"/>\n</g>\n<!-- node2 -->\n<g class=\"node\" id=\"node4\">\n<title>node2</title>\n<ellipse cx=\"107.8\" cy=\"-179.8\" fill=\"none\" rx=\"18\" ry=\"18\" stroke=\"#000000\"/>\n<text fill=\"#000000\" font-family=\"Times,serif\" font-size=\"14.00\" text-anchor=\"middle\" x=\"107.8\" y=\"-176.1\">2</text>\n</g>\n<!-- node2&#45;&#45;node0 -->\n<g class=\"edge\" id=\"edge2\">\n<title>node2--node0</title>\n<path d=\"M92.5513,-169.9972C81.5536,-162.9273 66.7722,-153.425 55.7884,-146.364\" fill=\"none\" stroke=\"#000000\"/>\n</g>\n<!-- node1 -->\n<g class=\"node\" id=\"node6\">\n<title>node1</title>\n<ellipse cx=\"175\" cy=\"-136.6\" fill=\"none\" rx=\"18\" ry=\"18\" stroke=\"#000000\"/>\n<text fill=\"#000000\" font-family=\"Times,serif\" font-size=\"14.00\" text-anchor=\"middle\" x=\"175\" y=\"-132.9\">3</text>\n</g>\n<!-- node2&#45;&#45;node1 -->\n<g class=\"edge\" id=\"edge5\">\n<title>node2--node1</title>\n<path d=\"M123.0487,-169.9972C134.0464,-162.9273 148.8278,-153.425 159.8116,-146.364\" fill=\"none\" stroke=\"#000000\"/>\n</g>\n<!-- null2 -->\n<g class=\"node\" id=\"node5\">\n<title>null2</title>\n<polygon fill=\"none\" points=\"148.4,-100.4 134.4,-100.4 134.4,-86.4 148.4,-86.4 148.4,-100.4\" stroke=\"#000000\"/>\n</g>\n<!-- node1&#45;&#45;null2 -->\n<g class=\"edge\" id=\"edge6\">\n<title>node1--null2</title>\n<path d=\"M163.6246,-121.9744C157.9892,-114.729 151.4417,-106.3107 146.9201,-100.4973\" fill=\"none\" stroke=\"#000000\"/>\n</g>\n<!-- null3 -->\n<g class=\"node\" id=\"node7\">\n<title>null3</title>\n<polygon fill=\"none\" points=\"215.6,-100.4 201.6,-100.4 201.6,-86.4 215.6,-86.4 215.6,-100.4\" stroke=\"#000000\"/>\n</g>\n<!-- node1&#45;&#45;null3 -->\n<g class=\"edge\" id=\"edge7\">\n<title>node1--null3</title>\n<path d=\"M186.3754,-121.9744C192.0108,-114.729 198.5583,-106.3107 203.0799,-100.4973\" fill=\"none\" stroke=\"#000000\"/>\n</g>\n<!-- node7 -->\n<g class=\"node\" id=\"node8\">\n<title>node7</title>\n<ellipse cx=\"242.2\" cy=\"-223\" fill=\"none\" rx=\"18\" ry=\"18\" stroke=\"#000000\"/>\n<text fill=\"#000000\" font-family=\"Times,serif\" font-size=\"14.00\" text-anchor=\"middle\" x=\"242.2\" y=\"-219.3\">4</text>\n</g>\n<!-- node7&#45;&#45;node2 -->\n<g class=\"edge\" id=\"edge1\">\n<title>node7--node2</title>\n<path d=\"M224.9047,-217.4408C199.0982,-209.1458 150.7968,-193.6204 125.0289,-185.3379\" fill=\"none\" stroke=\"#000000\"/>\n</g>\n<!-- node6 -->\n<g class=\"node\" id=\"node16\">\n<title>node6</title>\n<ellipse cx=\"511\" cy=\"-179.8\" fill=\"none\" rx=\"18\" ry=\"18\" stroke=\"#000000\"/>\n<text fill=\"#000000\" font-family=\"Times,serif\" font-size=\"14.00\" text-anchor=\"middle\" x=\"511\" y=\"-176.1\">9</text>\n</g>\n<!-- node7&#45;&#45;node6 -->\n<g class=\"edge\" id=\"edge8\">\n<title>node7--node6</title>\n<path d=\"M260.2541,-220.0984C309.2221,-212.2286 444.1486,-190.544 493.0245,-182.6889\" fill=\"none\" stroke=\"#000000\"/>\n</g>\n<!-- null4 -->\n<g class=\"node\" id=\"node9\">\n<title>null4</title>\n<polygon fill=\"none\" points=\"282.8,-100.4 268.8,-100.4 268.8,-86.4 282.8,-86.4 282.8,-100.4\" stroke=\"#000000\"/>\n</g>\n<!-- node5 -->\n<g class=\"node\" id=\"node10\">\n<title>node5</title>\n<ellipse cx=\"309.4\" cy=\"-136.6\" fill=\"none\" rx=\"18\" ry=\"18\" stroke=\"#000000\"/>\n<text fill=\"#000000\" font-family=\"Times,serif\" font-size=\"14.00\" text-anchor=\"middle\" x=\"309.4\" y=\"-132.9\">6</text>\n</g>\n<!-- node5&#45;&#45;null4 -->\n<g class=\"edge\" id=\"edge10\">\n<title>node5--null4</title>\n<path d=\"M298.0246,-121.9744C292.3892,-114.729 285.8417,-106.3107 281.3201,-100.4973\" fill=\"none\" stroke=\"#000000\"/>\n</g>\n<!-- node4 -->\n<g class=\"node\" id=\"node12\">\n<title>node4</title>\n<ellipse cx=\"376.6\" cy=\"-93.4\" fill=\"none\" rx=\"18\" ry=\"18\" stroke=\"#000000\"/>\n<text fill=\"#000000\" font-family=\"Times,serif\" font-size=\"14.00\" text-anchor=\"middle\" x=\"376.6\" y=\"-89.7\">7</text>\n</g>\n<!-- node5&#45;&#45;node4 -->\n<g class=\"edge\" id=\"edge11\">\n<title>node5--node4</title>\n<path d=\"M324.6487,-126.7972C335.6464,-119.7273 350.4278,-110.225 361.4116,-103.164\" fill=\"none\" stroke=\"#000000\"/>\n</g>\n<!-- null5 -->\n<g class=\"node\" id=\"node11\">\n<title>null5</title>\n<polygon fill=\"none\" points=\"350,-57.2 336,-57.2 336,-43.2 350,-43.2 350,-57.2\" stroke=\"#000000\"/>\n</g>\n<!-- node4&#45;&#45;null5 -->\n<g class=\"edge\" id=\"edge12\">\n<title>node4--null5</title>\n<path d=\"M365.2246,-78.7744C359.5892,-71.529 353.0417,-63.1107 348.5201,-57.2973\" fill=\"none\" stroke=\"#000000\"/>\n</g>\n<!-- node3 -->\n<g class=\"node\" id=\"node14\">\n<title>node3</title>\n<ellipse cx=\"443.8\" cy=\"-50.2\" fill=\"none\" rx=\"18\" ry=\"18\" stroke=\"#000000\"/>\n<text fill=\"#000000\" font-family=\"Times,serif\" font-size=\"14.00\" text-anchor=\"middle\" x=\"443.8\" y=\"-46.5\">8</text>\n</g>\n<!-- node4&#45;&#45;node3 -->\n<g class=\"edge\" id=\"edge13\">\n<title>node4--node3</title>\n<path d=\"M391.8487,-83.5972C402.8464,-76.5273 417.6278,-67.025 428.6116,-59.964\" fill=\"none\" stroke=\"#000000\"/>\n</g>\n<!-- null6 -->\n<g class=\"node\" id=\"node13\">\n<title>null6</title>\n<polygon fill=\"none\" points=\"417.2,-14 403.2,-14 403.2,0 417.2,0 417.2,-14\" stroke=\"#000000\"/>\n</g>\n<!-- node3&#45;&#45;null6 -->\n<g class=\"edge\" id=\"edge14\">\n<title>node3--null6</title>\n<path d=\"M432.4246,-35.5744C426.7892,-28.329 420.2417,-19.9107 415.7201,-14.0973\" fill=\"none\" stroke=\"#000000\"/>\n</g>\n<!-- null7 -->\n<g class=\"node\" id=\"node15\">\n<title>null7</title>\n<polygon fill=\"none\" points=\"484.4,-14 470.4,-14 470.4,0 484.4,0 484.4,-14\" stroke=\"#000000\"/>\n</g>\n<!-- node3&#45;&#45;null7 -->\n<g class=\"edge\" id=\"edge15\">\n<title>node3--null7</title>\n<path d=\"M455.1754,-35.5744C460.8108,-28.329 467.3583,-19.9107 471.8799,-14.0973\" fill=\"none\" stroke=\"#000000\"/>\n</g>\n<!-- node6&#45;&#45;node5 -->\n<g class=\"edge\" id=\"edge9\">\n<title>node6--node5</title>\n<path d=\"M493.1093,-175.9663C454.8523,-167.7683 365.4719,-148.6154 327.2506,-140.4251\" fill=\"none\" stroke=\"#000000\"/>\n</g>\n<!-- null8 -->\n<g class=\"node\" id=\"node17\">\n<title>null8</title>\n<polygon fill=\"none\" points=\"551.6,-143.6 537.6,-143.6 537.6,-129.6 551.6,-129.6 551.6,-143.6\" stroke=\"#000000\"/>\n</g>\n<!-- node6&#45;&#45;null8 -->\n<g class=\"edge\" id=\"edge16\">\n<title>node6--null8</title>\n<path d=\"M522.3754,-165.1744C528.0108,-157.929 534.5583,-149.5107 539.0799,-143.6973\" fill=\"none\" stroke=\"#000000\"/>\n</g>\n</g>\n</svg>"
          },
          "metadata": {
            "tags": []
          }
        },
        {
          "output_type": "display_data",
          "data": {
            "text/plain": [
              "<IPython.core.display.SVG object>"
            ],
            "image/svg+xml": "<svg height=\"249pt\" viewBox=\"0.00 0.00 626.80 249.00\" width=\"627pt\" xmlns=\"http://www.w3.org/2000/svg\" xmlns:xlink=\"http://www.w3.org/1999/xlink\">\n<g class=\"graph\" id=\"graph0\" transform=\"scale(1 1) rotate(0) translate(4 245)\">\n<title>Arbol</title>\n<polygon fill=\"#ffffff\" points=\"-4,4 -4,-245 622.8,-245 622.8,4 -4,4\" stroke=\"transparent\"/>\n<!-- null0 -->\n<g class=\"node\" id=\"node1\">\n<title>null0</title>\n<polygon fill=\"none\" points=\"14,-100.4 0,-100.4 0,-86.4 14,-86.4 14,-100.4\" stroke=\"#000000\"/>\n</g>\n<!-- node0 -->\n<g class=\"node\" id=\"node2\">\n<title>node0</title>\n<ellipse cx=\"40.6\" cy=\"-136.6\" fill=\"none\" rx=\"18\" ry=\"18\" stroke=\"#000000\"/>\n<text fill=\"#000000\" font-family=\"Times,serif\" font-size=\"14.00\" text-anchor=\"middle\" x=\"40.6\" y=\"-132.9\">1</text>\n</g>\n<!-- node0&#45;&#45;null0 -->\n<g class=\"edge\" id=\"edge3\">\n<title>node0--null0</title>\n<path d=\"M29.2246,-121.9745C23.5892,-114.729 17.0417,-106.3107 12.5201,-100.4973\" fill=\"none\" stroke=\"#000000\"/>\n</g>\n<!-- null1 -->\n<g class=\"node\" id=\"node3\">\n<title>null1</title>\n<polygon fill=\"none\" points=\"81.2,-100.4 67.2,-100.4 67.2,-86.4 81.2,-86.4 81.2,-100.4\" stroke=\"#000000\"/>\n</g>\n<!-- node0&#45;&#45;null1 -->\n<g class=\"edge\" id=\"edge4\">\n<title>node0--null1</title>\n<path d=\"M51.9754,-121.9745C57.6108,-114.729 64.1583,-106.3107 68.6799,-100.4973\" fill=\"none\" stroke=\"#000000\"/>\n</g>\n<!-- node2 -->\n<g class=\"node\" id=\"node4\">\n<title>node2</title>\n<ellipse cx=\"107.8\" cy=\"-179.8\" fill=\"none\" rx=\"18\" ry=\"18\" stroke=\"#000000\"/>\n<text fill=\"#000000\" font-family=\"Times,serif\" font-size=\"14.00\" text-anchor=\"middle\" x=\"107.8\" y=\"-176.1\">2</text>\n</g>\n<!-- node2&#45;&#45;node0 -->\n<g class=\"edge\" id=\"edge2\">\n<title>node2--node0</title>\n<path d=\"M92.5513,-169.9973C81.5536,-162.9273 66.7722,-153.425 55.7884,-146.364\" fill=\"none\" stroke=\"#000000\"/>\n</g>\n<!-- node1 -->\n<g class=\"node\" id=\"node6\">\n<title>node1</title>\n<ellipse cx=\"175\" cy=\"-136.6\" fill=\"none\" rx=\"18\" ry=\"18\" stroke=\"#000000\"/>\n<text fill=\"#000000\" font-family=\"Times,serif\" font-size=\"14.00\" text-anchor=\"middle\" x=\"175\" y=\"-132.9\">3</text>\n</g>\n<!-- node2&#45;&#45;node1 -->\n<g class=\"edge\" id=\"edge5\">\n<title>node2--node1</title>\n<path d=\"M123.0487,-169.9973C134.0464,-162.9273 148.8278,-153.425 159.8116,-146.364\" fill=\"none\" stroke=\"#000000\"/>\n</g>\n<!-- null2 -->\n<g class=\"node\" id=\"node5\">\n<title>null2</title>\n<polygon fill=\"none\" points=\"148.4,-100.4 134.4,-100.4 134.4,-86.4 148.4,-86.4 148.4,-100.4\" stroke=\"#000000\"/>\n</g>\n<!-- node1&#45;&#45;null2 -->\n<g class=\"edge\" id=\"edge6\">\n<title>node1--null2</title>\n<path d=\"M163.6246,-121.9745C157.9892,-114.729 151.4417,-106.3107 146.9201,-100.4973\" fill=\"none\" stroke=\"#000000\"/>\n</g>\n<!-- null3 -->\n<g class=\"node\" id=\"node7\">\n<title>null3</title>\n<polygon fill=\"none\" points=\"215.6,-100.4 201.6,-100.4 201.6,-86.4 215.6,-86.4 215.6,-100.4\" stroke=\"#000000\"/>\n</g>\n<!-- node1&#45;&#45;null3 -->\n<g class=\"edge\" id=\"edge7\">\n<title>node1--null3</title>\n<path d=\"M186.3754,-121.9745C192.0108,-114.729 198.5583,-106.3107 203.0799,-100.4973\" fill=\"none\" stroke=\"#000000\"/>\n</g>\n<!-- node8 -->\n<g class=\"node\" id=\"node8\">\n<title>node8</title>\n<ellipse cx=\"242.2\" cy=\"-223\" fill=\"none\" rx=\"18\" ry=\"18\" stroke=\"#000000\"/>\n<text fill=\"#000000\" font-family=\"Times,serif\" font-size=\"14.00\" text-anchor=\"middle\" x=\"242.2\" y=\"-219.3\">4</text>\n</g>\n<!-- node8&#45;&#45;node2 -->\n<g class=\"edge\" id=\"edge1\">\n<title>node8--node2</title>\n<path d=\"M224.9047,-217.4408C199.0981,-209.1458 150.7968,-193.6204 125.0289,-185.3379\" fill=\"none\" stroke=\"#000000\"/>\n</g>\n<!-- node7 -->\n<g class=\"node\" id=\"node18\">\n<title>node7</title>\n<ellipse cx=\"578.2\" cy=\"-179.8\" fill=\"none\" rx=\"18\" ry=\"18\" stroke=\"#000000\"/>\n<text fill=\"#000000\" font-family=\"Times,serif\" font-size=\"14.00\" text-anchor=\"middle\" x=\"578.2\" y=\"-176.1\">9</text>\n</g>\n<!-- node8&#45;&#45;node7 -->\n<g class=\"edge\" id=\"edge8\">\n<title>node8--node7</title>\n<path d=\"M260.2648,-220.6774C318.6054,-213.1764 501.5782,-189.6514 560.0458,-182.1341\" fill=\"none\" stroke=\"#000000\"/>\n</g>\n<!-- null4 -->\n<g class=\"node\" id=\"node9\">\n<title>null4</title>\n<polygon fill=\"none\" points=\"282.8,-57.2 268.8,-57.2 268.8,-43.2 282.8,-43.2 282.8,-57.2\" stroke=\"#000000\"/>\n</g>\n<!-- node3 -->\n<g class=\"node\" id=\"node10\">\n<title>node3</title>\n<ellipse cx=\"309.4\" cy=\"-93.4\" fill=\"none\" rx=\"18\" ry=\"18\" stroke=\"#000000\"/>\n<text fill=\"#000000\" font-family=\"Times,serif\" font-size=\"14.00\" text-anchor=\"middle\" x=\"309.4\" y=\"-89.7\">5</text>\n</g>\n<!-- node3&#45;&#45;null4 -->\n<g class=\"edge\" id=\"edge11\">\n<title>node3--null4</title>\n<path d=\"M298.0246,-78.7745C292.3892,-71.529 285.8417,-63.1107 281.3201,-57.2973\" fill=\"none\" stroke=\"#000000\"/>\n</g>\n<!-- null5 -->\n<g class=\"node\" id=\"node11\">\n<title>null5</title>\n<polygon fill=\"none\" points=\"350,-57.2 336,-57.2 336,-43.2 350,-43.2 350,-57.2\" stroke=\"#000000\"/>\n</g>\n<!-- node3&#45;&#45;null5 -->\n<g class=\"edge\" id=\"edge12\">\n<title>node3--null5</title>\n<path d=\"M320.7754,-78.7745C326.4108,-71.529 332.9583,-63.1107 337.4799,-57.2973\" fill=\"none\" stroke=\"#000000\"/>\n</g>\n<!-- node6 -->\n<g class=\"node\" id=\"node12\">\n<title>node6</title>\n<ellipse cx=\"376.6\" cy=\"-136.6\" fill=\"none\" rx=\"18\" ry=\"18\" stroke=\"#000000\"/>\n<text fill=\"#000000\" font-family=\"Times,serif\" font-size=\"14.00\" text-anchor=\"middle\" x=\"376.6\" y=\"-132.9\">6</text>\n</g>\n<!-- node6&#45;&#45;node3 -->\n<g class=\"edge\" id=\"edge10\">\n<title>node6--node3</title>\n<path d=\"M361.3513,-126.7973C350.3536,-119.7273 335.5722,-110.225 324.5884,-103.164\" fill=\"none\" stroke=\"#000000\"/>\n</g>\n<!-- node5 -->\n<g class=\"node\" id=\"node14\">\n<title>node5</title>\n<ellipse cx=\"443.8\" cy=\"-93.4\" fill=\"none\" rx=\"18\" ry=\"18\" stroke=\"#000000\"/>\n<text fill=\"#000000\" font-family=\"Times,serif\" font-size=\"14.00\" text-anchor=\"middle\" x=\"443.8\" y=\"-89.7\">7</text>\n</g>\n<!-- node6&#45;&#45;node5 -->\n<g class=\"edge\" id=\"edge13\">\n<title>node6--node5</title>\n<path d=\"M391.8487,-126.7973C402.8464,-119.7273 417.6278,-110.225 428.6116,-103.164\" fill=\"none\" stroke=\"#000000\"/>\n</g>\n<!-- null6 -->\n<g class=\"node\" id=\"node13\">\n<title>null6</title>\n<polygon fill=\"none\" points=\"417.2,-57.2 403.2,-57.2 403.2,-43.2 417.2,-43.2 417.2,-57.2\" stroke=\"#000000\"/>\n</g>\n<!-- node5&#45;&#45;null6 -->\n<g class=\"edge\" id=\"edge14\">\n<title>node5--null6</title>\n<path d=\"M432.4246,-78.7745C426.7892,-71.529 420.2417,-63.1107 415.7201,-57.2973\" fill=\"none\" stroke=\"#000000\"/>\n</g>\n<!-- node4 -->\n<g class=\"node\" id=\"node16\">\n<title>node4</title>\n<ellipse cx=\"511\" cy=\"-50.2\" fill=\"none\" rx=\"18\" ry=\"18\" stroke=\"#000000\"/>\n<text fill=\"#000000\" font-family=\"Times,serif\" font-size=\"14.00\" text-anchor=\"middle\" x=\"511\" y=\"-46.5\">8</text>\n</g>\n<!-- node5&#45;&#45;node4 -->\n<g class=\"edge\" id=\"edge15\">\n<title>node5--node4</title>\n<path d=\"M459.0487,-83.5973C470.0464,-76.5273 484.8278,-67.025 495.8116,-59.964\" fill=\"none\" stroke=\"#000000\"/>\n</g>\n<!-- null7 -->\n<g class=\"node\" id=\"node15\">\n<title>null7</title>\n<polygon fill=\"none\" points=\"484.4,-14 470.4,-14 470.4,0 484.4,0 484.4,-14\" stroke=\"#000000\"/>\n</g>\n<!-- node4&#45;&#45;null7 -->\n<g class=\"edge\" id=\"edge16\">\n<title>node4--null7</title>\n<path d=\"M499.6246,-35.5745C493.9892,-28.329 487.4416,-19.9107 482.9201,-14.0973\" fill=\"none\" stroke=\"#000000\"/>\n</g>\n<!-- null8 -->\n<g class=\"node\" id=\"node17\">\n<title>null8</title>\n<polygon fill=\"none\" points=\"551.6,-14 537.6,-14 537.6,0 551.6,0 551.6,-14\" stroke=\"#000000\"/>\n</g>\n<!-- node4&#45;&#45;null8 -->\n<g class=\"edge\" id=\"edge17\">\n<title>node4--null8</title>\n<path d=\"M522.3754,-35.5745C528.0108,-28.329 534.5583,-19.9107 539.0799,-14.0973\" fill=\"none\" stroke=\"#000000\"/>\n</g>\n<!-- node7&#45;&#45;node6 -->\n<g class=\"edge\" id=\"edge9\">\n<title>node7--node6</title>\n<path d=\"M560.3093,-175.9663C522.0523,-167.7683 432.6719,-148.6154 394.4505,-140.4251\" fill=\"none\" stroke=\"#000000\"/>\n</g>\n<!-- null9 -->\n<g class=\"node\" id=\"node19\">\n<title>null9</title>\n<polygon fill=\"none\" points=\"618.8,-143.6 604.8,-143.6 604.8,-129.6 618.8,-129.6 618.8,-143.6\" stroke=\"#000000\"/>\n</g>\n<!-- node7&#45;&#45;null9 -->\n<g class=\"edge\" id=\"edge18\">\n<title>node7--null9</title>\n<path d=\"M589.5754,-165.1744C595.2107,-157.929 601.7583,-149.5107 606.2798,-143.6973\" fill=\"none\" stroke=\"#000000\"/>\n</g>\n</g>\n</svg>"
          },
          "metadata": {
            "tags": []
          }
        }
      ]
    },
    {
      "cell_type": "markdown",
      "metadata": {
        "id": "0lDD0QD_ewyt"
      },
      "source": [
        "Para definir el algoritmo de inserción en la raíz, definimos primero la operación ``cut(x)``. La idea es la siguiente: dado un árbol $A$ y una llave $x$ que no está en el árbol, el resultado de ejecutar $\\text{cut}(x)$ sobre el árbol $A$ es una tupla $(A_{<x},A_{>x})$, que contiene como primera componente el árbol que contiene solo las llaves que son menores que $x$, y similarmente la segunda componente es el árbol con las llaves mayores que $x$. Por ejemplo:\n",
        "\n",
        "![T5-cut](https://github.com/ppoblete/CC3001-2020-2-Tareas/blob/master/T5-cut.png?raw=1)\n",
        "\n",
        "La operación ``cut(x)`` se puede definir recursivamente:\n",
        "\n",
        "Para el caso de un árbol no vacío con raíz $r$, con $x<r$:\n",
        "\n",
        "![T5-cut2](https://github.com/ppoblete/CC3001-2020-2-Tareas/blob/master/T5-cut2.png?raw=1)\n",
        "\n",
        "El caso $x>r$ es simétrico.\n",
        "\n",
        "El caso de borde es que al hacer ``cut(x)``sobre un nodo ☐, el resultado es una tupla (☐,☐).\n",
        "\n",
        "En base a esta operación ``cut(x)``, es fácil definir una operación ``root_insert(x)``. En efecto, para insertar una nueva llave $x$ en la raíz de un árbol $A$, se hace un corte con $x$ al árbol $A$, y luego se construye el árbol\n",
        "\n",
        "![T5-cut3](https://github.com/ppoblete/CC3001-2020-2-Tareas/blob/master/T5-cut3.png?raw=1)"
      ]
    },
    {
      "cell_type": "markdown",
      "metadata": {
        "id": "rp6tXFp5ewy2"
      },
      "source": [
        "# INSTRUCCIONES"
      ]
    },
    {
      "cell_type": "markdown",
      "metadata": {
        "id": "Oe01FDHAewy3"
      },
      "source": [
        "## Parte 1: ``cut(x)`` y ``root_insert(x)``"
      ]
    },
    {
      "cell_type": "markdown",
      "metadata": {
        "id": "nnmFh7-vewy4"
      },
      "source": [
        "Modifique las clases provistas para agregar la operación ``cut(x)``y la operación ``root_insert(x)``. Escriba acá su código para las clases completas:"
      ]
    },
    {
      "cell_type": "markdown",
      "metadata": {
        "id": "1xv7fhlb6Uq8"
      },
      "source": [
        "###Cut(x)"
      ]
    },
    {
      "cell_type": "markdown",
      "metadata": {
        "id": "hwnhVPDXKndk"
      },
      "source": [
        "Antes de definir cut(x), definí una función contador que simplemente cuenta cuantos nodos con información tiene un árbol, es decir suma 1 por cada Nodoi() y 0 por cada Nodoe(). Esta función tiene como función principal detectar de manera rápida y sencilla la longitud de un árbol y si este contiene o no información."
      ]
    },
    {
      "cell_type": "markdown",
      "metadata": {
        "id": "Mlu2eMeF8YqU"
      },
      "source": [
        "Para definir cut(x), tenemos que definirlo para árboles, Nodoi y Nodoe. Primero en el árbol cuando usemos cut(x) crearemos dos arboles vacíos, uno que será el con los valores menores a x que llamaremos menor, y uno con los valores mayores a x que llamaremos mayor. Estos arboles queremos que se mantengan durante el recorrido de la función y los retornemos al final, por lo que luego cuando definamos cut(x) para el Nodoi y el Nodoe le agregaremos como variables estos arboles. Finalmente para el árbol queremos que devuelva el cut de la raíz (y como la raíz es un Nodoi hay que poner los arboles menos y mayor además de x) por lo que ponemos return self.raiz.cut(x,menor,mayor) y el código final para el árbol nos queda:\n",
        "\n",
        "\n",
        "\n",
        "```\n",
        "def cut(self,x):\n",
        "      menor=Arbol()\n",
        "      mayor=Arbol()\n",
        "      return self.raiz.cut(x,menor,mayor)\n",
        "```\n",
        "\n"
      ]
    },
    {
      "cell_type": "markdown",
      "metadata": {
        "id": "6-rdcWmA9ML4"
      },
      "source": [
        "Luego para el cut(x) del Nodoi,lo primero que tenemos que hacer es comparar si la info del Nodoi es mayor o menor que x, si es menor lo agregamos con insertar al árbol de menores(menor) y si es mayor lo insertamos en el árbol de mayores(mayor).Esto se vería asi:\n",
        "\n",
        "\n",
        "\n",
        "```\n",
        "def cut(self,x,menor,mayor):\n",
        "        if self.info>x:\n",
        "          mayor.insert(self.info)\n",
        "        if self.info<x:\n",
        "          menor.insert(self.info)\n",
        "```\n",
        "Ahora que tenemos definida la comparación e inserción en los árboles, nos preocupamos de recorrer todo lo que nos queda, y hacemos esto corriendo cut(x) a la derecha e izquierda de Nodoi actual. Por último, simplemente tenemos que retornar la lista menor y mayor que nos quedara al finalizar todo este proceso. Sumando todo esto el código nos queda:\n",
        "\n",
        "```\n",
        "def cut(self,x,menor,mayor):\n",
        "        if self.info>x:\n",
        "          mayor.insert(self.info)\n",
        "        if self.info<x:\n",
        "          menor.insert(self.info)\n",
        "        self.izq.cut(x,menor,mayor)\n",
        "        self.der.cut(x,menor,mayor)\n",
        "        return (menor,mayor)\n",
        "```\n",
        "\n",
        "\n",
        "\n"
      ]
    },
    {
      "cell_type": "markdown",
      "metadata": {
        "id": "6ZaNgGr1-0sp"
      },
      "source": [
        "Finalmente para los Nodoe(), cuando llegamos a uno de estos, no hay información que analizar ya que están vacíos, y además la función insertar se encarga de balancear correctamente los Nodoe() de los árboles menor y mayor, por lo que en esta función simplemente pasamos dado que no tenemos nada que hacer.\n",
        "\n",
        "Ahora si bien eso fue lo que pensé inicialmente y en la mayoría de los casos funciona, falla cuando tratamos de hacerle cut(x) a un árbol vacío ya que entra directamente a esta función y no retorna nada. Esto lo resolvemos, revisando antes si mayor y menor son arboles vacíos, ósea si el contador de ambos es 0, y en este caso retornamos estos 2 árboles vacíos. Por lo tanto, el código nos queda: \n",
        "\n",
        "```\n",
        "def cut(self,x,menor,mayor):\n",
        "        if mayor.contador()==0 and menor.contador()==0:\n",
        "          return(menor,mayor)\n",
        "        else:\n",
        "          pass\n",
        "```"
      ]
    },
    {
      "cell_type": "markdown",
      "metadata": {
        "id": "kTLLb8Uc_ELv"
      },
      "source": [
        "Juntando todas estas partes podemos redactar el código final:\n",
        "\n",
        "\n",
        "\n",
        "```\n",
        "class Nodoi:\n",
        "    def __init__(self, izq, info, der):\n",
        "        self.izq=izq\n",
        "        self.info=info\n",
        "        self.der=der\n",
        "\n",
        "    def insert(self,x):\n",
        "        assert x!=self.info\n",
        "        if x<self.info:\n",
        "            return Nodoi(self.izq.insert(x),self.info,self.der)\n",
        "        else:\n",
        "            return Nodoi(self.izq,self.info,self.der.insert(x))\n",
        "    def cut(self,x,menor,mayor):\n",
        "        if self.info>x:\n",
        "          mayor.insert(self.info)\n",
        "        if self.info<x:\n",
        "          menor.insert(self.info)\n",
        "        self.izq.cut(x,menor,mayor)\n",
        "        self.der.cut(x,menor,mayor)\n",
        "        return (menor,mayor)\n",
        "    def contador(self):\n",
        "      return 1+self.izq.contador()+self.der.contador()\n",
        "class Nodoe:\n",
        "    def __init__(self):\n",
        "        pass\n",
        "    \n",
        "    def insert(self,x):\n",
        "        return Nodoi(Nodoe(),x,Nodoe())\n",
        "    def cut(self,x,menor,mayor):\n",
        "        if mayor.contador()==0 and menor.contador()==0:\n",
        "          return(menor,mayor)\n",
        "        else:\n",
        "          pass\n",
        "    def contador(self):\n",
        "      return 0\n",
        "class Arbol:\n",
        "    def __init__(self,raiz=Nodoe()):\n",
        "        self.raiz=raiz     \n",
        "        \n",
        "    def insert(self,x):\n",
        "        self.raiz=self.raiz.insert(x)\n",
        "    \n",
        "    def dibujar(self):\n",
        "      btd = aed.BinaryTreeDrawer(fieldData=\"info\", fieldLeft=\"izq\", fieldRight=\"der\", classNone=Nodoe, drawNull=True)\n",
        "      btd.draw_tree(self, \"raiz\")\n",
        "\n",
        "    def cut(self,x):\n",
        "      menor=Arbol()\n",
        "      mayor=Arbol()\n",
        "      return self.raiz.cut(x,menor,mayor)\n",
        "      \n",
        "    def contador(self):\n",
        "      return self.raiz.contador()\n",
        "```\n",
        "\n"
      ]
    },
    {
      "cell_type": "markdown",
      "metadata": {
        "id": "q9XF84Yz6pl7"
      },
      "source": [
        "###root_insert(x)"
      ]
    },
    {
      "cell_type": "markdown",
      "metadata": {
        "id": "jVztqQBdMsz7"
      },
      "source": [
        "Para el root_insert(x) primero partimos definiendo el caso base, cuando queramos insertarle a un árbol vacío (ósea que contador es 0) y en este caso simplemente transformamos la raíz de el árbol a una raíz que tiene un Nodoi con info=x y dos Nodoe() en las ramas. Esto en código nos queda:\n",
        "```\n",
        "def root_insert(self,x):\n",
        "      if self.contador()==0:\n",
        "        self.raiz=Nodoi(Nodoe(),x,Nodoe())\n",
        "```\n",
        "\n"
      ]
    },
    {
      "cell_type": "markdown",
      "metadata": {
        "id": "czaad018O4MN"
      },
      "source": [
        "Ahora como cut(x) nos retorna arboles y queremos que sean Nodoi para que sean parte de un nuevo árbol, iniciamos un proceso de transformación de estos árboles, donde si son arboles vacíos simplemente los transformamos a un Nodoe, y si no (Por lo tanto, son arboles con Nodoi e información adentro), los transformamos en el Nodoi correspondiente. Realizamos este proceso tanto para el árbol menor, que ahora representara la izquierda del nuevo árbol, como para el árbol mayor, que ahora representa la derecha. Esto finalmente nos queda:\n",
        "\n",
        "\n",
        "\n",
        "```\n",
        "def root_insert(self,x):\n",
        "      if self.contador()==0:\n",
        "        self.raiz=Nodoi(Nodoe(),x,Nodoe())\n",
        "      else:\n",
        "        nodosArbol=self.cut(x)\n",
        "        if nodosArbol[0].raiz.contador()==0:\n",
        "          nodoizq=Nodoe()\n",
        "        else:\n",
        "          nodoizq=Nodoi(nodosArbol[0].raiz.izq,nodosArbol[0].raiz.info,nodosArbol[0].raiz.der)\n",
        "        if nodosArbol[1].raiz.contador()==0:\n",
        "          nododer=Nodoe()\n",
        "        else:\n",
        "          nododer=Nodoi(nodosArbol[1].raiz.izq,nodosArbol[1].raiz.info,nodosArbol[1].raiz.der)\n",
        "```\n",
        "\n"
      ]
    },
    {
      "cell_type": "markdown",
      "metadata": {
        "id": "QklxQM9ZSgAL"
      },
      "source": [
        "Ahora finalmente remplazamos la raíz por una formada con la izquierda el nodo que salió del menor, la info=x y la derecha el nodo que salió del mayor:\n",
        "\n",
        "\n",
        "```\n",
        "def root_insert(self,x):\n",
        "      if self.contador()==0:\n",
        "        self.raiz=Nodoi(Nodoe(),x,Nodoe())\n",
        "      else:\n",
        "        nodosArbol=self.cut(x)\n",
        "        if nodosArbol[0].raiz.contador()==0:\n",
        "          nodoizq=Nodoe()\n",
        "        else:\n",
        "          nodoizq=Nodoi(nodosArbol[0].raiz.izq,nodosArbol[0].raiz.info,nodosArbol[0].raiz.der)\n",
        "        if nodosArbol[1].raiz.contador()==0:\n",
        "          nododer=Nodoe()\n",
        "        else:\n",
        "          nododer=Nodoi(nodosArbol[1].raiz.izq,nodosArbol[1].raiz.info,nodosArbol[1].raiz.der)\n",
        "```\n",
        "\n"
      ]
    },
    {
      "cell_type": "markdown",
      "metadata": {
        "id": "dM3B45L-S-n9"
      },
      "source": [
        "Uniendo todo lo que tenemos escribimos el código final."
      ]
    },
    {
      "cell_type": "markdown",
      "metadata": {
        "id": "d9nwK3Ld60U-"
      },
      "source": [
        "###Codigo final"
      ]
    },
    {
      "cell_type": "code",
      "metadata": {
        "id": "XJsU16d9u5ms"
      },
      "source": [
        "class Nodoi:\n",
        "    def __init__(self, izq, info, der):\n",
        "        self.izq=izq\n",
        "        self.info=info\n",
        "        self.der=der\n",
        "\n",
        "    def insert(self,x):\n",
        "        assert x!=self.info\n",
        "        if x<self.info:\n",
        "            return Nodoi(self.izq.insert(x),self.info,self.der)\n",
        "        else:\n",
        "            return Nodoi(self.izq,self.info,self.der.insert(x))\n",
        "    def cut(self,x,menor,mayor):\n",
        "        if self.info>x:\n",
        "          mayor.insert(self.info)\n",
        "        if self.info<x:\n",
        "          menor.insert(self.info)\n",
        "        self.izq.cut(x,menor,mayor)\n",
        "        self.der.cut(x,menor,mayor)\n",
        "        return (menor,mayor)\n",
        "    def contador(self):\n",
        "      return 1+self.izq.contador()+self.der.contador()\n",
        "class Nodoe:\n",
        "    def __init__(self):\n",
        "        pass\n",
        "    \n",
        "    def insert(self,x):\n",
        "        return Nodoi(Nodoe(),x,Nodoe())\n",
        "    def cut(self,x,menor,mayor):\n",
        "        if mayor.contador()==0 and menor.contador()==0:\n",
        "          return(menor,mayor)\n",
        "        else:\n",
        "          pass\n",
        "    def contador(self):\n",
        "      return 0\n",
        "class Arbol:\n",
        "    def __init__(self,raiz=Nodoe()):\n",
        "        self.raiz=raiz     \n",
        "        \n",
        "    def insert(self,x):\n",
        "        self.raiz=self.raiz.insert(x)\n",
        "    \n",
        "    def dibujar(self):\n",
        "      btd = aed.BinaryTreeDrawer(fieldData=\"info\", fieldLeft=\"izq\", fieldRight=\"der\", classNone=Nodoe, drawNull=True)\n",
        "      btd.draw_tree(self, \"raiz\")\n",
        "\n",
        "    def cut(self,x):\n",
        "      menor=Arbol()\n",
        "      mayor=Arbol()\n",
        "      return self.raiz.cut(x,menor,mayor)\n",
        "\n",
        "    def root_insert(self,x):\n",
        "      if self.contador()==0:\n",
        "        self.raiz=Nodoi(Nodoe(),x,Nodoe())\n",
        "      else:\n",
        "        nodosArbol=self.cut(x)\n",
        "        if nodosArbol[0].raiz.contador()==0:\n",
        "          nodoizq=Nodoe()\n",
        "        else:\n",
        "          nodoizq=Nodoi(nodosArbol[0].raiz.izq,nodosArbol[0].raiz.info,nodosArbol[0].raiz.der)\n",
        "        if nodosArbol[1].raiz.contador()==0:\n",
        "          nododer=Nodoe()\n",
        "        else:\n",
        "          nododer=Nodoi(nodosArbol[1].raiz.izq,nodosArbol[1].raiz.info,nodosArbol[1].raiz.der)\n",
        "        self.raiz=Nodoi(nodoizq,x,nododer)\n",
        "    def contador(self):\n",
        "      return self.raiz.contador()"
      ],
      "execution_count": null,
      "outputs": []
    },
    {
      "cell_type": "markdown",
      "metadata": {
        "id": "2YPnD2MSewy5"
      },
      "source": [
        "## Parte 2: Evaluación experimental"
      ]
    },
    {
      "cell_type": "markdown",
      "metadata": {
        "id": "j0qi8nqJewy6"
      },
      "source": [
        "A continuación, ejecute lo siguiente para probar su implementación:"
      ]
    },
    {
      "cell_type": "code",
      "metadata": {
        "id": "8NMaRY0ojH5o",
        "colab": {
          "base_uri": "https://localhost:8080/",
          "height": 1000
        },
        "outputId": "449b3408-d504-4880-dfec-b3d16c961687"
      },
      "source": [
        "lista=[4,9,6,2,7,1,8,3,5]\n",
        "a=Arbol()\n",
        "for x in reversed(lista):\n",
        "    a.root_insert(x)\n",
        "    a.dibujar()\n",
        "c=Arbol()\n",
        "for x in lista:\n",
        "    c.insert(x)\n",
        "c.dibujar()"
      ],
      "execution_count": null,
      "outputs": [
        {
          "output_type": "display_data",
          "data": {
            "text/plain": [
              "<IPython.core.display.SVG object>"
            ],
            "image/svg+xml": "<svg height=\"76pt\" viewBox=\"0.00 0.00 89.20 76.20\" width=\"89pt\" xmlns=\"http://www.w3.org/2000/svg\" xmlns:xlink=\"http://www.w3.org/1999/xlink\">\n<g class=\"graph\" id=\"graph0\" transform=\"scale(1 1) rotate(0) translate(4 72.2)\">\n<title>Arbol</title>\n<polygon fill=\"#ffffff\" points=\"-4,4 -4,-72.2 85.2,-72.2 85.2,4 -4,4\" stroke=\"transparent\"/>\n<!-- null0 -->\n<g class=\"node\" id=\"node1\">\n<title>null0</title>\n<polygon fill=\"none\" points=\"14,-14 0,-14 0,0 14,0 14,-14\" stroke=\"#000000\"/>\n</g>\n<!-- node0 -->\n<g class=\"node\" id=\"node2\">\n<title>node0</title>\n<ellipse cx=\"40.6\" cy=\"-50.2\" fill=\"none\" rx=\"18\" ry=\"18\" stroke=\"#000000\"/>\n<text fill=\"#000000\" font-family=\"Times,serif\" font-size=\"14.00\" text-anchor=\"middle\" x=\"40.6\" y=\"-46.5\">5</text>\n</g>\n<!-- node0&#45;&#45;null0 -->\n<g class=\"edge\" id=\"edge1\">\n<title>node0--null0</title>\n<path d=\"M29.2246,-35.5745C23.5892,-28.329 17.0417,-19.9107 12.5201,-14.0973\" fill=\"none\" stroke=\"#000000\"/>\n</g>\n<!-- null1 -->\n<g class=\"node\" id=\"node3\">\n<title>null1</title>\n<polygon fill=\"none\" points=\"81.2,-14 67.2,-14 67.2,0 81.2,0 81.2,-14\" stroke=\"#000000\"/>\n</g>\n<!-- node0&#45;&#45;null1 -->\n<g class=\"edge\" id=\"edge2\">\n<title>node0--null1</title>\n<path d=\"M51.9754,-35.5745C57.6108,-28.329 64.1583,-19.9107 68.6799,-14.0973\" fill=\"none\" stroke=\"#000000\"/>\n</g>\n</g>\n</svg>"
          },
          "metadata": {
            "tags": []
          }
        },
        {
          "output_type": "display_data",
          "data": {
            "text/plain": [
              "<IPython.core.display.SVG object>"
            ],
            "image/svg+xml": "<svg height=\"119pt\" viewBox=\"0.00 0.00 156.40 119.40\" width=\"156pt\" xmlns=\"http://www.w3.org/2000/svg\" xmlns:xlink=\"http://www.w3.org/1999/xlink\">\n<g class=\"graph\" id=\"graph0\" transform=\"scale(1 1) rotate(0) translate(4 115.4)\">\n<title>Arbol</title>\n<polygon fill=\"#ffffff\" points=\"-4,4 -4,-115.4 152.4,-115.4 152.4,4 -4,4\" stroke=\"transparent\"/>\n<!-- null0 -->\n<g class=\"node\" id=\"node1\">\n<title>null0</title>\n<polygon fill=\"none\" points=\"14,-57.2 0,-57.2 0,-43.2 14,-43.2 14,-57.2\" stroke=\"#000000\"/>\n</g>\n<!-- node1 -->\n<g class=\"node\" id=\"node2\">\n<title>node1</title>\n<ellipse cx=\"40.6\" cy=\"-93.4\" fill=\"none\" rx=\"18\" ry=\"18\" stroke=\"#000000\"/>\n<text fill=\"#000000\" font-family=\"Times,serif\" font-size=\"14.00\" text-anchor=\"middle\" x=\"40.6\" y=\"-89.7\">3</text>\n</g>\n<!-- node1&#45;&#45;null0 -->\n<g class=\"edge\" id=\"edge1\">\n<title>node1--null0</title>\n<path d=\"M29.2246,-78.7745C23.5892,-71.529 17.0417,-63.1107 12.5201,-57.2973\" fill=\"none\" stroke=\"#000000\"/>\n</g>\n<!-- node0 -->\n<g class=\"node\" id=\"node4\">\n<title>node0</title>\n<ellipse cx=\"107.8\" cy=\"-50.2\" fill=\"none\" rx=\"18\" ry=\"18\" stroke=\"#000000\"/>\n<text fill=\"#000000\" font-family=\"Times,serif\" font-size=\"14.00\" text-anchor=\"middle\" x=\"107.8\" y=\"-46.5\">5</text>\n</g>\n<!-- node1&#45;&#45;node0 -->\n<g class=\"edge\" id=\"edge2\">\n<title>node1--node0</title>\n<path d=\"M55.8487,-83.5973C66.8464,-76.5273 81.6278,-67.025 92.6116,-59.964\" fill=\"none\" stroke=\"#000000\"/>\n</g>\n<!-- null1 -->\n<g class=\"node\" id=\"node3\">\n<title>null1</title>\n<polygon fill=\"none\" points=\"81.2,-14 67.2,-14 67.2,0 81.2,0 81.2,-14\" stroke=\"#000000\"/>\n</g>\n<!-- node0&#45;&#45;null1 -->\n<g class=\"edge\" id=\"edge3\">\n<title>node0--null1</title>\n<path d=\"M96.4246,-35.5745C90.7892,-28.329 84.2417,-19.9107 79.7201,-14.0973\" fill=\"none\" stroke=\"#000000\"/>\n</g>\n<!-- null2 -->\n<g class=\"node\" id=\"node5\">\n<title>null2</title>\n<polygon fill=\"none\" points=\"148.4,-14 134.4,-14 134.4,0 148.4,0 148.4,-14\" stroke=\"#000000\"/>\n</g>\n<!-- node0&#45;&#45;null2 -->\n<g class=\"edge\" id=\"edge4\">\n<title>node0--null2</title>\n<path d=\"M119.1754,-35.5745C124.8108,-28.329 131.3583,-19.9107 135.8799,-14.0973\" fill=\"none\" stroke=\"#000000\"/>\n</g>\n</g>\n</svg>"
          },
          "metadata": {
            "tags": []
          }
        },
        {
          "output_type": "display_data",
          "data": {
            "text/plain": [
              "<IPython.core.display.SVG object>"
            ],
            "image/svg+xml": "<svg height=\"163pt\" viewBox=\"0.00 0.00 223.60 162.60\" width=\"224pt\" xmlns=\"http://www.w3.org/2000/svg\" xmlns:xlink=\"http://www.w3.org/1999/xlink\">\n<g class=\"graph\" id=\"graph0\" transform=\"scale(1 1) rotate(0) translate(4 158.6)\">\n<title>Arbol</title>\n<polygon fill=\"#ffffff\" points=\"-4,4 -4,-158.6 219.6,-158.6 219.6,4 -4,4\" stroke=\"transparent\"/>\n<!-- null0 -->\n<g class=\"node\" id=\"node1\">\n<title>null0</title>\n<polygon fill=\"none\" points=\"14,-57.2 0,-57.2 0,-43.2 14,-43.2 14,-57.2\" stroke=\"#000000\"/>\n</g>\n<!-- node1 -->\n<g class=\"node\" id=\"node2\">\n<title>node1</title>\n<ellipse cx=\"40.6\" cy=\"-93.4\" fill=\"none\" rx=\"18\" ry=\"18\" stroke=\"#000000\"/>\n<text fill=\"#000000\" font-family=\"Times,serif\" font-size=\"14.00\" text-anchor=\"middle\" x=\"40.6\" y=\"-89.7\">3</text>\n</g>\n<!-- node1&#45;&#45;null0 -->\n<g class=\"edge\" id=\"edge2\">\n<title>node1--null0</title>\n<path d=\"M29.2246,-78.7745C23.5892,-71.529 17.0417,-63.1107 12.5201,-57.2973\" fill=\"none\" stroke=\"#000000\"/>\n</g>\n<!-- node0 -->\n<g class=\"node\" id=\"node4\">\n<title>node0</title>\n<ellipse cx=\"107.8\" cy=\"-50.2\" fill=\"none\" rx=\"18\" ry=\"18\" stroke=\"#000000\"/>\n<text fill=\"#000000\" font-family=\"Times,serif\" font-size=\"14.00\" text-anchor=\"middle\" x=\"107.8\" y=\"-46.5\">5</text>\n</g>\n<!-- node1&#45;&#45;node0 -->\n<g class=\"edge\" id=\"edge3\">\n<title>node1--node0</title>\n<path d=\"M55.8487,-83.5973C66.8464,-76.5273 81.6278,-67.025 92.6116,-59.964\" fill=\"none\" stroke=\"#000000\"/>\n</g>\n<!-- null1 -->\n<g class=\"node\" id=\"node3\">\n<title>null1</title>\n<polygon fill=\"none\" points=\"81.2,-14 67.2,-14 67.2,0 81.2,0 81.2,-14\" stroke=\"#000000\"/>\n</g>\n<!-- node0&#45;&#45;null1 -->\n<g class=\"edge\" id=\"edge4\">\n<title>node0--null1</title>\n<path d=\"M96.4246,-35.5745C90.7892,-28.329 84.2417,-19.9107 79.7201,-14.0973\" fill=\"none\" stroke=\"#000000\"/>\n</g>\n<!-- null2 -->\n<g class=\"node\" id=\"node5\">\n<title>null2</title>\n<polygon fill=\"none\" points=\"148.4,-14 134.4,-14 134.4,0 148.4,0 148.4,-14\" stroke=\"#000000\"/>\n</g>\n<!-- node0&#45;&#45;null2 -->\n<g class=\"edge\" id=\"edge5\">\n<title>node0--null2</title>\n<path d=\"M119.1754,-35.5745C124.8108,-28.329 131.3583,-19.9107 135.8799,-14.0973\" fill=\"none\" stroke=\"#000000\"/>\n</g>\n<!-- node2 -->\n<g class=\"node\" id=\"node6\">\n<title>node2</title>\n<ellipse cx=\"175\" cy=\"-136.6\" fill=\"none\" rx=\"18\" ry=\"18\" stroke=\"#000000\"/>\n<text fill=\"#000000\" font-family=\"Times,serif\" font-size=\"14.00\" text-anchor=\"middle\" x=\"175\" y=\"-132.9\">8</text>\n</g>\n<!-- node2&#45;&#45;node1 -->\n<g class=\"edge\" id=\"edge1\">\n<title>node2--node1</title>\n<path d=\"M157.7047,-131.0408C131.8982,-122.7458 83.5968,-107.2204 57.8289,-98.9379\" fill=\"none\" stroke=\"#000000\"/>\n</g>\n<!-- null3 -->\n<g class=\"node\" id=\"node7\">\n<title>null3</title>\n<polygon fill=\"none\" points=\"215.6,-100.4 201.6,-100.4 201.6,-86.4 215.6,-86.4 215.6,-100.4\" stroke=\"#000000\"/>\n</g>\n<!-- node2&#45;&#45;null3 -->\n<g class=\"edge\" id=\"edge6\">\n<title>node2--null3</title>\n<path d=\"M186.3754,-121.9745C192.0108,-114.729 198.5583,-106.3107 203.0799,-100.4973\" fill=\"none\" stroke=\"#000000\"/>\n</g>\n</g>\n</svg>"
          },
          "metadata": {
            "tags": []
          }
        },
        {
          "output_type": "display_data",
          "data": {
            "text/plain": [
              "<IPython.core.display.SVG object>"
            ],
            "image/svg+xml": "<svg height=\"206pt\" viewBox=\"0.00 0.00 290.80 205.80\" width=\"291pt\" xmlns=\"http://www.w3.org/2000/svg\" xmlns:xlink=\"http://www.w3.org/1999/xlink\">\n<g class=\"graph\" id=\"graph0\" transform=\"scale(1 1) rotate(0) translate(4 201.8)\">\n<title>Arbol</title>\n<polygon fill=\"#ffffff\" points=\"-4,4 -4,-201.8 286.8,-201.8 286.8,4 -4,4\" stroke=\"transparent\"/>\n<!-- null0 -->\n<g class=\"node\" id=\"node1\">\n<title>null0</title>\n<polygon fill=\"none\" points=\"14,-143.6 0,-143.6 0,-129.6 14,-129.6 14,-143.6\" stroke=\"#000000\"/>\n</g>\n<!-- node3 -->\n<g class=\"node\" id=\"node2\">\n<title>node3</title>\n<ellipse cx=\"40.6\" cy=\"-179.8\" fill=\"none\" rx=\"18\" ry=\"18\" stroke=\"#000000\"/>\n<text fill=\"#000000\" font-family=\"Times,serif\" font-size=\"14.00\" text-anchor=\"middle\" x=\"40.6\" y=\"-176.1\">1</text>\n</g>\n<!-- node3&#45;&#45;null0 -->\n<g class=\"edge\" id=\"edge1\">\n<title>node3--null0</title>\n<path d=\"M29.2246,-165.1745C23.5892,-157.929 17.0417,-149.5107 12.5201,-143.6973\" fill=\"none\" stroke=\"#000000\"/>\n</g>\n<!-- node2 -->\n<g class=\"node\" id=\"node8\">\n<title>node2</title>\n<ellipse cx=\"242.2\" cy=\"-136.6\" fill=\"none\" rx=\"18\" ry=\"18\" stroke=\"#000000\"/>\n<text fill=\"#000000\" font-family=\"Times,serif\" font-size=\"14.00\" text-anchor=\"middle\" x=\"242.2\" y=\"-132.9\">8</text>\n</g>\n<!-- node3&#45;&#45;node2 -->\n<g class=\"edge\" id=\"edge2\">\n<title>node3--node2</title>\n<path d=\"M58.4907,-175.9663C96.7477,-167.7684 186.1281,-148.6154 224.3494,-140.4251\" fill=\"none\" stroke=\"#000000\"/>\n</g>\n<!-- null1 -->\n<g class=\"node\" id=\"node3\">\n<title>null1</title>\n<polygon fill=\"none\" points=\"81.2,-57.2 67.2,-57.2 67.2,-43.2 81.2,-43.2 81.2,-57.2\" stroke=\"#000000\"/>\n</g>\n<!-- node1 -->\n<g class=\"node\" id=\"node4\">\n<title>node1</title>\n<ellipse cx=\"107.8\" cy=\"-93.4\" fill=\"none\" rx=\"18\" ry=\"18\" stroke=\"#000000\"/>\n<text fill=\"#000000\" font-family=\"Times,serif\" font-size=\"14.00\" text-anchor=\"middle\" x=\"107.8\" y=\"-89.7\">3</text>\n</g>\n<!-- node1&#45;&#45;null1 -->\n<g class=\"edge\" id=\"edge4\">\n<title>node1--null1</title>\n<path d=\"M96.4246,-78.7745C90.7892,-71.529 84.2417,-63.1107 79.7201,-57.2973\" fill=\"none\" stroke=\"#000000\"/>\n</g>\n<!-- node0 -->\n<g class=\"node\" id=\"node6\">\n<title>node0</title>\n<ellipse cx=\"175\" cy=\"-50.2\" fill=\"none\" rx=\"18\" ry=\"18\" stroke=\"#000000\"/>\n<text fill=\"#000000\" font-family=\"Times,serif\" font-size=\"14.00\" text-anchor=\"middle\" x=\"175\" y=\"-46.5\">5</text>\n</g>\n<!-- node1&#45;&#45;node0 -->\n<g class=\"edge\" id=\"edge5\">\n<title>node1--node0</title>\n<path d=\"M123.0487,-83.5973C134.0464,-76.5273 148.8278,-67.025 159.8116,-59.964\" fill=\"none\" stroke=\"#000000\"/>\n</g>\n<!-- null2 -->\n<g class=\"node\" id=\"node5\">\n<title>null2</title>\n<polygon fill=\"none\" points=\"148.4,-14 134.4,-14 134.4,0 148.4,0 148.4,-14\" stroke=\"#000000\"/>\n</g>\n<!-- node0&#45;&#45;null2 -->\n<g class=\"edge\" id=\"edge6\">\n<title>node0--null2</title>\n<path d=\"M163.6246,-35.5745C157.9892,-28.329 151.4417,-19.9107 146.9201,-14.0973\" fill=\"none\" stroke=\"#000000\"/>\n</g>\n<!-- null3 -->\n<g class=\"node\" id=\"node7\">\n<title>null3</title>\n<polygon fill=\"none\" points=\"215.6,-14 201.6,-14 201.6,0 215.6,0 215.6,-14\" stroke=\"#000000\"/>\n</g>\n<!-- node0&#45;&#45;null3 -->\n<g class=\"edge\" id=\"edge7\">\n<title>node0--null3</title>\n<path d=\"M186.3754,-35.5745C192.0108,-28.329 198.5583,-19.9107 203.0799,-14.0973\" fill=\"none\" stroke=\"#000000\"/>\n</g>\n<!-- node2&#45;&#45;node1 -->\n<g class=\"edge\" id=\"edge3\">\n<title>node2--node1</title>\n<path d=\"M224.9047,-131.0408C199.0982,-122.7458 150.7968,-107.2204 125.0289,-98.9379\" fill=\"none\" stroke=\"#000000\"/>\n</g>\n<!-- null4 -->\n<g class=\"node\" id=\"node9\">\n<title>null4</title>\n<polygon fill=\"none\" points=\"282.8,-100.4 268.8,-100.4 268.8,-86.4 282.8,-86.4 282.8,-100.4\" stroke=\"#000000\"/>\n</g>\n<!-- node2&#45;&#45;null4 -->\n<g class=\"edge\" id=\"edge8\">\n<title>node2--null4</title>\n<path d=\"M253.5754,-121.9745C259.2108,-114.729 265.7583,-106.3107 270.2799,-100.4973\" fill=\"none\" stroke=\"#000000\"/>\n</g>\n</g>\n</svg>"
          },
          "metadata": {
            "tags": []
          }
        },
        {
          "output_type": "display_data",
          "data": {
            "text/plain": [
              "<IPython.core.display.SVG object>"
            ],
            "image/svg+xml": "<svg height=\"206pt\" viewBox=\"0.00 0.00 358.00 205.80\" width=\"358pt\" xmlns=\"http://www.w3.org/2000/svg\" xmlns:xlink=\"http://www.w3.org/1999/xlink\">\n<g class=\"graph\" id=\"graph0\" transform=\"scale(1 1) rotate(0) translate(4 201.8)\">\n<title>Arbol</title>\n<polygon fill=\"#ffffff\" points=\"-4,4 -4,-201.8 354,-201.8 354,4 -4,4\" stroke=\"transparent\"/>\n<!-- null0 -->\n<g class=\"node\" id=\"node1\">\n<title>null0</title>\n<polygon fill=\"none\" points=\"14,-100.4 0,-100.4 0,-86.4 14,-86.4 14,-100.4\" stroke=\"#000000\"/>\n</g>\n<!-- node2 -->\n<g class=\"node\" id=\"node2\">\n<title>node2</title>\n<ellipse cx=\"40.6\" cy=\"-136.6\" fill=\"none\" rx=\"18\" ry=\"18\" stroke=\"#000000\"/>\n<text fill=\"#000000\" font-family=\"Times,serif\" font-size=\"14.00\" text-anchor=\"middle\" x=\"40.6\" y=\"-132.9\">1</text>\n</g>\n<!-- node2&#45;&#45;null0 -->\n<g class=\"edge\" id=\"edge2\">\n<title>node2--null0</title>\n<path d=\"M29.2246,-121.9745C23.5892,-114.729 17.0417,-106.3107 12.5201,-100.4973\" fill=\"none\" stroke=\"#000000\"/>\n</g>\n<!-- node1 -->\n<g class=\"node\" id=\"node4\">\n<title>node1</title>\n<ellipse cx=\"107.8\" cy=\"-93.4\" fill=\"none\" rx=\"18\" ry=\"18\" stroke=\"#000000\"/>\n<text fill=\"#000000\" font-family=\"Times,serif\" font-size=\"14.00\" text-anchor=\"middle\" x=\"107.8\" y=\"-89.7\">3</text>\n</g>\n<!-- node2&#45;&#45;node1 -->\n<g class=\"edge\" id=\"edge3\">\n<title>node2--node1</title>\n<path d=\"M55.8487,-126.7973C66.8464,-119.7273 81.6278,-110.225 92.6116,-103.164\" fill=\"none\" stroke=\"#000000\"/>\n</g>\n<!-- null1 -->\n<g class=\"node\" id=\"node3\">\n<title>null1</title>\n<polygon fill=\"none\" points=\"81.2,-57.2 67.2,-57.2 67.2,-43.2 81.2,-43.2 81.2,-57.2\" stroke=\"#000000\"/>\n</g>\n<!-- node1&#45;&#45;null1 -->\n<g class=\"edge\" id=\"edge4\">\n<title>node1--null1</title>\n<path d=\"M96.4246,-78.7745C90.7892,-71.529 84.2417,-63.1107 79.7201,-57.2973\" fill=\"none\" stroke=\"#000000\"/>\n</g>\n<!-- node0 -->\n<g class=\"node\" id=\"node6\">\n<title>node0</title>\n<ellipse cx=\"175\" cy=\"-50.2\" fill=\"none\" rx=\"18\" ry=\"18\" stroke=\"#000000\"/>\n<text fill=\"#000000\" font-family=\"Times,serif\" font-size=\"14.00\" text-anchor=\"middle\" x=\"175\" y=\"-46.5\">5</text>\n</g>\n<!-- node1&#45;&#45;node0 -->\n<g class=\"edge\" id=\"edge5\">\n<title>node1--node0</title>\n<path d=\"M123.0487,-83.5973C134.0464,-76.5273 148.8278,-67.025 159.8116,-59.964\" fill=\"none\" stroke=\"#000000\"/>\n</g>\n<!-- null2 -->\n<g class=\"node\" id=\"node5\">\n<title>null2</title>\n<polygon fill=\"none\" points=\"148.4,-14 134.4,-14 134.4,0 148.4,0 148.4,-14\" stroke=\"#000000\"/>\n</g>\n<!-- node0&#45;&#45;null2 -->\n<g class=\"edge\" id=\"edge6\">\n<title>node0--null2</title>\n<path d=\"M163.6246,-35.5745C157.9892,-28.329 151.4417,-19.9107 146.9201,-14.0973\" fill=\"none\" stroke=\"#000000\"/>\n</g>\n<!-- null3 -->\n<g class=\"node\" id=\"node7\">\n<title>null3</title>\n<polygon fill=\"none\" points=\"215.6,-14 201.6,-14 201.6,0 215.6,0 215.6,-14\" stroke=\"#000000\"/>\n</g>\n<!-- node0&#45;&#45;null3 -->\n<g class=\"edge\" id=\"edge7\">\n<title>node0--null3</title>\n<path d=\"M186.3754,-35.5745C192.0108,-28.329 198.5583,-19.9107 203.0799,-14.0973\" fill=\"none\" stroke=\"#000000\"/>\n</g>\n<!-- node4 -->\n<g class=\"node\" id=\"node8\">\n<title>node4</title>\n<ellipse cx=\"242.2\" cy=\"-179.8\" fill=\"none\" rx=\"18\" ry=\"18\" stroke=\"#000000\"/>\n<text fill=\"#000000\" font-family=\"Times,serif\" font-size=\"14.00\" text-anchor=\"middle\" x=\"242.2\" y=\"-176.1\">7</text>\n</g>\n<!-- node4&#45;&#45;node2 -->\n<g class=\"edge\" id=\"edge1\">\n<title>node4--node2</title>\n<path d=\"M224.3093,-175.9663C186.0523,-167.7683 96.6719,-148.6154 58.4506,-140.4251\" fill=\"none\" stroke=\"#000000\"/>\n</g>\n<!-- node3 -->\n<g class=\"node\" id=\"node10\">\n<title>node3</title>\n<ellipse cx=\"309.4\" cy=\"-136.6\" fill=\"none\" rx=\"18\" ry=\"18\" stroke=\"#000000\"/>\n<text fill=\"#000000\" font-family=\"Times,serif\" font-size=\"14.00\" text-anchor=\"middle\" x=\"309.4\" y=\"-132.9\">8</text>\n</g>\n<!-- node4&#45;&#45;node3 -->\n<g class=\"edge\" id=\"edge8\">\n<title>node4--node3</title>\n<path d=\"M257.4487,-169.9973C268.4464,-162.9273 283.2278,-153.425 294.2116,-146.364\" fill=\"none\" stroke=\"#000000\"/>\n</g>\n<!-- null4 -->\n<g class=\"node\" id=\"node9\">\n<title>null4</title>\n<polygon fill=\"none\" points=\"282.8,-100.4 268.8,-100.4 268.8,-86.4 282.8,-86.4 282.8,-100.4\" stroke=\"#000000\"/>\n</g>\n<!-- node3&#45;&#45;null4 -->\n<g class=\"edge\" id=\"edge9\">\n<title>node3--null4</title>\n<path d=\"M298.0246,-121.9745C292.3892,-114.729 285.8417,-106.3107 281.3201,-100.4973\" fill=\"none\" stroke=\"#000000\"/>\n</g>\n<!-- null5 -->\n<g class=\"node\" id=\"node11\">\n<title>null5</title>\n<polygon fill=\"none\" points=\"350,-100.4 336,-100.4 336,-86.4 350,-86.4 350,-100.4\" stroke=\"#000000\"/>\n</g>\n<!-- node3&#45;&#45;null5 -->\n<g class=\"edge\" id=\"edge10\">\n<title>node3--null5</title>\n<path d=\"M320.7754,-121.9745C326.4108,-114.729 332.9583,-106.3107 337.4799,-100.4973\" fill=\"none\" stroke=\"#000000\"/>\n</g>\n</g>\n</svg>"
          },
          "metadata": {
            "tags": []
          }
        },
        {
          "output_type": "display_data",
          "data": {
            "text/plain": [
              "<IPython.core.display.SVG object>"
            ],
            "image/svg+xml": "<svg height=\"206pt\" viewBox=\"0.00 0.00 425.20 205.80\" width=\"425pt\" xmlns=\"http://www.w3.org/2000/svg\" xmlns:xlink=\"http://www.w3.org/1999/xlink\">\n<g class=\"graph\" id=\"graph0\" transform=\"scale(1 1) rotate(0) translate(4 201.8)\">\n<title>Arbol</title>\n<polygon fill=\"#ffffff\" points=\"-4,4 -4,-201.8 421.2,-201.8 421.2,4 -4,4\" stroke=\"transparent\"/>\n<!-- null0 -->\n<g class=\"node\" id=\"node1\">\n<title>null0</title>\n<polygon fill=\"none\" points=\"14,-100.4 0,-100.4 0,-86.4 14,-86.4 14,-100.4\" stroke=\"#000000\"/>\n</g>\n<!-- node0 -->\n<g class=\"node\" id=\"node2\">\n<title>node0</title>\n<ellipse cx=\"40.6\" cy=\"-136.6\" fill=\"none\" rx=\"18\" ry=\"18\" stroke=\"#000000\"/>\n<text fill=\"#000000\" font-family=\"Times,serif\" font-size=\"14.00\" text-anchor=\"middle\" x=\"40.6\" y=\"-132.9\">1</text>\n</g>\n<!-- node0&#45;&#45;null0 -->\n<g class=\"edge\" id=\"edge2\">\n<title>node0--null0</title>\n<path d=\"M29.2246,-121.9745C23.5892,-114.729 17.0417,-106.3107 12.5201,-100.4973\" fill=\"none\" stroke=\"#000000\"/>\n</g>\n<!-- null1 -->\n<g class=\"node\" id=\"node3\">\n<title>null1</title>\n<polygon fill=\"none\" points=\"81.2,-100.4 67.2,-100.4 67.2,-86.4 81.2,-86.4 81.2,-100.4\" stroke=\"#000000\"/>\n</g>\n<!-- node0&#45;&#45;null1 -->\n<g class=\"edge\" id=\"edge3\">\n<title>node0--null1</title>\n<path d=\"M51.9754,-121.9745C57.6108,-114.729 64.1583,-106.3107 68.6799,-100.4973\" fill=\"none\" stroke=\"#000000\"/>\n</g>\n<!-- node5 -->\n<g class=\"node\" id=\"node4\">\n<title>node5</title>\n<ellipse cx=\"107.8\" cy=\"-179.8\" fill=\"none\" rx=\"18\" ry=\"18\" stroke=\"#000000\"/>\n<text fill=\"#000000\" font-family=\"Times,serif\" font-size=\"14.00\" text-anchor=\"middle\" x=\"107.8\" y=\"-176.1\">2</text>\n</g>\n<!-- node5&#45;&#45;node0 -->\n<g class=\"edge\" id=\"edge1\">\n<title>node5--node0</title>\n<path d=\"M92.5513,-169.9973C81.5536,-162.9273 66.7722,-153.425 55.7884,-146.364\" fill=\"none\" stroke=\"#000000\"/>\n</g>\n<!-- node4 -->\n<g class=\"node\" id=\"node10\">\n<title>node4</title>\n<ellipse cx=\"309.4\" cy=\"-136.6\" fill=\"none\" rx=\"18\" ry=\"18\" stroke=\"#000000\"/>\n<text fill=\"#000000\" font-family=\"Times,serif\" font-size=\"14.00\" text-anchor=\"middle\" x=\"309.4\" y=\"-132.9\">7</text>\n</g>\n<!-- node5&#45;&#45;node4 -->\n<g class=\"edge\" id=\"edge4\">\n<title>node5--node4</title>\n<path d=\"M125.6907,-175.9663C163.9477,-167.7684 253.3281,-148.6154 291.5494,-140.4251\" fill=\"none\" stroke=\"#000000\"/>\n</g>\n<!-- null2 -->\n<g class=\"node\" id=\"node5\">\n<title>null2</title>\n<polygon fill=\"none\" points=\"148.4,-57.2 134.4,-57.2 134.4,-43.2 148.4,-43.2 148.4,-57.2\" stroke=\"#000000\"/>\n</g>\n<!-- node2 -->\n<g class=\"node\" id=\"node6\">\n<title>node2</title>\n<ellipse cx=\"175\" cy=\"-93.4\" fill=\"none\" rx=\"18\" ry=\"18\" stroke=\"#000000\"/>\n<text fill=\"#000000\" font-family=\"Times,serif\" font-size=\"14.00\" text-anchor=\"middle\" x=\"175\" y=\"-89.7\">3</text>\n</g>\n<!-- node2&#45;&#45;null2 -->\n<g class=\"edge\" id=\"edge6\">\n<title>node2--null2</title>\n<path d=\"M163.6246,-78.7745C157.9892,-71.529 151.4417,-63.1107 146.9201,-57.2973\" fill=\"none\" stroke=\"#000000\"/>\n</g>\n<!-- node1 -->\n<g class=\"node\" id=\"node8\">\n<title>node1</title>\n<ellipse cx=\"242.2\" cy=\"-50.2\" fill=\"none\" rx=\"18\" ry=\"18\" stroke=\"#000000\"/>\n<text fill=\"#000000\" font-family=\"Times,serif\" font-size=\"14.00\" text-anchor=\"middle\" x=\"242.2\" y=\"-46.5\">5</text>\n</g>\n<!-- node2&#45;&#45;node1 -->\n<g class=\"edge\" id=\"edge7\">\n<title>node2--node1</title>\n<path d=\"M190.2487,-83.5973C201.2464,-76.5273 216.0278,-67.025 227.0116,-59.964\" fill=\"none\" stroke=\"#000000\"/>\n</g>\n<!-- null3 -->\n<g class=\"node\" id=\"node7\">\n<title>null3</title>\n<polygon fill=\"none\" points=\"215.6,-14 201.6,-14 201.6,0 215.6,0 215.6,-14\" stroke=\"#000000\"/>\n</g>\n<!-- node1&#45;&#45;null3 -->\n<g class=\"edge\" id=\"edge8\">\n<title>node1--null3</title>\n<path d=\"M230.8246,-35.5745C225.1892,-28.329 218.6417,-19.9107 214.1201,-14.0973\" fill=\"none\" stroke=\"#000000\"/>\n</g>\n<!-- null4 -->\n<g class=\"node\" id=\"node9\">\n<title>null4</title>\n<polygon fill=\"none\" points=\"282.8,-14 268.8,-14 268.8,0 282.8,0 282.8,-14\" stroke=\"#000000\"/>\n</g>\n<!-- node1&#45;&#45;null4 -->\n<g class=\"edge\" id=\"edge9\">\n<title>node1--null4</title>\n<path d=\"M253.5754,-35.5745C259.2108,-28.329 265.7583,-19.9107 270.2799,-14.0973\" fill=\"none\" stroke=\"#000000\"/>\n</g>\n<!-- node4&#45;&#45;node2 -->\n<g class=\"edge\" id=\"edge5\">\n<title>node4--node2</title>\n<path d=\"M292.1047,-131.0408C266.2982,-122.7458 217.9968,-107.2204 192.2289,-98.9379\" fill=\"none\" stroke=\"#000000\"/>\n</g>\n<!-- node3 -->\n<g class=\"node\" id=\"node12\">\n<title>node3</title>\n<ellipse cx=\"376.6\" cy=\"-93.4\" fill=\"none\" rx=\"18\" ry=\"18\" stroke=\"#000000\"/>\n<text fill=\"#000000\" font-family=\"Times,serif\" font-size=\"14.00\" text-anchor=\"middle\" x=\"376.6\" y=\"-89.7\">8</text>\n</g>\n<!-- node4&#45;&#45;node3 -->\n<g class=\"edge\" id=\"edge10\">\n<title>node4--node3</title>\n<path d=\"M324.6487,-126.7973C335.6464,-119.7273 350.4278,-110.225 361.4116,-103.164\" fill=\"none\" stroke=\"#000000\"/>\n</g>\n<!-- null5 -->\n<g class=\"node\" id=\"node11\">\n<title>null5</title>\n<polygon fill=\"none\" points=\"350,-57.2 336,-57.2 336,-43.2 350,-43.2 350,-57.2\" stroke=\"#000000\"/>\n</g>\n<!-- node3&#45;&#45;null5 -->\n<g class=\"edge\" id=\"edge11\">\n<title>node3--null5</title>\n<path d=\"M365.2246,-78.7745C359.5892,-71.529 353.0417,-63.1107 348.5201,-57.2973\" fill=\"none\" stroke=\"#000000\"/>\n</g>\n<!-- null6 -->\n<g class=\"node\" id=\"node13\">\n<title>null6</title>\n<polygon fill=\"none\" points=\"417.2,-57.2 403.2,-57.2 403.2,-43.2 417.2,-43.2 417.2,-57.2\" stroke=\"#000000\"/>\n</g>\n<!-- node3&#45;&#45;null6 -->\n<g class=\"edge\" id=\"edge12\">\n<title>node3--null6</title>\n<path d=\"M387.9754,-78.7745C393.6108,-71.529 400.1583,-63.1107 404.6799,-57.2973\" fill=\"none\" stroke=\"#000000\"/>\n</g>\n</g>\n</svg>"
          },
          "metadata": {
            "tags": []
          }
        },
        {
          "output_type": "display_data",
          "data": {
            "text/plain": [
              "<IPython.core.display.SVG object>"
            ],
            "image/svg+xml": "<svg height=\"206pt\" viewBox=\"0.00 0.00 492.40 205.80\" width=\"492pt\" xmlns=\"http://www.w3.org/2000/svg\" xmlns:xlink=\"http://www.w3.org/1999/xlink\">\n<g class=\"graph\" id=\"graph0\" transform=\"scale(1 1) rotate(0) translate(4 201.8)\">\n<title>Arbol</title>\n<polygon fill=\"#ffffff\" points=\"-4,4 -4,-201.8 488.4,-201.8 488.4,4 -4,4\" stroke=\"transparent\"/>\n<!-- null0 -->\n<g class=\"node\" id=\"node1\">\n<title>null0</title>\n<polygon fill=\"none\" points=\"14,-57.2 0,-57.2 0,-43.2 14,-43.2 14,-57.2\" stroke=\"#000000\"/>\n</g>\n<!-- node0 -->\n<g class=\"node\" id=\"node2\">\n<title>node0</title>\n<ellipse cx=\"40.6\" cy=\"-93.4\" fill=\"none\" rx=\"18\" ry=\"18\" stroke=\"#000000\"/>\n<text fill=\"#000000\" font-family=\"Times,serif\" font-size=\"14.00\" text-anchor=\"middle\" x=\"40.6\" y=\"-89.7\">1</text>\n</g>\n<!-- node0&#45;&#45;null0 -->\n<g class=\"edge\" id=\"edge3\">\n<title>node0--null0</title>\n<path d=\"M29.2246,-78.7744C23.5892,-71.529 17.0417,-63.1107 12.5201,-57.2973\" fill=\"none\" stroke=\"#000000\"/>\n</g>\n<!-- null1 -->\n<g class=\"node\" id=\"node3\">\n<title>null1</title>\n<polygon fill=\"none\" points=\"81.2,-57.2 67.2,-57.2 67.2,-43.2 81.2,-43.2 81.2,-57.2\" stroke=\"#000000\"/>\n</g>\n<!-- node0&#45;&#45;null1 -->\n<g class=\"edge\" id=\"edge4\">\n<title>node0--null1</title>\n<path d=\"M51.9754,-78.7744C57.6108,-71.529 64.1583,-63.1107 68.6799,-57.2973\" fill=\"none\" stroke=\"#000000\"/>\n</g>\n<!-- node3 -->\n<g class=\"node\" id=\"node4\">\n<title>node3</title>\n<ellipse cx=\"107.8\" cy=\"-136.6\" fill=\"none\" rx=\"18\" ry=\"18\" stroke=\"#000000\"/>\n<text fill=\"#000000\" font-family=\"Times,serif\" font-size=\"14.00\" text-anchor=\"middle\" x=\"107.8\" y=\"-132.9\">2</text>\n</g>\n<!-- node3&#45;&#45;node0 -->\n<g class=\"edge\" id=\"edge2\">\n<title>node3--node0</title>\n<path d=\"M92.5513,-126.7972C81.5536,-119.7273 66.7722,-110.225 55.7884,-103.164\" fill=\"none\" stroke=\"#000000\"/>\n</g>\n<!-- node2 -->\n<g class=\"node\" id=\"node6\">\n<title>node2</title>\n<ellipse cx=\"175\" cy=\"-93.4\" fill=\"none\" rx=\"18\" ry=\"18\" stroke=\"#000000\"/>\n<text fill=\"#000000\" font-family=\"Times,serif\" font-size=\"14.00\" text-anchor=\"middle\" x=\"175\" y=\"-89.7\">3</text>\n</g>\n<!-- node3&#45;&#45;node2 -->\n<g class=\"edge\" id=\"edge5\">\n<title>node3--node2</title>\n<path d=\"M123.0487,-126.7972C134.0464,-119.7273 148.8278,-110.225 159.8116,-103.164\" fill=\"none\" stroke=\"#000000\"/>\n</g>\n<!-- null2 -->\n<g class=\"node\" id=\"node5\">\n<title>null2</title>\n<polygon fill=\"none\" points=\"148.4,-57.2 134.4,-57.2 134.4,-43.2 148.4,-43.2 148.4,-57.2\" stroke=\"#000000\"/>\n</g>\n<!-- node2&#45;&#45;null2 -->\n<g class=\"edge\" id=\"edge6\">\n<title>node2--null2</title>\n<path d=\"M163.6246,-78.7744C157.9892,-71.529 151.4417,-63.1107 146.9201,-57.2973\" fill=\"none\" stroke=\"#000000\"/>\n</g>\n<!-- node1 -->\n<g class=\"node\" id=\"node8\">\n<title>node1</title>\n<ellipse cx=\"242.2\" cy=\"-50.2\" fill=\"none\" rx=\"18\" ry=\"18\" stroke=\"#000000\"/>\n<text fill=\"#000000\" font-family=\"Times,serif\" font-size=\"14.00\" text-anchor=\"middle\" x=\"242.2\" y=\"-46.5\">5</text>\n</g>\n<!-- node2&#45;&#45;node1 -->\n<g class=\"edge\" id=\"edge7\">\n<title>node2--node1</title>\n<path d=\"M190.2487,-83.5972C201.2464,-76.5273 216.0278,-67.025 227.0116,-59.964\" fill=\"none\" stroke=\"#000000\"/>\n</g>\n<!-- null3 -->\n<g class=\"node\" id=\"node7\">\n<title>null3</title>\n<polygon fill=\"none\" points=\"215.6,-14 201.6,-14 201.6,0 215.6,0 215.6,-14\" stroke=\"#000000\"/>\n</g>\n<!-- node1&#45;&#45;null3 -->\n<g class=\"edge\" id=\"edge8\">\n<title>node1--null3</title>\n<path d=\"M230.8246,-35.5744C225.1892,-28.329 218.6417,-19.9107 214.1201,-14.0973\" fill=\"none\" stroke=\"#000000\"/>\n</g>\n<!-- null4 -->\n<g class=\"node\" id=\"node9\">\n<title>null4</title>\n<polygon fill=\"none\" points=\"282.8,-14 268.8,-14 268.8,0 282.8,0 282.8,-14\" stroke=\"#000000\"/>\n</g>\n<!-- node1&#45;&#45;null4 -->\n<g class=\"edge\" id=\"edge9\">\n<title>node1--null4</title>\n<path d=\"M253.5754,-35.5744C259.2108,-28.329 265.7583,-19.9107 270.2799,-14.0973\" fill=\"none\" stroke=\"#000000\"/>\n</g>\n<!-- node6 -->\n<g class=\"node\" id=\"node10\">\n<title>node6</title>\n<ellipse cx=\"309.4\" cy=\"-179.8\" fill=\"none\" rx=\"18\" ry=\"18\" stroke=\"#000000\"/>\n<text fill=\"#000000\" font-family=\"Times,serif\" font-size=\"14.00\" text-anchor=\"middle\" x=\"309.4\" y=\"-176.1\">6</text>\n</g>\n<!-- node6&#45;&#45;node3 -->\n<g class=\"edge\" id=\"edge1\">\n<title>node6--node3</title>\n<path d=\"M291.5093,-175.9663C253.2523,-167.7683 163.8719,-148.6154 125.6506,-140.4251\" fill=\"none\" stroke=\"#000000\"/>\n</g>\n<!-- node5 -->\n<g class=\"node\" id=\"node12\">\n<title>node5</title>\n<ellipse cx=\"376.6\" cy=\"-136.6\" fill=\"none\" rx=\"18\" ry=\"18\" stroke=\"#000000\"/>\n<text fill=\"#000000\" font-family=\"Times,serif\" font-size=\"14.00\" text-anchor=\"middle\" x=\"376.6\" y=\"-132.9\">7</text>\n</g>\n<!-- node6&#45;&#45;node5 -->\n<g class=\"edge\" id=\"edge10\">\n<title>node6--node5</title>\n<path d=\"M324.6487,-169.9973C335.6464,-162.9273 350.4278,-153.425 361.4116,-146.364\" fill=\"none\" stroke=\"#000000\"/>\n</g>\n<!-- null5 -->\n<g class=\"node\" id=\"node11\">\n<title>null5</title>\n<polygon fill=\"none\" points=\"350,-100.4 336,-100.4 336,-86.4 350,-86.4 350,-100.4\" stroke=\"#000000\"/>\n</g>\n<!-- node5&#45;&#45;null5 -->\n<g class=\"edge\" id=\"edge11\">\n<title>node5--null5</title>\n<path d=\"M365.2246,-121.9744C359.5892,-114.729 353.0417,-106.3107 348.5201,-100.4973\" fill=\"none\" stroke=\"#000000\"/>\n</g>\n<!-- node4 -->\n<g class=\"node\" id=\"node14\">\n<title>node4</title>\n<ellipse cx=\"443.8\" cy=\"-93.4\" fill=\"none\" rx=\"18\" ry=\"18\" stroke=\"#000000\"/>\n<text fill=\"#000000\" font-family=\"Times,serif\" font-size=\"14.00\" text-anchor=\"middle\" x=\"443.8\" y=\"-89.7\">8</text>\n</g>\n<!-- node5&#45;&#45;node4 -->\n<g class=\"edge\" id=\"edge12\">\n<title>node5--node4</title>\n<path d=\"M391.8487,-126.7972C402.8464,-119.7273 417.6278,-110.225 428.6116,-103.164\" fill=\"none\" stroke=\"#000000\"/>\n</g>\n<!-- null6 -->\n<g class=\"node\" id=\"node13\">\n<title>null6</title>\n<polygon fill=\"none\" points=\"417.2,-57.2 403.2,-57.2 403.2,-43.2 417.2,-43.2 417.2,-57.2\" stroke=\"#000000\"/>\n</g>\n<!-- node4&#45;&#45;null6 -->\n<g class=\"edge\" id=\"edge13\">\n<title>node4--null6</title>\n<path d=\"M432.4246,-78.7744C426.7892,-71.529 420.2417,-63.1107 415.7201,-57.2973\" fill=\"none\" stroke=\"#000000\"/>\n</g>\n<!-- null7 -->\n<g class=\"node\" id=\"node15\">\n<title>null7</title>\n<polygon fill=\"none\" points=\"484.4,-57.2 470.4,-57.2 470.4,-43.2 484.4,-43.2 484.4,-57.2\" stroke=\"#000000\"/>\n</g>\n<!-- node4&#45;&#45;null7 -->\n<g class=\"edge\" id=\"edge14\">\n<title>node4--null7</title>\n<path d=\"M455.1754,-78.7744C460.8108,-71.529 467.3583,-63.1107 471.8799,-57.2973\" fill=\"none\" stroke=\"#000000\"/>\n</g>\n</g>\n</svg>"
          },
          "metadata": {
            "tags": []
          }
        },
        {
          "output_type": "display_data",
          "data": {
            "text/plain": [
              "<IPython.core.display.SVG object>"
            ],
            "image/svg+xml": "<svg height=\"249pt\" viewBox=\"0.00 0.00 559.60 249.00\" width=\"560pt\" xmlns=\"http://www.w3.org/2000/svg\" xmlns:xlink=\"http://www.w3.org/1999/xlink\">\n<g class=\"graph\" id=\"graph0\" transform=\"scale(1 1) rotate(0) translate(4 245)\">\n<title>Arbol</title>\n<polygon fill=\"#ffffff\" points=\"-4,4 -4,-245 555.6,-245 555.6,4 -4,4\" stroke=\"transparent\"/>\n<!-- null0 -->\n<g class=\"node\" id=\"node1\">\n<title>null0</title>\n<polygon fill=\"none\" points=\"14,-57.2 0,-57.2 0,-43.2 14,-43.2 14,-57.2\" stroke=\"#000000\"/>\n</g>\n<!-- node0 -->\n<g class=\"node\" id=\"node2\">\n<title>node0</title>\n<ellipse cx=\"40.6\" cy=\"-93.4\" fill=\"none\" rx=\"18\" ry=\"18\" stroke=\"#000000\"/>\n<text fill=\"#000000\" font-family=\"Times,serif\" font-size=\"14.00\" text-anchor=\"middle\" x=\"40.6\" y=\"-89.7\">1</text>\n</g>\n<!-- node0&#45;&#45;null0 -->\n<g class=\"edge\" id=\"edge4\">\n<title>node0--null0</title>\n<path d=\"M29.2246,-78.7744C23.5892,-71.529 17.0417,-63.1107 12.5201,-57.2973\" fill=\"none\" stroke=\"#000000\"/>\n</g>\n<!-- null1 -->\n<g class=\"node\" id=\"node3\">\n<title>null1</title>\n<polygon fill=\"none\" points=\"81.2,-57.2 67.2,-57.2 67.2,-43.2 81.2,-43.2 81.2,-57.2\" stroke=\"#000000\"/>\n</g>\n<!-- node0&#45;&#45;null1 -->\n<g class=\"edge\" id=\"edge5\">\n<title>node0--null1</title>\n<path d=\"M51.9754,-78.7744C57.6108,-71.529 64.1583,-63.1107 68.6799,-57.2973\" fill=\"none\" stroke=\"#000000\"/>\n</g>\n<!-- node3 -->\n<g class=\"node\" id=\"node4\">\n<title>node3</title>\n<ellipse cx=\"107.8\" cy=\"-136.6\" fill=\"none\" rx=\"18\" ry=\"18\" stroke=\"#000000\"/>\n<text fill=\"#000000\" font-family=\"Times,serif\" font-size=\"14.00\" text-anchor=\"middle\" x=\"107.8\" y=\"-132.9\">2</text>\n</g>\n<!-- node3&#45;&#45;node0 -->\n<g class=\"edge\" id=\"edge3\">\n<title>node3--node0</title>\n<path d=\"M92.5513,-126.7973C81.5536,-119.7273 66.7722,-110.225 55.7884,-103.164\" fill=\"none\" stroke=\"#000000\"/>\n</g>\n<!-- node2 -->\n<g class=\"node\" id=\"node6\">\n<title>node2</title>\n<ellipse cx=\"175\" cy=\"-93.4\" fill=\"none\" rx=\"18\" ry=\"18\" stroke=\"#000000\"/>\n<text fill=\"#000000\" font-family=\"Times,serif\" font-size=\"14.00\" text-anchor=\"middle\" x=\"175\" y=\"-89.7\">3</text>\n</g>\n<!-- node3&#45;&#45;node2 -->\n<g class=\"edge\" id=\"edge6\">\n<title>node3--node2</title>\n<path d=\"M123.0487,-126.7973C134.0464,-119.7273 148.8278,-110.225 159.8116,-103.164\" fill=\"none\" stroke=\"#000000\"/>\n</g>\n<!-- null2 -->\n<g class=\"node\" id=\"node5\">\n<title>null2</title>\n<polygon fill=\"none\" points=\"148.4,-57.2 134.4,-57.2 134.4,-43.2 148.4,-43.2 148.4,-57.2\" stroke=\"#000000\"/>\n</g>\n<!-- node2&#45;&#45;null2 -->\n<g class=\"edge\" id=\"edge7\">\n<title>node2--null2</title>\n<path d=\"M163.6246,-78.7744C157.9892,-71.529 151.4417,-63.1107 146.9201,-57.2973\" fill=\"none\" stroke=\"#000000\"/>\n</g>\n<!-- node1 -->\n<g class=\"node\" id=\"node8\">\n<title>node1</title>\n<ellipse cx=\"242.2\" cy=\"-50.2\" fill=\"none\" rx=\"18\" ry=\"18\" stroke=\"#000000\"/>\n<text fill=\"#000000\" font-family=\"Times,serif\" font-size=\"14.00\" text-anchor=\"middle\" x=\"242.2\" y=\"-46.5\">5</text>\n</g>\n<!-- node2&#45;&#45;node1 -->\n<g class=\"edge\" id=\"edge8\">\n<title>node2--node1</title>\n<path d=\"M190.2487,-83.5973C201.2464,-76.5273 216.0278,-67.025 227.0116,-59.964\" fill=\"none\" stroke=\"#000000\"/>\n</g>\n<!-- null3 -->\n<g class=\"node\" id=\"node7\">\n<title>null3</title>\n<polygon fill=\"none\" points=\"215.6,-14 201.6,-14 201.6,0 215.6,0 215.6,-14\" stroke=\"#000000\"/>\n</g>\n<!-- node1&#45;&#45;null3 -->\n<g class=\"edge\" id=\"edge9\">\n<title>node1--null3</title>\n<path d=\"M230.8246,-35.5744C225.1892,-28.329 218.6417,-19.9107 214.1201,-14.0973\" fill=\"none\" stroke=\"#000000\"/>\n</g>\n<!-- null4 -->\n<g class=\"node\" id=\"node9\">\n<title>null4</title>\n<polygon fill=\"none\" points=\"282.8,-14 268.8,-14 268.8,0 282.8,0 282.8,-14\" stroke=\"#000000\"/>\n</g>\n<!-- node1&#45;&#45;null4 -->\n<g class=\"edge\" id=\"edge10\">\n<title>node1--null4</title>\n<path d=\"M253.5754,-35.5744C259.2108,-28.329 265.7583,-19.9107 270.2799,-14.0973\" fill=\"none\" stroke=\"#000000\"/>\n</g>\n<!-- node6 -->\n<g class=\"node\" id=\"node10\">\n<title>node6</title>\n<ellipse cx=\"309.4\" cy=\"-179.8\" fill=\"none\" rx=\"18\" ry=\"18\" stroke=\"#000000\"/>\n<text fill=\"#000000\" font-family=\"Times,serif\" font-size=\"14.00\" text-anchor=\"middle\" x=\"309.4\" y=\"-176.1\">6</text>\n</g>\n<!-- node6&#45;&#45;node3 -->\n<g class=\"edge\" id=\"edge2\">\n<title>node6--node3</title>\n<path d=\"M291.5093,-175.9663C253.2523,-167.7683 163.8719,-148.6154 125.6506,-140.4251\" fill=\"none\" stroke=\"#000000\"/>\n</g>\n<!-- node5 -->\n<g class=\"node\" id=\"node12\">\n<title>node5</title>\n<ellipse cx=\"376.6\" cy=\"-136.6\" fill=\"none\" rx=\"18\" ry=\"18\" stroke=\"#000000\"/>\n<text fill=\"#000000\" font-family=\"Times,serif\" font-size=\"14.00\" text-anchor=\"middle\" x=\"376.6\" y=\"-132.9\">7</text>\n</g>\n<!-- node6&#45;&#45;node5 -->\n<g class=\"edge\" id=\"edge11\">\n<title>node6--node5</title>\n<path d=\"M324.6487,-169.9973C335.6464,-162.9273 350.4278,-153.425 361.4116,-146.364\" fill=\"none\" stroke=\"#000000\"/>\n</g>\n<!-- null5 -->\n<g class=\"node\" id=\"node11\">\n<title>null5</title>\n<polygon fill=\"none\" points=\"350,-100.4 336,-100.4 336,-86.4 350,-86.4 350,-100.4\" stroke=\"#000000\"/>\n</g>\n<!-- node5&#45;&#45;null5 -->\n<g class=\"edge\" id=\"edge12\">\n<title>node5--null5</title>\n<path d=\"M365.2246,-121.9745C359.5892,-114.729 353.0417,-106.3107 348.5201,-100.4973\" fill=\"none\" stroke=\"#000000\"/>\n</g>\n<!-- node4 -->\n<g class=\"node\" id=\"node14\">\n<title>node4</title>\n<ellipse cx=\"443.8\" cy=\"-93.4\" fill=\"none\" rx=\"18\" ry=\"18\" stroke=\"#000000\"/>\n<text fill=\"#000000\" font-family=\"Times,serif\" font-size=\"14.00\" text-anchor=\"middle\" x=\"443.8\" y=\"-89.7\">8</text>\n</g>\n<!-- node5&#45;&#45;node4 -->\n<g class=\"edge\" id=\"edge13\">\n<title>node5--node4</title>\n<path d=\"M391.8487,-126.7973C402.8464,-119.7273 417.6278,-110.225 428.6116,-103.164\" fill=\"none\" stroke=\"#000000\"/>\n</g>\n<!-- null6 -->\n<g class=\"node\" id=\"node13\">\n<title>null6</title>\n<polygon fill=\"none\" points=\"417.2,-57.2 403.2,-57.2 403.2,-43.2 417.2,-43.2 417.2,-57.2\" stroke=\"#000000\"/>\n</g>\n<!-- node4&#45;&#45;null6 -->\n<g class=\"edge\" id=\"edge14\">\n<title>node4--null6</title>\n<path d=\"M432.4246,-78.7744C426.7892,-71.529 420.2417,-63.1107 415.7201,-57.2973\" fill=\"none\" stroke=\"#000000\"/>\n</g>\n<!-- null7 -->\n<g class=\"node\" id=\"node15\">\n<title>null7</title>\n<polygon fill=\"none\" points=\"484.4,-57.2 470.4,-57.2 470.4,-43.2 484.4,-43.2 484.4,-57.2\" stroke=\"#000000\"/>\n</g>\n<!-- node4&#45;&#45;null7 -->\n<g class=\"edge\" id=\"edge15\">\n<title>node4--null7</title>\n<path d=\"M455.1754,-78.7744C460.8108,-71.529 467.3583,-63.1107 471.8799,-57.2973\" fill=\"none\" stroke=\"#000000\"/>\n</g>\n<!-- node7 -->\n<g class=\"node\" id=\"node16\">\n<title>node7</title>\n<ellipse cx=\"511\" cy=\"-223\" fill=\"none\" rx=\"18\" ry=\"18\" stroke=\"#000000\"/>\n<text fill=\"#000000\" font-family=\"Times,serif\" font-size=\"14.00\" text-anchor=\"middle\" x=\"511\" y=\"-219.3\">9</text>\n</g>\n<!-- node7&#45;&#45;node6 -->\n<g class=\"edge\" id=\"edge1\">\n<title>node7--node6</title>\n<path d=\"M493.1093,-219.1663C454.8523,-210.9683 365.4719,-191.8154 327.2506,-183.6251\" fill=\"none\" stroke=\"#000000\"/>\n</g>\n<!-- null8 -->\n<g class=\"node\" id=\"node17\">\n<title>null8</title>\n<polygon fill=\"none\" points=\"551.6,-186.8 537.6,-186.8 537.6,-172.8 551.6,-172.8 551.6,-186.8\" stroke=\"#000000\"/>\n</g>\n<!-- node7&#45;&#45;null8 -->\n<g class=\"edge\" id=\"edge16\">\n<title>node7--null8</title>\n<path d=\"M522.3754,-208.3745C528.0108,-201.129 534.5583,-192.7107 539.0799,-186.8973\" fill=\"none\" stroke=\"#000000\"/>\n</g>\n</g>\n</svg>"
          },
          "metadata": {
            "tags": []
          }
        },
        {
          "output_type": "display_data",
          "data": {
            "text/plain": [
              "<IPython.core.display.SVG object>"
            ],
            "image/svg+xml": "<svg height=\"249pt\" viewBox=\"0.00 0.00 626.80 249.00\" width=\"627pt\" xmlns=\"http://www.w3.org/2000/svg\" xmlns:xlink=\"http://www.w3.org/1999/xlink\">\n<g class=\"graph\" id=\"graph0\" transform=\"scale(1 1) rotate(0) translate(4 245)\">\n<title>Arbol</title>\n<polygon fill=\"#ffffff\" points=\"-4,4 -4,-245 622.8,-245 622.8,4 -4,4\" stroke=\"transparent\"/>\n<!-- null0 -->\n<g class=\"node\" id=\"node1\">\n<title>null0</title>\n<polygon fill=\"none\" points=\"14,-100.4 0,-100.4 0,-86.4 14,-86.4 14,-100.4\" stroke=\"#000000\"/>\n</g>\n<!-- node0 -->\n<g class=\"node\" id=\"node2\">\n<title>node0</title>\n<ellipse cx=\"40.6\" cy=\"-136.6\" fill=\"none\" rx=\"18\" ry=\"18\" stroke=\"#000000\"/>\n<text fill=\"#000000\" font-family=\"Times,serif\" font-size=\"14.00\" text-anchor=\"middle\" x=\"40.6\" y=\"-132.9\">1</text>\n</g>\n<!-- node0&#45;&#45;null0 -->\n<g class=\"edge\" id=\"edge3\">\n<title>node0--null0</title>\n<path d=\"M29.2246,-121.9745C23.5892,-114.729 17.0417,-106.3107 12.5201,-100.4973\" fill=\"none\" stroke=\"#000000\"/>\n</g>\n<!-- null1 -->\n<g class=\"node\" id=\"node3\">\n<title>null1</title>\n<polygon fill=\"none\" points=\"81.2,-100.4 67.2,-100.4 67.2,-86.4 81.2,-86.4 81.2,-100.4\" stroke=\"#000000\"/>\n</g>\n<!-- node0&#45;&#45;null1 -->\n<g class=\"edge\" id=\"edge4\">\n<title>node0--null1</title>\n<path d=\"M51.9754,-121.9745C57.6108,-114.729 64.1583,-106.3107 68.6799,-100.4973\" fill=\"none\" stroke=\"#000000\"/>\n</g>\n<!-- node2 -->\n<g class=\"node\" id=\"node4\">\n<title>node2</title>\n<ellipse cx=\"107.8\" cy=\"-179.8\" fill=\"none\" rx=\"18\" ry=\"18\" stroke=\"#000000\"/>\n<text fill=\"#000000\" font-family=\"Times,serif\" font-size=\"14.00\" text-anchor=\"middle\" x=\"107.8\" y=\"-176.1\">2</text>\n</g>\n<!-- node2&#45;&#45;node0 -->\n<g class=\"edge\" id=\"edge2\">\n<title>node2--node0</title>\n<path d=\"M92.5513,-169.9973C81.5536,-162.9273 66.7722,-153.425 55.7884,-146.364\" fill=\"none\" stroke=\"#000000\"/>\n</g>\n<!-- node1 -->\n<g class=\"node\" id=\"node6\">\n<title>node1</title>\n<ellipse cx=\"175\" cy=\"-136.6\" fill=\"none\" rx=\"18\" ry=\"18\" stroke=\"#000000\"/>\n<text fill=\"#000000\" font-family=\"Times,serif\" font-size=\"14.00\" text-anchor=\"middle\" x=\"175\" y=\"-132.9\">3</text>\n</g>\n<!-- node2&#45;&#45;node1 -->\n<g class=\"edge\" id=\"edge5\">\n<title>node2--node1</title>\n<path d=\"M123.0487,-169.9973C134.0464,-162.9273 148.8278,-153.425 159.8116,-146.364\" fill=\"none\" stroke=\"#000000\"/>\n</g>\n<!-- null2 -->\n<g class=\"node\" id=\"node5\">\n<title>null2</title>\n<polygon fill=\"none\" points=\"148.4,-100.4 134.4,-100.4 134.4,-86.4 148.4,-86.4 148.4,-100.4\" stroke=\"#000000\"/>\n</g>\n<!-- node1&#45;&#45;null2 -->\n<g class=\"edge\" id=\"edge6\">\n<title>node1--null2</title>\n<path d=\"M163.6246,-121.9745C157.9892,-114.729 151.4417,-106.3107 146.9201,-100.4973\" fill=\"none\" stroke=\"#000000\"/>\n</g>\n<!-- null3 -->\n<g class=\"node\" id=\"node7\">\n<title>null3</title>\n<polygon fill=\"none\" points=\"215.6,-100.4 201.6,-100.4 201.6,-86.4 215.6,-86.4 215.6,-100.4\" stroke=\"#000000\"/>\n</g>\n<!-- node1&#45;&#45;null3 -->\n<g class=\"edge\" id=\"edge7\">\n<title>node1--null3</title>\n<path d=\"M186.3754,-121.9745C192.0108,-114.729 198.5583,-106.3107 203.0799,-100.4973\" fill=\"none\" stroke=\"#000000\"/>\n</g>\n<!-- node8 -->\n<g class=\"node\" id=\"node8\">\n<title>node8</title>\n<ellipse cx=\"242.2\" cy=\"-223\" fill=\"none\" rx=\"18\" ry=\"18\" stroke=\"#000000\"/>\n<text fill=\"#000000\" font-family=\"Times,serif\" font-size=\"14.00\" text-anchor=\"middle\" x=\"242.2\" y=\"-219.3\">4</text>\n</g>\n<!-- node8&#45;&#45;node2 -->\n<g class=\"edge\" id=\"edge1\">\n<title>node8--node2</title>\n<path d=\"M224.9047,-217.4408C199.0981,-209.1458 150.7968,-193.6204 125.0289,-185.3379\" fill=\"none\" stroke=\"#000000\"/>\n</g>\n<!-- node7 -->\n<g class=\"node\" id=\"node18\">\n<title>node7</title>\n<ellipse cx=\"578.2\" cy=\"-179.8\" fill=\"none\" rx=\"18\" ry=\"18\" stroke=\"#000000\"/>\n<text fill=\"#000000\" font-family=\"Times,serif\" font-size=\"14.00\" text-anchor=\"middle\" x=\"578.2\" y=\"-176.1\">9</text>\n</g>\n<!-- node8&#45;&#45;node7 -->\n<g class=\"edge\" id=\"edge8\">\n<title>node8--node7</title>\n<path d=\"M260.2648,-220.6774C318.6054,-213.1764 501.5782,-189.6514 560.0458,-182.1341\" fill=\"none\" stroke=\"#000000\"/>\n</g>\n<!-- null4 -->\n<g class=\"node\" id=\"node9\">\n<title>null4</title>\n<polygon fill=\"none\" points=\"282.8,-57.2 268.8,-57.2 268.8,-43.2 282.8,-43.2 282.8,-57.2\" stroke=\"#000000\"/>\n</g>\n<!-- node3 -->\n<g class=\"node\" id=\"node10\">\n<title>node3</title>\n<ellipse cx=\"309.4\" cy=\"-93.4\" fill=\"none\" rx=\"18\" ry=\"18\" stroke=\"#000000\"/>\n<text fill=\"#000000\" font-family=\"Times,serif\" font-size=\"14.00\" text-anchor=\"middle\" x=\"309.4\" y=\"-89.7\">5</text>\n</g>\n<!-- node3&#45;&#45;null4 -->\n<g class=\"edge\" id=\"edge11\">\n<title>node3--null4</title>\n<path d=\"M298.0246,-78.7745C292.3892,-71.529 285.8417,-63.1107 281.3201,-57.2973\" fill=\"none\" stroke=\"#000000\"/>\n</g>\n<!-- null5 -->\n<g class=\"node\" id=\"node11\">\n<title>null5</title>\n<polygon fill=\"none\" points=\"350,-57.2 336,-57.2 336,-43.2 350,-43.2 350,-57.2\" stroke=\"#000000\"/>\n</g>\n<!-- node3&#45;&#45;null5 -->\n<g class=\"edge\" id=\"edge12\">\n<title>node3--null5</title>\n<path d=\"M320.7754,-78.7745C326.4108,-71.529 332.9583,-63.1107 337.4799,-57.2973\" fill=\"none\" stroke=\"#000000\"/>\n</g>\n<!-- node6 -->\n<g class=\"node\" id=\"node12\">\n<title>node6</title>\n<ellipse cx=\"376.6\" cy=\"-136.6\" fill=\"none\" rx=\"18\" ry=\"18\" stroke=\"#000000\"/>\n<text fill=\"#000000\" font-family=\"Times,serif\" font-size=\"14.00\" text-anchor=\"middle\" x=\"376.6\" y=\"-132.9\">6</text>\n</g>\n<!-- node6&#45;&#45;node3 -->\n<g class=\"edge\" id=\"edge10\">\n<title>node6--node3</title>\n<path d=\"M361.3513,-126.7973C350.3536,-119.7273 335.5722,-110.225 324.5884,-103.164\" fill=\"none\" stroke=\"#000000\"/>\n</g>\n<!-- node5 -->\n<g class=\"node\" id=\"node14\">\n<title>node5</title>\n<ellipse cx=\"443.8\" cy=\"-93.4\" fill=\"none\" rx=\"18\" ry=\"18\" stroke=\"#000000\"/>\n<text fill=\"#000000\" font-family=\"Times,serif\" font-size=\"14.00\" text-anchor=\"middle\" x=\"443.8\" y=\"-89.7\">7</text>\n</g>\n<!-- node6&#45;&#45;node5 -->\n<g class=\"edge\" id=\"edge13\">\n<title>node6--node5</title>\n<path d=\"M391.8487,-126.7973C402.8464,-119.7273 417.6278,-110.225 428.6116,-103.164\" fill=\"none\" stroke=\"#000000\"/>\n</g>\n<!-- null6 -->\n<g class=\"node\" id=\"node13\">\n<title>null6</title>\n<polygon fill=\"none\" points=\"417.2,-57.2 403.2,-57.2 403.2,-43.2 417.2,-43.2 417.2,-57.2\" stroke=\"#000000\"/>\n</g>\n<!-- node5&#45;&#45;null6 -->\n<g class=\"edge\" id=\"edge14\">\n<title>node5--null6</title>\n<path d=\"M432.4246,-78.7745C426.7892,-71.529 420.2417,-63.1107 415.7201,-57.2973\" fill=\"none\" stroke=\"#000000\"/>\n</g>\n<!-- node4 -->\n<g class=\"node\" id=\"node16\">\n<title>node4</title>\n<ellipse cx=\"511\" cy=\"-50.2\" fill=\"none\" rx=\"18\" ry=\"18\" stroke=\"#000000\"/>\n<text fill=\"#000000\" font-family=\"Times,serif\" font-size=\"14.00\" text-anchor=\"middle\" x=\"511\" y=\"-46.5\">8</text>\n</g>\n<!-- node5&#45;&#45;node4 -->\n<g class=\"edge\" id=\"edge15\">\n<title>node5--node4</title>\n<path d=\"M459.0487,-83.5973C470.0464,-76.5273 484.8278,-67.025 495.8116,-59.964\" fill=\"none\" stroke=\"#000000\"/>\n</g>\n<!-- null7 -->\n<g class=\"node\" id=\"node15\">\n<title>null7</title>\n<polygon fill=\"none\" points=\"484.4,-14 470.4,-14 470.4,0 484.4,0 484.4,-14\" stroke=\"#000000\"/>\n</g>\n<!-- node4&#45;&#45;null7 -->\n<g class=\"edge\" id=\"edge16\">\n<title>node4--null7</title>\n<path d=\"M499.6246,-35.5745C493.9892,-28.329 487.4416,-19.9107 482.9201,-14.0973\" fill=\"none\" stroke=\"#000000\"/>\n</g>\n<!-- null8 -->\n<g class=\"node\" id=\"node17\">\n<title>null8</title>\n<polygon fill=\"none\" points=\"551.6,-14 537.6,-14 537.6,0 551.6,0 551.6,-14\" stroke=\"#000000\"/>\n</g>\n<!-- node4&#45;&#45;null8 -->\n<g class=\"edge\" id=\"edge17\">\n<title>node4--null8</title>\n<path d=\"M522.3754,-35.5745C528.0108,-28.329 534.5583,-19.9107 539.0799,-14.0973\" fill=\"none\" stroke=\"#000000\"/>\n</g>\n<!-- node7&#45;&#45;node6 -->\n<g class=\"edge\" id=\"edge9\">\n<title>node7--node6</title>\n<path d=\"M560.3093,-175.9663C522.0523,-167.7683 432.6719,-148.6154 394.4505,-140.4251\" fill=\"none\" stroke=\"#000000\"/>\n</g>\n<!-- null9 -->\n<g class=\"node\" id=\"node19\">\n<title>null9</title>\n<polygon fill=\"none\" points=\"618.8,-143.6 604.8,-143.6 604.8,-129.6 618.8,-129.6 618.8,-143.6\" stroke=\"#000000\"/>\n</g>\n<!-- node7&#45;&#45;null9 -->\n<g class=\"edge\" id=\"edge18\">\n<title>node7--null9</title>\n<path d=\"M589.5754,-165.1744C595.2107,-157.929 601.7583,-149.5107 606.2798,-143.6973\" fill=\"none\" stroke=\"#000000\"/>\n</g>\n</g>\n</svg>"
          },
          "metadata": {
            "tags": []
          }
        },
        {
          "output_type": "display_data",
          "data": {
            "text/plain": [
              "<IPython.core.display.SVG object>"
            ],
            "image/svg+xml": "<svg height=\"249pt\" viewBox=\"0.00 0.00 626.80 249.00\" width=\"627pt\" xmlns=\"http://www.w3.org/2000/svg\" xmlns:xlink=\"http://www.w3.org/1999/xlink\">\n<g class=\"graph\" id=\"graph0\" transform=\"scale(1 1) rotate(0) translate(4 245)\">\n<title>Arbol</title>\n<polygon fill=\"#ffffff\" points=\"-4,4 -4,-245 622.8,-245 622.8,4 -4,4\" stroke=\"transparent\"/>\n<!-- null0 -->\n<g class=\"node\" id=\"node1\">\n<title>null0</title>\n<polygon fill=\"none\" points=\"14,-100.4 0,-100.4 0,-86.4 14,-86.4 14,-100.4\" stroke=\"#000000\"/>\n</g>\n<!-- node0 -->\n<g class=\"node\" id=\"node2\">\n<title>node0</title>\n<ellipse cx=\"40.6\" cy=\"-136.6\" fill=\"none\" rx=\"18\" ry=\"18\" stroke=\"#000000\"/>\n<text fill=\"#000000\" font-family=\"Times,serif\" font-size=\"14.00\" text-anchor=\"middle\" x=\"40.6\" y=\"-132.9\">1</text>\n</g>\n<!-- node0&#45;&#45;null0 -->\n<g class=\"edge\" id=\"edge3\">\n<title>node0--null0</title>\n<path d=\"M29.2246,-121.9745C23.5892,-114.729 17.0417,-106.3107 12.5201,-100.4973\" fill=\"none\" stroke=\"#000000\"/>\n</g>\n<!-- null1 -->\n<g class=\"node\" id=\"node3\">\n<title>null1</title>\n<polygon fill=\"none\" points=\"81.2,-100.4 67.2,-100.4 67.2,-86.4 81.2,-86.4 81.2,-100.4\" stroke=\"#000000\"/>\n</g>\n<!-- node0&#45;&#45;null1 -->\n<g class=\"edge\" id=\"edge4\">\n<title>node0--null1</title>\n<path d=\"M51.9754,-121.9745C57.6108,-114.729 64.1583,-106.3107 68.6799,-100.4973\" fill=\"none\" stroke=\"#000000\"/>\n</g>\n<!-- node2 -->\n<g class=\"node\" id=\"node4\">\n<title>node2</title>\n<ellipse cx=\"107.8\" cy=\"-179.8\" fill=\"none\" rx=\"18\" ry=\"18\" stroke=\"#000000\"/>\n<text fill=\"#000000\" font-family=\"Times,serif\" font-size=\"14.00\" text-anchor=\"middle\" x=\"107.8\" y=\"-176.1\">2</text>\n</g>\n<!-- node2&#45;&#45;node0 -->\n<g class=\"edge\" id=\"edge2\">\n<title>node2--node0</title>\n<path d=\"M92.5513,-169.9973C81.5536,-162.9273 66.7722,-153.425 55.7884,-146.364\" fill=\"none\" stroke=\"#000000\"/>\n</g>\n<!-- node1 -->\n<g class=\"node\" id=\"node6\">\n<title>node1</title>\n<ellipse cx=\"175\" cy=\"-136.6\" fill=\"none\" rx=\"18\" ry=\"18\" stroke=\"#000000\"/>\n<text fill=\"#000000\" font-family=\"Times,serif\" font-size=\"14.00\" text-anchor=\"middle\" x=\"175\" y=\"-132.9\">3</text>\n</g>\n<!-- node2&#45;&#45;node1 -->\n<g class=\"edge\" id=\"edge5\">\n<title>node2--node1</title>\n<path d=\"M123.0487,-169.9973C134.0464,-162.9273 148.8278,-153.425 159.8116,-146.364\" fill=\"none\" stroke=\"#000000\"/>\n</g>\n<!-- null2 -->\n<g class=\"node\" id=\"node5\">\n<title>null2</title>\n<polygon fill=\"none\" points=\"148.4,-100.4 134.4,-100.4 134.4,-86.4 148.4,-86.4 148.4,-100.4\" stroke=\"#000000\"/>\n</g>\n<!-- node1&#45;&#45;null2 -->\n<g class=\"edge\" id=\"edge6\">\n<title>node1--null2</title>\n<path d=\"M163.6246,-121.9745C157.9892,-114.729 151.4417,-106.3107 146.9201,-100.4973\" fill=\"none\" stroke=\"#000000\"/>\n</g>\n<!-- null3 -->\n<g class=\"node\" id=\"node7\">\n<title>null3</title>\n<polygon fill=\"none\" points=\"215.6,-100.4 201.6,-100.4 201.6,-86.4 215.6,-86.4 215.6,-100.4\" stroke=\"#000000\"/>\n</g>\n<!-- node1&#45;&#45;null3 -->\n<g class=\"edge\" id=\"edge7\">\n<title>node1--null3</title>\n<path d=\"M186.3754,-121.9745C192.0108,-114.729 198.5583,-106.3107 203.0799,-100.4973\" fill=\"none\" stroke=\"#000000\"/>\n</g>\n<!-- node8 -->\n<g class=\"node\" id=\"node8\">\n<title>node8</title>\n<ellipse cx=\"242.2\" cy=\"-223\" fill=\"none\" rx=\"18\" ry=\"18\" stroke=\"#000000\"/>\n<text fill=\"#000000\" font-family=\"Times,serif\" font-size=\"14.00\" text-anchor=\"middle\" x=\"242.2\" y=\"-219.3\">4</text>\n</g>\n<!-- node8&#45;&#45;node2 -->\n<g class=\"edge\" id=\"edge1\">\n<title>node8--node2</title>\n<path d=\"M224.9047,-217.4408C199.0981,-209.1458 150.7968,-193.6204 125.0289,-185.3379\" fill=\"none\" stroke=\"#000000\"/>\n</g>\n<!-- node7 -->\n<g class=\"node\" id=\"node18\">\n<title>node7</title>\n<ellipse cx=\"578.2\" cy=\"-179.8\" fill=\"none\" rx=\"18\" ry=\"18\" stroke=\"#000000\"/>\n<text fill=\"#000000\" font-family=\"Times,serif\" font-size=\"14.00\" text-anchor=\"middle\" x=\"578.2\" y=\"-176.1\">9</text>\n</g>\n<!-- node8&#45;&#45;node7 -->\n<g class=\"edge\" id=\"edge8\">\n<title>node8--node7</title>\n<path d=\"M260.2648,-220.6774C318.6054,-213.1764 501.5782,-189.6514 560.0458,-182.1341\" fill=\"none\" stroke=\"#000000\"/>\n</g>\n<!-- null4 -->\n<g class=\"node\" id=\"node9\">\n<title>null4</title>\n<polygon fill=\"none\" points=\"282.8,-57.2 268.8,-57.2 268.8,-43.2 282.8,-43.2 282.8,-57.2\" stroke=\"#000000\"/>\n</g>\n<!-- node3 -->\n<g class=\"node\" id=\"node10\">\n<title>node3</title>\n<ellipse cx=\"309.4\" cy=\"-93.4\" fill=\"none\" rx=\"18\" ry=\"18\" stroke=\"#000000\"/>\n<text fill=\"#000000\" font-family=\"Times,serif\" font-size=\"14.00\" text-anchor=\"middle\" x=\"309.4\" y=\"-89.7\">5</text>\n</g>\n<!-- node3&#45;&#45;null4 -->\n<g class=\"edge\" id=\"edge11\">\n<title>node3--null4</title>\n<path d=\"M298.0246,-78.7745C292.3892,-71.529 285.8417,-63.1107 281.3201,-57.2973\" fill=\"none\" stroke=\"#000000\"/>\n</g>\n<!-- null5 -->\n<g class=\"node\" id=\"node11\">\n<title>null5</title>\n<polygon fill=\"none\" points=\"350,-57.2 336,-57.2 336,-43.2 350,-43.2 350,-57.2\" stroke=\"#000000\"/>\n</g>\n<!-- node3&#45;&#45;null5 -->\n<g class=\"edge\" id=\"edge12\">\n<title>node3--null5</title>\n<path d=\"M320.7754,-78.7745C326.4108,-71.529 332.9583,-63.1107 337.4799,-57.2973\" fill=\"none\" stroke=\"#000000\"/>\n</g>\n<!-- node6 -->\n<g class=\"node\" id=\"node12\">\n<title>node6</title>\n<ellipse cx=\"376.6\" cy=\"-136.6\" fill=\"none\" rx=\"18\" ry=\"18\" stroke=\"#000000\"/>\n<text fill=\"#000000\" font-family=\"Times,serif\" font-size=\"14.00\" text-anchor=\"middle\" x=\"376.6\" y=\"-132.9\">6</text>\n</g>\n<!-- node6&#45;&#45;node3 -->\n<g class=\"edge\" id=\"edge10\">\n<title>node6--node3</title>\n<path d=\"M361.3513,-126.7973C350.3536,-119.7273 335.5722,-110.225 324.5884,-103.164\" fill=\"none\" stroke=\"#000000\"/>\n</g>\n<!-- node5 -->\n<g class=\"node\" id=\"node14\">\n<title>node5</title>\n<ellipse cx=\"443.8\" cy=\"-93.4\" fill=\"none\" rx=\"18\" ry=\"18\" stroke=\"#000000\"/>\n<text fill=\"#000000\" font-family=\"Times,serif\" font-size=\"14.00\" text-anchor=\"middle\" x=\"443.8\" y=\"-89.7\">7</text>\n</g>\n<!-- node6&#45;&#45;node5 -->\n<g class=\"edge\" id=\"edge13\">\n<title>node6--node5</title>\n<path d=\"M391.8487,-126.7973C402.8464,-119.7273 417.6278,-110.225 428.6116,-103.164\" fill=\"none\" stroke=\"#000000\"/>\n</g>\n<!-- null6 -->\n<g class=\"node\" id=\"node13\">\n<title>null6</title>\n<polygon fill=\"none\" points=\"417.2,-57.2 403.2,-57.2 403.2,-43.2 417.2,-43.2 417.2,-57.2\" stroke=\"#000000\"/>\n</g>\n<!-- node5&#45;&#45;null6 -->\n<g class=\"edge\" id=\"edge14\">\n<title>node5--null6</title>\n<path d=\"M432.4246,-78.7745C426.7892,-71.529 420.2417,-63.1107 415.7201,-57.2973\" fill=\"none\" stroke=\"#000000\"/>\n</g>\n<!-- node4 -->\n<g class=\"node\" id=\"node16\">\n<title>node4</title>\n<ellipse cx=\"511\" cy=\"-50.2\" fill=\"none\" rx=\"18\" ry=\"18\" stroke=\"#000000\"/>\n<text fill=\"#000000\" font-family=\"Times,serif\" font-size=\"14.00\" text-anchor=\"middle\" x=\"511\" y=\"-46.5\">8</text>\n</g>\n<!-- node5&#45;&#45;node4 -->\n<g class=\"edge\" id=\"edge15\">\n<title>node5--node4</title>\n<path d=\"M459.0487,-83.5973C470.0464,-76.5273 484.8278,-67.025 495.8116,-59.964\" fill=\"none\" stroke=\"#000000\"/>\n</g>\n<!-- null7 -->\n<g class=\"node\" id=\"node15\">\n<title>null7</title>\n<polygon fill=\"none\" points=\"484.4,-14 470.4,-14 470.4,0 484.4,0 484.4,-14\" stroke=\"#000000\"/>\n</g>\n<!-- node4&#45;&#45;null7 -->\n<g class=\"edge\" id=\"edge16\">\n<title>node4--null7</title>\n<path d=\"M499.6246,-35.5745C493.9892,-28.329 487.4416,-19.9107 482.9201,-14.0973\" fill=\"none\" stroke=\"#000000\"/>\n</g>\n<!-- null8 -->\n<g class=\"node\" id=\"node17\">\n<title>null8</title>\n<polygon fill=\"none\" points=\"551.6,-14 537.6,-14 537.6,0 551.6,0 551.6,-14\" stroke=\"#000000\"/>\n</g>\n<!-- node4&#45;&#45;null8 -->\n<g class=\"edge\" id=\"edge17\">\n<title>node4--null8</title>\n<path d=\"M522.3754,-35.5745C528.0108,-28.329 534.5583,-19.9107 539.0799,-14.0973\" fill=\"none\" stroke=\"#000000\"/>\n</g>\n<!-- node7&#45;&#45;node6 -->\n<g class=\"edge\" id=\"edge9\">\n<title>node7--node6</title>\n<path d=\"M560.3093,-175.9663C522.0523,-167.7683 432.6719,-148.6154 394.4505,-140.4251\" fill=\"none\" stroke=\"#000000\"/>\n</g>\n<!-- null9 -->\n<g class=\"node\" id=\"node19\">\n<title>null9</title>\n<polygon fill=\"none\" points=\"618.8,-143.6 604.8,-143.6 604.8,-129.6 618.8,-129.6 618.8,-143.6\" stroke=\"#000000\"/>\n</g>\n<!-- node7&#45;&#45;null9 -->\n<g class=\"edge\" id=\"edge18\">\n<title>node7--null9</title>\n<path d=\"M589.5754,-165.1744C595.2107,-157.929 601.7583,-149.5107 606.2798,-143.6973\" fill=\"none\" stroke=\"#000000\"/>\n</g>\n</g>\n</svg>"
          },
          "metadata": {
            "tags": []
          }
        }
      ]
    },
    {
      "cell_type": "markdown",
      "metadata": {
        "id": "UX12fMWGewzB"
      },
      "source": [
        "Si todo está bien, el resultado final de insertar la lista reversa usando ``root_insert``debería ser igual al obtenido insertando la lista original usando ``insert``."
      ]
    },
    {
      "cell_type": "code",
      "metadata": {
        "colab": {
          "base_uri": "https://localhost:8080/",
          "height": 257
        },
        "id": "HzVmmzYVS6r6",
        "outputId": "d7ac6c50-7191-4e7d-d4bf-e735b7f40a35"
      },
      "source": [
        "#Prueba caso base\n",
        "print(\"caso base cut:\")\n",
        "b=Arbol()\n",
        "b.dibujar()\n",
        "c=b.cut(1)\n",
        "c[0].dibujar()\n",
        "c[1].dibujar()\n",
        "print(\"caso base root_insert:\")\n",
        "b.root_insert(1)\n",
        "b.dibujar()"
      ],
      "execution_count": null,
      "outputs": [
        {
          "output_type": "stream",
          "text": [
            "caso base cut:\n"
          ],
          "name": "stdout"
        },
        {
          "output_type": "display_data",
          "data": {
            "text/plain": [
              "<IPython.core.display.SVG object>"
            ],
            "image/svg+xml": "<svg height=\"22pt\" viewBox=\"0.00 0.00 22.00 22.00\" width=\"22pt\" xmlns=\"http://www.w3.org/2000/svg\" xmlns:xlink=\"http://www.w3.org/1999/xlink\">\n<g class=\"graph\" id=\"graph0\" transform=\"scale(1 1) rotate(0) translate(4 18)\">\n<title>Arbol</title>\n<polygon fill=\"#ffffff\" points=\"-4,4 -4,-18 18,-18 18,4 -4,4\" stroke=\"transparent\"/>\n<!-- null0 -->\n<g class=\"node\" id=\"node1\">\n<title>null0</title>\n<polygon fill=\"none\" points=\"14,-14 0,-14 0,0 14,0 14,-14\" stroke=\"#000000\"/>\n</g>\n</g>\n</svg>"
          },
          "metadata": {
            "tags": []
          }
        },
        {
          "output_type": "display_data",
          "data": {
            "text/plain": [
              "<IPython.core.display.SVG object>"
            ],
            "image/svg+xml": "<svg height=\"22pt\" viewBox=\"0.00 0.00 22.00 22.00\" width=\"22pt\" xmlns=\"http://www.w3.org/2000/svg\" xmlns:xlink=\"http://www.w3.org/1999/xlink\">\n<g class=\"graph\" id=\"graph0\" transform=\"scale(1 1) rotate(0) translate(4 18)\">\n<title>Arbol</title>\n<polygon fill=\"#ffffff\" points=\"-4,4 -4,-18 18,-18 18,4 -4,4\" stroke=\"transparent\"/>\n<!-- null0 -->\n<g class=\"node\" id=\"node1\">\n<title>null0</title>\n<polygon fill=\"none\" points=\"14,-14 0,-14 0,0 14,0 14,-14\" stroke=\"#000000\"/>\n</g>\n</g>\n</svg>"
          },
          "metadata": {
            "tags": []
          }
        },
        {
          "output_type": "display_data",
          "data": {
            "text/plain": [
              "<IPython.core.display.SVG object>"
            ],
            "image/svg+xml": "<svg height=\"22pt\" viewBox=\"0.00 0.00 22.00 22.00\" width=\"22pt\" xmlns=\"http://www.w3.org/2000/svg\" xmlns:xlink=\"http://www.w3.org/1999/xlink\">\n<g class=\"graph\" id=\"graph0\" transform=\"scale(1 1) rotate(0) translate(4 18)\">\n<title>Arbol</title>\n<polygon fill=\"#ffffff\" points=\"-4,4 -4,-18 18,-18 18,4 -4,4\" stroke=\"transparent\"/>\n<!-- null0 -->\n<g class=\"node\" id=\"node1\">\n<title>null0</title>\n<polygon fill=\"none\" points=\"14,-14 0,-14 0,0 14,0 14,-14\" stroke=\"#000000\"/>\n</g>\n</g>\n</svg>"
          },
          "metadata": {
            "tags": []
          }
        },
        {
          "output_type": "stream",
          "text": [
            "caso base root_insert:\n"
          ],
          "name": "stdout"
        },
        {
          "output_type": "display_data",
          "data": {
            "text/plain": [
              "<IPython.core.display.SVG object>"
            ],
            "image/svg+xml": "<svg height=\"76pt\" viewBox=\"0.00 0.00 89.20 76.20\" width=\"89pt\" xmlns=\"http://www.w3.org/2000/svg\" xmlns:xlink=\"http://www.w3.org/1999/xlink\">\n<g class=\"graph\" id=\"graph0\" transform=\"scale(1 1) rotate(0) translate(4 72.2)\">\n<title>Arbol</title>\n<polygon fill=\"#ffffff\" points=\"-4,4 -4,-72.2 85.2,-72.2 85.2,4 -4,4\" stroke=\"transparent\"/>\n<!-- null0 -->\n<g class=\"node\" id=\"node1\">\n<title>null0</title>\n<polygon fill=\"none\" points=\"14,-14 0,-14 0,0 14,0 14,-14\" stroke=\"#000000\"/>\n</g>\n<!-- node0 -->\n<g class=\"node\" id=\"node2\">\n<title>node0</title>\n<ellipse cx=\"40.6\" cy=\"-50.2\" fill=\"none\" rx=\"18\" ry=\"18\" stroke=\"#000000\"/>\n<text fill=\"#000000\" font-family=\"Times,serif\" font-size=\"14.00\" text-anchor=\"middle\" x=\"40.6\" y=\"-46.5\">1</text>\n</g>\n<!-- node0&#45;&#45;null0 -->\n<g class=\"edge\" id=\"edge1\">\n<title>node0--null0</title>\n<path d=\"M29.2246,-35.5745C23.5892,-28.329 17.0417,-19.9107 12.5201,-14.0973\" fill=\"none\" stroke=\"#000000\"/>\n</g>\n<!-- null1 -->\n<g class=\"node\" id=\"node3\">\n<title>null1</title>\n<polygon fill=\"none\" points=\"81.2,-14 67.2,-14 67.2,0 81.2,0 81.2,-14\" stroke=\"#000000\"/>\n</g>\n<!-- node0&#45;&#45;null1 -->\n<g class=\"edge\" id=\"edge2\">\n<title>node0--null1</title>\n<path d=\"M51.9754,-35.5745C57.6108,-28.329 64.1583,-19.9107 68.6799,-14.0973\" fill=\"none\" stroke=\"#000000\"/>\n</g>\n</g>\n</svg>"
          },
          "metadata": {
            "tags": []
          }
        }
      ]
    },
    {
      "cell_type": "markdown",
      "metadata": {
        "id": "A6xQuSWkVJUu"
      },
      "source": [
        "Pruebas varias:"
      ]
    },
    {
      "cell_type": "code",
      "metadata": {
        "colab": {
          "base_uri": "https://localhost:8080/",
          "height": 574
        },
        "id": "JEtlphHZJ8_h",
        "outputId": "66af89fb-6459-4c97-b224-b331738d827c"
      },
      "source": [
        "lista=[1,123,21,23,12]\n",
        "a=Arbol()\n",
        "b=Arbol()\n",
        "for x in reversed(lista):\n",
        "    a.root_insert(x)\n",
        "a.dibujar()\n",
        "for x in lista:\n",
        "    b.insert(x)\n",
        "b.dibujar()\n"
      ],
      "execution_count": null,
      "outputs": [
        {
          "output_type": "display_data",
          "data": {
            "text/plain": [
              "<IPython.core.display.SVG object>"
            ],
            "image/svg+xml": "<svg height=\"206pt\" viewBox=\"0.00 0.00 358.00 205.80\" width=\"358pt\" xmlns=\"http://www.w3.org/2000/svg\" xmlns:xlink=\"http://www.w3.org/1999/xlink\">\n<g class=\"graph\" id=\"graph0\" transform=\"scale(1 1) rotate(0) translate(4 201.8)\">\n<title>Arbol</title>\n<polygon fill=\"#ffffff\" points=\"-4,4 -4,-201.8 354,-201.8 354,4 -4,4\" stroke=\"transparent\"/>\n<!-- null0 -->\n<g class=\"node\" id=\"node1\">\n<title>null0</title>\n<polygon fill=\"none\" points=\"14,-143.6 0,-143.6 0,-129.6 14,-129.6 14,-143.6\" stroke=\"#000000\"/>\n</g>\n<!-- node4 -->\n<g class=\"node\" id=\"node2\">\n<title>node4</title>\n<ellipse cx=\"40.6\" cy=\"-179.8\" fill=\"none\" rx=\"18\" ry=\"18\" stroke=\"#000000\"/>\n<text fill=\"#000000\" font-family=\"Times,serif\" font-size=\"14.00\" text-anchor=\"middle\" x=\"40.6\" y=\"-176.1\">1</text>\n</g>\n<!-- node4&#45;&#45;null0 -->\n<g class=\"edge\" id=\"edge1\">\n<title>node4--null0</title>\n<path d=\"M29.2246,-165.1744C23.5892,-157.929 17.0417,-149.5107 12.5201,-143.6973\" fill=\"none\" stroke=\"#000000\"/>\n</g>\n<!-- node3 -->\n<g class=\"node\" id=\"node10\">\n<title>node3</title>\n<ellipse cx=\"309.4\" cy=\"-136.6\" fill=\"none\" rx=\"25.1964\" ry=\"25.1964\" stroke=\"#000000\"/>\n<text fill=\"#000000\" font-family=\"Times,serif\" font-size=\"14.00\" text-anchor=\"middle\" x=\"309.4\" y=\"-132.9\">123</text>\n</g>\n<!-- node4&#45;&#45;node3 -->\n<g class=\"edge\" id=\"edge2\">\n<title>node4--node3</title>\n<path d=\"M58.6541,-176.8984C105.3856,-169.388 230.4029,-149.296 284.2054,-140.6491\" fill=\"none\" stroke=\"#000000\"/>\n</g>\n<!-- null1 -->\n<g class=\"node\" id=\"node3\">\n<title>null1</title>\n<polygon fill=\"none\" points=\"81.2,-14 67.2,-14 67.2,0 81.2,0 81.2,-14\" stroke=\"#000000\"/>\n</g>\n<!-- node0 -->\n<g class=\"node\" id=\"node4\">\n<title>node0</title>\n<ellipse cx=\"107.8\" cy=\"-50.2\" fill=\"none\" rx=\"20.5982\" ry=\"20.5982\" stroke=\"#000000\"/>\n<text fill=\"#000000\" font-family=\"Times,serif\" font-size=\"14.00\" text-anchor=\"middle\" x=\"107.8\" y=\"-46.5\">12</text>\n</g>\n<!-- node0&#45;&#45;null1 -->\n<g class=\"edge\" id=\"edge5\">\n<title>node0--null1</title>\n<path d=\"M94.9055,-33.6213C89.7236,-26.9589 84.017,-19.6218 79.9093,-14.3405\" fill=\"none\" stroke=\"#000000\"/>\n</g>\n<!-- null2 -->\n<g class=\"node\" id=\"node5\">\n<title>null2</title>\n<polygon fill=\"none\" points=\"148.4,-14 134.4,-14 134.4,0 148.4,0 148.4,-14\" stroke=\"#000000\"/>\n</g>\n<!-- node0&#45;&#45;null2 -->\n<g class=\"edge\" id=\"edge6\">\n<title>node0--null2</title>\n<path d=\"M120.6945,-33.6213C125.8764,-26.9589 131.583,-19.6218 135.6907,-14.3405\" fill=\"none\" stroke=\"#000000\"/>\n</g>\n<!-- node2 -->\n<g class=\"node\" id=\"node6\">\n<title>node2</title>\n<ellipse cx=\"175\" cy=\"-93.4\" fill=\"none\" rx=\"20.5982\" ry=\"20.5982\" stroke=\"#000000\"/>\n<text fill=\"#000000\" font-family=\"Times,serif\" font-size=\"14.00\" text-anchor=\"middle\" x=\"175\" y=\"-89.7\">21</text>\n</g>\n<!-- node2&#45;&#45;node0 -->\n<g class=\"edge\" id=\"edge4\">\n<title>node2--node0</title>\n<path d=\"M157.344,-82.0497C147.5444,-75.75 135.3894,-67.936 125.5714,-61.6245\" fill=\"none\" stroke=\"#000000\"/>\n</g>\n<!-- node1 -->\n<g class=\"node\" id=\"node8\">\n<title>node1</title>\n<ellipse cx=\"242.2\" cy=\"-50.2\" fill=\"none\" rx=\"20.5982\" ry=\"20.5982\" stroke=\"#000000\"/>\n<text fill=\"#000000\" font-family=\"Times,serif\" font-size=\"14.00\" text-anchor=\"middle\" x=\"242.2\" y=\"-46.5\">23</text>\n</g>\n<!-- node2&#45;&#45;node1 -->\n<g class=\"edge\" id=\"edge7\">\n<title>node2--node1</title>\n<path d=\"M192.656,-82.0497C202.4556,-75.75 214.6106,-67.936 224.4286,-61.6245\" fill=\"none\" stroke=\"#000000\"/>\n</g>\n<!-- null3 -->\n<g class=\"node\" id=\"node7\">\n<title>null3</title>\n<polygon fill=\"none\" points=\"215.6,-14 201.6,-14 201.6,0 215.6,0 215.6,-14\" stroke=\"#000000\"/>\n</g>\n<!-- node1&#45;&#45;null3 -->\n<g class=\"edge\" id=\"edge8\">\n<title>node1--null3</title>\n<path d=\"M229.3055,-33.6213C224.1236,-26.9589 218.417,-19.6218 214.3093,-14.3405\" fill=\"none\" stroke=\"#000000\"/>\n</g>\n<!-- null4 -->\n<g class=\"node\" id=\"node9\">\n<title>null4</title>\n<polygon fill=\"none\" points=\"282.8,-14 268.8,-14 268.8,0 282.8,0 282.8,-14\" stroke=\"#000000\"/>\n</g>\n<!-- node1&#45;&#45;null4 -->\n<g class=\"edge\" id=\"edge9\">\n<title>node1--null4</title>\n<path d=\"M255.0945,-33.6213C260.2764,-26.9589 265.983,-19.6218 270.0907,-14.3405\" fill=\"none\" stroke=\"#000000\"/>\n</g>\n<!-- node3&#45;&#45;node2 -->\n<g class=\"edge\" id=\"edge3\">\n<title>node3--node2</title>\n<path d=\"M285.0612,-128.7768C259.3418,-120.5099 219.2463,-107.622 195.2097,-99.896\" fill=\"none\" stroke=\"#000000\"/>\n</g>\n<!-- null5 -->\n<g class=\"node\" id=\"node11\">\n<title>null5</title>\n<polygon fill=\"none\" points=\"350,-100.4 336,-100.4 336,-86.4 350,-86.4 350,-100.4\" stroke=\"#000000\"/>\n</g>\n<!-- node3&#45;&#45;null5 -->\n<g class=\"edge\" id=\"edge10\">\n<title>node3--null5</title>\n<path d=\"M325.0196,-116.5176C329.4068,-110.8769 333.9019,-105.0975 337.3002,-100.7283\" fill=\"none\" stroke=\"#000000\"/>\n</g>\n</g>\n</svg>"
          },
          "metadata": {
            "tags": []
          }
        },
        {
          "output_type": "display_data",
          "data": {
            "text/plain": [
              "<IPython.core.display.SVG object>"
            ],
            "image/svg+xml": "<svg height=\"206pt\" viewBox=\"0.00 0.00 358.00 205.80\" width=\"358pt\" xmlns=\"http://www.w3.org/2000/svg\" xmlns:xlink=\"http://www.w3.org/1999/xlink\">\n<g class=\"graph\" id=\"graph0\" transform=\"scale(1 1) rotate(0) translate(4 201.8)\">\n<title>Arbol</title>\n<polygon fill=\"#ffffff\" points=\"-4,4 -4,-201.8 354,-201.8 354,4 -4,4\" stroke=\"transparent\"/>\n<!-- null0 -->\n<g class=\"node\" id=\"node1\">\n<title>null0</title>\n<polygon fill=\"none\" points=\"14,-143.6 0,-143.6 0,-129.6 14,-129.6 14,-143.6\" stroke=\"#000000\"/>\n</g>\n<!-- node4 -->\n<g class=\"node\" id=\"node2\">\n<title>node4</title>\n<ellipse cx=\"40.6\" cy=\"-179.8\" fill=\"none\" rx=\"18\" ry=\"18\" stroke=\"#000000\"/>\n<text fill=\"#000000\" font-family=\"Times,serif\" font-size=\"14.00\" text-anchor=\"middle\" x=\"40.6\" y=\"-176.1\">1</text>\n</g>\n<!-- node4&#45;&#45;null0 -->\n<g class=\"edge\" id=\"edge1\">\n<title>node4--null0</title>\n<path d=\"M29.2246,-165.1744C23.5892,-157.929 17.0417,-149.5107 12.5201,-143.6973\" fill=\"none\" stroke=\"#000000\"/>\n</g>\n<!-- node3 -->\n<g class=\"node\" id=\"node10\">\n<title>node3</title>\n<ellipse cx=\"309.4\" cy=\"-136.6\" fill=\"none\" rx=\"25.1964\" ry=\"25.1964\" stroke=\"#000000\"/>\n<text fill=\"#000000\" font-family=\"Times,serif\" font-size=\"14.00\" text-anchor=\"middle\" x=\"309.4\" y=\"-132.9\">123</text>\n</g>\n<!-- node4&#45;&#45;node3 -->\n<g class=\"edge\" id=\"edge2\">\n<title>node4--node3</title>\n<path d=\"M58.6541,-176.8984C105.3856,-169.388 230.4029,-149.296 284.2054,-140.6491\" fill=\"none\" stroke=\"#000000\"/>\n</g>\n<!-- null1 -->\n<g class=\"node\" id=\"node3\">\n<title>null1</title>\n<polygon fill=\"none\" points=\"81.2,-14 67.2,-14 67.2,0 81.2,0 81.2,-14\" stroke=\"#000000\"/>\n</g>\n<!-- node0 -->\n<g class=\"node\" id=\"node4\">\n<title>node0</title>\n<ellipse cx=\"107.8\" cy=\"-50.2\" fill=\"none\" rx=\"20.5982\" ry=\"20.5982\" stroke=\"#000000\"/>\n<text fill=\"#000000\" font-family=\"Times,serif\" font-size=\"14.00\" text-anchor=\"middle\" x=\"107.8\" y=\"-46.5\">12</text>\n</g>\n<!-- node0&#45;&#45;null1 -->\n<g class=\"edge\" id=\"edge5\">\n<title>node0--null1</title>\n<path d=\"M94.9055,-33.6213C89.7236,-26.9589 84.017,-19.6218 79.9093,-14.3405\" fill=\"none\" stroke=\"#000000\"/>\n</g>\n<!-- null2 -->\n<g class=\"node\" id=\"node5\">\n<title>null2</title>\n<polygon fill=\"none\" points=\"148.4,-14 134.4,-14 134.4,0 148.4,0 148.4,-14\" stroke=\"#000000\"/>\n</g>\n<!-- node0&#45;&#45;null2 -->\n<g class=\"edge\" id=\"edge6\">\n<title>node0--null2</title>\n<path d=\"M120.6945,-33.6213C125.8764,-26.9589 131.583,-19.6218 135.6907,-14.3405\" fill=\"none\" stroke=\"#000000\"/>\n</g>\n<!-- node2 -->\n<g class=\"node\" id=\"node6\">\n<title>node2</title>\n<ellipse cx=\"175\" cy=\"-93.4\" fill=\"none\" rx=\"20.5982\" ry=\"20.5982\" stroke=\"#000000\"/>\n<text fill=\"#000000\" font-family=\"Times,serif\" font-size=\"14.00\" text-anchor=\"middle\" x=\"175\" y=\"-89.7\">21</text>\n</g>\n<!-- node2&#45;&#45;node0 -->\n<g class=\"edge\" id=\"edge4\">\n<title>node2--node0</title>\n<path d=\"M157.344,-82.0497C147.5444,-75.75 135.3894,-67.936 125.5714,-61.6245\" fill=\"none\" stroke=\"#000000\"/>\n</g>\n<!-- node1 -->\n<g class=\"node\" id=\"node8\">\n<title>node1</title>\n<ellipse cx=\"242.2\" cy=\"-50.2\" fill=\"none\" rx=\"20.5982\" ry=\"20.5982\" stroke=\"#000000\"/>\n<text fill=\"#000000\" font-family=\"Times,serif\" font-size=\"14.00\" text-anchor=\"middle\" x=\"242.2\" y=\"-46.5\">23</text>\n</g>\n<!-- node2&#45;&#45;node1 -->\n<g class=\"edge\" id=\"edge7\">\n<title>node2--node1</title>\n<path d=\"M192.656,-82.0497C202.4556,-75.75 214.6106,-67.936 224.4286,-61.6245\" fill=\"none\" stroke=\"#000000\"/>\n</g>\n<!-- null3 -->\n<g class=\"node\" id=\"node7\">\n<title>null3</title>\n<polygon fill=\"none\" points=\"215.6,-14 201.6,-14 201.6,0 215.6,0 215.6,-14\" stroke=\"#000000\"/>\n</g>\n<!-- node1&#45;&#45;null3 -->\n<g class=\"edge\" id=\"edge8\">\n<title>node1--null3</title>\n<path d=\"M229.3055,-33.6213C224.1236,-26.9589 218.417,-19.6218 214.3093,-14.3405\" fill=\"none\" stroke=\"#000000\"/>\n</g>\n<!-- null4 -->\n<g class=\"node\" id=\"node9\">\n<title>null4</title>\n<polygon fill=\"none\" points=\"282.8,-14 268.8,-14 268.8,0 282.8,0 282.8,-14\" stroke=\"#000000\"/>\n</g>\n<!-- node1&#45;&#45;null4 -->\n<g class=\"edge\" id=\"edge9\">\n<title>node1--null4</title>\n<path d=\"M255.0945,-33.6213C260.2764,-26.9589 265.983,-19.6218 270.0907,-14.3405\" fill=\"none\" stroke=\"#000000\"/>\n</g>\n<!-- node3&#45;&#45;node2 -->\n<g class=\"edge\" id=\"edge3\">\n<title>node3--node2</title>\n<path d=\"M285.0612,-128.7768C259.3418,-120.5099 219.2463,-107.622 195.2097,-99.896\" fill=\"none\" stroke=\"#000000\"/>\n</g>\n<!-- null5 -->\n<g class=\"node\" id=\"node11\">\n<title>null5</title>\n<polygon fill=\"none\" points=\"350,-100.4 336,-100.4 336,-86.4 350,-86.4 350,-100.4\" stroke=\"#000000\"/>\n</g>\n<!-- node3&#45;&#45;null5 -->\n<g class=\"edge\" id=\"edge10\">\n<title>node3--null5</title>\n<path d=\"M325.0196,-116.5176C329.4068,-110.8769 333.9019,-105.0975 337.3002,-100.7283\" fill=\"none\" stroke=\"#000000\"/>\n</g>\n</g>\n</svg>"
          },
          "metadata": {
            "tags": []
          }
        }
      ]
    },
    {
      "cell_type": "code",
      "metadata": {
        "colab": {
          "base_uri": "https://localhost:8080/",
          "height": 1000
        },
        "id": "vcG7QeKtVRfP",
        "outputId": "58365a7d-bb3d-4b6b-9845-9beec24304f6"
      },
      "source": [
        "lista=[1,2,3,4,5,6,7,8,9]\n",
        "a=Arbol()\n",
        "b=Arbol()\n",
        "for x in reversed(lista):\n",
        "    a.root_insert(x)\n",
        "a.dibujar()\n",
        "for x in lista:\n",
        "    b.insert(x)\n",
        "b.dibujar()"
      ],
      "execution_count": null,
      "outputs": [
        {
          "output_type": "display_data",
          "data": {
            "text/plain": [
              "<IPython.core.display.SVG object>"
            ],
            "image/svg+xml": "<svg height=\"422pt\" viewBox=\"0.00 0.00 626.80 421.80\" width=\"627pt\" xmlns=\"http://www.w3.org/2000/svg\" xmlns:xlink=\"http://www.w3.org/1999/xlink\">\n<g class=\"graph\" id=\"graph0\" transform=\"scale(1 1) rotate(0) translate(4 417.8)\">\n<title>Arbol</title>\n<polygon fill=\"#ffffff\" points=\"-4,4 -4,-417.8 622.8,-417.8 622.8,4 -4,4\" stroke=\"transparent\"/>\n<!-- null0 -->\n<g class=\"node\" id=\"node1\">\n<title>null0</title>\n<polygon fill=\"none\" points=\"14,-359.6 0,-359.6 0,-345.6 14,-345.6 14,-359.6\" stroke=\"#000000\"/>\n</g>\n<!-- node8 -->\n<g class=\"node\" id=\"node2\">\n<title>node8</title>\n<ellipse cx=\"40.6\" cy=\"-395.8\" fill=\"none\" rx=\"18\" ry=\"18\" stroke=\"#000000\"/>\n<text fill=\"#000000\" font-family=\"Times,serif\" font-size=\"14.00\" text-anchor=\"middle\" x=\"40.6\" y=\"-392.1\">1</text>\n</g>\n<!-- node8&#45;&#45;null0 -->\n<g class=\"edge\" id=\"edge1\">\n<title>node8--null0</title>\n<path d=\"M29.2246,-381.1744C23.5892,-373.929 17.0417,-365.5107 12.5201,-359.6973\" fill=\"none\" stroke=\"#000000\"/>\n</g>\n<!-- node7 -->\n<g class=\"node\" id=\"node4\">\n<title>node7</title>\n<ellipse cx=\"107.8\" cy=\"-352.6\" fill=\"none\" rx=\"18\" ry=\"18\" stroke=\"#000000\"/>\n<text fill=\"#000000\" font-family=\"Times,serif\" font-size=\"14.00\" text-anchor=\"middle\" x=\"107.8\" y=\"-348.9\">2</text>\n</g>\n<!-- node8&#45;&#45;node7 -->\n<g class=\"edge\" id=\"edge2\">\n<title>node8--node7</title>\n<path d=\"M55.8487,-385.9972C66.8464,-378.9273 81.6278,-369.425 92.6116,-362.364\" fill=\"none\" stroke=\"#000000\"/>\n</g>\n<!-- null1 -->\n<g class=\"node\" id=\"node3\">\n<title>null1</title>\n<polygon fill=\"none\" points=\"81.2,-316.4 67.2,-316.4 67.2,-302.4 81.2,-302.4 81.2,-316.4\" stroke=\"#000000\"/>\n</g>\n<!-- node7&#45;&#45;null1 -->\n<g class=\"edge\" id=\"edge3\">\n<title>node7--null1</title>\n<path d=\"M96.4246,-337.9744C90.7892,-330.729 84.2417,-322.3107 79.7201,-316.4973\" fill=\"none\" stroke=\"#000000\"/>\n</g>\n<!-- node6 -->\n<g class=\"node\" id=\"node6\">\n<title>node6</title>\n<ellipse cx=\"175\" cy=\"-309.4\" fill=\"none\" rx=\"18\" ry=\"18\" stroke=\"#000000\"/>\n<text fill=\"#000000\" font-family=\"Times,serif\" font-size=\"14.00\" text-anchor=\"middle\" x=\"175\" y=\"-305.7\">3</text>\n</g>\n<!-- node7&#45;&#45;node6 -->\n<g class=\"edge\" id=\"edge4\">\n<title>node7--node6</title>\n<path d=\"M123.0487,-342.7972C134.0464,-335.7273 148.8278,-326.225 159.8116,-319.164\" fill=\"none\" stroke=\"#000000\"/>\n</g>\n<!-- null2 -->\n<g class=\"node\" id=\"node5\">\n<title>null2</title>\n<polygon fill=\"none\" points=\"148.4,-273.2 134.4,-273.2 134.4,-259.2 148.4,-259.2 148.4,-273.2\" stroke=\"#000000\"/>\n</g>\n<!-- node6&#45;&#45;null2 -->\n<g class=\"edge\" id=\"edge5\">\n<title>node6--null2</title>\n<path d=\"M163.6246,-294.7744C157.9892,-287.529 151.4417,-279.1107 146.9201,-273.2973\" fill=\"none\" stroke=\"#000000\"/>\n</g>\n<!-- node5 -->\n<g class=\"node\" id=\"node8\">\n<title>node5</title>\n<ellipse cx=\"242.2\" cy=\"-266.2\" fill=\"none\" rx=\"18\" ry=\"18\" stroke=\"#000000\"/>\n<text fill=\"#000000\" font-family=\"Times,serif\" font-size=\"14.00\" text-anchor=\"middle\" x=\"242.2\" y=\"-262.5\">4</text>\n</g>\n<!-- node6&#45;&#45;node5 -->\n<g class=\"edge\" id=\"edge6\">\n<title>node6--node5</title>\n<path d=\"M190.2487,-299.5972C201.2464,-292.5273 216.0278,-283.025 227.0116,-275.964\" fill=\"none\" stroke=\"#000000\"/>\n</g>\n<!-- null3 -->\n<g class=\"node\" id=\"node7\">\n<title>null3</title>\n<polygon fill=\"none\" points=\"215.6,-230 201.6,-230 201.6,-216 215.6,-216 215.6,-230\" stroke=\"#000000\"/>\n</g>\n<!-- node5&#45;&#45;null3 -->\n<g class=\"edge\" id=\"edge7\">\n<title>node5--null3</title>\n<path d=\"M230.8246,-251.5745C225.1892,-244.329 218.6417,-235.9107 214.1201,-230.0973\" fill=\"none\" stroke=\"#000000\"/>\n</g>\n<!-- node4 -->\n<g class=\"node\" id=\"node10\">\n<title>node4</title>\n<ellipse cx=\"309.4\" cy=\"-223\" fill=\"none\" rx=\"18\" ry=\"18\" stroke=\"#000000\"/>\n<text fill=\"#000000\" font-family=\"Times,serif\" font-size=\"14.00\" text-anchor=\"middle\" x=\"309.4\" y=\"-219.3\">5</text>\n</g>\n<!-- node5&#45;&#45;node4 -->\n<g class=\"edge\" id=\"edge8\">\n<title>node5--node4</title>\n<path d=\"M257.4487,-256.3973C268.4464,-249.3273 283.2278,-239.825 294.2116,-232.764\" fill=\"none\" stroke=\"#000000\"/>\n</g>\n<!-- null4 -->\n<g class=\"node\" id=\"node9\">\n<title>null4</title>\n<polygon fill=\"none\" points=\"282.8,-186.8 268.8,-186.8 268.8,-172.8 282.8,-172.8 282.8,-186.8\" stroke=\"#000000\"/>\n</g>\n<!-- node4&#45;&#45;null4 -->\n<g class=\"edge\" id=\"edge9\">\n<title>node4--null4</title>\n<path d=\"M298.0246,-208.3744C292.3892,-201.129 285.8417,-192.7107 281.3201,-186.8973\" fill=\"none\" stroke=\"#000000\"/>\n</g>\n<!-- node3 -->\n<g class=\"node\" id=\"node12\">\n<title>node3</title>\n<ellipse cx=\"376.6\" cy=\"-179.8\" fill=\"none\" rx=\"18\" ry=\"18\" stroke=\"#000000\"/>\n<text fill=\"#000000\" font-family=\"Times,serif\" font-size=\"14.00\" text-anchor=\"middle\" x=\"376.6\" y=\"-176.1\">6</text>\n</g>\n<!-- node4&#45;&#45;node3 -->\n<g class=\"edge\" id=\"edge10\">\n<title>node4--node3</title>\n<path d=\"M324.6487,-213.1972C335.6464,-206.1273 350.4278,-196.625 361.4116,-189.564\" fill=\"none\" stroke=\"#000000\"/>\n</g>\n<!-- null5 -->\n<g class=\"node\" id=\"node11\">\n<title>null5</title>\n<polygon fill=\"none\" points=\"350,-143.6 336,-143.6 336,-129.6 350,-129.6 350,-143.6\" stroke=\"#000000\"/>\n</g>\n<!-- node3&#45;&#45;null5 -->\n<g class=\"edge\" id=\"edge11\">\n<title>node3--null5</title>\n<path d=\"M365.2246,-165.1744C359.5892,-157.929 353.0417,-149.5107 348.5201,-143.6973\" fill=\"none\" stroke=\"#000000\"/>\n</g>\n<!-- node2 -->\n<g class=\"node\" id=\"node14\">\n<title>node2</title>\n<ellipse cx=\"443.8\" cy=\"-136.6\" fill=\"none\" rx=\"18\" ry=\"18\" stroke=\"#000000\"/>\n<text fill=\"#000000\" font-family=\"Times,serif\" font-size=\"14.00\" text-anchor=\"middle\" x=\"443.8\" y=\"-132.9\">7</text>\n</g>\n<!-- node3&#45;&#45;node2 -->\n<g class=\"edge\" id=\"edge12\">\n<title>node3--node2</title>\n<path d=\"M391.8487,-169.9972C402.8464,-162.9273 417.6278,-153.425 428.6116,-146.364\" fill=\"none\" stroke=\"#000000\"/>\n</g>\n<!-- null6 -->\n<g class=\"node\" id=\"node13\">\n<title>null6</title>\n<polygon fill=\"none\" points=\"417.2,-100.4 403.2,-100.4 403.2,-86.4 417.2,-86.4 417.2,-100.4\" stroke=\"#000000\"/>\n</g>\n<!-- node2&#45;&#45;null6 -->\n<g class=\"edge\" id=\"edge13\">\n<title>node2--null6</title>\n<path d=\"M432.4246,-121.9744C426.7892,-114.729 420.2417,-106.3107 415.7201,-100.4973\" fill=\"none\" stroke=\"#000000\"/>\n</g>\n<!-- node1 -->\n<g class=\"node\" id=\"node16\">\n<title>node1</title>\n<ellipse cx=\"511\" cy=\"-93.4\" fill=\"none\" rx=\"18\" ry=\"18\" stroke=\"#000000\"/>\n<text fill=\"#000000\" font-family=\"Times,serif\" font-size=\"14.00\" text-anchor=\"middle\" x=\"511\" y=\"-89.7\">8</text>\n</g>\n<!-- node2&#45;&#45;node1 -->\n<g class=\"edge\" id=\"edge14\">\n<title>node2--node1</title>\n<path d=\"M459.0487,-126.7972C470.0464,-119.7273 484.8278,-110.225 495.8116,-103.164\" fill=\"none\" stroke=\"#000000\"/>\n</g>\n<!-- null7 -->\n<g class=\"node\" id=\"node15\">\n<title>null7</title>\n<polygon fill=\"none\" points=\"484.4,-57.2 470.4,-57.2 470.4,-43.2 484.4,-43.2 484.4,-57.2\" stroke=\"#000000\"/>\n</g>\n<!-- node1&#45;&#45;null7 -->\n<g class=\"edge\" id=\"edge15\">\n<title>node1--null7</title>\n<path d=\"M499.6246,-78.7744C493.9892,-71.529 487.4416,-63.1107 482.9201,-57.2973\" fill=\"none\" stroke=\"#000000\"/>\n</g>\n<!-- node0 -->\n<g class=\"node\" id=\"node18\">\n<title>node0</title>\n<ellipse cx=\"578.2\" cy=\"-50.2\" fill=\"none\" rx=\"18\" ry=\"18\" stroke=\"#000000\"/>\n<text fill=\"#000000\" font-family=\"Times,serif\" font-size=\"14.00\" text-anchor=\"middle\" x=\"578.2\" y=\"-46.5\">9</text>\n</g>\n<!-- node1&#45;&#45;node0 -->\n<g class=\"edge\" id=\"edge16\">\n<title>node1--node0</title>\n<path d=\"M526.2487,-83.5972C537.2464,-76.5273 552.0278,-67.025 563.0116,-59.964\" fill=\"none\" stroke=\"#000000\"/>\n</g>\n<!-- null8 -->\n<g class=\"node\" id=\"node17\">\n<title>null8</title>\n<polygon fill=\"none\" points=\"551.6,-14 537.6,-14 537.6,0 551.6,0 551.6,-14\" stroke=\"#000000\"/>\n</g>\n<!-- node0&#45;&#45;null8 -->\n<g class=\"edge\" id=\"edge17\">\n<title>node0--null8</title>\n<path d=\"M566.8246,-35.5745C561.1892,-28.329 554.6417,-19.9107 550.1201,-14.0973\" fill=\"none\" stroke=\"#000000\"/>\n</g>\n<!-- null9 -->\n<g class=\"node\" id=\"node19\">\n<title>null9</title>\n<polygon fill=\"none\" points=\"618.8,-14 604.8,-14 604.8,0 618.8,0 618.8,-14\" stroke=\"#000000\"/>\n</g>\n<!-- node0&#45;&#45;null9 -->\n<g class=\"edge\" id=\"edge18\">\n<title>node0--null9</title>\n<path d=\"M589.5754,-35.5745C595.2107,-28.329 601.7583,-19.9107 606.2798,-14.0973\" fill=\"none\" stroke=\"#000000\"/>\n</g>\n</g>\n</svg>"
          },
          "metadata": {
            "tags": []
          }
        },
        {
          "output_type": "display_data",
          "data": {
            "text/plain": [
              "<IPython.core.display.SVG object>"
            ],
            "image/svg+xml": "<svg height=\"422pt\" viewBox=\"0.00 0.00 626.80 421.80\" width=\"627pt\" xmlns=\"http://www.w3.org/2000/svg\" xmlns:xlink=\"http://www.w3.org/1999/xlink\">\n<g class=\"graph\" id=\"graph0\" transform=\"scale(1 1) rotate(0) translate(4 417.8)\">\n<title>Arbol</title>\n<polygon fill=\"#ffffff\" points=\"-4,4 -4,-417.8 622.8,-417.8 622.8,4 -4,4\" stroke=\"transparent\"/>\n<!-- null0 -->\n<g class=\"node\" id=\"node1\">\n<title>null0</title>\n<polygon fill=\"none\" points=\"14,-359.6 0,-359.6 0,-345.6 14,-345.6 14,-359.6\" stroke=\"#000000\"/>\n</g>\n<!-- node8 -->\n<g class=\"node\" id=\"node2\">\n<title>node8</title>\n<ellipse cx=\"40.6\" cy=\"-395.8\" fill=\"none\" rx=\"18\" ry=\"18\" stroke=\"#000000\"/>\n<text fill=\"#000000\" font-family=\"Times,serif\" font-size=\"14.00\" text-anchor=\"middle\" x=\"40.6\" y=\"-392.1\">1</text>\n</g>\n<!-- node8&#45;&#45;null0 -->\n<g class=\"edge\" id=\"edge1\">\n<title>node8--null0</title>\n<path d=\"M29.2246,-381.1744C23.5892,-373.929 17.0417,-365.5107 12.5201,-359.6973\" fill=\"none\" stroke=\"#000000\"/>\n</g>\n<!-- node7 -->\n<g class=\"node\" id=\"node4\">\n<title>node7</title>\n<ellipse cx=\"107.8\" cy=\"-352.6\" fill=\"none\" rx=\"18\" ry=\"18\" stroke=\"#000000\"/>\n<text fill=\"#000000\" font-family=\"Times,serif\" font-size=\"14.00\" text-anchor=\"middle\" x=\"107.8\" y=\"-348.9\">2</text>\n</g>\n<!-- node8&#45;&#45;node7 -->\n<g class=\"edge\" id=\"edge2\">\n<title>node8--node7</title>\n<path d=\"M55.8487,-385.9972C66.8464,-378.9273 81.6278,-369.425 92.6116,-362.364\" fill=\"none\" stroke=\"#000000\"/>\n</g>\n<!-- null1 -->\n<g class=\"node\" id=\"node3\">\n<title>null1</title>\n<polygon fill=\"none\" points=\"81.2,-316.4 67.2,-316.4 67.2,-302.4 81.2,-302.4 81.2,-316.4\" stroke=\"#000000\"/>\n</g>\n<!-- node7&#45;&#45;null1 -->\n<g class=\"edge\" id=\"edge3\">\n<title>node7--null1</title>\n<path d=\"M96.4246,-337.9744C90.7892,-330.729 84.2417,-322.3107 79.7201,-316.4973\" fill=\"none\" stroke=\"#000000\"/>\n</g>\n<!-- node6 -->\n<g class=\"node\" id=\"node6\">\n<title>node6</title>\n<ellipse cx=\"175\" cy=\"-309.4\" fill=\"none\" rx=\"18\" ry=\"18\" stroke=\"#000000\"/>\n<text fill=\"#000000\" font-family=\"Times,serif\" font-size=\"14.00\" text-anchor=\"middle\" x=\"175\" y=\"-305.7\">3</text>\n</g>\n<!-- node7&#45;&#45;node6 -->\n<g class=\"edge\" id=\"edge4\">\n<title>node7--node6</title>\n<path d=\"M123.0487,-342.7972C134.0464,-335.7273 148.8278,-326.225 159.8116,-319.164\" fill=\"none\" stroke=\"#000000\"/>\n</g>\n<!-- null2 -->\n<g class=\"node\" id=\"node5\">\n<title>null2</title>\n<polygon fill=\"none\" points=\"148.4,-273.2 134.4,-273.2 134.4,-259.2 148.4,-259.2 148.4,-273.2\" stroke=\"#000000\"/>\n</g>\n<!-- node6&#45;&#45;null2 -->\n<g class=\"edge\" id=\"edge5\">\n<title>node6--null2</title>\n<path d=\"M163.6246,-294.7744C157.9892,-287.529 151.4417,-279.1107 146.9201,-273.2973\" fill=\"none\" stroke=\"#000000\"/>\n</g>\n<!-- node5 -->\n<g class=\"node\" id=\"node8\">\n<title>node5</title>\n<ellipse cx=\"242.2\" cy=\"-266.2\" fill=\"none\" rx=\"18\" ry=\"18\" stroke=\"#000000\"/>\n<text fill=\"#000000\" font-family=\"Times,serif\" font-size=\"14.00\" text-anchor=\"middle\" x=\"242.2\" y=\"-262.5\">4</text>\n</g>\n<!-- node6&#45;&#45;node5 -->\n<g class=\"edge\" id=\"edge6\">\n<title>node6--node5</title>\n<path d=\"M190.2487,-299.5972C201.2464,-292.5273 216.0278,-283.025 227.0116,-275.964\" fill=\"none\" stroke=\"#000000\"/>\n</g>\n<!-- null3 -->\n<g class=\"node\" id=\"node7\">\n<title>null3</title>\n<polygon fill=\"none\" points=\"215.6,-230 201.6,-230 201.6,-216 215.6,-216 215.6,-230\" stroke=\"#000000\"/>\n</g>\n<!-- node5&#45;&#45;null3 -->\n<g class=\"edge\" id=\"edge7\">\n<title>node5--null3</title>\n<path d=\"M230.8246,-251.5745C225.1892,-244.329 218.6417,-235.9107 214.1201,-230.0973\" fill=\"none\" stroke=\"#000000\"/>\n</g>\n<!-- node4 -->\n<g class=\"node\" id=\"node10\">\n<title>node4</title>\n<ellipse cx=\"309.4\" cy=\"-223\" fill=\"none\" rx=\"18\" ry=\"18\" stroke=\"#000000\"/>\n<text fill=\"#000000\" font-family=\"Times,serif\" font-size=\"14.00\" text-anchor=\"middle\" x=\"309.4\" y=\"-219.3\">5</text>\n</g>\n<!-- node5&#45;&#45;node4 -->\n<g class=\"edge\" id=\"edge8\">\n<title>node5--node4</title>\n<path d=\"M257.4487,-256.3973C268.4464,-249.3273 283.2278,-239.825 294.2116,-232.764\" fill=\"none\" stroke=\"#000000\"/>\n</g>\n<!-- null4 -->\n<g class=\"node\" id=\"node9\">\n<title>null4</title>\n<polygon fill=\"none\" points=\"282.8,-186.8 268.8,-186.8 268.8,-172.8 282.8,-172.8 282.8,-186.8\" stroke=\"#000000\"/>\n</g>\n<!-- node4&#45;&#45;null4 -->\n<g class=\"edge\" id=\"edge9\">\n<title>node4--null4</title>\n<path d=\"M298.0246,-208.3744C292.3892,-201.129 285.8417,-192.7107 281.3201,-186.8973\" fill=\"none\" stroke=\"#000000\"/>\n</g>\n<!-- node3 -->\n<g class=\"node\" id=\"node12\">\n<title>node3</title>\n<ellipse cx=\"376.6\" cy=\"-179.8\" fill=\"none\" rx=\"18\" ry=\"18\" stroke=\"#000000\"/>\n<text fill=\"#000000\" font-family=\"Times,serif\" font-size=\"14.00\" text-anchor=\"middle\" x=\"376.6\" y=\"-176.1\">6</text>\n</g>\n<!-- node4&#45;&#45;node3 -->\n<g class=\"edge\" id=\"edge10\">\n<title>node4--node3</title>\n<path d=\"M324.6487,-213.1972C335.6464,-206.1273 350.4278,-196.625 361.4116,-189.564\" fill=\"none\" stroke=\"#000000\"/>\n</g>\n<!-- null5 -->\n<g class=\"node\" id=\"node11\">\n<title>null5</title>\n<polygon fill=\"none\" points=\"350,-143.6 336,-143.6 336,-129.6 350,-129.6 350,-143.6\" stroke=\"#000000\"/>\n</g>\n<!-- node3&#45;&#45;null5 -->\n<g class=\"edge\" id=\"edge11\">\n<title>node3--null5</title>\n<path d=\"M365.2246,-165.1744C359.5892,-157.929 353.0417,-149.5107 348.5201,-143.6973\" fill=\"none\" stroke=\"#000000\"/>\n</g>\n<!-- node2 -->\n<g class=\"node\" id=\"node14\">\n<title>node2</title>\n<ellipse cx=\"443.8\" cy=\"-136.6\" fill=\"none\" rx=\"18\" ry=\"18\" stroke=\"#000000\"/>\n<text fill=\"#000000\" font-family=\"Times,serif\" font-size=\"14.00\" text-anchor=\"middle\" x=\"443.8\" y=\"-132.9\">7</text>\n</g>\n<!-- node3&#45;&#45;node2 -->\n<g class=\"edge\" id=\"edge12\">\n<title>node3--node2</title>\n<path d=\"M391.8487,-169.9972C402.8464,-162.9273 417.6278,-153.425 428.6116,-146.364\" fill=\"none\" stroke=\"#000000\"/>\n</g>\n<!-- null6 -->\n<g class=\"node\" id=\"node13\">\n<title>null6</title>\n<polygon fill=\"none\" points=\"417.2,-100.4 403.2,-100.4 403.2,-86.4 417.2,-86.4 417.2,-100.4\" stroke=\"#000000\"/>\n</g>\n<!-- node2&#45;&#45;null6 -->\n<g class=\"edge\" id=\"edge13\">\n<title>node2--null6</title>\n<path d=\"M432.4246,-121.9744C426.7892,-114.729 420.2417,-106.3107 415.7201,-100.4973\" fill=\"none\" stroke=\"#000000\"/>\n</g>\n<!-- node1 -->\n<g class=\"node\" id=\"node16\">\n<title>node1</title>\n<ellipse cx=\"511\" cy=\"-93.4\" fill=\"none\" rx=\"18\" ry=\"18\" stroke=\"#000000\"/>\n<text fill=\"#000000\" font-family=\"Times,serif\" font-size=\"14.00\" text-anchor=\"middle\" x=\"511\" y=\"-89.7\">8</text>\n</g>\n<!-- node2&#45;&#45;node1 -->\n<g class=\"edge\" id=\"edge14\">\n<title>node2--node1</title>\n<path d=\"M459.0487,-126.7972C470.0464,-119.7273 484.8278,-110.225 495.8116,-103.164\" fill=\"none\" stroke=\"#000000\"/>\n</g>\n<!-- null7 -->\n<g class=\"node\" id=\"node15\">\n<title>null7</title>\n<polygon fill=\"none\" points=\"484.4,-57.2 470.4,-57.2 470.4,-43.2 484.4,-43.2 484.4,-57.2\" stroke=\"#000000\"/>\n</g>\n<!-- node1&#45;&#45;null7 -->\n<g class=\"edge\" id=\"edge15\">\n<title>node1--null7</title>\n<path d=\"M499.6246,-78.7744C493.9892,-71.529 487.4416,-63.1107 482.9201,-57.2973\" fill=\"none\" stroke=\"#000000\"/>\n</g>\n<!-- node0 -->\n<g class=\"node\" id=\"node18\">\n<title>node0</title>\n<ellipse cx=\"578.2\" cy=\"-50.2\" fill=\"none\" rx=\"18\" ry=\"18\" stroke=\"#000000\"/>\n<text fill=\"#000000\" font-family=\"Times,serif\" font-size=\"14.00\" text-anchor=\"middle\" x=\"578.2\" y=\"-46.5\">9</text>\n</g>\n<!-- node1&#45;&#45;node0 -->\n<g class=\"edge\" id=\"edge16\">\n<title>node1--node0</title>\n<path d=\"M526.2487,-83.5972C537.2464,-76.5273 552.0278,-67.025 563.0116,-59.964\" fill=\"none\" stroke=\"#000000\"/>\n</g>\n<!-- null8 -->\n<g class=\"node\" id=\"node17\">\n<title>null8</title>\n<polygon fill=\"none\" points=\"551.6,-14 537.6,-14 537.6,0 551.6,0 551.6,-14\" stroke=\"#000000\"/>\n</g>\n<!-- node0&#45;&#45;null8 -->\n<g class=\"edge\" id=\"edge17\">\n<title>node0--null8</title>\n<path d=\"M566.8246,-35.5745C561.1892,-28.329 554.6417,-19.9107 550.1201,-14.0973\" fill=\"none\" stroke=\"#000000\"/>\n</g>\n<!-- null9 -->\n<g class=\"node\" id=\"node19\">\n<title>null9</title>\n<polygon fill=\"none\" points=\"618.8,-14 604.8,-14 604.8,0 618.8,0 618.8,-14\" stroke=\"#000000\"/>\n</g>\n<!-- node0&#45;&#45;null9 -->\n<g class=\"edge\" id=\"edge18\">\n<title>node0--null9</title>\n<path d=\"M589.5754,-35.5745C595.2107,-28.329 601.7583,-19.9107 606.2798,-14.0973\" fill=\"none\" stroke=\"#000000\"/>\n</g>\n</g>\n</svg>"
          },
          "metadata": {
            "tags": []
          }
        }
      ]
    },
    {
      "cell_type": "code",
      "metadata": {
        "colab": {
          "base_uri": "https://localhost:8080/",
          "height": 696
        },
        "id": "Ady-V96pVXZA",
        "outputId": "699ac63e-c0e5-4ef7-9f47-bce4b9ade2bd"
      },
      "source": [
        "lista=[10,2,15,3,18,4,90,17,21]\n",
        "a=Arbol()\n",
        "b=Arbol()\n",
        "for x in reversed(lista):\n",
        "    a.root_insert(x)\n",
        "a.dibujar()\n",
        "for x in lista:\n",
        "    b.insert(x)\n",
        "b.dibujar()"
      ],
      "execution_count": null,
      "outputs": [
        {
          "output_type": "display_data",
          "data": {
            "text/plain": [
              "<IPython.core.display.SVG object>"
            ],
            "image/svg+xml": "<svg height=\"252pt\" viewBox=\"0.00 0.00 626.80 251.80\" width=\"627pt\" xmlns=\"http://www.w3.org/2000/svg\" xmlns:xlink=\"http://www.w3.org/1999/xlink\">\n<g class=\"graph\" id=\"graph0\" transform=\"scale(1 1) rotate(0) translate(4 247.7982)\">\n<title>Arbol</title>\n<polygon fill=\"#ffffff\" points=\"-4,4 -4,-247.7982 622.8,-247.7982 622.8,4 -4,4\" stroke=\"transparent\"/>\n<!-- null0 -->\n<g class=\"node\" id=\"node1\">\n<title>null0</title>\n<polygon fill=\"none\" points=\"14,-143.6 0,-143.6 0,-129.6 14,-129.6 14,-143.6\" stroke=\"#000000\"/>\n</g>\n<!-- node2 -->\n<g class=\"node\" id=\"node2\">\n<title>node2</title>\n<ellipse cx=\"40.6\" cy=\"-179.8\" fill=\"none\" rx=\"18\" ry=\"18\" stroke=\"#000000\"/>\n<text fill=\"#000000\" font-family=\"Times,serif\" font-size=\"14.00\" text-anchor=\"middle\" x=\"40.6\" y=\"-176.1\">2</text>\n</g>\n<!-- node2&#45;&#45;null0 -->\n<g class=\"edge\" id=\"edge2\">\n<title>node2--null0</title>\n<path d=\"M29.2246,-165.1744C23.5892,-157.929 17.0417,-149.5107 12.5201,-143.6973\" fill=\"none\" stroke=\"#000000\"/>\n</g>\n<!-- node1 -->\n<g class=\"node\" id=\"node4\">\n<title>node1</title>\n<ellipse cx=\"107.8\" cy=\"-136.6\" fill=\"none\" rx=\"18\" ry=\"18\" stroke=\"#000000\"/>\n<text fill=\"#000000\" font-family=\"Times,serif\" font-size=\"14.00\" text-anchor=\"middle\" x=\"107.8\" y=\"-132.9\">3</text>\n</g>\n<!-- node2&#45;&#45;node1 -->\n<g class=\"edge\" id=\"edge3\">\n<title>node2--node1</title>\n<path d=\"M55.8487,-169.9973C66.8464,-162.9273 81.6278,-153.425 92.6116,-146.364\" fill=\"none\" stroke=\"#000000\"/>\n</g>\n<!-- null1 -->\n<g class=\"node\" id=\"node3\">\n<title>null1</title>\n<polygon fill=\"none\" points=\"81.2,-100.4 67.2,-100.4 67.2,-86.4 81.2,-86.4 81.2,-100.4\" stroke=\"#000000\"/>\n</g>\n<!-- node1&#45;&#45;null1 -->\n<g class=\"edge\" id=\"edge4\">\n<title>node1--null1</title>\n<path d=\"M96.4246,-121.9745C90.7892,-114.729 84.2417,-106.3107 79.7201,-100.4973\" fill=\"none\" stroke=\"#000000\"/>\n</g>\n<!-- node0 -->\n<g class=\"node\" id=\"node6\">\n<title>node0</title>\n<ellipse cx=\"175\" cy=\"-93.4\" fill=\"none\" rx=\"18\" ry=\"18\" stroke=\"#000000\"/>\n<text fill=\"#000000\" font-family=\"Times,serif\" font-size=\"14.00\" text-anchor=\"middle\" x=\"175\" y=\"-89.7\">4</text>\n</g>\n<!-- node1&#45;&#45;node0 -->\n<g class=\"edge\" id=\"edge5\">\n<title>node1--node0</title>\n<path d=\"M123.0487,-126.7973C134.0464,-119.7273 148.8278,-110.225 159.8116,-103.164\" fill=\"none\" stroke=\"#000000\"/>\n</g>\n<!-- null2 -->\n<g class=\"node\" id=\"node5\">\n<title>null2</title>\n<polygon fill=\"none\" points=\"148.4,-57.2 134.4,-57.2 134.4,-43.2 148.4,-43.2 148.4,-57.2\" stroke=\"#000000\"/>\n</g>\n<!-- node0&#45;&#45;null2 -->\n<g class=\"edge\" id=\"edge6\">\n<title>node0--null2</title>\n<path d=\"M163.6246,-78.7745C157.9892,-71.529 151.4417,-63.1107 146.9201,-57.2973\" fill=\"none\" stroke=\"#000000\"/>\n</g>\n<!-- null3 -->\n<g class=\"node\" id=\"node7\">\n<title>null3</title>\n<polygon fill=\"none\" points=\"215.6,-57.2 201.6,-57.2 201.6,-43.2 215.6,-43.2 215.6,-57.2\" stroke=\"#000000\"/>\n</g>\n<!-- node0&#45;&#45;null3 -->\n<g class=\"edge\" id=\"edge7\">\n<title>node0--null3</title>\n<path d=\"M186.3754,-78.7745C192.0108,-71.529 198.5583,-63.1107 203.0799,-57.2973\" fill=\"none\" stroke=\"#000000\"/>\n</g>\n<!-- node8 -->\n<g class=\"node\" id=\"node8\">\n<title>node8</title>\n<ellipse cx=\"242.2\" cy=\"-223\" fill=\"none\" rx=\"20.5982\" ry=\"20.5982\" stroke=\"#000000\"/>\n<text fill=\"#000000\" font-family=\"Times,serif\" font-size=\"14.00\" text-anchor=\"middle\" x=\"242.2\" y=\"-219.3\">10</text>\n</g>\n<!-- node8&#45;&#45;node2 -->\n<g class=\"edge\" id=\"edge1\">\n<title>node8--node2</title>\n<path d=\"M221.7601,-218.62C182.2195,-210.147 95.8645,-191.6424 58.4623,-183.6276\" fill=\"none\" stroke=\"#000000\"/>\n</g>\n<!-- node7 -->\n<g class=\"node\" id=\"node10\">\n<title>node7</title>\n<ellipse cx=\"309.4\" cy=\"-179.8\" fill=\"none\" rx=\"20.5982\" ry=\"20.5982\" stroke=\"#000000\"/>\n<text fill=\"#000000\" font-family=\"Times,serif\" font-size=\"14.00\" text-anchor=\"middle\" x=\"309.4\" y=\"-176.1\">15</text>\n</g>\n<!-- node8&#45;&#45;node7 -->\n<g class=\"edge\" id=\"edge8\">\n<title>node8--node7</title>\n<path d=\"M259.856,-211.6497C269.6555,-205.35 281.8106,-197.536 291.6286,-191.2245\" fill=\"none\" stroke=\"#000000\"/>\n</g>\n<!-- null4 -->\n<g class=\"node\" id=\"node9\">\n<title>null4</title>\n<polygon fill=\"none\" points=\"282.8,-143.6 268.8,-143.6 268.8,-129.6 282.8,-129.6 282.8,-143.6\" stroke=\"#000000\"/>\n</g>\n<!-- node7&#45;&#45;null4 -->\n<g class=\"edge\" id=\"edge9\">\n<title>node7--null4</title>\n<path d=\"M296.5054,-163.2213C291.3236,-156.5589 285.617,-149.2218 281.5093,-143.9405\" fill=\"none\" stroke=\"#000000\"/>\n</g>\n<!-- node6 -->\n<g class=\"node\" id=\"node14\">\n<title>node6</title>\n<ellipse cx=\"443.8\" cy=\"-136.6\" fill=\"none\" rx=\"20.5982\" ry=\"20.5982\" stroke=\"#000000\"/>\n<text fill=\"#000000\" font-family=\"Times,serif\" font-size=\"14.00\" text-anchor=\"middle\" x=\"443.8\" y=\"-132.9\">18</text>\n</g>\n<!-- node7&#45;&#45;node6 -->\n<g class=\"edge\" id=\"edge10\">\n<title>node7--node6</title>\n<path d=\"M329.2312,-173.4257C354.6417,-165.258 398.4377,-151.1807 423.8874,-143.0005\" fill=\"none\" stroke=\"#000000\"/>\n</g>\n<!-- null5 -->\n<g class=\"node\" id=\"node11\">\n<title>null5</title>\n<polygon fill=\"none\" points=\"350,-57.2 336,-57.2 336,-43.2 350,-43.2 350,-57.2\" stroke=\"#000000\"/>\n</g>\n<!-- node3 -->\n<g class=\"node\" id=\"node12\">\n<title>node3</title>\n<ellipse cx=\"376.6\" cy=\"-93.4\" fill=\"none\" rx=\"20.5982\" ry=\"20.5982\" stroke=\"#000000\"/>\n<text fill=\"#000000\" font-family=\"Times,serif\" font-size=\"14.00\" text-anchor=\"middle\" x=\"376.6\" y=\"-89.7\">17</text>\n</g>\n<!-- node3&#45;&#45;null5 -->\n<g class=\"edge\" id=\"edge12\">\n<title>node3--null5</title>\n<path d=\"M363.7054,-76.8213C358.5236,-70.1589 352.817,-62.8218 348.7093,-57.5405\" fill=\"none\" stroke=\"#000000\"/>\n</g>\n<!-- null6 -->\n<g class=\"node\" id=\"node13\">\n<title>null6</title>\n<polygon fill=\"none\" points=\"417.2,-57.2 403.2,-57.2 403.2,-43.2 417.2,-43.2 417.2,-57.2\" stroke=\"#000000\"/>\n</g>\n<!-- node3&#45;&#45;null6 -->\n<g class=\"edge\" id=\"edge13\">\n<title>node3--null6</title>\n<path d=\"M389.4945,-76.8213C394.6764,-70.1589 400.383,-62.8218 404.4907,-57.5405\" fill=\"none\" stroke=\"#000000\"/>\n</g>\n<!-- node6&#45;&#45;node3 -->\n<g class=\"edge\" id=\"edge11\">\n<title>node6--node3</title>\n<path d=\"M426.144,-125.2497C416.3444,-118.95 404.1893,-111.136 394.3714,-104.8245\" fill=\"none\" stroke=\"#000000\"/>\n</g>\n<!-- node5 -->\n<g class=\"node\" id=\"node18\">\n<title>node5</title>\n<ellipse cx=\"578.2\" cy=\"-93.4\" fill=\"none\" rx=\"20.5982\" ry=\"20.5982\" stroke=\"#000000\"/>\n<text fill=\"#000000\" font-family=\"Times,serif\" font-size=\"14.00\" text-anchor=\"middle\" x=\"578.2\" y=\"-89.7\">90</text>\n</g>\n<!-- node6&#45;&#45;node5 -->\n<g class=\"edge\" id=\"edge14\">\n<title>node6--node5</title>\n<path d=\"M463.6312,-130.2257C489.0417,-122.058 532.8377,-107.9807 558.2874,-99.8005\" fill=\"none\" stroke=\"#000000\"/>\n</g>\n<!-- null7 -->\n<g class=\"node\" id=\"node15\">\n<title>null7</title>\n<polygon fill=\"none\" points=\"484.4,-14 470.4,-14 470.4,0 484.4,0 484.4,-14\" stroke=\"#000000\"/>\n</g>\n<!-- node4 -->\n<g class=\"node\" id=\"node16\">\n<title>node4</title>\n<ellipse cx=\"511\" cy=\"-50.2\" fill=\"none\" rx=\"20.5982\" ry=\"20.5982\" stroke=\"#000000\"/>\n<text fill=\"#000000\" font-family=\"Times,serif\" font-size=\"14.00\" text-anchor=\"middle\" x=\"511\" y=\"-46.5\">21</text>\n</g>\n<!-- node4&#45;&#45;null7 -->\n<g class=\"edge\" id=\"edge16\">\n<title>node4--null7</title>\n<path d=\"M498.1054,-33.6213C492.9236,-26.9589 487.217,-19.6218 483.1093,-14.3405\" fill=\"none\" stroke=\"#000000\"/>\n</g>\n<!-- null8 -->\n<g class=\"node\" id=\"node17\">\n<title>null8</title>\n<polygon fill=\"none\" points=\"551.6,-14 537.6,-14 537.6,0 551.6,0 551.6,-14\" stroke=\"#000000\"/>\n</g>\n<!-- node4&#45;&#45;null8 -->\n<g class=\"edge\" id=\"edge17\">\n<title>node4--null8</title>\n<path d=\"M523.8945,-33.6213C529.0764,-26.9589 534.783,-19.6218 538.8907,-14.3405\" fill=\"none\" stroke=\"#000000\"/>\n</g>\n<!-- node5&#45;&#45;node4 -->\n<g class=\"edge\" id=\"edge15\">\n<title>node5--node4</title>\n<path d=\"M560.544,-82.0497C550.7444,-75.75 538.5893,-67.936 528.7714,-61.6245\" fill=\"none\" stroke=\"#000000\"/>\n</g>\n<!-- null9 -->\n<g class=\"node\" id=\"node19\">\n<title>null9</title>\n<polygon fill=\"none\" points=\"618.8,-57.2 604.8,-57.2 604.8,-43.2 618.8,-43.2 618.8,-57.2\" stroke=\"#000000\"/>\n</g>\n<!-- node5&#45;&#45;null9 -->\n<g class=\"edge\" id=\"edge18\">\n<title>node5--null9</title>\n<path d=\"M591.0945,-76.8213C596.2764,-70.1589 601.983,-62.8218 606.0907,-57.5405\" fill=\"none\" stroke=\"#000000\"/>\n</g>\n</g>\n</svg>"
          },
          "metadata": {
            "tags": []
          }
        },
        {
          "output_type": "display_data",
          "data": {
            "text/plain": [
              "<IPython.core.display.SVG object>"
            ],
            "image/svg+xml": "<svg height=\"252pt\" viewBox=\"0.00 0.00 626.80 251.80\" width=\"627pt\" xmlns=\"http://www.w3.org/2000/svg\" xmlns:xlink=\"http://www.w3.org/1999/xlink\">\n<g class=\"graph\" id=\"graph0\" transform=\"scale(1 1) rotate(0) translate(4 247.7982)\">\n<title>Arbol</title>\n<polygon fill=\"#ffffff\" points=\"-4,4 -4,-247.7982 622.8,-247.7982 622.8,4 -4,4\" stroke=\"transparent\"/>\n<!-- null0 -->\n<g class=\"node\" id=\"node1\">\n<title>null0</title>\n<polygon fill=\"none\" points=\"14,-143.6 0,-143.6 0,-129.6 14,-129.6 14,-143.6\" stroke=\"#000000\"/>\n</g>\n<!-- node2 -->\n<g class=\"node\" id=\"node2\">\n<title>node2</title>\n<ellipse cx=\"40.6\" cy=\"-179.8\" fill=\"none\" rx=\"18\" ry=\"18\" stroke=\"#000000\"/>\n<text fill=\"#000000\" font-family=\"Times,serif\" font-size=\"14.00\" text-anchor=\"middle\" x=\"40.6\" y=\"-176.1\">2</text>\n</g>\n<!-- node2&#45;&#45;null0 -->\n<g class=\"edge\" id=\"edge2\">\n<title>node2--null0</title>\n<path d=\"M29.2246,-165.1744C23.5892,-157.929 17.0417,-149.5107 12.5201,-143.6973\" fill=\"none\" stroke=\"#000000\"/>\n</g>\n<!-- node1 -->\n<g class=\"node\" id=\"node4\">\n<title>node1</title>\n<ellipse cx=\"107.8\" cy=\"-136.6\" fill=\"none\" rx=\"18\" ry=\"18\" stroke=\"#000000\"/>\n<text fill=\"#000000\" font-family=\"Times,serif\" font-size=\"14.00\" text-anchor=\"middle\" x=\"107.8\" y=\"-132.9\">3</text>\n</g>\n<!-- node2&#45;&#45;node1 -->\n<g class=\"edge\" id=\"edge3\">\n<title>node2--node1</title>\n<path d=\"M55.8487,-169.9973C66.8464,-162.9273 81.6278,-153.425 92.6116,-146.364\" fill=\"none\" stroke=\"#000000\"/>\n</g>\n<!-- null1 -->\n<g class=\"node\" id=\"node3\">\n<title>null1</title>\n<polygon fill=\"none\" points=\"81.2,-100.4 67.2,-100.4 67.2,-86.4 81.2,-86.4 81.2,-100.4\" stroke=\"#000000\"/>\n</g>\n<!-- node1&#45;&#45;null1 -->\n<g class=\"edge\" id=\"edge4\">\n<title>node1--null1</title>\n<path d=\"M96.4246,-121.9745C90.7892,-114.729 84.2417,-106.3107 79.7201,-100.4973\" fill=\"none\" stroke=\"#000000\"/>\n</g>\n<!-- node0 -->\n<g class=\"node\" id=\"node6\">\n<title>node0</title>\n<ellipse cx=\"175\" cy=\"-93.4\" fill=\"none\" rx=\"18\" ry=\"18\" stroke=\"#000000\"/>\n<text fill=\"#000000\" font-family=\"Times,serif\" font-size=\"14.00\" text-anchor=\"middle\" x=\"175\" y=\"-89.7\">4</text>\n</g>\n<!-- node1&#45;&#45;node0 -->\n<g class=\"edge\" id=\"edge5\">\n<title>node1--node0</title>\n<path d=\"M123.0487,-126.7973C134.0464,-119.7273 148.8278,-110.225 159.8116,-103.164\" fill=\"none\" stroke=\"#000000\"/>\n</g>\n<!-- null2 -->\n<g class=\"node\" id=\"node5\">\n<title>null2</title>\n<polygon fill=\"none\" points=\"148.4,-57.2 134.4,-57.2 134.4,-43.2 148.4,-43.2 148.4,-57.2\" stroke=\"#000000\"/>\n</g>\n<!-- node0&#45;&#45;null2 -->\n<g class=\"edge\" id=\"edge6\">\n<title>node0--null2</title>\n<path d=\"M163.6246,-78.7745C157.9892,-71.529 151.4417,-63.1107 146.9201,-57.2973\" fill=\"none\" stroke=\"#000000\"/>\n</g>\n<!-- null3 -->\n<g class=\"node\" id=\"node7\">\n<title>null3</title>\n<polygon fill=\"none\" points=\"215.6,-57.2 201.6,-57.2 201.6,-43.2 215.6,-43.2 215.6,-57.2\" stroke=\"#000000\"/>\n</g>\n<!-- node0&#45;&#45;null3 -->\n<g class=\"edge\" id=\"edge7\">\n<title>node0--null3</title>\n<path d=\"M186.3754,-78.7745C192.0108,-71.529 198.5583,-63.1107 203.0799,-57.2973\" fill=\"none\" stroke=\"#000000\"/>\n</g>\n<!-- node8 -->\n<g class=\"node\" id=\"node8\">\n<title>node8</title>\n<ellipse cx=\"242.2\" cy=\"-223\" fill=\"none\" rx=\"20.5982\" ry=\"20.5982\" stroke=\"#000000\"/>\n<text fill=\"#000000\" font-family=\"Times,serif\" font-size=\"14.00\" text-anchor=\"middle\" x=\"242.2\" y=\"-219.3\">10</text>\n</g>\n<!-- node8&#45;&#45;node2 -->\n<g class=\"edge\" id=\"edge1\">\n<title>node8--node2</title>\n<path d=\"M221.7601,-218.62C182.2195,-210.147 95.8645,-191.6424 58.4623,-183.6276\" fill=\"none\" stroke=\"#000000\"/>\n</g>\n<!-- node7 -->\n<g class=\"node\" id=\"node10\">\n<title>node7</title>\n<ellipse cx=\"309.4\" cy=\"-179.8\" fill=\"none\" rx=\"20.5982\" ry=\"20.5982\" stroke=\"#000000\"/>\n<text fill=\"#000000\" font-family=\"Times,serif\" font-size=\"14.00\" text-anchor=\"middle\" x=\"309.4\" y=\"-176.1\">15</text>\n</g>\n<!-- node8&#45;&#45;node7 -->\n<g class=\"edge\" id=\"edge8\">\n<title>node8--node7</title>\n<path d=\"M259.856,-211.6497C269.6555,-205.35 281.8106,-197.536 291.6286,-191.2245\" fill=\"none\" stroke=\"#000000\"/>\n</g>\n<!-- null4 -->\n<g class=\"node\" id=\"node9\">\n<title>null4</title>\n<polygon fill=\"none\" points=\"282.8,-143.6 268.8,-143.6 268.8,-129.6 282.8,-129.6 282.8,-143.6\" stroke=\"#000000\"/>\n</g>\n<!-- node7&#45;&#45;null4 -->\n<g class=\"edge\" id=\"edge9\">\n<title>node7--null4</title>\n<path d=\"M296.5054,-163.2213C291.3236,-156.5589 285.617,-149.2218 281.5093,-143.9405\" fill=\"none\" stroke=\"#000000\"/>\n</g>\n<!-- node6 -->\n<g class=\"node\" id=\"node14\">\n<title>node6</title>\n<ellipse cx=\"443.8\" cy=\"-136.6\" fill=\"none\" rx=\"20.5982\" ry=\"20.5982\" stroke=\"#000000\"/>\n<text fill=\"#000000\" font-family=\"Times,serif\" font-size=\"14.00\" text-anchor=\"middle\" x=\"443.8\" y=\"-132.9\">18</text>\n</g>\n<!-- node7&#45;&#45;node6 -->\n<g class=\"edge\" id=\"edge10\">\n<title>node7--node6</title>\n<path d=\"M329.2312,-173.4257C354.6417,-165.258 398.4377,-151.1807 423.8874,-143.0005\" fill=\"none\" stroke=\"#000000\"/>\n</g>\n<!-- null5 -->\n<g class=\"node\" id=\"node11\">\n<title>null5</title>\n<polygon fill=\"none\" points=\"350,-57.2 336,-57.2 336,-43.2 350,-43.2 350,-57.2\" stroke=\"#000000\"/>\n</g>\n<!-- node3 -->\n<g class=\"node\" id=\"node12\">\n<title>node3</title>\n<ellipse cx=\"376.6\" cy=\"-93.4\" fill=\"none\" rx=\"20.5982\" ry=\"20.5982\" stroke=\"#000000\"/>\n<text fill=\"#000000\" font-family=\"Times,serif\" font-size=\"14.00\" text-anchor=\"middle\" x=\"376.6\" y=\"-89.7\">17</text>\n</g>\n<!-- node3&#45;&#45;null5 -->\n<g class=\"edge\" id=\"edge12\">\n<title>node3--null5</title>\n<path d=\"M363.7054,-76.8213C358.5236,-70.1589 352.817,-62.8218 348.7093,-57.5405\" fill=\"none\" stroke=\"#000000\"/>\n</g>\n<!-- null6 -->\n<g class=\"node\" id=\"node13\">\n<title>null6</title>\n<polygon fill=\"none\" points=\"417.2,-57.2 403.2,-57.2 403.2,-43.2 417.2,-43.2 417.2,-57.2\" stroke=\"#000000\"/>\n</g>\n<!-- node3&#45;&#45;null6 -->\n<g class=\"edge\" id=\"edge13\">\n<title>node3--null6</title>\n<path d=\"M389.4945,-76.8213C394.6764,-70.1589 400.383,-62.8218 404.4907,-57.5405\" fill=\"none\" stroke=\"#000000\"/>\n</g>\n<!-- node6&#45;&#45;node3 -->\n<g class=\"edge\" id=\"edge11\">\n<title>node6--node3</title>\n<path d=\"M426.144,-125.2497C416.3444,-118.95 404.1893,-111.136 394.3714,-104.8245\" fill=\"none\" stroke=\"#000000\"/>\n</g>\n<!-- node5 -->\n<g class=\"node\" id=\"node18\">\n<title>node5</title>\n<ellipse cx=\"578.2\" cy=\"-93.4\" fill=\"none\" rx=\"20.5982\" ry=\"20.5982\" stroke=\"#000000\"/>\n<text fill=\"#000000\" font-family=\"Times,serif\" font-size=\"14.00\" text-anchor=\"middle\" x=\"578.2\" y=\"-89.7\">90</text>\n</g>\n<!-- node6&#45;&#45;node5 -->\n<g class=\"edge\" id=\"edge14\">\n<title>node6--node5</title>\n<path d=\"M463.6312,-130.2257C489.0417,-122.058 532.8377,-107.9807 558.2874,-99.8005\" fill=\"none\" stroke=\"#000000\"/>\n</g>\n<!-- null7 -->\n<g class=\"node\" id=\"node15\">\n<title>null7</title>\n<polygon fill=\"none\" points=\"484.4,-14 470.4,-14 470.4,0 484.4,0 484.4,-14\" stroke=\"#000000\"/>\n</g>\n<!-- node4 -->\n<g class=\"node\" id=\"node16\">\n<title>node4</title>\n<ellipse cx=\"511\" cy=\"-50.2\" fill=\"none\" rx=\"20.5982\" ry=\"20.5982\" stroke=\"#000000\"/>\n<text fill=\"#000000\" font-family=\"Times,serif\" font-size=\"14.00\" text-anchor=\"middle\" x=\"511\" y=\"-46.5\">21</text>\n</g>\n<!-- node4&#45;&#45;null7 -->\n<g class=\"edge\" id=\"edge16\">\n<title>node4--null7</title>\n<path d=\"M498.1054,-33.6213C492.9236,-26.9589 487.217,-19.6218 483.1093,-14.3405\" fill=\"none\" stroke=\"#000000\"/>\n</g>\n<!-- null8 -->\n<g class=\"node\" id=\"node17\">\n<title>null8</title>\n<polygon fill=\"none\" points=\"551.6,-14 537.6,-14 537.6,0 551.6,0 551.6,-14\" stroke=\"#000000\"/>\n</g>\n<!-- node4&#45;&#45;null8 -->\n<g class=\"edge\" id=\"edge17\">\n<title>node4--null8</title>\n<path d=\"M523.8945,-33.6213C529.0764,-26.9589 534.783,-19.6218 538.8907,-14.3405\" fill=\"none\" stroke=\"#000000\"/>\n</g>\n<!-- node5&#45;&#45;node4 -->\n<g class=\"edge\" id=\"edge15\">\n<title>node5--node4</title>\n<path d=\"M560.544,-82.0497C550.7444,-75.75 538.5893,-67.936 528.7714,-61.6245\" fill=\"none\" stroke=\"#000000\"/>\n</g>\n<!-- null9 -->\n<g class=\"node\" id=\"node19\">\n<title>null9</title>\n<polygon fill=\"none\" points=\"618.8,-57.2 604.8,-57.2 604.8,-43.2 618.8,-43.2 618.8,-57.2\" stroke=\"#000000\"/>\n</g>\n<!-- node5&#45;&#45;null9 -->\n<g class=\"edge\" id=\"edge18\">\n<title>node5--null9</title>\n<path d=\"M591.0945,-76.8213C596.2764,-70.1589 601.983,-62.8218 606.0907,-57.5405\" fill=\"none\" stroke=\"#000000\"/>\n</g>\n</g>\n</svg>"
          },
          "metadata": {
            "tags": []
          }
        }
      ]
    },
    {
      "cell_type": "code",
      "metadata": {
        "colab": {
          "base_uri": "https://localhost:8080/",
          "height": 1000
        },
        "id": "AJtffx1jVp_g",
        "outputId": "74431323-64dd-4cf1-f2d2-10e6987d8711"
      },
      "source": [
        "lista=[9,8,7,6,5,4,3,2,1]\n",
        "a=Arbol()\n",
        "b=Arbol()\n",
        "for x in reversed(lista):\n",
        "    a.root_insert(x)\n",
        "a.dibujar()\n",
        "for x in lista:\n",
        "    b.insert(x)\n",
        "b.dibujar()"
      ],
      "execution_count": null,
      "outputs": [
        {
          "output_type": "display_data",
          "data": {
            "text/plain": [
              "<IPython.core.display.SVG object>"
            ],
            "image/svg+xml": "<svg height=\"422pt\" viewBox=\"0.00 0.00 626.80 421.80\" width=\"627pt\" xmlns=\"http://www.w3.org/2000/svg\" xmlns:xlink=\"http://www.w3.org/1999/xlink\">\n<g class=\"graph\" id=\"graph0\" transform=\"scale(1 1) rotate(0) translate(4 417.8)\">\n<title>Arbol</title>\n<polygon fill=\"#ffffff\" points=\"-4,4 -4,-417.8 622.8,-417.8 622.8,4 -4,4\" stroke=\"transparent\"/>\n<!-- null0 -->\n<g class=\"node\" id=\"node1\">\n<title>null0</title>\n<polygon fill=\"none\" points=\"14,-14 0,-14 0,0 14,0 14,-14\" stroke=\"#000000\"/>\n</g>\n<!-- node0 -->\n<g class=\"node\" id=\"node2\">\n<title>node0</title>\n<ellipse cx=\"40.6\" cy=\"-50.2\" fill=\"none\" rx=\"18\" ry=\"18\" stroke=\"#000000\"/>\n<text fill=\"#000000\" font-family=\"Times,serif\" font-size=\"14.00\" text-anchor=\"middle\" x=\"40.6\" y=\"-46.5\">1</text>\n</g>\n<!-- node0&#45;&#45;null0 -->\n<g class=\"edge\" id=\"edge9\">\n<title>node0--null0</title>\n<path d=\"M29.2246,-35.5745C23.5892,-28.329 17.0417,-19.9107 12.5201,-14.0973\" fill=\"none\" stroke=\"#000000\"/>\n</g>\n<!-- null1 -->\n<g class=\"node\" id=\"node3\">\n<title>null1</title>\n<polygon fill=\"none\" points=\"81.2,-14 67.2,-14 67.2,0 81.2,0 81.2,-14\" stroke=\"#000000\"/>\n</g>\n<!-- node0&#45;&#45;null1 -->\n<g class=\"edge\" id=\"edge10\">\n<title>node0--null1</title>\n<path d=\"M51.9754,-35.5745C57.6108,-28.329 64.1583,-19.9107 68.6799,-14.0973\" fill=\"none\" stroke=\"#000000\"/>\n</g>\n<!-- node1 -->\n<g class=\"node\" id=\"node4\">\n<title>node1</title>\n<ellipse cx=\"107.8\" cy=\"-93.4\" fill=\"none\" rx=\"18\" ry=\"18\" stroke=\"#000000\"/>\n<text fill=\"#000000\" font-family=\"Times,serif\" font-size=\"14.00\" text-anchor=\"middle\" x=\"107.8\" y=\"-89.7\">2</text>\n</g>\n<!-- node1&#45;&#45;node0 -->\n<g class=\"edge\" id=\"edge8\">\n<title>node1--node0</title>\n<path d=\"M92.5513,-83.5972C81.5536,-76.5273 66.7722,-67.025 55.7884,-59.964\" fill=\"none\" stroke=\"#000000\"/>\n</g>\n<!-- null2 -->\n<g class=\"node\" id=\"node5\">\n<title>null2</title>\n<polygon fill=\"none\" points=\"148.4,-57.2 134.4,-57.2 134.4,-43.2 148.4,-43.2 148.4,-57.2\" stroke=\"#000000\"/>\n</g>\n<!-- node1&#45;&#45;null2 -->\n<g class=\"edge\" id=\"edge11\">\n<title>node1--null2</title>\n<path d=\"M119.1754,-78.7744C124.8108,-71.529 131.3583,-63.1107 135.8799,-57.2973\" fill=\"none\" stroke=\"#000000\"/>\n</g>\n<!-- node2 -->\n<g class=\"node\" id=\"node6\">\n<title>node2</title>\n<ellipse cx=\"175\" cy=\"-136.6\" fill=\"none\" rx=\"18\" ry=\"18\" stroke=\"#000000\"/>\n<text fill=\"#000000\" font-family=\"Times,serif\" font-size=\"14.00\" text-anchor=\"middle\" x=\"175\" y=\"-132.9\">3</text>\n</g>\n<!-- node2&#45;&#45;node1 -->\n<g class=\"edge\" id=\"edge7\">\n<title>node2--node1</title>\n<path d=\"M159.7513,-126.7972C148.7536,-119.7273 133.9722,-110.225 122.9884,-103.164\" fill=\"none\" stroke=\"#000000\"/>\n</g>\n<!-- null3 -->\n<g class=\"node\" id=\"node7\">\n<title>null3</title>\n<polygon fill=\"none\" points=\"215.6,-100.4 201.6,-100.4 201.6,-86.4 215.6,-86.4 215.6,-100.4\" stroke=\"#000000\"/>\n</g>\n<!-- node2&#45;&#45;null3 -->\n<g class=\"edge\" id=\"edge12\">\n<title>node2--null3</title>\n<path d=\"M186.3754,-121.9744C192.0108,-114.729 198.5583,-106.3107 203.0799,-100.4973\" fill=\"none\" stroke=\"#000000\"/>\n</g>\n<!-- node3 -->\n<g class=\"node\" id=\"node8\">\n<title>node3</title>\n<ellipse cx=\"242.2\" cy=\"-179.8\" fill=\"none\" rx=\"18\" ry=\"18\" stroke=\"#000000\"/>\n<text fill=\"#000000\" font-family=\"Times,serif\" font-size=\"14.00\" text-anchor=\"middle\" x=\"242.2\" y=\"-176.1\">4</text>\n</g>\n<!-- node3&#45;&#45;node2 -->\n<g class=\"edge\" id=\"edge6\">\n<title>node3--node2</title>\n<path d=\"M226.9513,-169.9972C215.9536,-162.9273 201.1722,-153.425 190.1884,-146.364\" fill=\"none\" stroke=\"#000000\"/>\n</g>\n<!-- null4 -->\n<g class=\"node\" id=\"node9\">\n<title>null4</title>\n<polygon fill=\"none\" points=\"282.8,-143.6 268.8,-143.6 268.8,-129.6 282.8,-129.6 282.8,-143.6\" stroke=\"#000000\"/>\n</g>\n<!-- node3&#45;&#45;null4 -->\n<g class=\"edge\" id=\"edge13\">\n<title>node3--null4</title>\n<path d=\"M253.5754,-165.1744C259.2108,-157.929 265.7583,-149.5107 270.2799,-143.6973\" fill=\"none\" stroke=\"#000000\"/>\n</g>\n<!-- node4 -->\n<g class=\"node\" id=\"node10\">\n<title>node4</title>\n<ellipse cx=\"309.4\" cy=\"-223\" fill=\"none\" rx=\"18\" ry=\"18\" stroke=\"#000000\"/>\n<text fill=\"#000000\" font-family=\"Times,serif\" font-size=\"14.00\" text-anchor=\"middle\" x=\"309.4\" y=\"-219.3\">5</text>\n</g>\n<!-- node4&#45;&#45;node3 -->\n<g class=\"edge\" id=\"edge5\">\n<title>node4--node3</title>\n<path d=\"M294.1513,-213.1972C283.1536,-206.1273 268.3722,-196.625 257.3884,-189.564\" fill=\"none\" stroke=\"#000000\"/>\n</g>\n<!-- null5 -->\n<g class=\"node\" id=\"node11\">\n<title>null5</title>\n<polygon fill=\"none\" points=\"350,-186.8 336,-186.8 336,-172.8 350,-172.8 350,-186.8\" stroke=\"#000000\"/>\n</g>\n<!-- node4&#45;&#45;null5 -->\n<g class=\"edge\" id=\"edge14\">\n<title>node4--null5</title>\n<path d=\"M320.7754,-208.3744C326.4108,-201.129 332.9583,-192.7107 337.4799,-186.8973\" fill=\"none\" stroke=\"#000000\"/>\n</g>\n<!-- node5 -->\n<g class=\"node\" id=\"node12\">\n<title>node5</title>\n<ellipse cx=\"376.6\" cy=\"-266.2\" fill=\"none\" rx=\"18\" ry=\"18\" stroke=\"#000000\"/>\n<text fill=\"#000000\" font-family=\"Times,serif\" font-size=\"14.00\" text-anchor=\"middle\" x=\"376.6\" y=\"-262.5\">6</text>\n</g>\n<!-- node5&#45;&#45;node4 -->\n<g class=\"edge\" id=\"edge4\">\n<title>node5--node4</title>\n<path d=\"M361.3513,-256.3973C350.3536,-249.3273 335.5722,-239.825 324.5884,-232.764\" fill=\"none\" stroke=\"#000000\"/>\n</g>\n<!-- null6 -->\n<g class=\"node\" id=\"node13\">\n<title>null6</title>\n<polygon fill=\"none\" points=\"417.2,-230 403.2,-230 403.2,-216 417.2,-216 417.2,-230\" stroke=\"#000000\"/>\n</g>\n<!-- node5&#45;&#45;null6 -->\n<g class=\"edge\" id=\"edge15\">\n<title>node5--null6</title>\n<path d=\"M387.9754,-251.5745C393.6108,-244.329 400.1583,-235.9107 404.6799,-230.0973\" fill=\"none\" stroke=\"#000000\"/>\n</g>\n<!-- node6 -->\n<g class=\"node\" id=\"node14\">\n<title>node6</title>\n<ellipse cx=\"443.8\" cy=\"-309.4\" fill=\"none\" rx=\"18\" ry=\"18\" stroke=\"#000000\"/>\n<text fill=\"#000000\" font-family=\"Times,serif\" font-size=\"14.00\" text-anchor=\"middle\" x=\"443.8\" y=\"-305.7\">7</text>\n</g>\n<!-- node6&#45;&#45;node5 -->\n<g class=\"edge\" id=\"edge3\">\n<title>node6--node5</title>\n<path d=\"M428.5513,-299.5972C417.5536,-292.5273 402.7722,-283.025 391.7884,-275.964\" fill=\"none\" stroke=\"#000000\"/>\n</g>\n<!-- null7 -->\n<g class=\"node\" id=\"node15\">\n<title>null7</title>\n<polygon fill=\"none\" points=\"484.4,-273.2 470.4,-273.2 470.4,-259.2 484.4,-259.2 484.4,-273.2\" stroke=\"#000000\"/>\n</g>\n<!-- node6&#45;&#45;null7 -->\n<g class=\"edge\" id=\"edge16\">\n<title>node6--null7</title>\n<path d=\"M455.1754,-294.7744C460.8108,-287.529 467.3583,-279.1107 471.8799,-273.2973\" fill=\"none\" stroke=\"#000000\"/>\n</g>\n<!-- node7 -->\n<g class=\"node\" id=\"node16\">\n<title>node7</title>\n<ellipse cx=\"511\" cy=\"-352.6\" fill=\"none\" rx=\"18\" ry=\"18\" stroke=\"#000000\"/>\n<text fill=\"#000000\" font-family=\"Times,serif\" font-size=\"14.00\" text-anchor=\"middle\" x=\"511\" y=\"-348.9\">8</text>\n</g>\n<!-- node7&#45;&#45;node6 -->\n<g class=\"edge\" id=\"edge2\">\n<title>node7--node6</title>\n<path d=\"M495.7513,-342.7972C484.7536,-335.7273 469.9722,-326.225 458.9884,-319.164\" fill=\"none\" stroke=\"#000000\"/>\n</g>\n<!-- null8 -->\n<g class=\"node\" id=\"node17\">\n<title>null8</title>\n<polygon fill=\"none\" points=\"551.6,-316.4 537.6,-316.4 537.6,-302.4 551.6,-302.4 551.6,-316.4\" stroke=\"#000000\"/>\n</g>\n<!-- node7&#45;&#45;null8 -->\n<g class=\"edge\" id=\"edge17\">\n<title>node7--null8</title>\n<path d=\"M522.3754,-337.9744C528.0108,-330.729 534.5583,-322.3107 539.0799,-316.4973\" fill=\"none\" stroke=\"#000000\"/>\n</g>\n<!-- node8 -->\n<g class=\"node\" id=\"node18\">\n<title>node8</title>\n<ellipse cx=\"578.2\" cy=\"-395.8\" fill=\"none\" rx=\"18\" ry=\"18\" stroke=\"#000000\"/>\n<text fill=\"#000000\" font-family=\"Times,serif\" font-size=\"14.00\" text-anchor=\"middle\" x=\"578.2\" y=\"-392.1\">9</text>\n</g>\n<!-- node8&#45;&#45;node7 -->\n<g class=\"edge\" id=\"edge1\">\n<title>node8--node7</title>\n<path d=\"M562.9513,-385.9972C551.9536,-378.9273 537.1722,-369.425 526.1884,-362.364\" fill=\"none\" stroke=\"#000000\"/>\n</g>\n<!-- null9 -->\n<g class=\"node\" id=\"node19\">\n<title>null9</title>\n<polygon fill=\"none\" points=\"618.8,-359.6 604.8,-359.6 604.8,-345.6 618.8,-345.6 618.8,-359.6\" stroke=\"#000000\"/>\n</g>\n<!-- node8&#45;&#45;null9 -->\n<g class=\"edge\" id=\"edge18\">\n<title>node8--null9</title>\n<path d=\"M589.5754,-381.1744C595.2107,-373.929 601.7583,-365.5107 606.2798,-359.6973\" fill=\"none\" stroke=\"#000000\"/>\n</g>\n</g>\n</svg>"
          },
          "metadata": {
            "tags": []
          }
        },
        {
          "output_type": "display_data",
          "data": {
            "text/plain": [
              "<IPython.core.display.SVG object>"
            ],
            "image/svg+xml": "<svg height=\"422pt\" viewBox=\"0.00 0.00 626.80 421.80\" width=\"627pt\" xmlns=\"http://www.w3.org/2000/svg\" xmlns:xlink=\"http://www.w3.org/1999/xlink\">\n<g class=\"graph\" id=\"graph0\" transform=\"scale(1 1) rotate(0) translate(4 417.8)\">\n<title>Arbol</title>\n<polygon fill=\"#ffffff\" points=\"-4,4 -4,-417.8 622.8,-417.8 622.8,4 -4,4\" stroke=\"transparent\"/>\n<!-- null0 -->\n<g class=\"node\" id=\"node1\">\n<title>null0</title>\n<polygon fill=\"none\" points=\"14,-14 0,-14 0,0 14,0 14,-14\" stroke=\"#000000\"/>\n</g>\n<!-- node0 -->\n<g class=\"node\" id=\"node2\">\n<title>node0</title>\n<ellipse cx=\"40.6\" cy=\"-50.2\" fill=\"none\" rx=\"18\" ry=\"18\" stroke=\"#000000\"/>\n<text fill=\"#000000\" font-family=\"Times,serif\" font-size=\"14.00\" text-anchor=\"middle\" x=\"40.6\" y=\"-46.5\">1</text>\n</g>\n<!-- node0&#45;&#45;null0 -->\n<g class=\"edge\" id=\"edge9\">\n<title>node0--null0</title>\n<path d=\"M29.2246,-35.5745C23.5892,-28.329 17.0417,-19.9107 12.5201,-14.0973\" fill=\"none\" stroke=\"#000000\"/>\n</g>\n<!-- null1 -->\n<g class=\"node\" id=\"node3\">\n<title>null1</title>\n<polygon fill=\"none\" points=\"81.2,-14 67.2,-14 67.2,0 81.2,0 81.2,-14\" stroke=\"#000000\"/>\n</g>\n<!-- node0&#45;&#45;null1 -->\n<g class=\"edge\" id=\"edge10\">\n<title>node0--null1</title>\n<path d=\"M51.9754,-35.5745C57.6108,-28.329 64.1583,-19.9107 68.6799,-14.0973\" fill=\"none\" stroke=\"#000000\"/>\n</g>\n<!-- node1 -->\n<g class=\"node\" id=\"node4\">\n<title>node1</title>\n<ellipse cx=\"107.8\" cy=\"-93.4\" fill=\"none\" rx=\"18\" ry=\"18\" stroke=\"#000000\"/>\n<text fill=\"#000000\" font-family=\"Times,serif\" font-size=\"14.00\" text-anchor=\"middle\" x=\"107.8\" y=\"-89.7\">2</text>\n</g>\n<!-- node1&#45;&#45;node0 -->\n<g class=\"edge\" id=\"edge8\">\n<title>node1--node0</title>\n<path d=\"M92.5513,-83.5972C81.5536,-76.5273 66.7722,-67.025 55.7884,-59.964\" fill=\"none\" stroke=\"#000000\"/>\n</g>\n<!-- null2 -->\n<g class=\"node\" id=\"node5\">\n<title>null2</title>\n<polygon fill=\"none\" points=\"148.4,-57.2 134.4,-57.2 134.4,-43.2 148.4,-43.2 148.4,-57.2\" stroke=\"#000000\"/>\n</g>\n<!-- node1&#45;&#45;null2 -->\n<g class=\"edge\" id=\"edge11\">\n<title>node1--null2</title>\n<path d=\"M119.1754,-78.7744C124.8108,-71.529 131.3583,-63.1107 135.8799,-57.2973\" fill=\"none\" stroke=\"#000000\"/>\n</g>\n<!-- node2 -->\n<g class=\"node\" id=\"node6\">\n<title>node2</title>\n<ellipse cx=\"175\" cy=\"-136.6\" fill=\"none\" rx=\"18\" ry=\"18\" stroke=\"#000000\"/>\n<text fill=\"#000000\" font-family=\"Times,serif\" font-size=\"14.00\" text-anchor=\"middle\" x=\"175\" y=\"-132.9\">3</text>\n</g>\n<!-- node2&#45;&#45;node1 -->\n<g class=\"edge\" id=\"edge7\">\n<title>node2--node1</title>\n<path d=\"M159.7513,-126.7972C148.7536,-119.7273 133.9722,-110.225 122.9884,-103.164\" fill=\"none\" stroke=\"#000000\"/>\n</g>\n<!-- null3 -->\n<g class=\"node\" id=\"node7\">\n<title>null3</title>\n<polygon fill=\"none\" points=\"215.6,-100.4 201.6,-100.4 201.6,-86.4 215.6,-86.4 215.6,-100.4\" stroke=\"#000000\"/>\n</g>\n<!-- node2&#45;&#45;null3 -->\n<g class=\"edge\" id=\"edge12\">\n<title>node2--null3</title>\n<path d=\"M186.3754,-121.9744C192.0108,-114.729 198.5583,-106.3107 203.0799,-100.4973\" fill=\"none\" stroke=\"#000000\"/>\n</g>\n<!-- node3 -->\n<g class=\"node\" id=\"node8\">\n<title>node3</title>\n<ellipse cx=\"242.2\" cy=\"-179.8\" fill=\"none\" rx=\"18\" ry=\"18\" stroke=\"#000000\"/>\n<text fill=\"#000000\" font-family=\"Times,serif\" font-size=\"14.00\" text-anchor=\"middle\" x=\"242.2\" y=\"-176.1\">4</text>\n</g>\n<!-- node3&#45;&#45;node2 -->\n<g class=\"edge\" id=\"edge6\">\n<title>node3--node2</title>\n<path d=\"M226.9513,-169.9972C215.9536,-162.9273 201.1722,-153.425 190.1884,-146.364\" fill=\"none\" stroke=\"#000000\"/>\n</g>\n<!-- null4 -->\n<g class=\"node\" id=\"node9\">\n<title>null4</title>\n<polygon fill=\"none\" points=\"282.8,-143.6 268.8,-143.6 268.8,-129.6 282.8,-129.6 282.8,-143.6\" stroke=\"#000000\"/>\n</g>\n<!-- node3&#45;&#45;null4 -->\n<g class=\"edge\" id=\"edge13\">\n<title>node3--null4</title>\n<path d=\"M253.5754,-165.1744C259.2108,-157.929 265.7583,-149.5107 270.2799,-143.6973\" fill=\"none\" stroke=\"#000000\"/>\n</g>\n<!-- node4 -->\n<g class=\"node\" id=\"node10\">\n<title>node4</title>\n<ellipse cx=\"309.4\" cy=\"-223\" fill=\"none\" rx=\"18\" ry=\"18\" stroke=\"#000000\"/>\n<text fill=\"#000000\" font-family=\"Times,serif\" font-size=\"14.00\" text-anchor=\"middle\" x=\"309.4\" y=\"-219.3\">5</text>\n</g>\n<!-- node4&#45;&#45;node3 -->\n<g class=\"edge\" id=\"edge5\">\n<title>node4--node3</title>\n<path d=\"M294.1513,-213.1972C283.1536,-206.1273 268.3722,-196.625 257.3884,-189.564\" fill=\"none\" stroke=\"#000000\"/>\n</g>\n<!-- null5 -->\n<g class=\"node\" id=\"node11\">\n<title>null5</title>\n<polygon fill=\"none\" points=\"350,-186.8 336,-186.8 336,-172.8 350,-172.8 350,-186.8\" stroke=\"#000000\"/>\n</g>\n<!-- node4&#45;&#45;null5 -->\n<g class=\"edge\" id=\"edge14\">\n<title>node4--null5</title>\n<path d=\"M320.7754,-208.3744C326.4108,-201.129 332.9583,-192.7107 337.4799,-186.8973\" fill=\"none\" stroke=\"#000000\"/>\n</g>\n<!-- node5 -->\n<g class=\"node\" id=\"node12\">\n<title>node5</title>\n<ellipse cx=\"376.6\" cy=\"-266.2\" fill=\"none\" rx=\"18\" ry=\"18\" stroke=\"#000000\"/>\n<text fill=\"#000000\" font-family=\"Times,serif\" font-size=\"14.00\" text-anchor=\"middle\" x=\"376.6\" y=\"-262.5\">6</text>\n</g>\n<!-- node5&#45;&#45;node4 -->\n<g class=\"edge\" id=\"edge4\">\n<title>node5--node4</title>\n<path d=\"M361.3513,-256.3973C350.3536,-249.3273 335.5722,-239.825 324.5884,-232.764\" fill=\"none\" stroke=\"#000000\"/>\n</g>\n<!-- null6 -->\n<g class=\"node\" id=\"node13\">\n<title>null6</title>\n<polygon fill=\"none\" points=\"417.2,-230 403.2,-230 403.2,-216 417.2,-216 417.2,-230\" stroke=\"#000000\"/>\n</g>\n<!-- node5&#45;&#45;null6 -->\n<g class=\"edge\" id=\"edge15\">\n<title>node5--null6</title>\n<path d=\"M387.9754,-251.5745C393.6108,-244.329 400.1583,-235.9107 404.6799,-230.0973\" fill=\"none\" stroke=\"#000000\"/>\n</g>\n<!-- node6 -->\n<g class=\"node\" id=\"node14\">\n<title>node6</title>\n<ellipse cx=\"443.8\" cy=\"-309.4\" fill=\"none\" rx=\"18\" ry=\"18\" stroke=\"#000000\"/>\n<text fill=\"#000000\" font-family=\"Times,serif\" font-size=\"14.00\" text-anchor=\"middle\" x=\"443.8\" y=\"-305.7\">7</text>\n</g>\n<!-- node6&#45;&#45;node5 -->\n<g class=\"edge\" id=\"edge3\">\n<title>node6--node5</title>\n<path d=\"M428.5513,-299.5972C417.5536,-292.5273 402.7722,-283.025 391.7884,-275.964\" fill=\"none\" stroke=\"#000000\"/>\n</g>\n<!-- null7 -->\n<g class=\"node\" id=\"node15\">\n<title>null7</title>\n<polygon fill=\"none\" points=\"484.4,-273.2 470.4,-273.2 470.4,-259.2 484.4,-259.2 484.4,-273.2\" stroke=\"#000000\"/>\n</g>\n<!-- node6&#45;&#45;null7 -->\n<g class=\"edge\" id=\"edge16\">\n<title>node6--null7</title>\n<path d=\"M455.1754,-294.7744C460.8108,-287.529 467.3583,-279.1107 471.8799,-273.2973\" fill=\"none\" stroke=\"#000000\"/>\n</g>\n<!-- node7 -->\n<g class=\"node\" id=\"node16\">\n<title>node7</title>\n<ellipse cx=\"511\" cy=\"-352.6\" fill=\"none\" rx=\"18\" ry=\"18\" stroke=\"#000000\"/>\n<text fill=\"#000000\" font-family=\"Times,serif\" font-size=\"14.00\" text-anchor=\"middle\" x=\"511\" y=\"-348.9\">8</text>\n</g>\n<!-- node7&#45;&#45;node6 -->\n<g class=\"edge\" id=\"edge2\">\n<title>node7--node6</title>\n<path d=\"M495.7513,-342.7972C484.7536,-335.7273 469.9722,-326.225 458.9884,-319.164\" fill=\"none\" stroke=\"#000000\"/>\n</g>\n<!-- null8 -->\n<g class=\"node\" id=\"node17\">\n<title>null8</title>\n<polygon fill=\"none\" points=\"551.6,-316.4 537.6,-316.4 537.6,-302.4 551.6,-302.4 551.6,-316.4\" stroke=\"#000000\"/>\n</g>\n<!-- node7&#45;&#45;null8 -->\n<g class=\"edge\" id=\"edge17\">\n<title>node7--null8</title>\n<path d=\"M522.3754,-337.9744C528.0108,-330.729 534.5583,-322.3107 539.0799,-316.4973\" fill=\"none\" stroke=\"#000000\"/>\n</g>\n<!-- node8 -->\n<g class=\"node\" id=\"node18\">\n<title>node8</title>\n<ellipse cx=\"578.2\" cy=\"-395.8\" fill=\"none\" rx=\"18\" ry=\"18\" stroke=\"#000000\"/>\n<text fill=\"#000000\" font-family=\"Times,serif\" font-size=\"14.00\" text-anchor=\"middle\" x=\"578.2\" y=\"-392.1\">9</text>\n</g>\n<!-- node8&#45;&#45;node7 -->\n<g class=\"edge\" id=\"edge1\">\n<title>node8--node7</title>\n<path d=\"M562.9513,-385.9972C551.9536,-378.9273 537.1722,-369.425 526.1884,-362.364\" fill=\"none\" stroke=\"#000000\"/>\n</g>\n<!-- null9 -->\n<g class=\"node\" id=\"node19\">\n<title>null9</title>\n<polygon fill=\"none\" points=\"618.8,-359.6 604.8,-359.6 604.8,-345.6 618.8,-345.6 618.8,-359.6\" stroke=\"#000000\"/>\n</g>\n<!-- node8&#45;&#45;null9 -->\n<g class=\"edge\" id=\"edge18\">\n<title>node8--null9</title>\n<path d=\"M589.5754,-381.1744C595.2107,-373.929 601.7583,-365.5107 606.2798,-359.6973\" fill=\"none\" stroke=\"#000000\"/>\n</g>\n</g>\n</svg>"
          },
          "metadata": {
            "tags": []
          }
        }
      ]
    },
    {
      "cell_type": "markdown",
      "metadata": {
        "id": "j3LxIBHAewzE"
      },
      "source": [
        "## ¿Qué hay que entregar?\n",
        "\n",
        "Usted debe entregar este mismo archivo, modificado de acuerdo a lo que se pide. Haga todos los cambios necesarios para explicar y documentar adecuadamente su código. No olvide poner su nombre."
      ]
    }
  ]
}