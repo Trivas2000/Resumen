{
  "nbformat": 4,
  "nbformat_minor": 0,
  "metadata": {
    "kernelspec": {
      "display_name": "Python 3",
      "language": "python",
      "name": "python3"
    },
    "language_info": {
      "codemirror_mode": {
        "name": "ipython",
        "version": 3
      },
      "file_extension": ".py",
      "mimetype": "text/x-python",
      "name": "python",
      "nbconvert_exporter": "python",
      "pygments_lexer": "ipython3",
      "version": "3.7.1"
    },
    "colab": {
      "provenance": []
    }
  },
  "cells": [
    {
      "cell_type": "markdown",
      "metadata": {
        "id": "W264sNBjewyS"
      },
      "source": [
        "# CC3001 Otoño 2021 Tarea 6 Tomás Rivas\n",
        "\n",
        "*   Rut: 20.592.350-0\n",
        "\n",
        "\n",
        "# Hashing\n",
        "## Profesores\n",
        "Patricio Poblete, Nelson Baloian, Ivan Sipiran"
      ]
    },
    {
      "cell_type": "markdown",
      "metadata": {
        "id": "m8Rb6XLFewyT"
      },
      "source": [
        "---\n",
        "\n",
        "# CONTEXTO"
      ]
    },
    {
      "cell_type": "markdown",
      "metadata": {
        "id": "qO1wwYo7ewyW"
      },
      "source": [
        "En esta tarea vamos a comparar empíricamente el comportamiento de dos implementaciones de Hashing, las cuales Ud. tendrá que implementar y ejecutar con un archivo de texto de prueba. \n",
        "La idea es ir leyendo cada palabra del archivo y buscarla en la estructura. Si no estaba, se inserta, si estaba no se hace nada. En ambos casos se retorna el número de comparaciones que se hicieron para llegar a insertarlo o para determinar que efectivamente estaba. Las comparaciones que se cuentan son exclusivamente entre llaves y NO entre punteros, es decir una comparacion \n",
        "`p == None` o `p != None` no se cuenta.  \n",
        "Al final de haber procesado todo el archivo se debe dar el número promedio y el número máximo de comparaciones que se hicieron. Los métodos de hashing que debe implementar son:\n",
        "\n",
        "1- Hashing con encadenamiento\n",
        "\n",
        "2- Hashing con linear probing \n",
        "\n",
        "Para ambos casos use una tabla de 1000 elementos (el número de palabras distintas en el archivo es de 717, por lo que estamos usando una tabla de cerca del 30% más grande que el número de elementos que contendrá)\n",
        "\n",
        "Para ambos casos puede usar la siguiente funcion de hashing:\n",
        "\n"
      ]
    },
    {
      "cell_type": "code",
      "metadata": {
        "id": "U6eWVvuTou4B"
      },
      "source": [
        "def myhash(x,m):\n",
        "  return hash(x)%m\n"
      ],
      "execution_count": null,
      "outputs": []
    },
    {
      "cell_type": "markdown",
      "metadata": {
        "id": "UQ3mbNcPLDGL"
      },
      "source": [
        "Para ambas versiones de hashing que se le pide puede usar la siguiente plantilla y modificarla (llame Chaining a a la version con encadenamiento y LinearProbing a la de direccionamiento abierto), note que para Chaining ademas debe declarar un nodo para implementar el encadenamiento)"
      ]
    },
    {
      "cell_type": "markdown",
      "metadata": {
        "id": "K5SGeFTBKKX9"
      },
      "source": [
        "#Resolución de la Tarea"
      ]
    },
    {
      "cell_type": "markdown",
      "metadata": {
        "id": "hXx2si-mEY4M"
      },
      "source": [
        "\n",
        "##LinearProbing\n",
        "\n"
      ]
    },
    {
      "cell_type": "markdown",
      "metadata": {
        "id": "rhOXWVBjGVNL"
      },
      "source": [
        "Para LinearProbing, definimos la función insert. Partimos definiendo un contador que parta en 0 ya que queremos que lo inserte pero que además nos retorne cuantas comparaciones hizo. Luego definimos position como la posición donde tiene que ir x a través de la función myhash. Usamos 1000 ya que este es el largo del Hashing con el que trabajaremos para esta Tarea pero se podría poner otro numero u otra variable. A continuación, vemos que si self.t[position%1000]\n",
        "es = a None (El %1000 es por si da la vuelta) y si es None, ósea no hay ningún elemento en ese lugar, ponemos x en ese lugar y retornamos 0 ya que no hubo comparaciones con elementos distintos de None. Esto en código se ve asi:\n",
        "\n",
        "\n",
        "```\n",
        "def insert(self,x):\n",
        "      contador=0\n",
        "      position=myhash(x,1000)\n",
        "      if self.t[position%1000]==None:\n",
        "        self.t[position%1000]=x\n",
        "        return 0\n",
        "```\n",
        "Luego tenemos un while que ve que mientras la posición no sea None, revise si x es el elemento de la posición, en cuyo caso agregamos uno al contador por la comparación que acabamos de hacer y lo retornamos. Si no que sume uno a la position y al contador y se corra de nuevo. Y finalmente tenemos que si sale del loop la position actual es None por lo que remplazamos por  x y retornamos el contador. El código final se ve asi:\n",
        "\n",
        "\n",
        "\n",
        "```\n",
        "def insert(self,x):\n",
        "      contador=0\n",
        "      position=myhash(x,1000)\n",
        "      if self.t[position%1000]==None:\n",
        "        self.t[position%1000]=x\n",
        "        return 0\n",
        "      while not self.t[position%1000]==None:\n",
        "        if x==self.t[position%1000]:\n",
        "           contador+=1\n",
        "           return contador\n",
        "        elif self.t[position%1000]==None:\n",
        "          self.t[position%1000]=x\n",
        "          return contador\n",
        "        else:\n",
        "          position+=1\n",
        "          contador+=1\n",
        "      self.t[position%1000]=x\n",
        "      return contador\n",
        "```\n",
        "\n",
        "\n",
        "\n"
      ]
    },
    {
      "cell_type": "markdown",
      "metadata": {
        "id": "MPxNbjq6KAT9"
      },
      "source": [
        "##Chaining"
      ]
    },
    {
      "cell_type": "markdown",
      "metadata": {
        "id": "MA09QOfuK58Y"
      },
      "source": [
        "Para Chaining el caso base donde la primera posición es None nos queda igual asi que esa parte del código reutilizamos del LinearProbing:\n",
        "\n",
        "\n",
        "\n",
        "```\n",
        "contador=0\n",
        "      position=myhash(x,1000)\n",
        "      if self.t[position%1000].info==None:\n",
        "        self.t[position%1000].info=x\n",
        "        return 0\n",
        "```\n",
        "\n"
      ]
    },
    {
      "cell_type": "markdown",
      "metadata": {
        "id": "FExu_aJTMx_K"
      },
      "source": [
        "Luego definimos la clase Nodo que tenga info y sgte (Cuando no tenemos sgte que sea automáticamente None) de la siguiente manera:\n",
        "\n",
        "\n",
        "\n",
        "```\n",
        "class Nodo:\n",
        "    def __init__(self,info,sgte=None):\n",
        "        self.info = info\n",
        "        self.sgte = sgte\n",
        "```\n",
        "Y arreglamos el inicio del Chaining para que se rellene con nodos con info None:\n",
        "\n",
        "\n",
        "\n",
        "```\n",
        "def __init__(self,m):\n",
        "        self.t = np.empty(m, dtype=np.object)\n",
        "        for i in range(m):\n",
        "          self.t[i] = Nodo(None)\n",
        "```\n",
        "\n",
        "Luego definimos p como el nodo de la posición actual y hacemos un while que funcione mientras el siguiente no sea None. Y nuevamente ve que si es distinto de x le suma 1 al contador y si no retorna el contador + 1 y avanzamos p con p=p.sgte. Si sale del loop es porque el siguiente es None y no esta asi que lo insertamos con p.sgte=Nodo(x) y retornamos el contador. Con todo esto armamos el código final.\n"
      ]
    },
    {
      "cell_type": "markdown",
      "metadata": {
        "id": "c8Co8ShqOFUq"
      },
      "source": [
        "##Código final"
      ]
    },
    {
      "cell_type": "code",
      "metadata": {
        "id": "JLwRwHBdewyX"
      },
      "source": [
        "import numpy as np\n",
        "class Hashing:\n",
        "    def __init__(self,m):\n",
        "        self.t = np.empty(m, dtype=np.object)\n",
        "        for i in range(m):\n",
        "          self.t[i] = None\n",
        "        \n",
        "    def insert(self,x):\n",
        "      contador=0\n",
        "      position=myhash(x,1000)\n",
        "      if self.t[position%1000]==None:\n",
        "        self.t[position%1000]=x\n",
        "        return 0\n",
        "      while not self.t[position%1000]==None:\n",
        "        if x==self.t[position%1000]:\n",
        "           contador+=1\n",
        "           return contador\n",
        "        elif self.t[position%1000]==None:\n",
        "          self.t[position%1000]=x\n",
        "          return contador\n",
        "        else:\n",
        "          position+=1\n",
        "          contador+=1\n",
        "      self.t[position%1000]=x\n",
        "      return contador\n",
        "class Nodo:\n",
        "    def __init__(self,info,sgte=None):\n",
        "        self.info = info\n",
        "        self.sgte = sgte\n",
        "class HashingChaining:\n",
        "    def __init__(self,m):\n",
        "        self.t = np.empty(m, dtype=np.object)\n",
        "        for i in range(m):\n",
        "          self.t[i] = Nodo(None)\n",
        "        \n",
        "    def insert(self,x):\n",
        "      contador=0\n",
        "      position=myhash(x,1000)\n",
        "      if self.t[position%1000].info==None:\n",
        "        self.t[position%1000].info=x\n",
        "        return 0\n",
        "      p=self.t[position%1000]\n",
        "      while p.sgte!=None: \n",
        "            if p.info!=x:\n",
        "              contador += 1\n",
        "            else:\n",
        "              return contador+1\n",
        "            p=p.sgte\n",
        "      p.sgte=Nodo(x)\n",
        "      return contador\n"
      ],
      "execution_count": null,
      "outputs": []
    },
    {
      "cell_type": "markdown",
      "metadata": {
        "id": "1OlONApWORkE"
      },
      "source": [
        "#Pruebas"
      ]
    },
    {
      "cell_type": "markdown",
      "metadata": {
        "id": "fDxlhHBPewyd"
      },
      "source": [
        "Para acceder al archivo debe ejecutar primero las siguientes instrucciones:\n"
      ]
    },
    {
      "cell_type": "code",
      "metadata": {
        "id": "mttibXr-JnKk",
        "colab": {
          "base_uri": "https://localhost:8080/"
        },
        "outputId": "351ac5a4-c95d-46f5-9006-98c470832609"
      },
      "source": [
        "!wget http://www.dcc.uchile.cl/nbaloian/cc3001/cap1.txt"
      ],
      "execution_count": null,
      "outputs": [
        {
          "output_type": "stream",
          "text": [
            "--2021-06-21 20:19:46--  http://www.dcc.uchile.cl/nbaloian/cc3001/cap1.txt\n",
            "Resolving www.dcc.uchile.cl (www.dcc.uchile.cl)... 200.9.99.213, 192.80.24.11\n",
            "Connecting to www.dcc.uchile.cl (www.dcc.uchile.cl)|200.9.99.213|:80... connected.\n",
            "HTTP request sent, awaiting response... 301 Moved Permanently\n",
            "Location: https://www.dcc.uchile.cl/nbaloian/cc3001/cap1.txt [following]\n",
            "--2021-06-21 20:19:47--  https://www.dcc.uchile.cl/nbaloian/cc3001/cap1.txt\n",
            "Connecting to www.dcc.uchile.cl (www.dcc.uchile.cl)|200.9.99.213|:443... connected.\n",
            "HTTP request sent, awaiting response... 302 Found\n",
            "Location: https://users.dcc.uchile.cl/~nbaloian/cc3001/cap1.txt [following]\n",
            "--2021-06-21 20:19:47--  https://users.dcc.uchile.cl/~nbaloian/cc3001/cap1.txt\n",
            "Resolving users.dcc.uchile.cl (users.dcc.uchile.cl)... 200.9.99.211, 192.80.24.4\n",
            "Connecting to users.dcc.uchile.cl (users.dcc.uchile.cl)|200.9.99.211|:443... connected.\n",
            "HTTP request sent, awaiting response... 200 OK\n",
            "Length: 10367 (10K) [text/plain]\n",
            "Saving to: ‘cap1.txt.4’\n",
            "\n",
            "cap1.txt.4          100%[===================>]  10.12K  --.-KB/s    in 0s      \n",
            "\n",
            "2021-06-21 20:19:48 (146 MB/s) - ‘cap1.txt.4’ saved [10367/10367]\n",
            "\n"
          ],
          "name": "stdout"
        }
      ]
    },
    {
      "cell_type": "markdown",
      "metadata": {
        "id": "vZprKenmJxB7"
      },
      "source": [
        "Despues de esto se puede leer el archivo palabra por palabra de la siguiente manera: "
      ]
    },
    {
      "cell_type": "markdown",
      "metadata": {
        "id": "MLMbfivOObd8"
      },
      "source": [
        "El siguiente código se encarga de promediar ver el máximo e imprimir correctamente todos los datos:"
      ]
    },
    {
      "cell_type": "markdown",
      "metadata": {
        "id": "z6j-VWh8Oi3y"
      },
      "source": []
    },
    {
      "cell_type": "code",
      "metadata": {
        "id": "0MwfhoUwewye",
        "colab": {
          "base_uri": "https://localhost:8080/",
          "height": 238
        },
        "outputId": "65daf9a1-de93-4a6c-8ffb-ba368f54187f"
      },
      "source": [
        "f=open(\"cap1.txt\",\"r\")\n",
        "texto=f.read()\n",
        "palabras=texto.split()\n",
        "lista=Hashing(1000)\n",
        "almacen=[]\n",
        "for x in palabras:\n",
        "  almacen.append(lista.insert(x))\n",
        "promedio=sum(almacen)/len(almacen)  #Sum hace la sumatoria de todos los valores de la lista y lo dividimos por len que es el largo para tener el promedio\n",
        "print(\"Linear probing:\")\n",
        "print(\"Promedio=\"+str(promedio))\n",
        "maximo=max(almacen) #Max retorna el valor máximo de la lista\n",
        "print(\"Máximo=\"+str(maximo))\n",
        "\n",
        "\n",
        "lista2=HashingChaining(1000)\n",
        "almacen2=[]\n",
        "for x in palabras:\n",
        "  almacen2.append(lista2.insert(x))\n",
        "promedio2=sum(almacen2)/len(almacen2) #Sum hace la sumatoria de todos los valores de la lista y lo dividimos por len que es el largo para tener el promedio\n",
        "print(\"Chaining\")\n",
        "print(\"Promedio=\"+str(promedio2))\n",
        "maximo2=max(almacen2) #Max retorna el valor máximo de la lista\n",
        "print(\"Máximo=\"+str(maximo2))\n"
      ],
      "execution_count": null,
      "outputs": [
        {
          "output_type": "error",
          "ename": "FileNotFoundError",
          "evalue": "ignored",
          "traceback": [
            "\u001b[0;31m---------------------------------------------------------------------------\u001b[0m",
            "\u001b[0;31mFileNotFoundError\u001b[0m                         Traceback (most recent call last)",
            "\u001b[0;32m<ipython-input-1-676236657acf>\u001b[0m in \u001b[0;36m<module>\u001b[0;34m()\u001b[0m\n\u001b[0;32m----> 1\u001b[0;31m \u001b[0mf\u001b[0m\u001b[0;34m=\u001b[0m\u001b[0mopen\u001b[0m\u001b[0;34m(\u001b[0m\u001b[0;34m\"cap1.txt\"\u001b[0m\u001b[0;34m,\u001b[0m\u001b[0;34m\"r\"\u001b[0m\u001b[0;34m)\u001b[0m\u001b[0;34m\u001b[0m\u001b[0;34m\u001b[0m\u001b[0m\n\u001b[0m\u001b[1;32m      2\u001b[0m \u001b[0mtexto\u001b[0m\u001b[0;34m=\u001b[0m\u001b[0mf\u001b[0m\u001b[0;34m.\u001b[0m\u001b[0mread\u001b[0m\u001b[0;34m(\u001b[0m\u001b[0;34m)\u001b[0m\u001b[0;34m\u001b[0m\u001b[0;34m\u001b[0m\u001b[0m\n\u001b[1;32m      3\u001b[0m \u001b[0mpalabras\u001b[0m\u001b[0;34m=\u001b[0m\u001b[0mtexto\u001b[0m\u001b[0;34m.\u001b[0m\u001b[0msplit\u001b[0m\u001b[0;34m(\u001b[0m\u001b[0;34m)\u001b[0m\u001b[0;34m\u001b[0m\u001b[0;34m\u001b[0m\u001b[0m\n\u001b[1;32m      4\u001b[0m \u001b[0mlista\u001b[0m\u001b[0;34m=\u001b[0m\u001b[0mHashing\u001b[0m\u001b[0;34m(\u001b[0m\u001b[0;36m1000\u001b[0m\u001b[0;34m)\u001b[0m\u001b[0;34m\u001b[0m\u001b[0;34m\u001b[0m\u001b[0m\n\u001b[1;32m      5\u001b[0m \u001b[0malmacen\u001b[0m\u001b[0;34m=\u001b[0m\u001b[0;34m[\u001b[0m\u001b[0;34m]\u001b[0m\u001b[0;34m\u001b[0m\u001b[0;34m\u001b[0m\u001b[0m\n",
            "\u001b[0;31mFileNotFoundError\u001b[0m: [Errno 2] No such file or directory: 'cap1.txt'"
          ]
        }
      ]
    },
    {
      "cell_type": "markdown",
      "metadata": {
        "id": "j3LxIBHAewzE"
      },
      "source": [
        "## ¿Qué hay que entregar?\n",
        "\n",
        "Usted debe entregar este mismo archivo, modificado de acuerdo a lo que se pide. Haga todos los cambios necesarios para explicar y documentar adecuadamente su código. No olvide poner su nombre."
      ]
    }
  ]
}