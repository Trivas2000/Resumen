{
  "nbformat": 4,
  "nbformat_minor": 0,
  "metadata": {
    "kernelspec": {
      "display_name": "Python 3",
      "language": "python",
      "name": "python3"
    },
    "language_info": {
      "codemirror_mode": {
        "name": "ipython",
        "version": 3
      },
      "file_extension": ".py",
      "mimetype": "text/x-python",
      "name": "python",
      "nbconvert_exporter": "python",
      "pygments_lexer": "ipython3",
      "version": "3.7.1"
    },
    "colab": {
      "provenance": [],
      "toc_visible": true
    }
  },
  "cells": [
    {
      "cell_type": "markdown",
      "metadata": {
        "id": "_Q2SFIAPOylT"
      },
      "source": [
        "# CC3001 Otoño 2021 Tarea 1, Alumno Tomás Rivas\n",
        "\n",
        "## Escribir números en palabras\n",
        "\n",
        "### Profesores\n",
        "Sección 1 Iván Sipirán •\n",
        "Sección 2 Patricio Poblete •\n",
        "Sección 3 Nelson Baloian\n",
        "\n"
      ]
    },
    {
      "cell_type": "markdown",
      "metadata": {
        "id": "IAaBIWKlOylU"
      },
      "source": [
        "El objetivo de esta tarea es que usted implemente una función ``palabras(n)`` que al ser llamada entregue un string que contenga el número ``n`` expresado en palabras, donde ``n`` es un número entero nonegativo menor que mil millones.\n",
        "\n",
        "Por ejemplo,\n",
        "\n",
        "```\n",
        "palabras(12) = \"doce\"\n",
        "palabras(41025) = \"cuarenta y un mil veinticinco\"\n",
        "```\n",
        "\n",
        "A modo de inspiración, a continuación hay una versión rudimentaria de esta función, en que todos los casos se manejan de la manera más simple posible. Como usted verá, si la prueba con diferentes valores de ``n``, esta versión de la función le acierta a muchos casos, pero también se equivoca en muchos otros. La versión que usted entregue debería manejar bien todos los casos."
      ]
    },
    {
      "cell_type": "markdown",
      "metadata": {
        "id": "M92GDEW1jjzN"
      },
      "source": [
        "Primero creare un codigo que me escriba los primeros 29 numeros desde una lista."
      ]
    },
    {
      "cell_type": "code",
      "metadata": {
        "id": "V6eV3lGI-db0"
      },
      "source": [
        "def palabras30(n):\n",
        "  unidades = [\"cero\",\"uno\",\"dos\",\"tres\",\"cuatro\",\"cinco\",\"seis\",\"siete\",\"ocho\",\n",
        "              \"nueve\"]\n",
        "  diez = [\"diez\",\"once\",\"doce\",\"trece\",\"catorce\",\"quince\",\"dieciseis\",\"diecisiete\",\"dieciocho\",\n",
        "              \"diecinueve\"]\n",
        "  veinte = [\"veinte\",\"veintiuno\",\"veintidos\",\"veintitres\",\"veinticuatro\",\"veinticinco\",\"veintiseis\",\"veintisiete\",\"veintiocho\",\n",
        "              \"veintinueve\"]\n",
        "  if n<=9:\n",
        "    return unidades[n]\n",
        "  if n<=19:\n",
        "    return diez[n%10] \n",
        "  else: \n",
        "    return veinte[n%20] \n",
        "   "
      ],
      "execution_count": null,
      "outputs": []
    },
    {
      "cell_type": "code",
      "metadata": {
        "colab": {
          "base_uri": "https://localhost:8080/",
          "height": 35
        },
        "id": "1aBV1jte_K2P",
        "outputId": "bbc40f93-20cf-41da-fbec-d12adb1c330b"
      },
      "source": [
        "palabras30(1)"
      ],
      "execution_count": null,
      "outputs": [
        {
          "output_type": "execute_result",
          "data": {
            "application/vnd.google.colaboratory.intrinsic+json": {
              "type": "string"
            },
            "text/plain": [
              "'uno'"
            ]
          },
          "metadata": {
            "tags": []
          },
          "execution_count": 3
        }
      ]
    },
    {
      "cell_type": "code",
      "metadata": {
        "colab": {
          "base_uri": "https://localhost:8080/",
          "height": 35
        },
        "id": "aYPrmvVD_LVY",
        "outputId": "d965549e-7740-4218-d015-ac6cbb104fa1"
      },
      "source": [
        "palabras30(11)"
      ],
      "execution_count": null,
      "outputs": [
        {
          "output_type": "execute_result",
          "data": {
            "application/vnd.google.colaboratory.intrinsic+json": {
              "type": "string"
            },
            "text/plain": [
              "'once'"
            ]
          },
          "metadata": {
            "tags": []
          },
          "execution_count": 4
        }
      ]
    },
    {
      "cell_type": "code",
      "metadata": {
        "colab": {
          "base_uri": "https://localhost:8080/",
          "height": 35
        },
        "id": "eAFHD_cY_Lc0",
        "outputId": "ccbd8672-f34e-4356-8331-d9edce557652"
      },
      "source": [
        "palabras30(18)"
      ],
      "execution_count": null,
      "outputs": [
        {
          "output_type": "execute_result",
          "data": {
            "application/vnd.google.colaboratory.intrinsic+json": {
              "type": "string"
            },
            "text/plain": [
              "'dieciocho'"
            ]
          },
          "metadata": {
            "tags": []
          },
          "execution_count": 5
        }
      ]
    },
    {
      "cell_type": "code",
      "metadata": {
        "colab": {
          "base_uri": "https://localhost:8080/",
          "height": 35
        },
        "id": "2iERbDiH_LjQ",
        "outputId": "290bd284-fd2f-42fa-c388-c06a8f4b105f"
      },
      "source": [
        "palabras30(5)"
      ],
      "execution_count": null,
      "outputs": [
        {
          "output_type": "execute_result",
          "data": {
            "application/vnd.google.colaboratory.intrinsic+json": {
              "type": "string"
            },
            "text/plain": [
              "'cinco'"
            ]
          },
          "metadata": {
            "tags": []
          },
          "execution_count": 6
        }
      ]
    },
    {
      "cell_type": "code",
      "metadata": {
        "colab": {
          "base_uri": "https://localhost:8080/",
          "height": 35
        },
        "id": "hj2_bAakAZDl",
        "outputId": "259f0177-410f-4ef4-c9eb-383d83e2f1e1"
      },
      "source": [
        "palabras30(0)"
      ],
      "execution_count": null,
      "outputs": [
        {
          "output_type": "execute_result",
          "data": {
            "application/vnd.google.colaboratory.intrinsic+json": {
              "type": "string"
            },
            "text/plain": [
              "'cero'"
            ]
          },
          "metadata": {
            "tags": []
          },
          "execution_count": 7
        }
      ]
    },
    {
      "cell_type": "code",
      "metadata": {
        "colab": {
          "base_uri": "https://localhost:8080/",
          "height": 35
        },
        "id": "R2JJ9LMfF9gB",
        "outputId": "0f5f653b-e922-4f07-e6c7-7592540653a2"
      },
      "source": [
        "palabras30(15)"
      ],
      "execution_count": null,
      "outputs": [
        {
          "output_type": "execute_result",
          "data": {
            "application/vnd.google.colaboratory.intrinsic+json": {
              "type": "string"
            },
            "text/plain": [
              "'quince'"
            ]
          },
          "metadata": {
            "tags": []
          },
          "execution_count": 8
        }
      ]
    },
    {
      "cell_type": "code",
      "metadata": {
        "colab": {
          "base_uri": "https://localhost:8080/",
          "height": 35
        },
        "id": "ABy47fjTF9nd",
        "outputId": "b3a08da3-77eb-4f98-828f-6b8dd7675a91"
      },
      "source": [
        "palabras30(20)"
      ],
      "execution_count": null,
      "outputs": [
        {
          "output_type": "execute_result",
          "data": {
            "application/vnd.google.colaboratory.intrinsic+json": {
              "type": "string"
            },
            "text/plain": [
              "'veinte'"
            ]
          },
          "metadata": {
            "tags": []
          },
          "execution_count": 9
        }
      ]
    },
    {
      "cell_type": "code",
      "metadata": {
        "colab": {
          "base_uri": "https://localhost:8080/",
          "height": 35
        },
        "id": "YZLdAmW1F9p7",
        "outputId": "0bb8765d-38d3-4843-ade3-06a23a348158"
      },
      "source": [
        "palabras30(10)"
      ],
      "execution_count": null,
      "outputs": [
        {
          "output_type": "execute_result",
          "data": {
            "application/vnd.google.colaboratory.intrinsic+json": {
              "type": "string"
            },
            "text/plain": [
              "'diez'"
            ]
          },
          "metadata": {
            "tags": []
          },
          "execution_count": 10
        }
      ]
    },
    {
      "cell_type": "code",
      "metadata": {
        "colab": {
          "base_uri": "https://localhost:8080/",
          "height": 35
        },
        "id": "jjBgKA2gF9s_",
        "outputId": "d35bea1e-71d6-4d91-8d21-c97cb8fdf651"
      },
      "source": [
        "palabras30(12)"
      ],
      "execution_count": null,
      "outputs": [
        {
          "output_type": "execute_result",
          "data": {
            "application/vnd.google.colaboratory.intrinsic+json": {
              "type": "string"
            },
            "text/plain": [
              "'doce'"
            ]
          },
          "metadata": {
            "tags": []
          },
          "execution_count": 11
        }
      ]
    },
    {
      "cell_type": "code",
      "metadata": {
        "colab": {
          "base_uri": "https://localhost:8080/",
          "height": 35
        },
        "id": "e594DHE0AZR0",
        "outputId": "06cfb1a8-a854-4176-e366-bc2a02ff1a1e"
      },
      "source": [
        "palabras30(20)"
      ],
      "execution_count": null,
      "outputs": [
        {
          "output_type": "execute_result",
          "data": {
            "application/vnd.google.colaboratory.intrinsic+json": {
              "type": "string"
            },
            "text/plain": [
              "'veinte'"
            ]
          },
          "metadata": {
            "tags": []
          },
          "execution_count": 12
        }
      ]
    },
    {
      "cell_type": "code",
      "metadata": {
        "colab": {
          "base_uri": "https://localhost:8080/",
          "height": 35
        },
        "id": "fwqSp8eCAZUs",
        "outputId": "628a42cc-1560-435b-93a8-f8612e649246"
      },
      "source": [
        "palabras30(29)"
      ],
      "execution_count": null,
      "outputs": [
        {
          "output_type": "execute_result",
          "data": {
            "application/vnd.google.colaboratory.intrinsic+json": {
              "type": "string"
            },
            "text/plain": [
              "'veintinueve'"
            ]
          },
          "metadata": {
            "tags": []
          },
          "execution_count": 13
        }
      ]
    },
    {
      "cell_type": "markdown",
      "metadata": {
        "id": "LZD2cGdi7DMi"
      },
      "source": [
        "Luego una función que tomando la de los primeros 30 numeros y juntando las palabras de unidades decenas y centenas sea capaz de traducir los primeros 1000 numeros."
      ]
    },
    {
      "cell_type": "code",
      "metadata": {
        "id": "OEygUEyJjs6D"
      },
      "source": [
        "def palabras1000(n):\n",
        "  unidades = [\"cero\",\"uno\",\"dos\",\"tres\",\"cuatro\",\"cinco\",\"seis\",\"siete\",\"ocho\",\n",
        "              \"nueve\"]\n",
        "  decenas = [\"\",\"diez\",\"veinte\",\"treinta\",\"cuarenta\",\"cincuenta\",\"sesenta\",\n",
        "             \"setenta\",\"ochenta\",\"noventa\"]\n",
        "  centenas = [\"\",\"ciento\",\"doscientos\",\"trescientos\",\"cuatrocientos\",\"quinientos\",\n",
        "              \"seiscientos\",\"setecientos\",\"ochocientos\",\"novecientos\"]\n",
        "  (c,d,u)=(n//100,(n%100//10),n%10)\n",
        "  if n==100:\n",
        "    return \"cien\"\n",
        "  if n%100==0:\n",
        "    return centenas[c]\n",
        "  if n%100<=29:\n",
        "    return centenas[c] +\" \"+ palabras30(n%100)\n",
        "  if n%10==0:\n",
        "    return centenas[c]+\" \"+decenas[d]\n",
        "\n",
        "  return centenas[c]+\" \"+decenas[d]+\" y \"+unidades[u]"
      ],
      "execution_count": null,
      "outputs": []
    },
    {
      "cell_type": "code",
      "metadata": {
        "id": "cH_3HP-uR2u0"
      },
      "source": [],
      "execution_count": null,
      "outputs": []
    },
    {
      "cell_type": "code",
      "metadata": {
        "id": "KPKamL07R3LY"
      },
      "source": [],
      "execution_count": null,
      "outputs": []
    },
    {
      "cell_type": "code",
      "metadata": {
        "colab": {
          "base_uri": "https://localhost:8080/",
          "height": 35
        },
        "id": "GtoZHitR9U3W",
        "outputId": "5bae8afc-cc57-4051-deff-e5773d144cd5"
      },
      "source": [
        "palabras1000(6)"
      ],
      "execution_count": null,
      "outputs": [
        {
          "output_type": "execute_result",
          "data": {
            "application/vnd.google.colaboratory.intrinsic+json": {
              "type": "string"
            },
            "text/plain": [
              "' seis'"
            ]
          },
          "metadata": {
            "tags": []
          },
          "execution_count": 15
        }
      ]
    },
    {
      "cell_type": "code",
      "metadata": {
        "colab": {
          "base_uri": "https://localhost:8080/",
          "height": 35
        },
        "id": "ygaaDKgpGLvu",
        "outputId": "c8dcdd9c-0d0c-4ecf-c4d7-709c1894bb0f"
      },
      "source": [
        "palabras1000(100)"
      ],
      "execution_count": null,
      "outputs": [
        {
          "output_type": "execute_result",
          "data": {
            "application/vnd.google.colaboratory.intrinsic+json": {
              "type": "string"
            },
            "text/plain": [
              "'cien'"
            ]
          },
          "metadata": {
            "tags": []
          },
          "execution_count": 16
        }
      ]
    },
    {
      "cell_type": "code",
      "metadata": {
        "colab": {
          "base_uri": "https://localhost:8080/",
          "height": 35
        },
        "id": "KtZ6LB0BGLzh",
        "outputId": "ed9e73fc-2272-40c8-e578-92355b932225"
      },
      "source": [
        "palabras1000(200)"
      ],
      "execution_count": null,
      "outputs": [
        {
          "output_type": "execute_result",
          "data": {
            "application/vnd.google.colaboratory.intrinsic+json": {
              "type": "string"
            },
            "text/plain": [
              "'doscientos'"
            ]
          },
          "metadata": {
            "tags": []
          },
          "execution_count": 17
        }
      ]
    },
    {
      "cell_type": "code",
      "metadata": {
        "colab": {
          "base_uri": "https://localhost:8080/",
          "height": 35
        },
        "id": "gLxDLnedGL8M",
        "outputId": "b31b3a43-93e9-4f20-faff-7128c62d3b96"
      },
      "source": [
        "palabras1000(300)"
      ],
      "execution_count": null,
      "outputs": [
        {
          "output_type": "execute_result",
          "data": {
            "application/vnd.google.colaboratory.intrinsic+json": {
              "type": "string"
            },
            "text/plain": [
              "'trescientos'"
            ]
          },
          "metadata": {
            "tags": []
          },
          "execution_count": 18
        }
      ]
    },
    {
      "cell_type": "code",
      "metadata": {
        "colab": {
          "base_uri": "https://localhost:8080/",
          "height": 35
        },
        "id": "HI24qzuzGMAq",
        "outputId": "5c809067-0ad5-4976-c643-45ab3706dcf9"
      },
      "source": [
        "palabras1000(450)"
      ],
      "execution_count": null,
      "outputs": [
        {
          "output_type": "execute_result",
          "data": {
            "application/vnd.google.colaboratory.intrinsic+json": {
              "type": "string"
            },
            "text/plain": [
              "'cuatrocientos cincuenta'"
            ]
          },
          "metadata": {
            "tags": []
          },
          "execution_count": 19
        }
      ]
    },
    {
      "cell_type": "code",
      "metadata": {
        "colab": {
          "base_uri": "https://localhost:8080/",
          "height": 35
        },
        "id": "MBbBB5Go9VJo",
        "outputId": "de450fa1-f9d3-43f9-9c81-87e8830704b6"
      },
      "source": [
        "palabras1000(231)"
      ],
      "execution_count": null,
      "outputs": [
        {
          "output_type": "execute_result",
          "data": {
            "application/vnd.google.colaboratory.intrinsic+json": {
              "type": "string"
            },
            "text/plain": [
              "'doscientos treinta y uno'"
            ]
          },
          "metadata": {
            "tags": []
          },
          "execution_count": 20
        }
      ]
    },
    {
      "cell_type": "code",
      "metadata": {
        "colab": {
          "base_uri": "https://localhost:8080/",
          "height": 35
        },
        "id": "afXOb969k9TQ",
        "outputId": "e066f622-f040-4464-eb4e-642d8f5020b6"
      },
      "source": [
        "palabras1000(120)"
      ],
      "execution_count": null,
      "outputs": [
        {
          "output_type": "execute_result",
          "data": {
            "application/vnd.google.colaboratory.intrinsic+json": {
              "type": "string"
            },
            "text/plain": [
              "'ciento veinte'"
            ]
          },
          "metadata": {
            "tags": []
          },
          "execution_count": 21
        }
      ]
    },
    {
      "cell_type": "code",
      "metadata": {
        "colab": {
          "base_uri": "https://localhost:8080/",
          "height": 35
        },
        "id": "BDUzS67QoJqa",
        "outputId": "33f6f24c-f767-4148-e2fc-2283e9be7ec0"
      },
      "source": [
        "palabras1000(999)"
      ],
      "execution_count": null,
      "outputs": [
        {
          "output_type": "execute_result",
          "data": {
            "application/vnd.google.colaboratory.intrinsic+json": {
              "type": "string"
            },
            "text/plain": [
              "'novecientos noventa y nueve'"
            ]
          },
          "metadata": {
            "tags": []
          },
          "execution_count": 22
        }
      ]
    },
    {
      "cell_type": "code",
      "metadata": {
        "colab": {
          "base_uri": "https://localhost:8080/",
          "height": 35
        },
        "id": "nDbvGmHUoNF-",
        "outputId": "1c1a4e17-b758-4f94-bf13-4c50b1f11355"
      },
      "source": [
        "palabras1000(30)"
      ],
      "execution_count": null,
      "outputs": [
        {
          "output_type": "execute_result",
          "data": {
            "application/vnd.google.colaboratory.intrinsic+json": {
              "type": "string"
            },
            "text/plain": [
              "' treinta'"
            ]
          },
          "metadata": {
            "tags": []
          },
          "execution_count": 23
        }
      ]
    },
    {
      "cell_type": "code",
      "metadata": {
        "colab": {
          "base_uri": "https://localhost:8080/",
          "height": 35
        },
        "id": "gb0JbP1doQ-I",
        "outputId": "24bfec99-b2c6-4a01-e077-3861dd0e74bd"
      },
      "source": [
        "palabras1000(140)"
      ],
      "execution_count": null,
      "outputs": [
        {
          "output_type": "execute_result",
          "data": {
            "application/vnd.google.colaboratory.intrinsic+json": {
              "type": "string"
            },
            "text/plain": [
              "'ciento cuarenta'"
            ]
          },
          "metadata": {
            "tags": []
          },
          "execution_count": 24
        }
      ]
    },
    {
      "cell_type": "markdown",
      "metadata": {
        "id": "6dqDKbLBMM6W"
      },
      "source": [
        "Ahora un arreglo para cuando usemos palabra1000 en la parte de millones y de miles y termine en uno diga un en ves de uno"
      ]
    },
    {
      "cell_type": "code",
      "metadata": {
        "id": "lSRhZ_osL8ff"
      },
      "source": [
        "def  palabrasA(n):\n",
        "  x = palabras1000(n)\n",
        "  return x.replace(\"uno\",\"un\")\n",
        "    \n"
      ],
      "execution_count": null,
      "outputs": []
    },
    {
      "cell_type": "code",
      "metadata": {
        "colab": {
          "base_uri": "https://localhost:8080/",
          "height": 35
        },
        "id": "hhmCgpU6SsmT",
        "outputId": "2f42af94-6bd3-44b5-e47c-e10ec9a3bbf5"
      },
      "source": [
        "palabrasA(21)"
      ],
      "execution_count": null,
      "outputs": [
        {
          "output_type": "execute_result",
          "data": {
            "application/vnd.google.colaboratory.intrinsic+json": {
              "type": "string"
            },
            "text/plain": [
              "' veintiun'"
            ]
          },
          "metadata": {
            "tags": []
          },
          "execution_count": 26
        }
      ]
    },
    {
      "cell_type": "code",
      "metadata": {
        "colab": {
          "base_uri": "https://localhost:8080/",
          "height": 35
        },
        "id": "tU0LiOj9SspP",
        "outputId": "a340c113-44e1-45ea-dfff-423a54bd43a0"
      },
      "source": [
        "palabrasA(41)"
      ],
      "execution_count": null,
      "outputs": [
        {
          "output_type": "execute_result",
          "data": {
            "application/vnd.google.colaboratory.intrinsic+json": {
              "type": "string"
            },
            "text/plain": [
              "' cuarenta y un'"
            ]
          },
          "metadata": {
            "tags": []
          },
          "execution_count": 27
        }
      ]
    },
    {
      "cell_type": "code",
      "metadata": {
        "colab": {
          "base_uri": "https://localhost:8080/",
          "height": 35
        },
        "id": "zQMlWra6Ssur",
        "outputId": "e3326547-086c-4f2f-8972-bd835a34e521"
      },
      "source": [
        "palabrasA(581)"
      ],
      "execution_count": null,
      "outputs": [
        {
          "output_type": "execute_result",
          "data": {
            "application/vnd.google.colaboratory.intrinsic+json": {
              "type": "string"
            },
            "text/plain": [
              "'quinientos ochenta y un'"
            ]
          },
          "metadata": {
            "tags": []
          },
          "execution_count": 28
        }
      ]
    },
    {
      "cell_type": "markdown",
      "metadata": {
        "id": "vl4zVxQnk115"
      },
      "source": [
        "Ahora usando las funciones construidas anteriormente, armare el caso general teniendo en cuenta los distintos casos que se presentan en el problema."
      ]
    },
    {
      "cell_type": "code",
      "metadata": {
        "id": "qkl1Tc3YOylV"
      },
      "source": [
        "def palabras(n):\n",
        "  assert 0<=n<1000000000\n",
        "  if n<=29:\n",
        "    return palabras30(n)\n",
        "  if n<=999:\n",
        "    return palabras1000(n)\n",
        "  if n==1000:\n",
        "    return \"mil\"\n",
        "  (a,b,c)=(n//1000000,(n%1000000)//1000,n%1000)  \n",
        "  if n<2000:\n",
        "    return \" mil \"+palabras1000(c)   \n",
        "  if n<1000000:\n",
        "    return palabrasA(b)+\" mil \"+palabras1000(c)\n",
        "  if n==1000000:\n",
        "    return \"Un millon\"\n",
        "  if n<1001000:\n",
        "    return \"Un millon\" +palabras1000(c)\n",
        "  if n==1001000:\n",
        "    return \"Un millon mil\"\n",
        "  if n<1002000:\n",
        "    return \"Un millon mil \" + palabras1000(c)\n",
        "  if n<2000000:\n",
        "    return \"Un millon \" +palabrasA(b)+\" mil \"+palabras1000(c)\n",
        "  if n%1000000==0:\n",
        "    return palabrasA(a)+\" millones \"\n",
        "  if n%1000000<1000:\n",
        "    return palabrasA(a)+\" millones \" + palabras1000(c)\n",
        "  if n%1000000<2000:\n",
        "    return palabrasA(a)+\" millones \"+\"mil \"+palabras1000(c)\n",
        "  if n%1000==0:\n",
        "    return palabrasA(a)+\" millones \"+palabrasA(b)+\" mil \"\n",
        "  return palabrasA(a)+\" millones \"+palabrasA(b)+\" mil \"+palabras1000(c)"
      ],
      "execution_count": null,
      "outputs": []
    },
    {
      "cell_type": "markdown",
      "metadata": {
        "id": "ZjXGuYGXnGb-"
      },
      "source": [
        "Probamos el codigo:"
      ]
    },
    {
      "cell_type": "code",
      "metadata": {
        "id": "-ehVwCp4OylY",
        "colab": {
          "base_uri": "https://localhost:8080/",
          "height": 35
        },
        "outputId": "d1db3046-4a43-40be-9f5f-7ff8753b190f"
      },
      "source": [
        "palabras(22100100)"
      ],
      "execution_count": null,
      "outputs": [
        {
          "output_type": "execute_result",
          "data": {
            "application/vnd.google.colaboratory.intrinsic+json": {
              "type": "string"
            },
            "text/plain": [
              "' veintidos millones cien mil cien'"
            ]
          },
          "metadata": {
            "tags": []
          },
          "execution_count": 30
        }
      ]
    },
    {
      "cell_type": "code",
      "metadata": {
        "colab": {
          "base_uri": "https://localhost:8080/",
          "height": 35
        },
        "id": "BZKDQg-vH-yL",
        "outputId": "3e577d69-6631-4f76-ec51-1dfab88fa3df"
      },
      "source": [
        "palabras(0)"
      ],
      "execution_count": null,
      "outputs": [
        {
          "output_type": "execute_result",
          "data": {
            "application/vnd.google.colaboratory.intrinsic+json": {
              "type": "string"
            },
            "text/plain": [
              "'cero'"
            ]
          },
          "metadata": {
            "tags": []
          },
          "execution_count": 31
        }
      ]
    },
    {
      "cell_type": "code",
      "metadata": {
        "colab": {
          "base_uri": "https://localhost:8080/",
          "height": 35
        },
        "id": "YIIzYJvRH-1L",
        "outputId": "587583d3-e1a6-4424-a144-28c82e36af3b"
      },
      "source": [
        "palabras(1)"
      ],
      "execution_count": null,
      "outputs": [
        {
          "output_type": "execute_result",
          "data": {
            "application/vnd.google.colaboratory.intrinsic+json": {
              "type": "string"
            },
            "text/plain": [
              "'uno'"
            ]
          },
          "metadata": {
            "tags": []
          },
          "execution_count": 32
        }
      ]
    },
    {
      "cell_type": "code",
      "metadata": {
        "colab": {
          "base_uri": "https://localhost:8080/",
          "height": 35
        },
        "id": "pqVYMlq5H-4Z",
        "outputId": "457719b1-e40f-46d6-fb2a-7e39251e05dd"
      },
      "source": [
        "palabras(5)"
      ],
      "execution_count": null,
      "outputs": [
        {
          "output_type": "execute_result",
          "data": {
            "application/vnd.google.colaboratory.intrinsic+json": {
              "type": "string"
            },
            "text/plain": [
              "'cinco'"
            ]
          },
          "metadata": {
            "tags": []
          },
          "execution_count": 33
        }
      ]
    },
    {
      "cell_type": "code",
      "metadata": {
        "colab": {
          "base_uri": "https://localhost:8080/",
          "height": 35
        },
        "id": "0-SJk7oPITmK",
        "outputId": "6d15c868-8cbb-4f6a-9fb3-2734ba704019"
      },
      "source": [
        "palabras(11)"
      ],
      "execution_count": null,
      "outputs": [
        {
          "output_type": "execute_result",
          "data": {
            "application/vnd.google.colaboratory.intrinsic+json": {
              "type": "string"
            },
            "text/plain": [
              "'once'"
            ]
          },
          "metadata": {
            "tags": []
          },
          "execution_count": 34
        }
      ]
    },
    {
      "cell_type": "code",
      "metadata": {
        "colab": {
          "base_uri": "https://localhost:8080/",
          "height": 35
        },
        "id": "ONz2M_0DH-7a",
        "outputId": "71d4c407-85ba-4607-bed1-df24970d1334"
      },
      "source": [
        "palabras(10)"
      ],
      "execution_count": null,
      "outputs": [
        {
          "output_type": "execute_result",
          "data": {
            "application/vnd.google.colaboratory.intrinsic+json": {
              "type": "string"
            },
            "text/plain": [
              "'diez'"
            ]
          },
          "metadata": {
            "tags": []
          },
          "execution_count": 35
        }
      ]
    },
    {
      "cell_type": "code",
      "metadata": {
        "colab": {
          "base_uri": "https://localhost:8080/",
          "height": 35
        },
        "id": "SgUKgXRZH--O",
        "outputId": "bd952d0a-ef8f-422f-bf81-17cbc421b822"
      },
      "source": [
        "palabras(25)"
      ],
      "execution_count": null,
      "outputs": [
        {
          "output_type": "execute_result",
          "data": {
            "application/vnd.google.colaboratory.intrinsic+json": {
              "type": "string"
            },
            "text/plain": [
              "'veinticinco'"
            ]
          },
          "metadata": {
            "tags": []
          },
          "execution_count": 36
        }
      ]
    },
    {
      "cell_type": "code",
      "metadata": {
        "colab": {
          "base_uri": "https://localhost:8080/",
          "height": 35
        },
        "id": "P32Glv8vH_Az",
        "outputId": "71269dc9-1d51-4830-d212-92d1d1fa70d2"
      },
      "source": [
        "palabras(50)"
      ],
      "execution_count": null,
      "outputs": [
        {
          "output_type": "execute_result",
          "data": {
            "application/vnd.google.colaboratory.intrinsic+json": {
              "type": "string"
            },
            "text/plain": [
              "' cincuenta'"
            ]
          },
          "metadata": {
            "tags": []
          },
          "execution_count": 37
        }
      ]
    },
    {
      "cell_type": "code",
      "metadata": {
        "colab": {
          "base_uri": "https://localhost:8080/",
          "height": 35
        },
        "id": "xQ6JmUEfH_EG",
        "outputId": "0fb07eaa-2483-44f4-c734-134dfd14aca6"
      },
      "source": [
        "palabras(55)"
      ],
      "execution_count": null,
      "outputs": [
        {
          "output_type": "execute_result",
          "data": {
            "application/vnd.google.colaboratory.intrinsic+json": {
              "type": "string"
            },
            "text/plain": [
              "' cincuenta y cinco'"
            ]
          },
          "metadata": {
            "tags": []
          },
          "execution_count": 38
        }
      ]
    },
    {
      "cell_type": "code",
      "metadata": {
        "colab": {
          "base_uri": "https://localhost:8080/",
          "height": 35
        },
        "id": "qyvq_lNXH_GS",
        "outputId": "1bdb6d57-ab1c-4202-ff3b-6e3bb4ea8c40"
      },
      "source": [
        "palabras(63)"
      ],
      "execution_count": null,
      "outputs": [
        {
          "output_type": "execute_result",
          "data": {
            "application/vnd.google.colaboratory.intrinsic+json": {
              "type": "string"
            },
            "text/plain": [
              "' sesenta y tres'"
            ]
          },
          "metadata": {
            "tags": []
          },
          "execution_count": 39
        }
      ]
    },
    {
      "cell_type": "code",
      "metadata": {
        "colab": {
          "base_uri": "https://localhost:8080/",
          "height": 35
        },
        "id": "XJYQYGwAH_JH",
        "outputId": "c5c360ea-e256-4131-ab9c-c275c43d98ea"
      },
      "source": [
        "palabras(69)"
      ],
      "execution_count": null,
      "outputs": [
        {
          "output_type": "execute_result",
          "data": {
            "application/vnd.google.colaboratory.intrinsic+json": {
              "type": "string"
            },
            "text/plain": [
              "' sesenta y nueve'"
            ]
          },
          "metadata": {
            "tags": []
          },
          "execution_count": 40
        }
      ]
    },
    {
      "cell_type": "code",
      "metadata": {
        "colab": {
          "base_uri": "https://localhost:8080/",
          "height": 35
        },
        "id": "CFxzrdf0H_Lz",
        "outputId": "763e84c9-c39b-47c0-b337-57dad83d51f3"
      },
      "source": [
        "palabras(100)"
      ],
      "execution_count": null,
      "outputs": [
        {
          "output_type": "execute_result",
          "data": {
            "application/vnd.google.colaboratory.intrinsic+json": {
              "type": "string"
            },
            "text/plain": [
              "'cien'"
            ]
          },
          "metadata": {
            "tags": []
          },
          "execution_count": 41
        }
      ]
    },
    {
      "cell_type": "code",
      "metadata": {
        "colab": {
          "base_uri": "https://localhost:8080/",
          "height": 35
        },
        "id": "zXV1Oh15H_OS",
        "outputId": "6b9be08f-8247-4322-80be-deb43fc41c80"
      },
      "source": [
        "palabras(101)"
      ],
      "execution_count": null,
      "outputs": [
        {
          "output_type": "execute_result",
          "data": {
            "application/vnd.google.colaboratory.intrinsic+json": {
              "type": "string"
            },
            "text/plain": [
              "'ciento uno'"
            ]
          },
          "metadata": {
            "tags": []
          },
          "execution_count": 42
        }
      ]
    },
    {
      "cell_type": "code",
      "metadata": {
        "colab": {
          "base_uri": "https://localhost:8080/",
          "height": 35
        },
        "id": "hGmC7U0UH_RP",
        "outputId": "a60a1a3e-3f50-4bc5-fe33-8b71d93082f1"
      },
      "source": [
        "palabras(110)"
      ],
      "execution_count": null,
      "outputs": [
        {
          "output_type": "execute_result",
          "data": {
            "application/vnd.google.colaboratory.intrinsic+json": {
              "type": "string"
            },
            "text/plain": [
              "'ciento diez'"
            ]
          },
          "metadata": {
            "tags": []
          },
          "execution_count": 43
        }
      ]
    },
    {
      "cell_type": "code",
      "metadata": {
        "colab": {
          "base_uri": "https://localhost:8080/",
          "height": 35
        },
        "id": "NEgErQhTH_UB",
        "outputId": "9c3aadaa-d770-4a21-8049-9c564968861d"
      },
      "source": [
        "palabras(121)"
      ],
      "execution_count": null,
      "outputs": [
        {
          "output_type": "execute_result",
          "data": {
            "application/vnd.google.colaboratory.intrinsic+json": {
              "type": "string"
            },
            "text/plain": [
              "'ciento veintiuno'"
            ]
          },
          "metadata": {
            "tags": []
          },
          "execution_count": 44
        }
      ]
    },
    {
      "cell_type": "code",
      "metadata": {
        "colab": {
          "base_uri": "https://localhost:8080/",
          "height": 35
        },
        "id": "3IKdTGGQH_XR",
        "outputId": "514d4eb4-73b3-458e-8285-909b95c23182"
      },
      "source": [
        "palabras(250)"
      ],
      "execution_count": null,
      "outputs": [
        {
          "output_type": "execute_result",
          "data": {
            "application/vnd.google.colaboratory.intrinsic+json": {
              "type": "string"
            },
            "text/plain": [
              "'doscientos cincuenta'"
            ]
          },
          "metadata": {
            "tags": []
          },
          "execution_count": 45
        }
      ]
    },
    {
      "cell_type": "code",
      "metadata": {
        "colab": {
          "base_uri": "https://localhost:8080/",
          "height": 35
        },
        "id": "WQN4QweHH_Zv",
        "outputId": "86709e62-a12c-4c13-a117-84fd7daed10b"
      },
      "source": [
        "palabras(1911)"
      ],
      "execution_count": null,
      "outputs": [
        {
          "output_type": "execute_result",
          "data": {
            "application/vnd.google.colaboratory.intrinsic+json": {
              "type": "string"
            },
            "text/plain": [
              "' mil novecientos once'"
            ]
          },
          "metadata": {
            "tags": []
          },
          "execution_count": 46
        }
      ]
    },
    {
      "cell_type": "code",
      "metadata": {
        "colab": {
          "base_uri": "https://localhost:8080/",
          "height": 35
        },
        "id": "OTErb0eAnl57",
        "outputId": "2ee81431-9f09-4454-d7a9-6ee3ef2155cc"
      },
      "source": [
        "palabras(1029)"
      ],
      "execution_count": null,
      "outputs": [
        {
          "output_type": "execute_result",
          "data": {
            "application/vnd.google.colaboratory.intrinsic+json": {
              "type": "string"
            },
            "text/plain": [
              "' mil  veintinueve'"
            ]
          },
          "metadata": {
            "tags": []
          },
          "execution_count": 47
        }
      ]
    },
    {
      "cell_type": "code",
      "metadata": {
        "colab": {
          "base_uri": "https://localhost:8080/",
          "height": 35
        },
        "id": "EaQT-cKnPMKL",
        "outputId": "e152974a-7855-4a3b-9f68-fed9e80adf3a"
      },
      "source": [
        "palabras(2000)"
      ],
      "execution_count": null,
      "outputs": [
        {
          "output_type": "execute_result",
          "data": {
            "application/vnd.google.colaboratory.intrinsic+json": {
              "type": "string"
            },
            "text/plain": [
              "' dos mil '"
            ]
          },
          "metadata": {
            "tags": []
          },
          "execution_count": 48
        }
      ]
    },
    {
      "cell_type": "code",
      "metadata": {
        "colab": {
          "base_uri": "https://localhost:8080/",
          "height": 35
        },
        "id": "YNLcOcH-PMMz",
        "outputId": "f53ba771-d5bc-4b86-b705-c4e7767aafae"
      },
      "source": [
        "palabras(3521)"
      ],
      "execution_count": null,
      "outputs": [
        {
          "output_type": "execute_result",
          "data": {
            "application/vnd.google.colaboratory.intrinsic+json": {
              "type": "string"
            },
            "text/plain": [
              "' tres mil quinientos veintiuno'"
            ]
          },
          "metadata": {
            "tags": []
          },
          "execution_count": 49
        }
      ]
    },
    {
      "cell_type": "code",
      "metadata": {
        "colab": {
          "base_uri": "https://localhost:8080/",
          "height": 35
        },
        "id": "neE5u14nPMPn",
        "outputId": "021e9eb6-cbe3-4a46-9b3e-b3331834097f"
      },
      "source": [
        "palabras(3600)"
      ],
      "execution_count": null,
      "outputs": [
        {
          "output_type": "execute_result",
          "data": {
            "application/vnd.google.colaboratory.intrinsic+json": {
              "type": "string"
            },
            "text/plain": [
              "' tres mil seiscientos'"
            ]
          },
          "metadata": {
            "tags": []
          },
          "execution_count": 50
        }
      ]
    },
    {
      "cell_type": "code",
      "metadata": {
        "colab": {
          "base_uri": "https://localhost:8080/",
          "height": 35
        },
        "id": "FMRRq-_7PMRw",
        "outputId": "3c3d1a3e-de24-4ca1-f22d-fee13b0b762c"
      },
      "source": [
        "palabras(4001)"
      ],
      "execution_count": null,
      "outputs": [
        {
          "output_type": "execute_result",
          "data": {
            "application/vnd.google.colaboratory.intrinsic+json": {
              "type": "string"
            },
            "text/plain": [
              "' cuatro mil  uno'"
            ]
          },
          "metadata": {
            "tags": []
          },
          "execution_count": 51
        }
      ]
    },
    {
      "cell_type": "code",
      "metadata": {
        "colab": {
          "base_uri": "https://localhost:8080/",
          "height": 35
        },
        "id": "9m2m7M3TPMUN",
        "outputId": "035405f1-580a-4d82-9991-a5f8d0ee5249"
      },
      "source": [
        "palabras(5555)"
      ],
      "execution_count": null,
      "outputs": [
        {
          "output_type": "execute_result",
          "data": {
            "application/vnd.google.colaboratory.intrinsic+json": {
              "type": "string"
            },
            "text/plain": [
              "' cinco mil quinientos cincuenta y cinco'"
            ]
          },
          "metadata": {
            "tags": []
          },
          "execution_count": 52
        }
      ]
    },
    {
      "cell_type": "code",
      "metadata": {
        "colab": {
          "base_uri": "https://localhost:8080/",
          "height": 35
        },
        "id": "p7hDlr7oPMX2",
        "outputId": "b77b1728-ac6d-4667-ff55-199af803069d"
      },
      "source": [
        "palabras(6797)"
      ],
      "execution_count": null,
      "outputs": [
        {
          "output_type": "execute_result",
          "data": {
            "application/vnd.google.colaboratory.intrinsic+json": {
              "type": "string"
            },
            "text/plain": [
              "' seis mil setecientos noventa y siete'"
            ]
          },
          "metadata": {
            "tags": []
          },
          "execution_count": 53
        }
      ]
    },
    {
      "cell_type": "code",
      "metadata": {
        "colab": {
          "base_uri": "https://localhost:8080/",
          "height": 35
        },
        "id": "memutkraPMZx",
        "outputId": "3be96059-3cf0-487a-fd36-60410ba5e96f"
      },
      "source": [
        "palabras(7111)"
      ],
      "execution_count": null,
      "outputs": [
        {
          "output_type": "execute_result",
          "data": {
            "application/vnd.google.colaboratory.intrinsic+json": {
              "type": "string"
            },
            "text/plain": [
              "' siete mil ciento once'"
            ]
          },
          "metadata": {
            "tags": []
          },
          "execution_count": 54
        }
      ]
    },
    {
      "cell_type": "code",
      "metadata": {
        "colab": {
          "base_uri": "https://localhost:8080/",
          "height": 35
        },
        "id": "HgztTw6sPMcs",
        "outputId": "b368ad8b-559d-4603-9643-45df90061c2a"
      },
      "source": [
        "palabras(8900)"
      ],
      "execution_count": null,
      "outputs": [
        {
          "output_type": "execute_result",
          "data": {
            "application/vnd.google.colaboratory.intrinsic+json": {
              "type": "string"
            },
            "text/plain": [
              "' ocho mil novecientos'"
            ]
          },
          "metadata": {
            "tags": []
          },
          "execution_count": 55
        }
      ]
    },
    {
      "cell_type": "code",
      "metadata": {
        "colab": {
          "base_uri": "https://localhost:8080/",
          "height": 35
        },
        "id": "3gGqT-FUPMf_",
        "outputId": "00335fa4-dec9-4c07-d6c0-a5fbd62d68d4"
      },
      "source": [
        "palabras(9010)"
      ],
      "execution_count": null,
      "outputs": [
        {
          "output_type": "execute_result",
          "data": {
            "application/vnd.google.colaboratory.intrinsic+json": {
              "type": "string"
            },
            "text/plain": [
              "' nueve mil  diez'"
            ]
          },
          "metadata": {
            "tags": []
          },
          "execution_count": 56
        }
      ]
    },
    {
      "cell_type": "code",
      "metadata": {
        "colab": {
          "base_uri": "https://localhost:8080/",
          "height": 35
        },
        "id": "PNey3rIePMh_",
        "outputId": "c7719f75-2d32-4cce-e6ca-b7d310271eab"
      },
      "source": [
        "palabras(9999)"
      ],
      "execution_count": null,
      "outputs": [
        {
          "output_type": "execute_result",
          "data": {
            "application/vnd.google.colaboratory.intrinsic+json": {
              "type": "string"
            },
            "text/plain": [
              "' nueve mil novecientos noventa y nueve'"
            ]
          },
          "metadata": {
            "tags": []
          },
          "execution_count": 57
        }
      ]
    },
    {
      "cell_type": "code",
      "metadata": {
        "colab": {
          "base_uri": "https://localhost:8080/",
          "height": 35
        },
        "id": "8dS5uk30PMkw",
        "outputId": "9dcd57ec-08a5-4bc4-c5ba-cf332a61eddd"
      },
      "source": [
        "palabras(10000)"
      ],
      "execution_count": null,
      "outputs": [
        {
          "output_type": "execute_result",
          "data": {
            "application/vnd.google.colaboratory.intrinsic+json": {
              "type": "string"
            },
            "text/plain": [
              "' diez mil '"
            ]
          },
          "metadata": {
            "tags": []
          },
          "execution_count": 58
        }
      ]
    },
    {
      "cell_type": "code",
      "metadata": {
        "colab": {
          "base_uri": "https://localhost:8080/",
          "height": 35
        },
        "id": "SA6IcAT3PMnt",
        "outputId": "72899d96-2525-4a25-a150-158f5de795c2"
      },
      "source": [
        "palabras(10001)"
      ],
      "execution_count": null,
      "outputs": [
        {
          "output_type": "execute_result",
          "data": {
            "application/vnd.google.colaboratory.intrinsic+json": {
              "type": "string"
            },
            "text/plain": [
              "' diez mil  uno'"
            ]
          },
          "metadata": {
            "tags": []
          },
          "execution_count": 59
        }
      ]
    },
    {
      "cell_type": "code",
      "metadata": {
        "colab": {
          "base_uri": "https://localhost:8080/",
          "height": 35
        },
        "id": "cORd_YOePMrT",
        "outputId": "bd34d4de-7e34-4472-e418-d712fb2719b9"
      },
      "source": [
        "palabras(11000)"
      ],
      "execution_count": null,
      "outputs": [
        {
          "output_type": "execute_result",
          "data": {
            "application/vnd.google.colaboratory.intrinsic+json": {
              "type": "string"
            },
            "text/plain": [
              "' once mil '"
            ]
          },
          "metadata": {
            "tags": []
          },
          "execution_count": 60
        }
      ]
    },
    {
      "cell_type": "code",
      "metadata": {
        "colab": {
          "base_uri": "https://localhost:8080/",
          "height": 35
        },
        "id": "hcrQ3fKvPMtW",
        "outputId": "882ce852-d05c-45a1-a6b6-8b7de131340b"
      },
      "source": [
        "palabras(11111)"
      ],
      "execution_count": null,
      "outputs": [
        {
          "output_type": "execute_result",
          "data": {
            "application/vnd.google.colaboratory.intrinsic+json": {
              "type": "string"
            },
            "text/plain": [
              "' once mil ciento once'"
            ]
          },
          "metadata": {
            "tags": []
          },
          "execution_count": 61
        }
      ]
    },
    {
      "cell_type": "code",
      "metadata": {
        "colab": {
          "base_uri": "https://localhost:8080/",
          "height": 35
        },
        "id": "1n11n0xRPMwQ",
        "outputId": "a8dbcfc5-865f-481a-cb30-5dc49e3d12b9"
      },
      "source": [
        "palabras(12121)"
      ],
      "execution_count": null,
      "outputs": [
        {
          "output_type": "execute_result",
          "data": {
            "application/vnd.google.colaboratory.intrinsic+json": {
              "type": "string"
            },
            "text/plain": [
              "' doce mil ciento veintiuno'"
            ]
          },
          "metadata": {
            "tags": []
          },
          "execution_count": 62
        }
      ]
    },
    {
      "cell_type": "code",
      "metadata": {
        "colab": {
          "base_uri": "https://localhost:8080/",
          "height": 35
        },
        "id": "zzNOuBpPPMzW",
        "outputId": "31f6256e-f82b-412f-aacd-01687adf8167"
      },
      "source": [
        "palabras(12000)"
      ],
      "execution_count": null,
      "outputs": [
        {
          "output_type": "execute_result",
          "data": {
            "application/vnd.google.colaboratory.intrinsic+json": {
              "type": "string"
            },
            "text/plain": [
              "' doce mil '"
            ]
          },
          "metadata": {
            "tags": []
          },
          "execution_count": 63
        }
      ]
    },
    {
      "cell_type": "code",
      "metadata": {
        "colab": {
          "base_uri": "https://localhost:8080/",
          "height": 35
        },
        "id": "VQHBYmbWPM2F",
        "outputId": "b8e76321-712b-4877-da65-7803d3e73e90"
      },
      "source": [
        "palabras(13131)"
      ],
      "execution_count": null,
      "outputs": [
        {
          "output_type": "execute_result",
          "data": {
            "application/vnd.google.colaboratory.intrinsic+json": {
              "type": "string"
            },
            "text/plain": [
              "' trece mil ciento treinta y uno'"
            ]
          },
          "metadata": {
            "tags": []
          },
          "execution_count": 64
        }
      ]
    },
    {
      "cell_type": "code",
      "metadata": {
        "colab": {
          "base_uri": "https://localhost:8080/",
          "height": 35
        },
        "id": "8bEB9CHrPM5S",
        "outputId": "f89114f6-ad89-4c7e-9734-378222d79bef"
      },
      "source": [
        "palabras(14121)"
      ],
      "execution_count": null,
      "outputs": [
        {
          "output_type": "execute_result",
          "data": {
            "application/vnd.google.colaboratory.intrinsic+json": {
              "type": "string"
            },
            "text/plain": [
              "' catorce mil ciento veintiuno'"
            ]
          },
          "metadata": {
            "tags": []
          },
          "execution_count": 65
        }
      ]
    },
    {
      "cell_type": "code",
      "metadata": {
        "colab": {
          "base_uri": "https://localhost:8080/",
          "height": 35
        },
        "id": "1HkxhelUPM7v",
        "outputId": "c34e96ba-6d5d-46f5-835c-602252eb8d63"
      },
      "source": [
        "palabras(15011)"
      ],
      "execution_count": null,
      "outputs": [
        {
          "output_type": "execute_result",
          "data": {
            "application/vnd.google.colaboratory.intrinsic+json": {
              "type": "string"
            },
            "text/plain": [
              "' quince mil  once'"
            ]
          },
          "metadata": {
            "tags": []
          },
          "execution_count": 66
        }
      ]
    },
    {
      "cell_type": "code",
      "metadata": {
        "colab": {
          "base_uri": "https://localhost:8080/",
          "height": 35
        },
        "id": "iAOQunBcPM_x",
        "outputId": "d71e89a9-6b4e-48c3-ec9c-0a5217a79073"
      },
      "source": [
        "palabras(16000)"
      ],
      "execution_count": null,
      "outputs": [
        {
          "output_type": "execute_result",
          "data": {
            "application/vnd.google.colaboratory.intrinsic+json": {
              "type": "string"
            },
            "text/plain": [
              "' dieciseis mil '"
            ]
          },
          "metadata": {
            "tags": []
          },
          "execution_count": 67
        }
      ]
    },
    {
      "cell_type": "code",
      "metadata": {
        "colab": {
          "base_uri": "https://localhost:8080/",
          "height": 35
        },
        "id": "syUTtQmtPNCC",
        "outputId": "c910429b-f35a-459f-a8dd-b9eb80cd3c27"
      },
      "source": [
        "palabras(17999)"
      ],
      "execution_count": null,
      "outputs": [
        {
          "output_type": "execute_result",
          "data": {
            "application/vnd.google.colaboratory.intrinsic+json": {
              "type": "string"
            },
            "text/plain": [
              "' diecisiete mil novecientos noventa y nueve'"
            ]
          },
          "metadata": {
            "tags": []
          },
          "execution_count": 68
        }
      ]
    },
    {
      "cell_type": "code",
      "metadata": {
        "colab": {
          "base_uri": "https://localhost:8080/",
          "height": 35
        },
        "id": "xc6WX0V7PNEt",
        "outputId": "b815bc6f-7767-4290-8dd7-e33789c27b78"
      },
      "source": [
        "palabras(18010)"
      ],
      "execution_count": null,
      "outputs": [
        {
          "output_type": "execute_result",
          "data": {
            "application/vnd.google.colaboratory.intrinsic+json": {
              "type": "string"
            },
            "text/plain": [
              "' dieciocho mil  diez'"
            ]
          },
          "metadata": {
            "tags": []
          },
          "execution_count": 69
        }
      ]
    },
    {
      "cell_type": "code",
      "metadata": {
        "colab": {
          "base_uri": "https://localhost:8080/",
          "height": 35
        },
        "id": "jZYUzuhGPNHQ",
        "outputId": "0b90ee8c-f75d-4a55-b717-6500b6ea65cb"
      },
      "source": [
        "palabras(19500)"
      ],
      "execution_count": null,
      "outputs": [
        {
          "output_type": "execute_result",
          "data": {
            "application/vnd.google.colaboratory.intrinsic+json": {
              "type": "string"
            },
            "text/plain": [
              "' diecinueve mil quinientos'"
            ]
          },
          "metadata": {
            "tags": []
          },
          "execution_count": 70
        }
      ]
    },
    {
      "cell_type": "code",
      "metadata": {
        "colab": {
          "base_uri": "https://localhost:8080/",
          "height": 35
        },
        "id": "6Zm1GEGRPNKM",
        "outputId": "26f3d965-4ee6-4539-e08f-7bdf6c8a8643"
      },
      "source": [
        "palabras(19999)"
      ],
      "execution_count": null,
      "outputs": [
        {
          "output_type": "execute_result",
          "data": {
            "application/vnd.google.colaboratory.intrinsic+json": {
              "type": "string"
            },
            "text/plain": [
              "' diecinueve mil novecientos noventa y nueve'"
            ]
          },
          "metadata": {
            "tags": []
          },
          "execution_count": 71
        }
      ]
    },
    {
      "cell_type": "code",
      "metadata": {
        "colab": {
          "base_uri": "https://localhost:8080/",
          "height": 35
        },
        "id": "f1DJzCNbPNNK",
        "outputId": "1ec5ba44-5c0a-4f54-cde7-da40833867ae"
      },
      "source": [
        "palabras(20000)"
      ],
      "execution_count": null,
      "outputs": [
        {
          "output_type": "execute_result",
          "data": {
            "application/vnd.google.colaboratory.intrinsic+json": {
              "type": "string"
            },
            "text/plain": [
              "' veinte mil '"
            ]
          },
          "metadata": {
            "tags": []
          },
          "execution_count": 72
        }
      ]
    },
    {
      "cell_type": "code",
      "metadata": {
        "colab": {
          "base_uri": "https://localhost:8080/",
          "height": 35
        },
        "id": "iEYqjkmtPNQH",
        "outputId": "f0475ce3-cc04-4897-d49e-0997696f7f6b"
      },
      "source": [
        "palabras(20001)"
      ],
      "execution_count": null,
      "outputs": [
        {
          "output_type": "execute_result",
          "data": {
            "application/vnd.google.colaboratory.intrinsic+json": {
              "type": "string"
            },
            "text/plain": [
              "' veinte mil  uno'"
            ]
          },
          "metadata": {
            "tags": []
          },
          "execution_count": 73
        }
      ]
    },
    {
      "cell_type": "code",
      "metadata": {
        "colab": {
          "base_uri": "https://localhost:8080/",
          "height": 35
        },
        "id": "GqMqHfQ2PNTL",
        "outputId": "023bb7ea-365b-46ea-ec49-4ae0fe78e19d"
      },
      "source": [
        "palabras(20011)"
      ],
      "execution_count": null,
      "outputs": [
        {
          "output_type": "execute_result",
          "data": {
            "application/vnd.google.colaboratory.intrinsic+json": {
              "type": "string"
            },
            "text/plain": [
              "' veinte mil  once'"
            ]
          },
          "metadata": {
            "tags": []
          },
          "execution_count": 74
        }
      ]
    },
    {
      "cell_type": "code",
      "metadata": {
        "colab": {
          "base_uri": "https://localhost:8080/",
          "height": 35
        },
        "id": "QQQF8n2-PNWR",
        "outputId": "12555cde-a468-41ec-a4f8-6f02da960def"
      },
      "source": [
        "palabras(20511)"
      ],
      "execution_count": null,
      "outputs": [
        {
          "output_type": "execute_result",
          "data": {
            "application/vnd.google.colaboratory.intrinsic+json": {
              "type": "string"
            },
            "text/plain": [
              "' veinte mil quinientos once'"
            ]
          },
          "metadata": {
            "tags": []
          },
          "execution_count": 75
        }
      ]
    },
    {
      "cell_type": "code",
      "metadata": {
        "colab": {
          "base_uri": "https://localhost:8080/",
          "height": 35
        },
        "id": "c-91TIsXPNZS",
        "outputId": "ebe08ed5-f2ac-4e16-a171-f642e56a2aa2"
      },
      "source": [
        "palabras(20131)"
      ],
      "execution_count": null,
      "outputs": [
        {
          "output_type": "execute_result",
          "data": {
            "application/vnd.google.colaboratory.intrinsic+json": {
              "type": "string"
            },
            "text/plain": [
              "' veinte mil ciento treinta y uno'"
            ]
          },
          "metadata": {
            "tags": []
          },
          "execution_count": 76
        }
      ]
    },
    {
      "cell_type": "code",
      "metadata": {
        "colab": {
          "base_uri": "https://localhost:8080/",
          "height": 35
        },
        "id": "4pTcohYTPNcW",
        "outputId": "8c6d839d-21b6-4105-b979-5ecd43fc0812"
      },
      "source": [
        "palabras(25555)"
      ],
      "execution_count": null,
      "outputs": [
        {
          "output_type": "execute_result",
          "data": {
            "application/vnd.google.colaboratory.intrinsic+json": {
              "type": "string"
            },
            "text/plain": [
              "' veinticinco mil quinientos cincuenta y cinco'"
            ]
          },
          "metadata": {
            "tags": []
          },
          "execution_count": 77
        }
      ]
    },
    {
      "cell_type": "code",
      "metadata": {
        "colab": {
          "base_uri": "https://localhost:8080/",
          "height": 35
        },
        "id": "BDA2RJzuPNfN",
        "outputId": "7387f39a-316e-4b33-ca3f-bba2d23c6a25"
      },
      "source": [
        "palabras(29999)"
      ],
      "execution_count": null,
      "outputs": [
        {
          "output_type": "execute_result",
          "data": {
            "application/vnd.google.colaboratory.intrinsic+json": {
              "type": "string"
            },
            "text/plain": [
              "' veintinueve mil novecientos noventa y nueve'"
            ]
          },
          "metadata": {
            "tags": []
          },
          "execution_count": 78
        }
      ]
    },
    {
      "cell_type": "code",
      "metadata": {
        "colab": {
          "base_uri": "https://localhost:8080/",
          "height": 35
        },
        "id": "n2O70F2cPNhw",
        "outputId": "ae26002b-0a1c-4944-a3fa-c19b422a00f9"
      },
      "source": [
        "palabras(30000)"
      ],
      "execution_count": null,
      "outputs": [
        {
          "output_type": "execute_result",
          "data": {
            "application/vnd.google.colaboratory.intrinsic+json": {
              "type": "string"
            },
            "text/plain": [
              "' treinta mil '"
            ]
          },
          "metadata": {
            "tags": []
          },
          "execution_count": 79
        }
      ]
    },
    {
      "cell_type": "code",
      "metadata": {
        "colab": {
          "base_uri": "https://localhost:8080/",
          "height": 35
        },
        "id": "osq5xczIQPCV",
        "outputId": "f2f21748-c7f0-42ba-d67a-3230af263608"
      },
      "source": [
        "palabras(40020)"
      ],
      "execution_count": null,
      "outputs": [
        {
          "output_type": "execute_result",
          "data": {
            "application/vnd.google.colaboratory.intrinsic+json": {
              "type": "string"
            },
            "text/plain": [
              "' cuarenta mil  veinte'"
            ]
          },
          "metadata": {
            "tags": []
          },
          "execution_count": 80
        }
      ]
    },
    {
      "cell_type": "code",
      "metadata": {
        "colab": {
          "base_uri": "https://localhost:8080/",
          "height": 35
        },
        "id": "jRuMqrCHQPFN",
        "outputId": "54e24f42-513e-4ae9-faa0-01603be31ff5"
      },
      "source": [
        "palabras(41234)"
      ],
      "execution_count": null,
      "outputs": [
        {
          "output_type": "execute_result",
          "data": {
            "application/vnd.google.colaboratory.intrinsic+json": {
              "type": "string"
            },
            "text/plain": [
              "' cuarenta y un mil doscientos treinta y cuatro'"
            ]
          },
          "metadata": {
            "tags": []
          },
          "execution_count": 81
        }
      ]
    },
    {
      "cell_type": "code",
      "metadata": {
        "colab": {
          "base_uri": "https://localhost:8080/",
          "height": 35
        },
        "id": "DostRThcQPHy",
        "outputId": "9d9ab7a4-bc53-494e-897b-3525257d8098"
      },
      "source": [
        "palabras(50000)"
      ],
      "execution_count": null,
      "outputs": [
        {
          "output_type": "execute_result",
          "data": {
            "application/vnd.google.colaboratory.intrinsic+json": {
              "type": "string"
            },
            "text/plain": [
              "' cincuenta mil '"
            ]
          },
          "metadata": {
            "tags": []
          },
          "execution_count": 82
        }
      ]
    },
    {
      "cell_type": "code",
      "metadata": {
        "id": "rYANHdJpQPKM",
        "colab": {
          "base_uri": "https://localhost:8080/",
          "height": 35
        },
        "outputId": "e1012861-d7fa-4a44-f504-ae80ef273a9a"
      },
      "source": [
        "palabras(71089)"
      ],
      "execution_count": null,
      "outputs": [
        {
          "output_type": "execute_result",
          "data": {
            "application/vnd.google.colaboratory.intrinsic+json": {
              "type": "string"
            },
            "text/plain": [
              "' setenta y un mil  ochenta y nueve'"
            ]
          },
          "metadata": {
            "tags": []
          },
          "execution_count": 83
        }
      ]
    },
    {
      "cell_type": "code",
      "metadata": {
        "colab": {
          "base_uri": "https://localhost:8080/",
          "height": 35
        },
        "id": "yFqvCTChQPMh",
        "outputId": "398247df-f916-4ee3-a3f9-1cd458f4c442"
      },
      "source": [
        "palabras(99999)"
      ],
      "execution_count": null,
      "outputs": [
        {
          "output_type": "execute_result",
          "data": {
            "application/vnd.google.colaboratory.intrinsic+json": {
              "type": "string"
            },
            "text/plain": [
              "' noventa y nueve mil novecientos noventa y nueve'"
            ]
          },
          "metadata": {
            "tags": []
          },
          "execution_count": 84
        }
      ]
    },
    {
      "cell_type": "code",
      "metadata": {
        "colab": {
          "base_uri": "https://localhost:8080/",
          "height": 35
        },
        "id": "MXv26Hy4QPO-",
        "outputId": "19527df1-63d0-4230-e6c9-ba1d4fa722a2"
      },
      "source": [
        "palabras(100000)"
      ],
      "execution_count": null,
      "outputs": [
        {
          "output_type": "execute_result",
          "data": {
            "application/vnd.google.colaboratory.intrinsic+json": {
              "type": "string"
            },
            "text/plain": [
              "'cien mil '"
            ]
          },
          "metadata": {
            "tags": []
          },
          "execution_count": 85
        }
      ]
    },
    {
      "cell_type": "code",
      "metadata": {
        "colab": {
          "base_uri": "https://localhost:8080/",
          "height": 35
        },
        "id": "fKNesYhSQPR7",
        "outputId": "25ab91ce-3703-48e5-d45d-9d3d5b587df5"
      },
      "source": [
        "palabras(100001)"
      ],
      "execution_count": null,
      "outputs": [
        {
          "output_type": "execute_result",
          "data": {
            "application/vnd.google.colaboratory.intrinsic+json": {
              "type": "string"
            },
            "text/plain": [
              "'cien mil  uno'"
            ]
          },
          "metadata": {
            "tags": []
          },
          "execution_count": 86
        }
      ]
    },
    {
      "cell_type": "code",
      "metadata": {
        "colab": {
          "base_uri": "https://localhost:8080/",
          "height": 35
        },
        "id": "16zeu4ydQPVA",
        "outputId": "f00b73a9-a588-457f-badc-9e69f17c7c8e"
      },
      "source": [
        "palabras(100021)"
      ],
      "execution_count": null,
      "outputs": [
        {
          "output_type": "execute_result",
          "data": {
            "application/vnd.google.colaboratory.intrinsic+json": {
              "type": "string"
            },
            "text/plain": [
              "'cien mil  veintiuno'"
            ]
          },
          "metadata": {
            "tags": []
          },
          "execution_count": 87
        }
      ]
    },
    {
      "cell_type": "code",
      "metadata": {
        "colab": {
          "base_uri": "https://localhost:8080/",
          "height": 35
        },
        "id": "Q7KJE7pBQPbV",
        "outputId": "d76ace3f-352d-466b-bd35-26fa395b7519"
      },
      "source": [
        "palabras(100111)"
      ],
      "execution_count": null,
      "outputs": [
        {
          "output_type": "execute_result",
          "data": {
            "application/vnd.google.colaboratory.intrinsic+json": {
              "type": "string"
            },
            "text/plain": [
              "'cien mil ciento once'"
            ]
          },
          "metadata": {
            "tags": []
          },
          "execution_count": 88
        }
      ]
    },
    {
      "cell_type": "code",
      "metadata": {
        "colab": {
          "base_uri": "https://localhost:8080/",
          "height": 35
        },
        "id": "6cQJpCDpQPds",
        "outputId": "45ef0c77-0571-4458-9526-9bf53f01b5d6"
      },
      "source": [
        "palabras(101000)"
      ],
      "execution_count": null,
      "outputs": [
        {
          "output_type": "execute_result",
          "data": {
            "application/vnd.google.colaboratory.intrinsic+json": {
              "type": "string"
            },
            "text/plain": [
              "'ciento un mil '"
            ]
          },
          "metadata": {
            "tags": []
          },
          "execution_count": 89
        }
      ]
    },
    {
      "cell_type": "code",
      "metadata": {
        "colab": {
          "base_uri": "https://localhost:8080/",
          "height": 35
        },
        "id": "ckg4PybYQW04",
        "outputId": "133eaa7d-0b50-4e08-e1cb-77673dc25e31"
      },
      "source": [
        "palabras(200000)"
      ],
      "execution_count": null,
      "outputs": [
        {
          "output_type": "execute_result",
          "data": {
            "application/vnd.google.colaboratory.intrinsic+json": {
              "type": "string"
            },
            "text/plain": [
              "'doscientos mil '"
            ]
          },
          "metadata": {
            "tags": []
          },
          "execution_count": 90
        }
      ]
    },
    {
      "cell_type": "code",
      "metadata": {
        "colab": {
          "base_uri": "https://localhost:8080/",
          "height": 35
        },
        "id": "774rwuGCQW3l",
        "outputId": "5090dc3d-29d9-4237-8dc2-d3f86a746996"
      },
      "source": [
        "palabras(254671)"
      ],
      "execution_count": null,
      "outputs": [
        {
          "output_type": "execute_result",
          "data": {
            "application/vnd.google.colaboratory.intrinsic+json": {
              "type": "string"
            },
            "text/plain": [
              "'doscientos cincuenta y cuatro mil seiscientos setenta y uno'"
            ]
          },
          "metadata": {
            "tags": []
          },
          "execution_count": 91
        }
      ]
    },
    {
      "cell_type": "code",
      "metadata": {
        "colab": {
          "base_uri": "https://localhost:8080/",
          "height": 35
        },
        "id": "RGOKdk1lQW6K",
        "outputId": "7468ecbb-b354-4703-9092-49d10cc7f15e"
      },
      "source": [
        "palabras(313131)"
      ],
      "execution_count": null,
      "outputs": [
        {
          "output_type": "execute_result",
          "data": {
            "application/vnd.google.colaboratory.intrinsic+json": {
              "type": "string"
            },
            "text/plain": [
              "'trescientos trece mil ciento treinta y uno'"
            ]
          },
          "metadata": {
            "tags": []
          },
          "execution_count": 92
        }
      ]
    },
    {
      "cell_type": "code",
      "metadata": {
        "colab": {
          "base_uri": "https://localhost:8080/",
          "height": 35
        },
        "id": "s67eaRwHQW8p",
        "outputId": "958189d2-7d65-4d45-d885-519bbb91dee6"
      },
      "source": [
        "palabras(717170)"
      ],
      "execution_count": null,
      "outputs": [
        {
          "output_type": "execute_result",
          "data": {
            "application/vnd.google.colaboratory.intrinsic+json": {
              "type": "string"
            },
            "text/plain": [
              "'setecientos diecisiete mil ciento setenta'"
            ]
          },
          "metadata": {
            "tags": []
          },
          "execution_count": 93
        }
      ]
    },
    {
      "cell_type": "code",
      "metadata": {
        "colab": {
          "base_uri": "https://localhost:8080/",
          "height": 35
        },
        "id": "MPpn_tiGQW_k",
        "outputId": "abb064af-8746-4775-8626-d9fdd695ca5c"
      },
      "source": [
        "palabras(999999)"
      ],
      "execution_count": null,
      "outputs": [
        {
          "output_type": "execute_result",
          "data": {
            "application/vnd.google.colaboratory.intrinsic+json": {
              "type": "string"
            },
            "text/plain": [
              "'novecientos noventa y nueve mil novecientos noventa y nueve'"
            ]
          },
          "metadata": {
            "tags": []
          },
          "execution_count": 94
        }
      ]
    },
    {
      "cell_type": "code",
      "metadata": {
        "colab": {
          "base_uri": "https://localhost:8080/",
          "height": 35
        },
        "id": "vievCQtTQXCa",
        "outputId": "5ac65437-76dd-4f8c-bb4d-f04594b3eaad"
      },
      "source": [
        "palabras(1000000)"
      ],
      "execution_count": null,
      "outputs": [
        {
          "output_type": "execute_result",
          "data": {
            "application/vnd.google.colaboratory.intrinsic+json": {
              "type": "string"
            },
            "text/plain": [
              "'Un millon'"
            ]
          },
          "metadata": {
            "tags": []
          },
          "execution_count": 95
        }
      ]
    },
    {
      "cell_type": "code",
      "metadata": {
        "colab": {
          "base_uri": "https://localhost:8080/",
          "height": 35
        },
        "id": "ScwRKLRpQXEt",
        "outputId": "2aae85e6-3e83-4fd1-8bea-2f4d267f3659"
      },
      "source": [
        "palabras(1000001)"
      ],
      "execution_count": null,
      "outputs": [
        {
          "output_type": "execute_result",
          "data": {
            "application/vnd.google.colaboratory.intrinsic+json": {
              "type": "string"
            },
            "text/plain": [
              "'Un millon uno'"
            ]
          },
          "metadata": {
            "tags": []
          },
          "execution_count": 96
        }
      ]
    },
    {
      "cell_type": "code",
      "metadata": {
        "colab": {
          "base_uri": "https://localhost:8080/",
          "height": 35
        },
        "id": "IGztMZwgQXHA",
        "outputId": "7d7a1bfc-9907-4248-99af-4ee9531495a3"
      },
      "source": [
        "palabras(2512901)"
      ],
      "execution_count": null,
      "outputs": [
        {
          "output_type": "execute_result",
          "data": {
            "application/vnd.google.colaboratory.intrinsic+json": {
              "type": "string"
            },
            "text/plain": [
              "' dos millones quinientos doce mil novecientos uno'"
            ]
          },
          "metadata": {
            "tags": []
          },
          "execution_count": 97
        }
      ]
    },
    {
      "cell_type": "code",
      "metadata": {
        "colab": {
          "base_uri": "https://localhost:8080/",
          "height": 35
        },
        "id": "v_SGAFGCQPgr",
        "outputId": "224f0790-0873-41e6-d0a1-2015324164c8"
      },
      "source": [
        "palabras(10931811)"
      ],
      "execution_count": null,
      "outputs": [
        {
          "output_type": "execute_result",
          "data": {
            "application/vnd.google.colaboratory.intrinsic+json": {
              "type": "string"
            },
            "text/plain": [
              "' diez millones novecientos treinta y un mil ochocientos once'"
            ]
          },
          "metadata": {
            "tags": []
          },
          "execution_count": 98
        }
      ]
    },
    {
      "cell_type": "code",
      "metadata": {
        "colab": {
          "base_uri": "https://localhost:8080/",
          "height": 35
        },
        "id": "Xbt9a5yMWamN",
        "outputId": "709ff677-ddac-471f-dae5-9f17f915b1a1"
      },
      "source": [
        "palabras(10)"
      ],
      "execution_count": null,
      "outputs": [
        {
          "output_type": "execute_result",
          "data": {
            "application/vnd.google.colaboratory.intrinsic+json": {
              "type": "string"
            },
            "text/plain": [
              "'diez'"
            ]
          },
          "metadata": {
            "tags": []
          },
          "execution_count": 99
        }
      ]
    },
    {
      "cell_type": "code",
      "metadata": {
        "colab": {
          "base_uri": "https://localhost:8080/",
          "height": 35
        },
        "id": "yOKUGoMkWofT",
        "outputId": "53aaf621-0f95-4f92-cdf7-6ab91f1d0a7d"
      },
      "source": [
        "palabras(987654321)"
      ],
      "execution_count": null,
      "outputs": [
        {
          "output_type": "execute_result",
          "data": {
            "application/vnd.google.colaboratory.intrinsic+json": {
              "type": "string"
            },
            "text/plain": [
              "'novecientos ochenta y siete millones seiscientos cincuenta y cuatro mil trescientos veintiuno'"
            ]
          },
          "metadata": {
            "tags": []
          },
          "execution_count": 102
        }
      ]
    },
    {
      "cell_type": "markdown",
      "metadata": {
        "id": "uUdBcdbGOylf"
      },
      "source": [
        "De las pruebas concluimos que el codigo funciona correctamente.\n"
      ]
    },
    {
      "cell_type": "markdown",
      "metadata": {
        "id": "beqjqqUKnVR9"
      },
      "source": [
        "# Tarea 1 Tomás Rivas"
      ]
    },
    {
      "cell_type": "markdown",
      "metadata": {
        "id": "jzrNv3ZkOylh"
      },
      "source": [
        "## ¿Qué hay que entregar?\n",
        "\n",
        "Usted debe crear una copia de este documento (del menú seleccionar \"Archivo\" o \"File\" y de ahi la opción \"guardar copia en Drive\" o \"save a copy in Drive\"). Este nuevo documento (notebook de Colab) es el que debe modificar para luego compartirlo con la opción \"Cualquier usuario de internet con este enlace puede ver esto\" (o “Anyone on the internet with this link can view”). Esta opción se encuentra disponible en la parte superior derecha de su notebook, en el botón \"Compartir\" (o \"Share\"). Una vez que tenga disponible el enlace, suba a U-Cursos un archivo de texto cuyo contenido es el enlace de su tarea."
      ]
    },
    {
      "cell_type": "code",
      "metadata": {
        "id": "05Lr4eU5yA9M"
      },
      "source": [],
      "execution_count": null,
      "outputs": []
    }
  ]
}