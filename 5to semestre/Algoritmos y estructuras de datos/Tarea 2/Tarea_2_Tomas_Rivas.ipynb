{
  "nbformat": 4,
  "nbformat_minor": 0,
  "metadata": {
    "kernelspec": {
      "display_name": "Python 3",
      "language": "python",
      "name": "python3"
    },
    "language_info": {
      "codemirror_mode": {
        "name": "ipython",
        "version": 3
      },
      "file_extension": ".py",
      "mimetype": "text/x-python",
      "name": "python",
      "nbconvert_exporter": "python",
      "pygments_lexer": "ipython3",
      "version": "3.7.1"
    },
    "colab": {
      "provenance": [],
      "toc_visible": true
    }
  },
  "cells": [
    {
      "cell_type": "markdown",
      "metadata": {
        "id": "TuBrFz2U_Hth"
      },
      "source": [
        "# CC3001 Otoño 2021 Tarea 2\n",
        "##Alumno Tomás Rivas\n",
        "\n",
        "## Shellsort\n",
        "\n",
        "### Profesores\n",
        "Sección 1 Iván Sipirán •\n",
        "Sección 2 Patricio Poblete •\n",
        "Sección 3 Nelson Baloian\n"
      ]
    },
    {
      "cell_type": "markdown",
      "metadata": {
        "id": "HiNcDvrX_Htj"
      },
      "source": [
        "El objetivo de esta tarea es que usted implemente el algoritmo de ordenación Shellsort.\n",
        "\n",
        "Para describir cómo funciona Shellsort definamos un arreglo \"$d$-ordenado\" (donde $d$ es un entero mayor o igual a 1) como un arreglo en que cada elemento está ordenado respecto de sus vecinos que están a $d$ casilleros de distancia. Por ejemplo, en el siguiente diagrama se muestran un arreglo antes y después de ser \"3-ordenado\", destacando en distintos colores las las subsecuencias que se forman al considerar elementos que están a distancia 3:\n",
        "\n",
        "Antes:\n",
        "\n",
        "![shellsort1](https://github.com/ppoblete/CC3001-2020-2-Tareas/blob/master/shellsort1.png?raw=1)\n",
        "\n",
        "Después:\n",
        "\n",
        "![shellsort2](https://github.com/ppoblete/CC3001-2020-2-Tareas/blob/master/shellsort2.png?raw=1)\n",
        "\n",
        "Noten que el caso particular de un arreglo \"1-ordenado\" (caso $d=1$) sería lo mismo que un arreglo ordenado.\n",
        "\n",
        "El algoritmo Shellsort consiste en hacer una secuencia de pasadas $d$-ordenando el arreglo, cada vez con un valor diferente de $d$, siendo la última siempre con $d=1$.\n",
        "\n",
        "Para hacer una pasada de Shellsort elegimos un valor de $d$ y luego aplicamos una versión modificada de ordenación por inserción. La modificación consiste en que la función ``insertar(a,k)`` compara con el elemento $d$ casilleros más atrás, en lugar de hacerlo con el que está uno más atrás.\n",
        "\n",
        "Para ordenar el arreglo completo, Shellsort hace una secuencia de pasadas, con un conjunto decreciente de valores $d_k,d_{k-1}, \\ldots,d_1$, con $d_1=1$. Esto último asegura que el arreglo quede finalmente ordenado, pero las pasadas anteriores contribuyen a acelerar el proceso, porque hay un teorema (que no les pedimos demostrar) que dice que si un arreglo que ya estaba $i$-ordenado se $j$-ordena, el arreglo resultante sigue estando $i$-ordenado. Esto es, una pasada no echa a perder lo que han hecho las anteriores."
      ]
    },
    {
      "cell_type": "markdown",
      "metadata": {
        "id": "uaJjQHQk_Htk"
      },
      "source": [
        "# Recuerdo de la ordenación por inserción\n",
        "\n",
        "Recuerde que la ordenación por inserción está implementada en el apunte de la manera siguiente:"
      ]
    },
    {
      "cell_type": "code",
      "metadata": {
        "id": "pzCxbxct_Htl"
      },
      "source": [
        "def ordena_insercion(a):\n",
        "    \"\"\"Ordena el arreglo a por inserción\"\"\"\n",
        "    n=len(a)\n",
        "    print(a)\n",
        "    for k in range(0,n):\n",
        "        insertar(a,k)   \n",
        "def insertar(a, k):\n",
        "    \"\"\"\n",
        "    Inserta a[k] entre los elementos anteriores\n",
        "    preservando el orden ascendente (versión 2)\n",
        "    \"\"\"\n",
        "    b=a[k] # b almacena transitoriamente al elemento a[k]\n",
        "    j=k # señala la posición del lugar \"vacío\"\n",
        "    while j>0 and b<a[j-1]:\n",
        "        a[j]=a[j-1]\n",
        "        j-=1\n",
        "    a[j]=b"
      ],
      "execution_count": null,
      "outputs": []
    },
    {
      "cell_type": "markdown",
      "metadata": {
        "id": "-_6T3EYX_Htq"
      },
      "source": [
        "Probemos esto para asegurarnos que funcione bien:"
      ]
    },
    {
      "cell_type": "code",
      "metadata": {
        "id": "rgNh6gp1_Htq",
        "colab": {
          "base_uri": "https://localhost:8080/"
        },
        "outputId": "14626cec-9810-4bd6-b42f-a26d9d8462a9"
      },
      "source": [
        "import numpy as np\n",
        "\n",
        "def verifica_d_ordenado(a,d):\n",
        "    for i in range(0,len(a)-d):\n",
        "        assert a[i]<=a[i+d]\n",
        "    print(\"Arreglo \"+str(d)+\"-ordenado OK.\")\n",
        "        \n",
        "A = np.array([46,35,95,21,82,70,72,56,64,50])\n",
        "ordena_insercion(A)\n",
        "print(A)\n",
        "verifica_d_ordenado(A,1)"
      ],
      "execution_count": null,
      "outputs": [
        {
          "output_type": "stream",
          "text": [
            "[46 35 95 21 82 70 72 56 64 50]\n",
            "[21 35 46 50 56 64 70 72 82 95]\n",
            "Arreglo 1-ordenado OK.\n"
          ],
          "name": "stdout"
        }
      ]
    },
    {
      "cell_type": "markdown",
      "metadata": {
        "id": "-_xXYgvs_Htw"
      },
      "source": [
        "---\n",
        "# Lo que usted tiene que hacer:"
      ]
    },
    {
      "cell_type": "markdown",
      "metadata": {
        "id": "Dc6Hu4Oh_Htw"
      },
      "source": [
        "## 1) Programar una $d$-ordenación\n",
        "\n",
        "Modifique el código anterior para que $d$-ordene el arreglo, para un valor de $d$ dado. Para esto, escriba el código de la función ``d_insertar`` en el espacio provisto:"
      ]
    },
    {
      "cell_type": "markdown",
      "metadata": {
        "id": "xx_lJHkyFQlh"
      },
      "source": [
        "Para crear esta función, como necesitamos que se d-ordene, en vez de comparar con el elemento anterior (a[j-1]) tenemos que comparar con el elemento que esta “d” casillas más atrás, es decir el elemento a[j-d]. Además, necesitamos parar la recursividad cuando no quede un elemente d casillas mas atrás, es decir si estamos haciendo un ordenamiento con d= 5 y estamos en la casilla 4 no podemos seguir ya que si le restamos d a 4 nos queda fuera del arreglo. Es por esto que usamos j//d>0; ya que esto significa que d aun cabe dentro de j y por lo tanto podemos restar d a j sin temor a quedar fuera del arreglo. Sumando estas 2 condiciones armamos el while:\n",
        "\n",
        "**while j//d>0 and b<a[j-d]:**"
      ]
    },
    {
      "cell_type": "markdown",
      "metadata": {
        "id": "Lw8yFirePkYG"
      },
      "source": [
        "Además el cambio ahora lo tenemos que hacer por a[j-d] que es el elemento con el que estamos comparando por lo que nos queda a[j]=a[j-d] y para seguir comparando tenemos que bajarle d a j por lo que ponemos j=j-d. Finalmente al igual que en el código de insertar normal terminamos con un a[j]=b fuera de la recursividad para cuando ya no se cumpla alguna de las condiciones del while."
      ]
    },
    {
      "cell_type": "markdown",
      "metadata": {
        "id": "8Vlf-6l8QjSv"
      },
      "source": [
        "Con todo esto y usando de base el código de insertar armamos la función:"
      ]
    },
    {
      "cell_type": "code",
      "metadata": {
        "id": "hm9LSyGD_Hty"
      },
      "source": [
        "def d_ordena_insercion(a,d):\n",
        "    \"\"\"d-Ordena el arreglo a por inserción\"\"\"\n",
        "    n=len(a)\n",
        "    for k in range(0,n):\n",
        "        d_insertar(a,k,d)    \n",
        "def d_insertar(a,k,d):\n",
        "    b=a[k] # b almacena transitoriamente al elemento a[k]\n",
        "    j=k # señala la posición del lugar \"vacío\"\n",
        "    while j//d>0 and b<a[j-d]: #El while con las nuevas condiciones\n",
        "        a[j]=a[j-d] #El nuevo cambio\n",
        "        j=j-d\n",
        "    a[j]=b "
      ],
      "execution_count": null,
      "outputs": []
    },
    {
      "cell_type": "markdown",
      "metadata": {
        "id": "i4BDEa33_Ht4"
      },
      "source": [
        "Pruebe aquí que su algoritmo $3$-ordena correctamente:"
      ]
    },
    {
      "cell_type": "code",
      "metadata": {
        "id": "1Q0YbhkjYKny"
      },
      "source": [
        "A = np.array([46,35,95,21,82,70,72,56,64,50])\n",
        "d_ordena_insercion(A,3)\n"
      ],
      "execution_count": null,
      "outputs": []
    },
    {
      "cell_type": "code",
      "metadata": {
        "id": "jdj2YkxJ_Ht5",
        "colab": {
          "base_uri": "https://localhost:8080/"
        },
        "outputId": "5464088d-bb14-4cee-83ac-c741c0831f43"
      },
      "source": [
        "A = np.array([46,35,95,21,82,70,72,56,64,50])\n",
        "d_ordena_insercion(A,3)\n",
        "print(A)\n",
        "verifica_d_ordenado(A,3)"
      ],
      "execution_count": null,
      "outputs": [
        {
          "output_type": "stream",
          "text": [
            "[21 35 64 46 56 70 50 82 95 72]\n",
            "Arreglo 3-ordenado OK.\n"
          ],
          "name": "stdout"
        }
      ]
    },
    {
      "cell_type": "markdown",
      "metadata": {
        "id": "CPILx6G3SMED"
      },
      "source": [
        "**Concluimos que el algoritmo lo ordeno correctamente**"
      ]
    },
    {
      "cell_type": "markdown",
      "metadata": {
        "id": "AMroZLuc_HuD"
      },
      "source": [
        "## 2) Programar Shellsort\n",
        "\n",
        "Con esto ya estamos listos para programar Shellsort, haciendo una secuencia de pasadas, variando el valor de $d$ y terminando con $d=1$.Hay muchas formas conocidas de generar la secuencia de valores de $d$, con variados niveles de eficiencia. A continuación, programe Shellsort usando una secuencia decreciente de valores de la forma $d_k=2^k-1$, esto es: $\\ldots, 63, 31, 15, 7, 3, 1$. Se sabe que esta secuencia hace que Shellsort funcione en tiempo $\\Theta(n^{3/2})$:"
      ]
    },
    {
      "cell_type": "markdown",
      "metadata": {
        "id": "PmGwOw4iTx70"
      },
      "source": [
        "Para programar el Shellsort, primero creare una lista con todos los “d” menores al largo de el array. Esto creando un while que funcione mientras los $d_k=2^k-1$ sean menores que el largo, partiendo con k = 1 y aumentando el k de a uno en uno. Con los elementos que vayan cumpliendo esta condición,no los k si no los $d_k=2^k-1$, los iremos agregando a una lista que partira vacia y terminara con todos los D$_k$ que nos sirvan.Ahora esta lista hay que invertirla ya que parte con 1 y termina con el D$_k$ mayor, por lo que la invertiremos usando reverse.\n",
        " \n",
        " Luego usando un for para recorrer los elementos de esta lista en orden, d-ordenaremos el arreglo con cada uno de los D$_k$."
      ]
    },
    {
      "cell_type": "code",
      "metadata": {
        "id": "macdtYd8_HuE"
      },
      "source": [
        "def Shellsort(a):\n",
        "    \"\"\"Ordena a usando Shell Sort, con la secuencia de valores …,63,31,15,7,3,1\"\"\"\n",
        "    k=1\n",
        "    p =[]\n",
        "    while 2**k-1<=len(a):\n",
        "          p.append(2**k-1)\n",
        "          k=k+1\n",
        "    p.reverse()\n",
        "    for i in p:\n",
        "        d_ordena_insercion(a,i)\n",
        " "
      ],
      "execution_count": null,
      "outputs": []
    },
    {
      "cell_type": "markdown",
      "metadata": {
        "id": "E9jipDWZ_HuG"
      },
      "source": [
        "Pruebe aquí su algoritmo de la manera siguiente:"
      ]
    },
    {
      "cell_type": "code",
      "metadata": {
        "id": "iY14m5oj-h0Y"
      },
      "source": [
        "A = np.array([46,35,95,21,82,70,72,56,64,50])\n",
        "Shellsort(A)"
      ],
      "execution_count": null,
      "outputs": []
    },
    {
      "cell_type": "code",
      "metadata": {
        "id": "5fSJaYs9_HuH",
        "colab": {
          "base_uri": "https://localhost:8080/"
        },
        "outputId": "9fb1dc56-6e6f-48c1-898c-8ea64b3a60fb"
      },
      "source": [
        "A = np.array([46,35,95,21,82,70,72,56,64,50])\n",
        "Shellsort(A)\n",
        "print(A)\n",
        "verifica_d_ordenado(A,1)"
      ],
      "execution_count": null,
      "outputs": [
        {
          "output_type": "stream",
          "text": [
            "[21 35 46 50 56 64 70 72 82 95]\n",
            "Arreglo 1-ordenado OK.\n"
          ],
          "name": "stdout"
        }
      ]
    },
    {
      "cell_type": "markdown",
      "metadata": {
        "id": "xvNGPkzXUbKV"
      },
      "source": [
        "Observamos que el arreglo quedo correctamente ordenado."
      ]
    },
    {
      "cell_type": "markdown",
      "metadata": {
        "id": "Stky3Ts2_HuJ"
      },
      "source": [
        "En la siguiente celda agregue una prueba similar de ordenación de un arreglo de tamaño $1000$ generado al azar (sin imprimirlo):"
      ]
    },
    {
      "cell_type": "markdown",
      "metadata": {
        "id": "_Jteg3SrUjsc"
      },
      "source": [
        "Ahora para generar esta lista aleatoria usaremos random.randint por lo que primero importamos random con import random, y luego partiendo de una lista vacía y usando un for de rango 1000, le vamos agregando elementos a esta lista con random.randint(0,100), entre 0 y 100. Finalmente usamos Shellsort y verificamos que funcione."
      ]
    },
    {
      "cell_type": "code",
      "metadata": {
        "id": "sS7LH8wn_HuK",
        "colab": {
          "base_uri": "https://localhost:8080/"
        },
        "outputId": "78952252-a048-4ce7-a4f3-2595ccce1fd6"
      },
      "source": [
        "import random\n",
        "m=[]\n",
        "for i in range (0,999):\n",
        "    m.append(random.randint(0,100))\n",
        "Shellsort(m)\n",
        "verifica_d_ordenado(m,1)"
      ],
      "execution_count": null,
      "outputs": [
        {
          "output_type": "stream",
          "text": [
            "Arreglo 1-ordenado OK.\n"
          ],
          "name": "stdout"
        }
      ]
    },
    {
      "cell_type": "markdown",
      "metadata": {
        "id": "6HhUKcH_VFeM"
      },
      "source": [
        "Funciono correctamente"
      ]
    },
    {
      "cell_type": "markdown",
      "metadata": {
        "id": "X38mE4fQ_HuR"
      },
      "source": [
        "## 3) Probar con una secuencia diferente de valores $d_k$\n",
        "\n",
        "Finalmente, investigue respecto de otras maneras de generar la secuencia $d_k$, escoja una secuencia en particular, modifique su versión de Shellsort que la use y pruébela."
      ]
    },
    {
      "cell_type": "markdown",
      "metadata": {
        "id": "NQEcRfF7WJGB"
      },
      "source": [
        "Para esta sección usare la serie formada por $d_k=\\dfrac{3^k-1}{2}$ y modificare el codigo de Shellsort para que use esta serie."
      ]
    },
    {
      "cell_type": "code",
      "metadata": {
        "id": "EZw1Y6tFWn89"
      },
      "source": [
        "def Shellsort2(a):\n",
        "    #Shellsort con la otra serie.\n",
        "    k=1\n",
        "    p =[]\n",
        "    while (3**k-1)//2<=len(a):\n",
        "          p.append((3**k-1)//2)\n",
        "          k=k+1\n",
        "    p.reverse()\n",
        "    for i in p:\n",
        "        d_ordena_insercion(a,i)\n",
        " "
      ],
      "execution_count": null,
      "outputs": []
    },
    {
      "cell_type": "markdown",
      "metadata": {
        "id": "QbsuaLGpW4I7"
      },
      "source": [
        "Ahora usando la lista randomizada de antes probamos el nuevo código."
      ]
    },
    {
      "cell_type": "code",
      "metadata": {
        "colab": {
          "base_uri": "https://localhost:8080/"
        },
        "id": "0y_HStY-XBJM",
        "outputId": "3939c470-303b-4851-a85f-cc60f9fb2120"
      },
      "source": [
        "import random\n",
        "m=[]\n",
        "for i in range (0,999):\n",
        "    m.append(random.randint(0,100))\n",
        "Shellsort2(m)\n",
        "print(m)\n",
        "verifica_d_ordenado(m,1)"
      ],
      "execution_count": null,
      "outputs": [
        {
          "output_type": "stream",
          "text": [
            "[0, 0, 0, 1, 1, 1, 1, 1, 1, 1, 1, 1, 1, 1, 1, 2, 2, 2, 2, 2, 2, 2, 2, 2, 3, 3, 3, 3, 3, 3, 3, 3, 3, 3, 3, 3, 3, 4, 4, 4, 4, 4, 4, 5, 5, 5, 5, 5, 5, 5, 5, 6, 6, 6, 6, 6, 6, 6, 6, 6, 6, 6, 6, 6, 6, 6, 7, 7, 7, 7, 7, 7, 7, 7, 8, 8, 8, 8, 8, 8, 8, 8, 8, 8, 8, 8, 8, 8, 8, 8, 9, 9, 9, 9, 9, 10, 10, 10, 10, 10, 10, 10, 10, 10, 10, 10, 10, 10, 11, 11, 11, 11, 11, 11, 11, 11, 11, 11, 12, 12, 12, 12, 12, 12, 12, 12, 13, 13, 13, 13, 13, 13, 13, 13, 13, 13, 13, 13, 13, 14, 14, 14, 14, 14, 14, 14, 14, 14, 14, 15, 15, 15, 15, 15, 15, 15, 15, 15, 15, 16, 16, 16, 16, 16, 16, 16, 16, 16, 16, 16, 16, 17, 17, 17, 17, 17, 17, 17, 17, 17, 17, 17, 18, 18, 18, 18, 18, 18, 18, 18, 18, 18, 19, 19, 19, 19, 19, 19, 19, 19, 19, 20, 20, 20, 20, 20, 21, 21, 21, 21, 21, 21, 21, 21, 22, 22, 22, 22, 22, 22, 22, 22, 22, 22, 22, 22, 23, 23, 23, 23, 23, 23, 23, 23, 23, 24, 24, 24, 24, 24, 24, 24, 24, 25, 25, 25, 25, 25, 25, 25, 26, 26, 26, 26, 26, 26, 26, 26, 26, 27, 27, 27, 27, 27, 27, 27, 27, 27, 27, 27, 27, 27, 28, 28, 28, 28, 28, 28, 28, 28, 28, 28, 28, 28, 29, 29, 29, 29, 29, 29, 29, 29, 30, 30, 30, 30, 30, 30, 30, 30, 30, 31, 31, 31, 31, 31, 31, 31, 31, 31, 31, 31, 31, 32, 32, 32, 32, 32, 32, 32, 32, 32, 32, 32, 33, 33, 33, 33, 33, 33, 33, 33, 33, 34, 34, 34, 34, 34, 34, 34, 34, 34, 34, 34, 34, 35, 35, 35, 35, 35, 35, 35, 35, 35, 35, 35, 35, 35, 36, 36, 36, 36, 36, 36, 36, 36, 36, 37, 37, 37, 37, 37, 37, 37, 37, 38, 38, 38, 38, 38, 38, 38, 38, 39, 39, 39, 39, 39, 39, 39, 39, 39, 40, 40, 40, 40, 40, 40, 40, 40, 41, 41, 41, 41, 41, 41, 41, 41, 41, 41, 42, 42, 42, 42, 42, 42, 42, 42, 42, 43, 43, 43, 43, 43, 43, 44, 44, 44, 44, 44, 44, 44, 44, 44, 45, 45, 45, 45, 45, 45, 45, 45, 45, 45, 45, 46, 46, 46, 46, 46, 46, 46, 46, 46, 47, 47, 47, 47, 47, 47, 47, 47, 47, 47, 48, 48, 48, 48, 48, 48, 48, 49, 49, 49, 49, 49, 49, 49, 49, 49, 50, 50, 50, 50, 50, 50, 50, 50, 50, 50, 50, 50, 50, 51, 51, 51, 51, 51, 51, 51, 52, 52, 52, 52, 52, 52, 52, 53, 53, 53, 53, 53, 53, 53, 53, 53, 54, 54, 54, 54, 54, 54, 54, 54, 55, 55, 55, 55, 55, 55, 55, 55, 56, 56, 56, 56, 56, 56, 56, 56, 56, 56, 56, 56, 56, 56, 56, 57, 57, 57, 57, 57, 57, 57, 57, 57, 57, 57, 57, 57, 57, 58, 58, 58, 58, 58, 58, 58, 58, 59, 59, 59, 59, 59, 59, 59, 59, 59, 59, 59, 59, 60, 60, 60, 60, 60, 60, 60, 60, 61, 61, 61, 61, 61, 61, 61, 61, 61, 61, 61, 61, 61, 61, 61, 62, 62, 62, 62, 62, 62, 62, 62, 62, 62, 62, 63, 63, 63, 63, 63, 63, 63, 63, 63, 63, 64, 64, 64, 64, 64, 64, 64, 64, 64, 64, 65, 65, 65, 65, 65, 65, 65, 65, 65, 65, 65, 66, 66, 66, 66, 66, 66, 66, 66, 66, 67, 67, 67, 67, 67, 68, 68, 68, 68, 68, 68, 68, 68, 68, 68, 68, 68, 69, 69, 69, 69, 69, 69, 69, 69, 69, 69, 69, 69, 69, 70, 70, 70, 70, 70, 70, 70, 71, 71, 71, 71, 71, 72, 72, 72, 73, 73, 73, 73, 73, 73, 73, 73, 73, 73, 73, 73, 74, 74, 74, 74, 74, 74, 74, 74, 74, 74, 75, 75, 75, 75, 75, 75, 75, 75, 75, 75, 75, 75, 75, 76, 76, 76, 76, 76, 76, 76, 76, 77, 77, 77, 77, 77, 77, 77, 77, 77, 77, 78, 78, 78, 78, 78, 78, 78, 78, 78, 78, 78, 78, 78, 78, 78, 79, 79, 79, 79, 79, 79, 79, 79, 79, 79, 79, 79, 79, 79, 80, 80, 80, 80, 80, 80, 81, 81, 81, 81, 81, 81, 82, 82, 82, 82, 82, 82, 82, 82, 82, 82, 82, 82, 82, 83, 83, 83, 83, 83, 83, 83, 83, 83, 83, 84, 84, 84, 84, 84, 84, 84, 84, 84, 85, 85, 85, 85, 85, 85, 85, 85, 85, 85, 85, 85, 86, 86, 86, 86, 86, 86, 86, 86, 86, 86, 86, 86, 86, 86, 87, 87, 87, 87, 87, 87, 87, 87, 87, 87, 87, 88, 88, 88, 88, 88, 88, 88, 88, 89, 89, 89, 89, 89, 89, 89, 89, 89, 89, 89, 90, 90, 90, 90, 90, 90, 90, 90, 90, 90, 91, 91, 91, 91, 91, 91, 91, 91, 91, 92, 92, 92, 92, 92, 92, 92, 92, 93, 93, 93, 93, 93, 93, 93, 93, 93, 94, 94, 94, 94, 94, 94, 94, 94, 95, 95, 95, 95, 95, 95, 95, 95, 95, 95, 95, 96, 96, 96, 96, 96, 96, 96, 96, 96, 97, 97, 97, 97, 97, 97, 97, 97, 97, 97, 97, 97, 97, 97, 97, 97, 97, 98, 98, 98, 98, 98, 98, 98, 98, 98, 98, 98, 99, 99, 99, 99, 99, 99, 99, 99, 99, 99, 99, 100, 100, 100, 100, 100, 100, 100, 100, 100, 100, 100, 100, 100, 100]\n",
            "Arreglo 1-ordenado OK.\n"
          ],
          "name": "stdout"
        }
      ]
    },
    {
      "cell_type": "markdown",
      "metadata": {
        "id": "8PL6cHafXeeC"
      },
      "source": [
        "Después de correr el código varias veces correctamente, podemos decir que esta serie también funciona para usar en el Shellsort."
      ]
    },
    {
      "cell_type": "markdown",
      "metadata": {
        "id": "hjqmMJ6HXr6b"
      },
      "source": [
        "Con esto queda concluida la tarea. \n",
        "\n",
        "Alumno:  Tomás Rivas\n",
        "\n",
        "Rut:  20.592.350-0"
      ]
    }
  ]
}